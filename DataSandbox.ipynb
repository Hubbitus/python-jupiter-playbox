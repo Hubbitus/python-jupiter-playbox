{
 "cells": [
  {
   "cell_type": "markdown",
   "metadata": {
    "toc": "true"
   },
   "source": [
    "<h1>Table of Contents<span class=\"tocSkip\"></span></h1>\n",
    "<div class=\"toc\"><ul class=\"toc-item\"><li><span><a href=\"#DataFrame\" data-toc-modified-id=\"DataFrame-1\"><span class=\"toc-item-num\">1&nbsp;&nbsp;</span>DataFrame</a></span><ul class=\"toc-item\"><li><span><a href=\"#Create\" data-toc-modified-id=\"Create-1.1\"><span class=\"toc-item-num\">1.1&nbsp;&nbsp;</span>Create</a></span><ul class=\"toc-item\"><li><span><a href=\"#DataFarme-dtypes-on-create\" data-toc-modified-id=\"DataFarme-dtypes-on-create-1.1.1\"><span class=\"toc-item-num\">1.1.1&nbsp;&nbsp;</span>DataFarme dtypes on create</a></span></li><li><span><a href=\"#Read-multiple-files-into-dataframe\" data-toc-modified-id=\"Read-multiple-files-into-dataframe-1.1.2\"><span class=\"toc-item-num\">1.1.2&nbsp;&nbsp;</span>Read multiple files into dataframe</a></span></li></ul></li><li><span><a href=\"#Indexing-/-Select-/-Search\" data-toc-modified-id=\"Indexing-/-Select-/-Search-1.2\"><span class=\"toc-item-num\">1.2&nbsp;&nbsp;</span>Indexing / Select / Search</a></span><ul class=\"toc-item\"><li><span><a href=\"#Row-(Строка)\" data-toc-modified-id=\"Row-(Строка)-1.2.1\"><span class=\"toc-item-num\">1.2.1&nbsp;&nbsp;</span>Row (Строка)</a></span></li><li><span><a href=\"#Column-(Столбец)\" data-toc-modified-id=\"Column-(Столбец)-1.2.2\"><span class=\"toc-item-num\">1.2.2&nbsp;&nbsp;</span>Column (Столбец)</a></span></li><li><span><a href=\"#Exact-point\" data-toc-modified-id=\"Exact-point-1.2.3\"><span class=\"toc-item-num\">1.2.3&nbsp;&nbsp;</span>Exact point</a></span></li><li><span><a href=\"#Select-columns-by-regex\" data-toc-modified-id=\"Select-columns-by-regex-1.2.4\"><span class=\"toc-item-num\">1.2.4&nbsp;&nbsp;</span>Select columns by regex</a></span><ul class=\"toc-item\"><li><span><a href=\"#Filter-rows\" data-toc-modified-id=\"Filter-rows-1.2.4.1\"><span class=\"toc-item-num\">1.2.4.1&nbsp;&nbsp;</span>Filter rows</a></span></li></ul></li><li><span><a href=\"#Selecting-Random-Samples\" data-toc-modified-id=\"Selecting-Random-Samples-1.2.5\"><span class=\"toc-item-num\">1.2.5&nbsp;&nbsp;</span>Selecting Random Samples</a></span></li><li><span><a href=\"#Max-by-Column\" data-toc-modified-id=\"Max-by-Column-1.2.6\"><span class=\"toc-item-num\">1.2.6&nbsp;&nbsp;</span>Max by Column</a></span></li><li><span><a href=\"#Search-by-complex-criteria-(+boolean-indexing).-Where-/-mask-/-query\" data-toc-modified-id=\"Search-by-complex-criteria-(+boolean-indexing).-Where-/-mask-/-query-1.2.7\"><span class=\"toc-item-num\">1.2.7&nbsp;&nbsp;</span>Search by complex criteria (+boolean indexing). Where / mask / query</a></span><ul class=\"toc-item\"><li><span><a href=\"#Where,-mask\" data-toc-modified-id=\"Where,-mask-1.2.7.1\"><span class=\"toc-item-num\">1.2.7.1&nbsp;&nbsp;</span>Where, mask</a></span></li><li><span><a href=\"#Query\" data-toc-modified-id=\"Query-1.2.7.2\"><span class=\"toc-item-num\">1.2.7.2&nbsp;&nbsp;</span>Query</a></span></li><li><span><a href=\"#Select-(lambda)\" data-toc-modified-id=\"Select-(lambda)-1.2.7.3\"><span class=\"toc-item-num\">1.2.7.3&nbsp;&nbsp;</span>Select (lambda)</a></span></li></ul></li><li><span><a href=\"#Stack-/-unstack\" data-toc-modified-id=\"Stack-/-unstack-1.2.8\"><span class=\"toc-item-num\">1.2.8&nbsp;&nbsp;</span>Stack / unstack</a></span></li></ul></li><li><span><a href=\"#Aggregate\" data-toc-modified-id=\"Aggregate-1.3\"><span class=\"toc-item-num\">1.3&nbsp;&nbsp;</span>Aggregate</a></span></li><li><span><a href=\"#Multiindex\" data-toc-modified-id=\"Multiindex-1.4\"><span class=\"toc-item-num\">1.4&nbsp;&nbsp;</span>Multiindex</a></span><ul class=\"toc-item\"><li><span><a href=\"#Simple-series\" data-toc-modified-id=\"Simple-series-1.4.1\"><span class=\"toc-item-num\">1.4.1&nbsp;&nbsp;</span>Simple series</a></span></li><li><span><a href=\"#DataFrame\" data-toc-modified-id=\"DataFrame-1.4.2\"><span class=\"toc-item-num\">1.4.2&nbsp;&nbsp;</span>DataFrame</a></span></li></ul></li><li><span><a href=\"#Манипуляции-с-DataFrame:-add-row/max/row-iteration\" data-toc-modified-id=\"Манипуляции-с-DataFrame:-add-row/max/row-iteration-1.5\"><span class=\"toc-item-num\">1.5&nbsp;&nbsp;</span>Манипуляции с DataFrame: add row/max/row iteration</a></span><ul class=\"toc-item\"><li><span><a href=\"#Create-from-nested-dict-(from_dict)\" data-toc-modified-id=\"Create-from-nested-dict-(from_dict)-1.5.1\"><span class=\"toc-item-num\">1.5.1&nbsp;&nbsp;</span>Create from nested dict (from_dict)</a></span><ul class=\"toc-item\"><li><span><a href=\"#DataFrame.from_records\" data-toc-modified-id=\"DataFrame.from_records-1.5.1.1\"><span class=\"toc-item-num\">1.5.1.1&nbsp;&nbsp;</span>DataFrame.from_records</a></span></li></ul></li><li><span><a href=\"#Добавление-к-каждому-элементу\" data-toc-modified-id=\"Добавление-к-каждому-элементу-1.5.2\"><span class=\"toc-item-num\">1.5.2&nbsp;&nbsp;</span>Добавление к каждому элементу</a></span></li><li><span><a href=\"#Добавление-строки-(add-row)\" data-toc-modified-id=\"Добавление-строки-(add-row)-1.5.3\"><span class=\"toc-item-num\">1.5.3&nbsp;&nbsp;</span>Добавление строки (add row)</a></span></li><li><span><a href=\"#Добавление-столбца-(add-column)\" data-toc-modified-id=\"Добавление-столбца-(add-column)-1.5.4\"><span class=\"toc-item-num\">1.5.4&nbsp;&nbsp;</span>Добавление столбца (add column)</a></span><ul class=\"toc-item\"><li><span><a href=\"#Добавление-нескольких-столбцов\" data-toc-modified-id=\"Добавление-нескольких-столбцов-1.5.4.1\"><span class=\"toc-item-num\">1.5.4.1&nbsp;&nbsp;</span>Добавление нескольких столбцов</a></span></li><li><span><a href=\"#Добавление-нескольких-столбцов-с-РАЗНОЙ-индексацией\" data-toc-modified-id=\"Добавление-нескольких-столбцов-с-РАЗНОЙ-индексацией-1.5.4.2\"><span class=\"toc-item-num\">1.5.4.2&nbsp;&nbsp;</span>Добавление нескольких столбцов с РАЗНОЙ индексацией</a></span></li></ul></li><li><span><a href=\"#Replace-columns\" data-toc-modified-id=\"Replace-columns-1.5.5\"><span class=\"toc-item-num\">1.5.5&nbsp;&nbsp;</span>Replace columns</a></span><ul class=\"toc-item\"><li><span><a href=\"#Same-amount\" data-toc-modified-id=\"Same-amount-1.5.5.1\"><span class=\"toc-item-num\">1.5.5.1&nbsp;&nbsp;</span>Same amount</a></span></li><li><span><a href=\"#Different-columns-(drop-2,-add-3)\" data-toc-modified-id=\"Different-columns-(drop-2,-add-3)-1.5.5.2\"><span class=\"toc-item-num\">1.5.5.2&nbsp;&nbsp;</span>Different columns (drop 2, add 3)</a></span></li><li><span><a href=\"#Do-NOT-preserve-indexes\" data-toc-modified-id=\"Do-NOT-preserve-indexes-1.5.5.3\"><span class=\"toc-item-num\">1.5.5.3&nbsp;&nbsp;</span>Do NOT preserve indexes</a></span></li></ul></li><li><span><a href=\"#Удаление-строк-(row-remove)\" data-toc-modified-id=\"Удаление-строк-(row-remove)-1.5.6\"><span class=\"toc-item-num\">1.5.6&nbsp;&nbsp;</span>Удаление строк (row remove)</a></span></li><li><span><a href=\"#Удаление-столбцов-(column-remove)\" data-toc-modified-id=\"Удаление-столбцов-(column-remove)-1.5.7\"><span class=\"toc-item-num\">1.5.7&nbsp;&nbsp;</span>Удаление столбцов (column remove)</a></span><ul class=\"toc-item\"><li><span><a href=\"#Safe-remove-if-exists\" data-toc-modified-id=\"Safe-remove-if-exists-1.5.7.1\"><span class=\"toc-item-num\">1.5.7.1&nbsp;&nbsp;</span>Safe remove if exists</a></span></li></ul></li><li><span><a href=\"#String-format-of-row\" data-toc-modified-id=\"String-format-of-row-1.5.8\"><span class=\"toc-item-num\">1.5.8&nbsp;&nbsp;</span>String format of row</a></span></li><li><span><a href=\"#Columns-string-concat\" data-toc-modified-id=\"Columns-string-concat-1.5.9\"><span class=\"toc-item-num\">1.5.9&nbsp;&nbsp;</span>Columns string concat</a></span></li><li><span><a href=\"#Column-names-suffiexes/prefixes\" data-toc-modified-id=\"Column-names-suffiexes/prefixes-1.5.10\"><span class=\"toc-item-num\">1.5.10&nbsp;&nbsp;</span>Column names suffiexes/prefixes</a></span></li><li><span><a href=\"#Map,-apply\" data-toc-modified-id=\"Map,-apply-1.5.11\"><span class=\"toc-item-num\">1.5.11&nbsp;&nbsp;</span>Map, apply</a></span></li></ul></li><li><span><a href=\"#Nan,-Nulls\" data-toc-modified-id=\"Nan,-Nulls-1.6\"><span class=\"toc-item-num\">1.6&nbsp;&nbsp;</span>Nan, Nulls</a></span><ul class=\"toc-item\"><li><span><a href=\"#Count-nulls\" data-toc-modified-id=\"Count-nulls-1.6.1\"><span class=\"toc-item-num\">1.6.1&nbsp;&nbsp;</span>Count nulls</a></span></li><li><span><a href=\"#Rows-with-NaN-in-any-column\" data-toc-modified-id=\"Rows-with-NaN-in-any-column-1.6.2\"><span class=\"toc-item-num\">1.6.2&nbsp;&nbsp;</span>Rows with NaN in any column</a></span></li><li><span><a href=\"#Fillna-gaps\" data-toc-modified-id=\"Fillna-gaps-1.6.3\"><span class=\"toc-item-num\">1.6.3&nbsp;&nbsp;</span>Fillna gaps</a></span><ul class=\"toc-item\"><li><span><a href=\"#Interpolate\" data-toc-modified-id=\"Interpolate-1.6.3.1\"><span class=\"toc-item-num\">1.6.3.1&nbsp;&nbsp;</span>Interpolate</a></span></li></ul></li></ul></li><li><span><a href=\"#DataFrame-diff\" data-toc-modified-id=\"DataFrame-diff-1.7\"><span class=\"toc-item-num\">1.7&nbsp;&nbsp;</span>DataFrame diff</a></span><ul class=\"toc-item\"><li><span><a href=\"#Direct-!=\" data-toc-modified-id=\"Direct-!=-1.7.1\"><span class=\"toc-item-num\">1.7.1&nbsp;&nbsp;</span>Direct !=</a></span><ul class=\"toc-item\"><li><span><a href=\"#function-DataFrameDiff\" data-toc-modified-id=\"function-DataFrameDiff-1.7.1.1\"><span class=\"toc-item-num\">1.7.1.1&nbsp;&nbsp;</span>function DataFrameDiff</a></span></li></ul></li><li><span><a href=\"#Compare-not-identical-DataFrames\" data-toc-modified-id=\"Compare-not-identical-DataFrames-1.7.2\"><span class=\"toc-item-num\">1.7.2&nbsp;&nbsp;</span>Compare not identical DataFrames</a></span></li><li><span><a href=\"#Sort-columns-(Workaround-ValueError:-Can-only-compare-identically-labeled-DataFrame-objects)\" data-toc-modified-id=\"Sort-columns-(Workaround-ValueError:-Can-only-compare-identically-labeled-DataFrame-objects)-1.7.3\"><span class=\"toc-item-num\">1.7.3&nbsp;&nbsp;</span>Sort columns (Workaround ValueError: Can only compare identically-labeled DataFrame objects)</a></span></li><li><span><a href=\"#DataFrame-columns-correlations\" data-toc-modified-id=\"DataFrame-columns-correlations-1.7.4\"><span class=\"toc-item-num\">1.7.4&nbsp;&nbsp;</span>DataFrame columns correlations</a></span><ul class=\"toc-item\"><li><span><a href=\"#Find-tight-correlated:-Full-solution-http://stackoverflow.com/questions/24002820/returning-groups-of-correlated-columns-in-pandas-data-frame\" data-toc-modified-id=\"Find-tight-correlated:-Full-solution-http://stackoverflow.com/questions/24002820/returning-groups-of-correlated-columns-in-pandas-data-frame-1.7.4.1\"><span class=\"toc-item-num\">1.7.4.1&nbsp;&nbsp;</span>Find tight correlated: Full solution <a href=\"http://stackoverflow.com/questions/24002820/returning-groups-of-correlated-columns-in-pandas-data-frame\" target=\"_blank\">http://stackoverflow.com/questions/24002820/returning-groups-of-correlated-columns-in-pandas-data-frame</a></a></span></li></ul></li></ul></li><li><span><a href=\"#Statistics-statsmodel\" data-toc-modified-id=\"Statistics-statsmodel-1.8\"><span class=\"toc-item-num\">1.8&nbsp;&nbsp;</span>Statistics statsmodel</a></span><ul class=\"toc-item\"><li><span><a href=\"#Formulas\" data-toc-modified-id=\"Formulas-1.8.1\"><span class=\"toc-item-num\">1.8.1&nbsp;&nbsp;</span>Formulas</a></span></li></ul></li></ul></li><li><span><a href=\"#Dict\" data-toc-modified-id=\"Dict-2\"><span class=\"toc-item-num\">2&nbsp;&nbsp;</span>Dict</a></span><ul class=\"toc-item\"><li><span><a href=\"#Check-key-present\" data-toc-modified-id=\"Check-key-present-2.1\"><span class=\"toc-item-num\">2.1&nbsp;&nbsp;</span>Check key present</a></span></li></ul></li><li><span><a href=\"#Series\" data-toc-modified-id=\"Series-3\"><span class=\"toc-item-num\">3&nbsp;&nbsp;</span>Series</a></span><ul class=\"toc-item\"><li><span><a href=\"#Indexing\" data-toc-modified-id=\"Indexing-3.1\"><span class=\"toc-item-num\">3.1&nbsp;&nbsp;</span>Indexing</a></span><ul class=\"toc-item\"><li><span><a href=\"#is-in\" data-toc-modified-id=\"is-in-3.1.1\"><span class=\"toc-item-num\">3.1.1&nbsp;&nbsp;</span>is in</a></span></li></ul></li><li><span><a href=\"#Random\" data-toc-modified-id=\"Random-3.2\"><span class=\"toc-item-num\">3.2&nbsp;&nbsp;</span>Random</a></span></li><li><span><a href=\"#Time-series\" data-toc-modified-id=\"Time-series-3.3\"><span class=\"toc-item-num\">3.3&nbsp;&nbsp;</span>Time series</a></span><ul class=\"toc-item\"><li><span><a href=\"#Time-measure\" data-toc-modified-id=\"Time-measure-3.3.1\"><span class=\"toc-item-num\">3.3.1&nbsp;&nbsp;</span>Time measure</a></span></li></ul></li><li><span><a href=\"#Date,-Time\" data-toc-modified-id=\"Date,-Time-3.4\"><span class=\"toc-item-num\">3.4&nbsp;&nbsp;</span>Date, Time</a></span></li><li><span><a href=\"#np.zeros\" data-toc-modified-id=\"np.zeros-3.5\"><span class=\"toc-item-num\">3.5&nbsp;&nbsp;</span>np.zeros</a></span></li><li><span><a href=\"#Timedelta\" data-toc-modified-id=\"Timedelta-3.6\"><span class=\"toc-item-num\">3.6&nbsp;&nbsp;</span>Timedelta</a></span></li><li><span><a href=\"#Itertools\" data-toc-modified-id=\"Itertools-3.7\"><span class=\"toc-item-num\">3.7&nbsp;&nbsp;</span>Itertools</a></span></li></ul></li><li><span><a href=\"#Lists\" data-toc-modified-id=\"Lists-4\"><span class=\"toc-item-num\">4&nbsp;&nbsp;</span>Lists</a></span><ul class=\"toc-item\"><li><span><a href=\"#Intersection\" data-toc-modified-id=\"Intersection-4.1\"><span class=\"toc-item-num\">4.1&nbsp;&nbsp;</span>Intersection</a></span></li></ul></li><li><span><a href=\"#Formatting\" data-toc-modified-id=\"Formatting-5\"><span class=\"toc-item-num\">5&nbsp;&nbsp;</span>Formatting</a></span><ul class=\"toc-item\"><li><span><a href=\"#HTML,-%%asmarkdown-cell-magic\" data-toc-modified-id=\"HTML,-%%asmarkdown-cell-magic-5.1\"><span class=\"toc-item-num\">5.1&nbsp;&nbsp;</span>HTML, %%asmarkdown cell magic</a></span></li><li><span><a href=\"#DataFrame-formatting\" data-toc-modified-id=\"DataFrame-formatting-5.2\"><span class=\"toc-item-num\">5.2&nbsp;&nbsp;</span>DataFrame formatting</a></span></li></ul></li><li><span><a href=\"#Categorical-data\" data-toc-modified-id=\"Categorical-data-6\"><span class=\"toc-item-num\">6&nbsp;&nbsp;</span>Categorical data</a></span><ul class=\"toc-item\"><li><span><a href=\"#Cast-series\" data-toc-modified-id=\"Cast-series-6.1\"><span class=\"toc-item-num\">6.1&nbsp;&nbsp;</span>Cast series</a></span></li><li><span><a href=\"#Cast-DataFrame-columns\" data-toc-modified-id=\"Cast-DataFrame-columns-6.2\"><span class=\"toc-item-num\">6.2&nbsp;&nbsp;</span>Cast DataFrame columns</a></span></li><li><span><a href=\"#Pandas-get_dummies-(words-bag)\" data-toc-modified-id=\"Pandas-get_dummies-(words-bag)-6.3\"><span class=\"toc-item-num\">6.3&nbsp;&nbsp;</span>Pandas get_dummies (words bag)</a></span></li><li><span><a href=\"#sklearn.preprocessing.OneHotEncoder\" data-toc-modified-id=\"sklearn.preprocessing.OneHotEncoder-6.4\"><span class=\"toc-item-num\">6.4&nbsp;&nbsp;</span>sklearn.preprocessing.OneHotEncoder</a></span></li><li><span><a href=\"#Memory-consumption\" data-toc-modified-id=\"Memory-consumption-6.5\"><span class=\"toc-item-num\">6.5&nbsp;&nbsp;</span>Memory consumption</a></span></li><li><span><a href=\"#Cut-(bucket-ranging)\" data-toc-modified-id=\"Cut-(bucket-ranging)-6.6\"><span class=\"toc-item-num\">6.6&nbsp;&nbsp;</span>Cut (bucket ranging)</a></span></li></ul></li><li><span><a href=\"#Fitting\" data-toc-modified-id=\"Fitting-7\"><span class=\"toc-item-num\">7&nbsp;&nbsp;</span>Fitting</a></span><ul class=\"toc-item\"><li><span><a href=\"#GridSearchCV\" data-toc-modified-id=\"GridSearchCV-7.1\"><span class=\"toc-item-num\">7.1&nbsp;&nbsp;</span>GridSearchCV</a></span></li><li><span><a href=\"#LogisticRegressionCV\" data-toc-modified-id=\"LogisticRegressionCV-7.2\"><span class=\"toc-item-num\">7.2&nbsp;&nbsp;</span>LogisticRegressionCV</a></span></li></ul></li><li><span><a href=\"#Serialization\" data-toc-modified-id=\"Serialization-8\"><span class=\"toc-item-num\">8&nbsp;&nbsp;</span>Serialization</a></span><ul class=\"toc-item\"><li><span><a href=\"#Pickle\" data-toc-modified-id=\"Pickle-8.1\"><span class=\"toc-item-num\">8.1&nbsp;&nbsp;</span>Pickle</a></span><ul class=\"toc-item\"><li><span><a href=\"#So,-we-can't-save/restore-classes-which-changed-:(\" data-toc-modified-id=\"So,-we-can't-save/restore-classes-which-changed-:(-8.1.1\"><span class=\"toc-item-num\">8.1.1&nbsp;&nbsp;</span>So, we can't save/restore classes which changed :(</a></span></li></ul></li><li><span><a href=\"#Json\" data-toc-modified-id=\"Json-8.2\"><span class=\"toc-item-num\">8.2&nbsp;&nbsp;</span>Json</a></span><ul class=\"toc-item\"><li><span><a href=\"#jsonpickle\" data-toc-modified-id=\"jsonpickle-8.2.1\"><span class=\"toc-item-num\">8.2.1&nbsp;&nbsp;</span>jsonpickle</a></span></li></ul></li><li><span><a href=\"#Marshal\" data-toc-modified-id=\"Marshal-8.3\"><span class=\"toc-item-num\">8.3&nbsp;&nbsp;</span>Marshal</a></span></li></ul></li><li><span><a href=\"#Matching-vectorize\" data-toc-modified-id=\"Matching-vectorize-9\"><span class=\"toc-item-num\">9&nbsp;&nbsp;</span>Matching vectorize</a></span><ul class=\"toc-item\"><li><span><a href=\"#CrossValidationScorer-results\" data-toc-modified-id=\"CrossValidationScorer-results-9.1\"><span class=\"toc-item-num\">9.1&nbsp;&nbsp;</span>CrossValidationScorer results</a></span></li></ul></li><li><span><a href=\"#↡↡↡↡↡↡↡\" data-toc-modified-id=\"↡↡↡↡↡↡↡-10\"><span class=\"toc-item-num\">10&nbsp;&nbsp;</span>↡↡↡↡↡↡↡</a></span></li></ul></div>"
   ]
  },
  {
   "cell_type": "code",
   "execution_count": 1,
   "metadata": {
    "ExecuteTime": {
     "start_time": "2020-03-20T10:18:51.129Z"
    },
    "init_cell": true
   },
   "outputs": [],
   "source": [
    "import numpy\n",
    "import pandas\n",
    "from pandas import DataFrame"
   ]
  },
  {
   "cell_type": "markdown",
   "metadata": {},
   "source": [
    "# DataFrame"
   ]
  },
  {
   "cell_type": "markdown",
   "metadata": {},
   "source": [
    "## Create"
   ]
  },
  {
   "cell_type": "code",
   "execution_count": 2,
   "metadata": {
    "ExecuteTime": {
     "start_time": "2020-03-20T10:18:51.155Z"
    },
    "init_cell": true
   },
   "outputs": [
    {
     "data": {
      "text/plain": [
       "array([[ 1,  2,  3],\n",
       "       [11, 22, 33]])"
      ]
     },
     "execution_count": 2,
     "metadata": {},
     "output_type": "execute_result"
    }
   ],
   "source": [
    "a = numpy.array([[1, 2, 3], [11, 22, 33]])\n",
    "b = numpy.array([['a', 'b', 'c'], ['aa', 'bb', 'cc']])\n",
    "a"
   ]
  },
  {
   "cell_type": "code",
   "execution_count": 3,
   "metadata": {
    "ExecuteTime": {
     "start_time": "2020-03-20T10:18:51.171Z"
    }
   },
   "outputs": [
    {
     "data": {
      "text/plain": [
       "array([['a', 'b', 'c'],\n",
       "       ['aa', 'bb', 'cc']], dtype='<U2')"
      ]
     },
     "execution_count": 3,
     "metadata": {},
     "output_type": "execute_result"
    }
   ],
   "source": [
    "b"
   ]
  },
  {
   "cell_type": "code",
   "execution_count": 4,
   "metadata": {
    "ExecuteTime": {
     "start_time": "2020-03-20T10:18:51.188Z"
    }
   },
   "outputs": [
    {
     "data": {
      "text/html": [
       "<div>\n",
       "<style scoped>\n",
       "    .dataframe tbody tr th:only-of-type {\n",
       "        vertical-align: middle;\n",
       "    }\n",
       "\n",
       "    .dataframe tbody tr th {\n",
       "        vertical-align: top;\n",
       "    }\n",
       "\n",
       "    .dataframe thead th {\n",
       "        text-align: right;\n",
       "    }\n",
       "</style>\n",
       "<table border=\"1\" class=\"dataframe\">\n",
       "  <thead>\n",
       "    <tr style=\"text-align: right;\">\n",
       "      <th></th>\n",
       "      <th>0</th>\n",
       "      <th>1</th>\n",
       "      <th>2</th>\n",
       "    </tr>\n",
       "  </thead>\n",
       "  <tbody>\n",
       "    <tr>\n",
       "      <th>0</th>\n",
       "      <td>1</td>\n",
       "      <td>2</td>\n",
       "      <td>3</td>\n",
       "    </tr>\n",
       "    <tr>\n",
       "      <th>1</th>\n",
       "      <td>11</td>\n",
       "      <td>22</td>\n",
       "      <td>33</td>\n",
       "    </tr>\n",
       "  </tbody>\n",
       "</table>\n",
       "</div>"
      ],
      "text/plain": [
       "    0   1   2\n",
       "0   1   2   3\n",
       "1  11  22  33"
      ]
     },
     "execution_count": 4,
     "metadata": {},
     "output_type": "execute_result"
    }
   ],
   "source": [
    "DataFrame(a)"
   ]
  },
  {
   "cell_type": "code",
   "execution_count": 5,
   "metadata": {
    "ExecuteTime": {
     "start_time": "2020-03-20T10:18:51.206Z"
    }
   },
   "outputs": [
    {
     "data": {
      "text/html": [
       "<div>\n",
       "<style scoped>\n",
       "    .dataframe tbody tr th:only-of-type {\n",
       "        vertical-align: middle;\n",
       "    }\n",
       "\n",
       "    .dataframe tbody tr th {\n",
       "        vertical-align: top;\n",
       "    }\n",
       "\n",
       "    .dataframe thead th {\n",
       "        text-align: right;\n",
       "    }\n",
       "</style>\n",
       "<table border=\"1\" class=\"dataframe\">\n",
       "  <thead>\n",
       "    <tr style=\"text-align: right;\">\n",
       "      <th></th>\n",
       "      <th>0</th>\n",
       "      <th>1</th>\n",
       "      <th>2</th>\n",
       "    </tr>\n",
       "  </thead>\n",
       "  <tbody>\n",
       "    <tr>\n",
       "      <th>0</th>\n",
       "      <td>a</td>\n",
       "      <td>b</td>\n",
       "      <td>c</td>\n",
       "    </tr>\n",
       "    <tr>\n",
       "      <th>1</th>\n",
       "      <td>aa</td>\n",
       "      <td>bb</td>\n",
       "      <td>cc</td>\n",
       "    </tr>\n",
       "  </tbody>\n",
       "</table>\n",
       "</div>"
      ],
      "text/plain": [
       "    0   1   2\n",
       "0   a   b   c\n",
       "1  aa  bb  cc"
      ]
     },
     "execution_count": 5,
     "metadata": {},
     "output_type": "execute_result"
    }
   ],
   "source": [
    "DataFrame(b)"
   ]
  },
  {
   "cell_type": "code",
   "execution_count": 6,
   "metadata": {
    "ExecuteTime": {
     "start_time": "2020-03-20T10:18:51.222Z"
    }
   },
   "outputs": [
    {
     "data": {
      "text/plain": [
       "array([['1', '2', '3', 'a', 'b', 'c'],\n",
       "       ['11', '22', '33', 'aa', 'bb', 'cc']], dtype='<U21')"
      ]
     },
     "execution_count": 6,
     "metadata": {},
     "output_type": "execute_result"
    }
   ],
   "source": [
    "# http://docs.scipy.org/doc/numpy-1.10.0/reference/generated/numpy.hstack.html#numpy.hstack\n",
    "ab = numpy.hstack((a, b))\n",
    "ab"
   ]
  },
  {
   "cell_type": "code",
   "execution_count": 7,
   "metadata": {
    "ExecuteTime": {
     "start_time": "2020-03-20T10:18:51.235Z"
    }
   },
   "outputs": [
    {
     "data": {
      "text/html": [
       "<div>\n",
       "<style scoped>\n",
       "    .dataframe tbody tr th:only-of-type {\n",
       "        vertical-align: middle;\n",
       "    }\n",
       "\n",
       "    .dataframe tbody tr th {\n",
       "        vertical-align: top;\n",
       "    }\n",
       "\n",
       "    .dataframe thead th {\n",
       "        text-align: right;\n",
       "    }\n",
       "</style>\n",
       "<table border=\"1\" class=\"dataframe\">\n",
       "  <thead>\n",
       "    <tr style=\"text-align: right;\">\n",
       "      <th></th>\n",
       "      <th>0</th>\n",
       "      <th>1</th>\n",
       "      <th>2</th>\n",
       "      <th>3</th>\n",
       "      <th>4</th>\n",
       "      <th>5</th>\n",
       "    </tr>\n",
       "  </thead>\n",
       "  <tbody>\n",
       "    <tr>\n",
       "      <th>0</th>\n",
       "      <td>1</td>\n",
       "      <td>2</td>\n",
       "      <td>3</td>\n",
       "      <td>a</td>\n",
       "      <td>b</td>\n",
       "      <td>c</td>\n",
       "    </tr>\n",
       "    <tr>\n",
       "      <th>1</th>\n",
       "      <td>11</td>\n",
       "      <td>22</td>\n",
       "      <td>33</td>\n",
       "      <td>aa</td>\n",
       "      <td>bb</td>\n",
       "      <td>cc</td>\n",
       "    </tr>\n",
       "  </tbody>\n",
       "</table>\n",
       "</div>"
      ],
      "text/plain": [
       "    0   1   2   3   4   5\n",
       "0   1   2   3   a   b   c\n",
       "1  11  22  33  aa  bb  cc"
      ]
     },
     "execution_count": 7,
     "metadata": {},
     "output_type": "execute_result"
    }
   ],
   "source": [
    "DataFrame(ab)"
   ]
  },
  {
   "cell_type": "markdown",
   "metadata": {},
   "source": [
    "### DataFarme dtypes on create\n",
    "\n",
    "https://github.com/pydata/pandas/issues/9133"
   ]
  },
  {
   "cell_type": "code",
   "execution_count": 8,
   "metadata": {
    "ExecuteTime": {
     "start_time": "2020-03-20T10:18:51.256Z"
    },
    "scrolled": true
   },
   "outputs": [],
   "source": [
    "#df = DataFrame(index=range(0,4),columns=['A', 'B'], dtype={'A': 'int', 'B': 'float'})\n",
    "#df = DataFrame(index=range(0,4),columns=['A', 'B'], dtype=[('A', 'int'), ('B', 'float')])\n",
    "# Error: NotImplementedError: compound dtypes are not implementedin the DataFrame constructor\n",
    "#df.dtypes"
   ]
  },
  {
   "cell_type": "markdown",
   "metadata": {},
   "source": [
    "### Read multiple files into dataframe"
   ]
  },
  {
   "cell_type": "code",
   "execution_count": 9,
   "metadata": {
    "ExecuteTime": {
     "end_time": "2020-03-20T10:23:47.982902Z",
     "start_time": "2020-03-20T10:23:47.966336Z"
    }
   },
   "outputs": [
    {
     "name": "stdout",
     "output_type": "stream",
     "text": [
      "n_estimators      float64\n",
      "learning_rate     float64\n",
      "max_depth         float64\n",
      "subsample         float64\n",
      "max_features      float64\n",
      "auc_roc           float64\n",
      "time_elapsed       object\n",
      "cpu_time_spent     object\n",
      "dtype: object\n"
     ]
    },
    {
     "data": {
      "text/plain": [
       "pandas._libs.tslibs.timedeltas.Timedelta"
      ]
     },
     "execution_count": 9,
     "metadata": {},
     "output_type": "execute_result"
    }
   ],
   "source": [
    "_df = pandas.read_csv(\n",
    "    'data/gradient_cross_score_extended_n=10.csv'\n",
    "#            ,parse_dates=True, infer_datetime_format=True\n",
    ")\n",
    "print (_df.dtypes)\n",
    "type(pandas.to_timedelta(_df['time_elapsed'])[0])"
   ]
  },
  {
   "cell_type": "markdown",
   "metadata": {},
   "source": [
    "That magic will parse automatically dates, but NOT timedelta's! Spent many time understand. Bug still open: https://github.com/pydata/pandas/issues/8185 (see also explanation in https://github.com/pydata/pandas/issues/4378#issuecomment-24334259)\n",
    "And my comment: http://stackoverflow.com/questions/21906715/how-to-get-pandas-read-csv-to-infer-datetime-and-timedelta-types-from-csv-file#comment59643668_21907505\n",
    "!!!"
   ]
  },
  {
   "cell_type": "code",
   "execution_count": 10,
   "metadata": {
    "ExecuteTime": {
     "start_time": "2020-03-20T10:18:51.294Z"
    },
    "scrolled": true
   },
   "outputs": [
    {
     "name": "stdout",
     "output_type": "stream",
     "text": [
      "(324, 8)\n",
      "n_estimators      float64\n",
      "learning_rate     float64\n",
      "max_depth         float64\n",
      "subsample         float64\n",
      "max_features      float64\n",
      "auc_roc           float64\n",
      "time_elapsed       object\n",
      "cpu_time_spent     object\n",
      "dtype: object\n",
      "n_estimators              float64\n",
      "learning_rate             float64\n",
      "max_depth                 float64\n",
      "subsample                 float64\n",
      "max_features              float64\n",
      "auc_roc                   float64\n",
      "time_elapsed      timedelta64[ns]\n",
      "cpu_time_spent    timedelta64[ns]\n",
      "dtype: object\n"
     ]
    },
    {
     "data": {
      "text/html": [
       "<div>\n",
       "<style scoped>\n",
       "    .dataframe tbody tr th:only-of-type {\n",
       "        vertical-align: middle;\n",
       "    }\n",
       "\n",
       "    .dataframe tbody tr th {\n",
       "        vertical-align: top;\n",
       "    }\n",
       "\n",
       "    .dataframe thead th {\n",
       "        text-align: right;\n",
       "    }\n",
       "</style>\n",
       "<table border=\"1\" class=\"dataframe\">\n",
       "  <thead>\n",
       "    <tr style=\"text-align: right;\">\n",
       "      <th></th>\n",
       "      <th>n_estimators</th>\n",
       "      <th>learning_rate</th>\n",
       "      <th>max_depth</th>\n",
       "      <th>subsample</th>\n",
       "      <th>max_features</th>\n",
       "      <th>auc_roc</th>\n",
       "      <th>time_elapsed</th>\n",
       "      <th>cpu_time_spent</th>\n",
       "    </tr>\n",
       "  </thead>\n",
       "  <tbody>\n",
       "    <tr>\n",
       "      <th>0</th>\n",
       "      <td>10.0</td>\n",
       "      <td>0.1</td>\n",
       "      <td>0.1</td>\n",
       "      <td>0.1</td>\n",
       "      <td>0.1</td>\n",
       "      <td>0.5</td>\n",
       "      <td>00:00:09.297512</td>\n",
       "      <td>00:00:00.425086</td>\n",
       "    </tr>\n",
       "    <tr>\n",
       "      <th>1</th>\n",
       "      <td>10.0</td>\n",
       "      <td>0.1</td>\n",
       "      <td>0.1</td>\n",
       "      <td>0.1</td>\n",
       "      <td>0.5</td>\n",
       "      <td>0.5</td>\n",
       "      <td>00:00:10.224180</td>\n",
       "      <td>00:00:00.447232</td>\n",
       "    </tr>\n",
       "    <tr>\n",
       "      <th>2</th>\n",
       "      <td>10.0</td>\n",
       "      <td>0.1</td>\n",
       "      <td>0.1</td>\n",
       "      <td>0.1</td>\n",
       "      <td>1.0</td>\n",
       "      <td>0.5</td>\n",
       "      <td>00:00:10.204741</td>\n",
       "      <td>00:00:00.419867</td>\n",
       "    </tr>\n",
       "    <tr>\n",
       "      <th>3</th>\n",
       "      <td>10.0</td>\n",
       "      <td>0.1</td>\n",
       "      <td>0.1</td>\n",
       "      <td>0.5</td>\n",
       "      <td>0.1</td>\n",
       "      <td>0.5</td>\n",
       "      <td>00:00:10.406008</td>\n",
       "      <td>00:00:00.417316</td>\n",
       "    </tr>\n",
       "    <tr>\n",
       "      <th>4</th>\n",
       "      <td>10.0</td>\n",
       "      <td>0.1</td>\n",
       "      <td>0.1</td>\n",
       "      <td>0.5</td>\n",
       "      <td>0.5</td>\n",
       "      <td>0.5</td>\n",
       "      <td>00:00:09.697904</td>\n",
       "      <td>00:00:00.433964</td>\n",
       "    </tr>\n",
       "  </tbody>\n",
       "</table>\n",
       "</div>"
      ],
      "text/plain": [
       "   n_estimators  learning_rate  max_depth  subsample  max_features  auc_roc  \\\n",
       "0          10.0            0.1        0.1        0.1           0.1      0.5   \n",
       "1          10.0            0.1        0.1        0.1           0.5      0.5   \n",
       "2          10.0            0.1        0.1        0.1           1.0      0.5   \n",
       "3          10.0            0.1        0.1        0.5           0.1      0.5   \n",
       "4          10.0            0.1        0.1        0.5           0.5      0.5   \n",
       "\n",
       "     time_elapsed  cpu_time_spent  \n",
       "0 00:00:09.297512 00:00:00.425086  \n",
       "1 00:00:10.224180 00:00:00.447232  \n",
       "2 00:00:10.204741 00:00:00.419867  \n",
       "3 00:00:10.406008 00:00:00.417316  \n",
       "4 00:00:09.697904 00:00:00.433964  "
      ]
     },
     "execution_count": 10,
     "metadata": {},
     "output_type": "execute_result"
    }
   ],
   "source": [
    "# Read back multiple files into dataframe:\n",
    "# http://stackoverflow.com/questions/20906474/import-multiple-csv-files-into-pandas-and-concatenate-into-one-dataframe\n",
    "import glob\n",
    "df = pandas.concat(\n",
    "    (\n",
    "        pandas.read_csv(\n",
    "            f\n",
    "            ,parse_dates=['time_elapsed'], infer_datetime_format=True\n",
    "        ) for f in glob.glob(\"data/gradient_cross_score_extended_n=*.csv\")\n",
    "    )\n",
    "    ,ignore_index=True # Important to do not have dupes in indexes! See below.\n",
    ")\n",
    "print (df.shape)\n",
    "print (df.dtypes)\n",
    "df['time_elapsed'] = pandas.to_timedelta(df['time_elapsed'])\n",
    "df['cpu_time_spent'] = pandas.to_timedelta(df['cpu_time_spent'])\n",
    "print (df.dtypes)\n",
    "df.head()"
   ]
  },
  {
   "cell_type": "code",
   "execution_count": 11,
   "metadata": {
    "ExecuteTime": {
     "start_time": "2020-03-20T10:18:51.308Z"
    }
   },
   "outputs": [
    {
     "name": "stdout",
     "output_type": "stream",
     "text": [
      "(324, 8)\n"
     ]
    },
    {
     "data": {
      "text/plain": [
       "n_estimators                             10\n",
       "learning_rate                           0.1\n",
       "max_depth                                 1\n",
       "subsample                               0.1\n",
       "max_features                            0.5\n",
       "auc_roc                            0.622976\n",
       "time_elapsed      0 days 00:00:10.431367000\n",
       "cpu_time_spent    0 days 00:00:00.450505000\n",
       "Name: 10, dtype: object"
      ]
     },
     "execution_count": 11,
     "metadata": {},
     "output_type": "execute_result"
    }
   ],
   "source": [
    "# ignore_index=True important!\n",
    "df = pandas.concat(\n",
    "    (pandas.read_csv(f) for f in glob.glob(\"data/gradient_cross_score_extended_n=*.csv\"))\n",
    "    , ignore_index=True\n",
    ")\n",
    "print (df.shape)\n",
    "df\n",
    "# 4 rows with index 10!!!\n",
    "df.loc[10]"
   ]
  },
  {
   "cell_type": "code",
   "execution_count": 12,
   "metadata": {
    "ExecuteTime": {
     "start_time": "2020-03-20T10:18:51.319Z"
    }
   },
   "outputs": [
    {
     "data": {
      "text/html": [
       "<div>\n",
       "<style scoped>\n",
       "    .dataframe tbody tr th:only-of-type {\n",
       "        vertical-align: middle;\n",
       "    }\n",
       "\n",
       "    .dataframe tbody tr th {\n",
       "        vertical-align: top;\n",
       "    }\n",
       "\n",
       "    .dataframe thead th {\n",
       "        text-align: right;\n",
       "    }\n",
       "</style>\n",
       "<table border=\"1\" class=\"dataframe\">\n",
       "  <thead>\n",
       "    <tr style=\"text-align: right;\">\n",
       "      <th></th>\n",
       "      <th>n_estimators</th>\n",
       "      <th>learning_rate</th>\n",
       "      <th>max_depth</th>\n",
       "      <th>subsample</th>\n",
       "      <th>max_features</th>\n",
       "      <th>auc_roc</th>\n",
       "      <th>time_elapsed</th>\n",
       "      <th>cpu_time_spent</th>\n",
       "    </tr>\n",
       "  </thead>\n",
       "  <tbody>\n",
       "    <tr>\n",
       "      <th>0</th>\n",
       "      <td>10.0</td>\n",
       "      <td>0.1</td>\n",
       "      <td>0.1</td>\n",
       "      <td>0.1</td>\n",
       "      <td>0.1</td>\n",
       "      <td>0.5</td>\n",
       "      <td>0 days 00:00:09.297512000</td>\n",
       "      <td>0 days 00:00:00.425086000</td>\n",
       "    </tr>\n",
       "    <tr>\n",
       "      <th>1</th>\n",
       "      <td>10.0</td>\n",
       "      <td>0.1</td>\n",
       "      <td>0.1</td>\n",
       "      <td>0.1</td>\n",
       "      <td>0.5</td>\n",
       "      <td>0.5</td>\n",
       "      <td>0 days 00:00:10.224180000</td>\n",
       "      <td>0 days 00:00:00.447232000</td>\n",
       "    </tr>\n",
       "    <tr>\n",
       "      <th>2</th>\n",
       "      <td>10.0</td>\n",
       "      <td>0.1</td>\n",
       "      <td>0.1</td>\n",
       "      <td>0.1</td>\n",
       "      <td>1.0</td>\n",
       "      <td>0.5</td>\n",
       "      <td>0 days 00:00:10.204741000</td>\n",
       "      <td>0 days 00:00:00.419867000</td>\n",
       "    </tr>\n",
       "    <tr>\n",
       "      <th>3</th>\n",
       "      <td>10.0</td>\n",
       "      <td>0.1</td>\n",
       "      <td>0.1</td>\n",
       "      <td>0.5</td>\n",
       "      <td>0.1</td>\n",
       "      <td>0.5</td>\n",
       "      <td>0 days 00:00:10.406008000</td>\n",
       "      <td>0 days 00:00:00.417316000</td>\n",
       "    </tr>\n",
       "    <tr>\n",
       "      <th>4</th>\n",
       "      <td>10.0</td>\n",
       "      <td>0.1</td>\n",
       "      <td>0.1</td>\n",
       "      <td>0.5</td>\n",
       "      <td>0.5</td>\n",
       "      <td>0.5</td>\n",
       "      <td>0 days 00:00:09.697904000</td>\n",
       "      <td>0 days 00:00:00.433964000</td>\n",
       "    </tr>\n",
       "  </tbody>\n",
       "</table>\n",
       "</div>"
      ],
      "text/plain": [
       "   n_estimators  learning_rate  max_depth  subsample  max_features  auc_roc  \\\n",
       "0          10.0            0.1        0.1        0.1           0.1      0.5   \n",
       "1          10.0            0.1        0.1        0.1           0.5      0.5   \n",
       "2          10.0            0.1        0.1        0.1           1.0      0.5   \n",
       "3          10.0            0.1        0.1        0.5           0.1      0.5   \n",
       "4          10.0            0.1        0.1        0.5           0.5      0.5   \n",
       "\n",
       "                time_elapsed             cpu_time_spent  \n",
       "0  0 days 00:00:09.297512000  0 days 00:00:00.425086000  \n",
       "1  0 days 00:00:10.224180000  0 days 00:00:00.447232000  \n",
       "2  0 days 00:00:10.204741000  0 days 00:00:00.419867000  \n",
       "3  0 days 00:00:10.406008000  0 days 00:00:00.417316000  \n",
       "4  0 days 00:00:09.697904000  0 days 00:00:00.433964000  "
      ]
     },
     "execution_count": 12,
     "metadata": {},
     "output_type": "execute_result"
    }
   ],
   "source": [
    "df.index = range(df.shape[0])\n",
    "df.head()"
   ]
  },
  {
   "cell_type": "code",
   "execution_count": 13,
   "metadata": {
    "ExecuteTime": {
     "start_time": "2020-03-20T10:18:51.330Z"
    },
    "scrolled": true
   },
   "outputs": [
    {
     "data": {
      "text/plain": [
       "n_estimators                             10\n",
       "learning_rate                           0.1\n",
       "max_depth                                 1\n",
       "subsample                               0.1\n",
       "max_features                            0.5\n",
       "auc_roc                            0.622976\n",
       "time_elapsed      0 days 00:00:10.431367000\n",
       "cpu_time_spent    0 days 00:00:00.450505000\n",
       "Name: 10, dtype: object"
      ]
     },
     "execution_count": 13,
     "metadata": {},
     "output_type": "execute_result"
    }
   ],
   "source": [
    "# Now one row!\n",
    "df.loc[10]"
   ]
  },
  {
   "cell_type": "markdown",
   "metadata": {},
   "source": [
    "## Indexing / Select / Search"
   ]
  },
  {
   "cell_type": "code",
   "execution_count": 14,
   "metadata": {
    "ExecuteTime": {
     "start_time": "2020-03-20T10:18:51.347Z"
    },
    "init_cell": true
   },
   "outputs": [
    {
     "data": {
      "text/html": [
       "<div>\n",
       "<style scoped>\n",
       "    .dataframe tbody tr th:only-of-type {\n",
       "        vertical-align: middle;\n",
       "    }\n",
       "\n",
       "    .dataframe tbody tr th {\n",
       "        vertical-align: top;\n",
       "    }\n",
       "\n",
       "    .dataframe thead th {\n",
       "        text-align: right;\n",
       "    }\n",
       "</style>\n",
       "<table border=\"1\" class=\"dataframe\">\n",
       "  <thead>\n",
       "    <tr style=\"text-align: right;\">\n",
       "      <th></th>\n",
       "      <th>train</th>\n",
       "      <th>test</th>\n",
       "    </tr>\n",
       "  </thead>\n",
       "  <tbody>\n",
       "    <tr>\n",
       "      <th>10</th>\n",
       "      <td>1</td>\n",
       "      <td>2</td>\n",
       "    </tr>\n",
       "    <tr>\n",
       "      <th>20</th>\n",
       "      <td>3</td>\n",
       "      <td>8</td>\n",
       "    </tr>\n",
       "    <tr>\n",
       "      <th>30</th>\n",
       "      <td>7</td>\n",
       "      <td>8</td>\n",
       "    </tr>\n",
       "    <tr>\n",
       "      <th>40</th>\n",
       "      <td>12</td>\n",
       "      <td>9</td>\n",
       "    </tr>\n",
       "    <tr>\n",
       "      <th>50</th>\n",
       "      <td>17</td>\n",
       "      <td>18</td>\n",
       "    </tr>\n",
       "  </tbody>\n",
       "</table>\n",
       "</div>"
      ],
      "text/plain": [
       "    train  test\n",
       "10      1     2\n",
       "20      3     8\n",
       "30      7     8\n",
       "40     12     9\n",
       "50     17    18"
      ]
     },
     "execution_count": 14,
     "metadata": {},
     "output_type": "execute_result"
    }
   ],
   "source": [
    "d = DataFrame([[1, 2], [3, 8], [7, 8], [12, 9], [17, 18]], columns=['train', 'test'])\n",
    "d.index = [10, 20, 30, 40, 50]\n",
    "d"
   ]
  },
  {
   "cell_type": "markdown",
   "metadata": {},
   "source": [
    "### Row (Строка)"
   ]
  },
  {
   "cell_type": "code",
   "execution_count": 15,
   "metadata": {
    "ExecuteTime": {
     "start_time": "2020-03-20T10:18:51.365Z"
    }
   },
   "outputs": [
    {
     "data": {
      "text/plain": [
       "train    1\n",
       "test     2\n",
       "Name: 10, dtype: int64"
      ]
     },
     "execution_count": 15,
     "metadata": {},
     "output_type": "execute_result"
    }
   ],
   "source": [
    "# 0 row:\n",
    "d.loc[10]"
   ]
  },
  {
   "cell_type": "code",
   "execution_count": 16,
   "metadata": {
    "ExecuteTime": {
     "start_time": "2020-03-20T10:18:51.390Z"
    }
   },
   "outputs": [
    {
     "data": {
      "text/html": [
       "<div>\n",
       "<style scoped>\n",
       "    .dataframe tbody tr th:only-of-type {\n",
       "        vertical-align: middle;\n",
       "    }\n",
       "\n",
       "    .dataframe tbody tr th {\n",
       "        vertical-align: top;\n",
       "    }\n",
       "\n",
       "    .dataframe thead th {\n",
       "        text-align: right;\n",
       "    }\n",
       "</style>\n",
       "<table border=\"1\" class=\"dataframe\">\n",
       "  <thead>\n",
       "    <tr style=\"text-align: right;\">\n",
       "      <th></th>\n",
       "      <th>train</th>\n",
       "      <th>test</th>\n",
       "    </tr>\n",
       "  </thead>\n",
       "  <tbody>\n",
       "    <tr>\n",
       "      <th>10</th>\n",
       "      <td>1</td>\n",
       "      <td>2</td>\n",
       "    </tr>\n",
       "    <tr>\n",
       "      <th>20</th>\n",
       "      <td>3</td>\n",
       "      <td>8</td>\n",
       "    </tr>\n",
       "    <tr>\n",
       "      <th>30</th>\n",
       "      <td>7</td>\n",
       "      <td>8</td>\n",
       "    </tr>\n",
       "  </tbody>\n",
       "</table>\n",
       "</div>"
      ],
      "text/plain": [
       "    train  test\n",
       "10      1     2\n",
       "20      3     8\n",
       "30      7     8"
      ]
     },
     "execution_count": 16,
     "metadata": {},
     "output_type": "execute_result"
    }
   ],
   "source": [
    "# 3 rows:\n",
    "d.loc[10:30]"
   ]
  },
  {
   "cell_type": "markdown",
   "metadata": {},
   "source": [
    "### Column (Столбец)"
   ]
  },
  {
   "cell_type": "code",
   "execution_count": 17,
   "metadata": {
    "ExecuteTime": {
     "start_time": "2020-03-20T10:18:51.419Z"
    }
   },
   "outputs": [
    {
     "data": {
      "text/plain": [
       "10     1\n",
       "20     3\n",
       "30     7\n",
       "40    12\n",
       "50    17\n",
       "Name: train, dtype: int64"
      ]
     },
     "execution_count": 17,
     "metadata": {},
     "output_type": "execute_result"
    }
   ],
   "source": [
    "d.train"
   ]
  },
  {
   "cell_type": "code",
   "execution_count": 18,
   "metadata": {
    "ExecuteTime": {
     "start_time": "2020-03-20T10:18:51.430Z"
    }
   },
   "outputs": [
    {
     "data": {
      "text/plain": [
       "10     1\n",
       "20     3\n",
       "30     7\n",
       "40    12\n",
       "50    17\n",
       "Name: train, dtype: int64"
      ]
     },
     "execution_count": 18,
     "metadata": {},
     "output_type": "execute_result"
    }
   ],
   "source": [
    "d['train']"
   ]
  },
  {
   "cell_type": "code",
   "execution_count": 19,
   "metadata": {
    "ExecuteTime": {
     "start_time": "2020-03-20T10:18:51.443Z"
    }
   },
   "outputs": [
    {
     "data": {
      "text/plain": [
       "10     1\n",
       "20     3\n",
       "30     7\n",
       "40    12\n",
       "50    17\n",
       "Name: train, dtype: int64"
      ]
     },
     "execution_count": 19,
     "metadata": {},
     "output_type": "execute_result"
    }
   ],
   "source": [
    "d.loc[:,'train']"
   ]
  },
  {
   "cell_type": "code",
   "execution_count": 20,
   "metadata": {
    "ExecuteTime": {
     "start_time": "2020-03-20T10:18:51.453Z"
    }
   },
   "outputs": [
    {
     "data": {
      "text/html": [
       "<div>\n",
       "<style scoped>\n",
       "    .dataframe tbody tr th:only-of-type {\n",
       "        vertical-align: middle;\n",
       "    }\n",
       "\n",
       "    .dataframe tbody tr th {\n",
       "        vertical-align: top;\n",
       "    }\n",
       "\n",
       "    .dataframe thead th {\n",
       "        text-align: right;\n",
       "    }\n",
       "</style>\n",
       "<table border=\"1\" class=\"dataframe\">\n",
       "  <thead>\n",
       "    <tr style=\"text-align: right;\">\n",
       "      <th></th>\n",
       "      <th>train</th>\n",
       "      <th>test</th>\n",
       "    </tr>\n",
       "  </thead>\n",
       "  <tbody>\n",
       "    <tr>\n",
       "      <th>10</th>\n",
       "      <td>1</td>\n",
       "      <td>2</td>\n",
       "    </tr>\n",
       "    <tr>\n",
       "      <th>20</th>\n",
       "      <td>3</td>\n",
       "      <td>8</td>\n",
       "    </tr>\n",
       "    <tr>\n",
       "      <th>30</th>\n",
       "      <td>7</td>\n",
       "      <td>8</td>\n",
       "    </tr>\n",
       "    <tr>\n",
       "      <th>40</th>\n",
       "      <td>12</td>\n",
       "      <td>9</td>\n",
       "    </tr>\n",
       "    <tr>\n",
       "      <th>50</th>\n",
       "      <td>17</td>\n",
       "      <td>18</td>\n",
       "    </tr>\n",
       "  </tbody>\n",
       "</table>\n",
       "</div>"
      ],
      "text/plain": [
       "    train  test\n",
       "10      1     2\n",
       "20      3     8\n",
       "30      7     8\n",
       "40     12     9\n",
       "50     17    18"
      ]
     },
     "execution_count": 20,
     "metadata": {},
     "output_type": "execute_result"
    }
   ],
   "source": [
    "d.loc[:,'train':'test']"
   ]
  },
  {
   "cell_type": "code",
   "execution_count": 21,
   "metadata": {
    "ExecuteTime": {
     "start_time": "2020-03-20T10:18:51.473Z"
    }
   },
   "outputs": [
    {
     "data": {
      "text/html": [
       "<div>\n",
       "<style scoped>\n",
       "    .dataframe tbody tr th:only-of-type {\n",
       "        vertical-align: middle;\n",
       "    }\n",
       "\n",
       "    .dataframe tbody tr th {\n",
       "        vertical-align: top;\n",
       "    }\n",
       "\n",
       "    .dataframe thead th {\n",
       "        text-align: right;\n",
       "    }\n",
       "</style>\n",
       "<table border=\"1\" class=\"dataframe\">\n",
       "  <thead>\n",
       "    <tr style=\"text-align: right;\">\n",
       "      <th></th>\n",
       "      <th>train</th>\n",
       "      <th>test</th>\n",
       "    </tr>\n",
       "  </thead>\n",
       "  <tbody>\n",
       "    <tr>\n",
       "      <th>10</th>\n",
       "      <td>1</td>\n",
       "      <td>2</td>\n",
       "    </tr>\n",
       "    <tr>\n",
       "      <th>20</th>\n",
       "      <td>3</td>\n",
       "      <td>8</td>\n",
       "    </tr>\n",
       "    <tr>\n",
       "      <th>30</th>\n",
       "      <td>7</td>\n",
       "      <td>8</td>\n",
       "    </tr>\n",
       "    <tr>\n",
       "      <th>40</th>\n",
       "      <td>12</td>\n",
       "      <td>9</td>\n",
       "    </tr>\n",
       "    <tr>\n",
       "      <th>50</th>\n",
       "      <td>17</td>\n",
       "      <td>18</td>\n",
       "    </tr>\n",
       "  </tbody>\n",
       "</table>\n",
       "</div>"
      ],
      "text/plain": [
       "    train  test\n",
       "10      1     2\n",
       "20      3     8\n",
       "30      7     8\n",
       "40     12     9\n",
       "50     17    18"
      ]
     },
     "execution_count": 21,
     "metadata": {},
     "output_type": "execute_result"
    }
   ],
   "source": [
    "# List syntax\n",
    "d[['train','test']]"
   ]
  },
  {
   "cell_type": "markdown",
   "metadata": {},
   "source": [
    "### Exact point (by Row and Column)\n",
    "\n",
    "http://pandas.pydata.org/pandas-docs/stable/indexing.html#fast-scalar-value-getting-and-setting"
   ]
  },
  {
   "cell_type": "code",
   "execution_count": 22,
   "metadata": {
    "ExecuteTime": {
     "start_time": "2020-03-20T10:18:51.489Z"
    },
    "scrolled": true
   },
   "outputs": [
    {
     "data": {
      "text/plain": [
       "3"
      ]
     },
     "execution_count": 22,
     "metadata": {},
     "output_type": "execute_result"
    }
   ],
   "source": [
    "d.loc[20, 'train']"
   ]
  },
  {
   "cell_type": "code",
   "execution_count": 23,
   "metadata": {
    "ExecuteTime": {
     "start_time": "2020-03-20T10:18:51.499Z"
    },
    "scrolled": true
   },
   "outputs": [
    {
     "data": {
      "text/plain": [
       "3"
      ]
     },
     "execution_count": 23,
     "metadata": {},
     "output_type": "execute_result"
    }
   ],
   "source": [
    "d.iloc[1, 0]"
   ]
  },
  {
   "cell_type": "code",
   "execution_count": 24,
   "metadata": {
    "ExecuteTime": {
     "start_time": "2020-03-20T10:18:51.510Z"
    },
    "scrolled": true
   },
   "outputs": [
    {
     "data": {
      "text/plain": [
       "3"
      ]
     },
     "execution_count": 24,
     "metadata": {},
     "output_type": "execute_result"
    }
   ],
   "source": [
    "d.iat[1, 0]"
   ]
  },
  {
   "cell_type": "code",
   "execution_count": 25,
   "metadata": {
    "ExecuteTime": {
     "start_time": "2020-03-20T10:18:51.531Z"
    },
    "scrolled": true
   },
   "outputs": [
    {
     "data": {
      "text/plain": [
       "3"
      ]
     },
     "execution_count": 25,
     "metadata": {},
     "output_type": "execute_result"
    }
   ],
   "source": [
    "d.at[20, 'train']"
   ]
  },
  {
   "cell_type": "markdown",
   "metadata": {},
   "source": [
    "### Select columns by regex\n",
    "\n",
    "http://stackoverflow.com/questions/30808430/how-to-select-columns-from-dataframe-by-regex"
   ]
  },
  {
   "cell_type": "code",
   "execution_count": 26,
   "metadata": {
    "ExecuteTime": {
     "start_time": "2020-03-20T10:18:51.546Z"
    },
    "scrolled": false
   },
   "outputs": [
    {
     "data": {
      "text/html": [
       "<div>\n",
       "<style scoped>\n",
       "    .dataframe tbody tr th:only-of-type {\n",
       "        vertical-align: middle;\n",
       "    }\n",
       "\n",
       "    .dataframe tbody tr th {\n",
       "        vertical-align: top;\n",
       "    }\n",
       "\n",
       "    .dataframe thead th {\n",
       "        text-align: right;\n",
       "    }\n",
       "</style>\n",
       "<table border=\"1\" class=\"dataframe\">\n",
       "  <thead>\n",
       "    <tr style=\"text-align: right;\">\n",
       "      <th></th>\n",
       "      <th>d</th>\n",
       "      <th>didi</th>\n",
       "    </tr>\n",
       "  </thead>\n",
       "  <tbody>\n",
       "    <tr>\n",
       "      <th>0</th>\n",
       "      <td>4</td>\n",
       "      <td>5</td>\n",
       "    </tr>\n",
       "    <tr>\n",
       "      <th>1</th>\n",
       "      <td>3</td>\n",
       "      <td>9</td>\n",
       "    </tr>\n",
       "    <tr>\n",
       "      <th>2</th>\n",
       "      <td>2</td>\n",
       "      <td>5</td>\n",
       "    </tr>\n",
       "    <tr>\n",
       "      <th>3</th>\n",
       "      <td>9</td>\n",
       "      <td>2</td>\n",
       "    </tr>\n",
       "    <tr>\n",
       "      <th>4</th>\n",
       "      <td>7</td>\n",
       "      <td>4</td>\n",
       "    </tr>\n",
       "    <tr>\n",
       "      <th>5</th>\n",
       "      <td>1</td>\n",
       "      <td>9</td>\n",
       "    </tr>\n",
       "    <tr>\n",
       "      <th>6</th>\n",
       "      <td>4</td>\n",
       "      <td>1</td>\n",
       "    </tr>\n",
       "    <tr>\n",
       "      <th>7</th>\n",
       "      <td>8</td>\n",
       "      <td>3</td>\n",
       "    </tr>\n",
       "    <tr>\n",
       "      <th>8</th>\n",
       "      <td>7</td>\n",
       "      <td>6</td>\n",
       "    </tr>\n",
       "    <tr>\n",
       "      <th>9</th>\n",
       "      <td>9</td>\n",
       "      <td>8</td>\n",
       "    </tr>\n",
       "    <tr>\n",
       "      <th>10</th>\n",
       "      <td>9</td>\n",
       "      <td>5</td>\n",
       "    </tr>\n",
       "    <tr>\n",
       "      <th>11</th>\n",
       "      <td>3</td>\n",
       "      <td>1</td>\n",
       "    </tr>\n",
       "  </tbody>\n",
       "</table>\n",
       "</div>"
      ],
      "text/plain": [
       "    d  didi\n",
       "0   4     5\n",
       "1   3     9\n",
       "2   2     5\n",
       "3   9     2\n",
       "4   7     4\n",
       "5   1     9\n",
       "6   4     1\n",
       "7   8     3\n",
       "8   7     6\n",
       "9   9     8\n",
       "10  9     5\n",
       "11  3     1"
      ]
     },
     "execution_count": 26,
     "metadata": {},
     "output_type": "execute_result"
    }
   ],
   "source": [
    "df = pandas.DataFrame(numpy.random.randint(1, 10, size=(12, 3)),columns=['d','t','didi'])\n",
    "\n",
    "df.filter(regex=('d.*'))"
   ]
  },
  {
   "cell_type": "markdown",
   "metadata": {},
   "source": [
    "#### Filter rows"
   ]
  },
  {
   "cell_type": "code",
   "execution_count": 27,
   "metadata": {
    "ExecuteTime": {
     "start_time": "2020-03-20T10:18:51.561Z"
    }
   },
   "outputs": [
    {
     "data": {
      "text/html": [
       "<div>\n",
       "<style scoped>\n",
       "    .dataframe tbody tr th:only-of-type {\n",
       "        vertical-align: middle;\n",
       "    }\n",
       "\n",
       "    .dataframe tbody tr th {\n",
       "        vertical-align: top;\n",
       "    }\n",
       "\n",
       "    .dataframe thead th {\n",
       "        text-align: right;\n",
       "    }\n",
       "</style>\n",
       "<table border=\"1\" class=\"dataframe\">\n",
       "  <thead>\n",
       "    <tr style=\"text-align: right;\">\n",
       "      <th></th>\n",
       "      <th>d</th>\n",
       "      <th>t</th>\n",
       "      <th>didi</th>\n",
       "    </tr>\n",
       "  </thead>\n",
       "  <tbody>\n",
       "    <tr>\n",
       "      <th>1</th>\n",
       "      <td>3</td>\n",
       "      <td>4</td>\n",
       "      <td>9</td>\n",
       "    </tr>\n",
       "    <tr>\n",
       "      <th>10</th>\n",
       "      <td>9</td>\n",
       "      <td>8</td>\n",
       "      <td>5</td>\n",
       "    </tr>\n",
       "    <tr>\n",
       "      <th>11</th>\n",
       "      <td>3</td>\n",
       "      <td>1</td>\n",
       "      <td>1</td>\n",
       "    </tr>\n",
       "  </tbody>\n",
       "</table>\n",
       "</div>"
      ],
      "text/plain": [
       "    d  t  didi\n",
       "1   3  4     9\n",
       "10  9  8     5\n",
       "11  3  1     1"
      ]
     },
     "execution_count": 27,
     "metadata": {},
     "output_type": "execute_result"
    }
   ],
   "source": [
    "df.filter(regex=('1.*'), axis=0)"
   ]
  },
  {
   "cell_type": "markdown",
   "metadata": {},
   "source": [
    "### Selecting Random Samples\n",
    "\n",
    "http://pandas.pydata.org/pandas-docs/stable/indexing.html#selecting-random-samples"
   ]
  },
  {
   "cell_type": "code",
   "execution_count": 28,
   "metadata": {
    "ExecuteTime": {
     "start_time": "2020-03-20T10:18:51.577Z"
    },
    "init_cell": true
   },
   "outputs": [
    {
     "data": {
      "text/html": [
       "<div>\n",
       "<style scoped>\n",
       "    .dataframe tbody tr th:only-of-type {\n",
       "        vertical-align: middle;\n",
       "    }\n",
       "\n",
       "    .dataframe tbody tr th {\n",
       "        vertical-align: top;\n",
       "    }\n",
       "\n",
       "    .dataframe thead th {\n",
       "        text-align: right;\n",
       "    }\n",
       "</style>\n",
       "<table border=\"1\" class=\"dataframe\">\n",
       "  <thead>\n",
       "    <tr style=\"text-align: right;\">\n",
       "      <th></th>\n",
       "      <th>A</th>\n",
       "      <th>B</th>\n",
       "      <th>C</th>\n",
       "      <th>D</th>\n",
       "    </tr>\n",
       "  </thead>\n",
       "  <tbody>\n",
       "    <tr>\n",
       "      <th>0</th>\n",
       "      <td>5</td>\n",
       "      <td>9</td>\n",
       "      <td>6</td>\n",
       "      <td>2</td>\n",
       "    </tr>\n",
       "    <tr>\n",
       "      <th>1</th>\n",
       "      <td>6</td>\n",
       "      <td>7</td>\n",
       "      <td>5</td>\n",
       "      <td>3</td>\n",
       "    </tr>\n",
       "    <tr>\n",
       "      <th>2</th>\n",
       "      <td>3</td>\n",
       "      <td>5</td>\n",
       "      <td>4</td>\n",
       "      <td>2</td>\n",
       "    </tr>\n",
       "    <tr>\n",
       "      <th>3</th>\n",
       "      <td>5</td>\n",
       "      <td>1</td>\n",
       "      <td>4</td>\n",
       "      <td>2</td>\n",
       "    </tr>\n",
       "    <tr>\n",
       "      <th>4</th>\n",
       "      <td>2</td>\n",
       "      <td>9</td>\n",
       "      <td>6</td>\n",
       "      <td>2</td>\n",
       "    </tr>\n",
       "    <tr>\n",
       "      <th>...</th>\n",
       "      <td>...</td>\n",
       "      <td>...</td>\n",
       "      <td>...</td>\n",
       "      <td>...</td>\n",
       "    </tr>\n",
       "    <tr>\n",
       "      <th>95</th>\n",
       "      <td>8</td>\n",
       "      <td>9</td>\n",
       "      <td>2</td>\n",
       "      <td>5</td>\n",
       "    </tr>\n",
       "    <tr>\n",
       "      <th>96</th>\n",
       "      <td>9</td>\n",
       "      <td>6</td>\n",
       "      <td>9</td>\n",
       "      <td>8</td>\n",
       "    </tr>\n",
       "    <tr>\n",
       "      <th>97</th>\n",
       "      <td>4</td>\n",
       "      <td>4</td>\n",
       "      <td>5</td>\n",
       "      <td>5</td>\n",
       "    </tr>\n",
       "    <tr>\n",
       "      <th>98</th>\n",
       "      <td>7</td>\n",
       "      <td>7</td>\n",
       "      <td>3</td>\n",
       "      <td>3</td>\n",
       "    </tr>\n",
       "    <tr>\n",
       "      <th>99</th>\n",
       "      <td>4</td>\n",
       "      <td>3</td>\n",
       "      <td>4</td>\n",
       "      <td>8</td>\n",
       "    </tr>\n",
       "  </tbody>\n",
       "</table>\n",
       "<p>100 rows × 4 columns</p>\n",
       "</div>"
      ],
      "text/plain": [
       "    A  B  C  D\n",
       "0   5  9  6  2\n",
       "1   6  7  5  3\n",
       "2   3  5  4  2\n",
       "3   5  1  4  2\n",
       "4   2  9  6  2\n",
       ".. .. .. .. ..\n",
       "95  8  9  2  5\n",
       "96  9  6  9  8\n",
       "97  4  4  5  5\n",
       "98  7  7  3  3\n",
       "99  4  3  4  8\n",
       "\n",
       "[100 rows x 4 columns]"
      ]
     },
     "execution_count": 28,
     "metadata": {},
     "output_type": "execute_result"
    }
   ],
   "source": [
    "sdf = DataFrame(numpy.random.randint(1, 10, size=(100, 4)), columns=list('ABCD'))\n",
    "sdf"
   ]
  },
  {
   "cell_type": "code",
   "execution_count": 29,
   "metadata": {
    "ExecuteTime": {
     "start_time": "2020-03-20T10:18:51.594Z"
    }
   },
   "outputs": [
    {
     "data": {
      "text/html": [
       "<div>\n",
       "<style scoped>\n",
       "    .dataframe tbody tr th:only-of-type {\n",
       "        vertical-align: middle;\n",
       "    }\n",
       "\n",
       "    .dataframe tbody tr th {\n",
       "        vertical-align: top;\n",
       "    }\n",
       "\n",
       "    .dataframe thead th {\n",
       "        text-align: right;\n",
       "    }\n",
       "</style>\n",
       "<table border=\"1\" class=\"dataframe\">\n",
       "  <thead>\n",
       "    <tr style=\"text-align: right;\">\n",
       "      <th></th>\n",
       "      <th>A</th>\n",
       "      <th>B</th>\n",
       "      <th>C</th>\n",
       "      <th>D</th>\n",
       "    </tr>\n",
       "  </thead>\n",
       "  <tbody>\n",
       "    <tr>\n",
       "      <th>count</th>\n",
       "      <td>100.000000</td>\n",
       "      <td>100.0000</td>\n",
       "      <td>100.000000</td>\n",
       "      <td>100.000000</td>\n",
       "    </tr>\n",
       "    <tr>\n",
       "      <th>mean</th>\n",
       "      <td>5.230000</td>\n",
       "      <td>4.7700</td>\n",
       "      <td>4.820000</td>\n",
       "      <td>4.910000</td>\n",
       "    </tr>\n",
       "    <tr>\n",
       "      <th>std</th>\n",
       "      <td>2.326201</td>\n",
       "      <td>2.7112</td>\n",
       "      <td>2.409493</td>\n",
       "      <td>2.582361</td>\n",
       "    </tr>\n",
       "    <tr>\n",
       "      <th>min</th>\n",
       "      <td>1.000000</td>\n",
       "      <td>1.0000</td>\n",
       "      <td>1.000000</td>\n",
       "      <td>1.000000</td>\n",
       "    </tr>\n",
       "    <tr>\n",
       "      <th>25%</th>\n",
       "      <td>3.000000</td>\n",
       "      <td>2.0000</td>\n",
       "      <td>3.000000</td>\n",
       "      <td>3.000000</td>\n",
       "    </tr>\n",
       "    <tr>\n",
       "      <th>50%</th>\n",
       "      <td>5.000000</td>\n",
       "      <td>5.0000</td>\n",
       "      <td>5.000000</td>\n",
       "      <td>5.000000</td>\n",
       "    </tr>\n",
       "    <tr>\n",
       "      <th>75%</th>\n",
       "      <td>7.000000</td>\n",
       "      <td>7.0000</td>\n",
       "      <td>6.000000</td>\n",
       "      <td>7.000000</td>\n",
       "    </tr>\n",
       "    <tr>\n",
       "      <th>max</th>\n",
       "      <td>9.000000</td>\n",
       "      <td>9.0000</td>\n",
       "      <td>9.000000</td>\n",
       "      <td>9.000000</td>\n",
       "    </tr>\n",
       "  </tbody>\n",
       "</table>\n",
       "</div>"
      ],
      "text/plain": [
       "                A         B           C           D\n",
       "count  100.000000  100.0000  100.000000  100.000000\n",
       "mean     5.230000    4.7700    4.820000    4.910000\n",
       "std      2.326201    2.7112    2.409493    2.582361\n",
       "min      1.000000    1.0000    1.000000    1.000000\n",
       "25%      3.000000    2.0000    3.000000    3.000000\n",
       "50%      5.000000    5.0000    5.000000    5.000000\n",
       "75%      7.000000    7.0000    6.000000    7.000000\n",
       "max      9.000000    9.0000    9.000000    9.000000"
      ]
     },
     "execution_count": 29,
     "metadata": {},
     "output_type": "execute_result"
    }
   ],
   "source": [
    "sdf.describe()"
   ]
  },
  {
   "cell_type": "code",
   "execution_count": 30,
   "metadata": {
    "ExecuteTime": {
     "start_time": "2020-03-20T10:18:51.603Z"
    }
   },
   "outputs": [
    {
     "data": {
      "text/html": [
       "<div>\n",
       "<style scoped>\n",
       "    .dataframe tbody tr th:only-of-type {\n",
       "        vertical-align: middle;\n",
       "    }\n",
       "\n",
       "    .dataframe tbody tr th {\n",
       "        vertical-align: top;\n",
       "    }\n",
       "\n",
       "    .dataframe thead th {\n",
       "        text-align: right;\n",
       "    }\n",
       "</style>\n",
       "<table border=\"1\" class=\"dataframe\">\n",
       "  <thead>\n",
       "    <tr style=\"text-align: right;\">\n",
       "      <th></th>\n",
       "      <th>A</th>\n",
       "      <th>B</th>\n",
       "      <th>C</th>\n",
       "      <th>D</th>\n",
       "    </tr>\n",
       "  </thead>\n",
       "  <tbody>\n",
       "    <tr>\n",
       "      <th>45</th>\n",
       "      <td>7</td>\n",
       "      <td>6</td>\n",
       "      <td>4</td>\n",
       "      <td>1</td>\n",
       "    </tr>\n",
       "  </tbody>\n",
       "</table>\n",
       "</div>"
      ],
      "text/plain": [
       "    A  B  C  D\n",
       "45  7  6  4  1"
      ]
     },
     "execution_count": 30,
     "metadata": {},
     "output_type": "execute_result"
    }
   ],
   "source": [
    "sdf.sample(n=1)"
   ]
  },
  {
   "cell_type": "code",
   "execution_count": 31,
   "metadata": {
    "ExecuteTime": {
     "start_time": "2020-03-20T10:18:51.614Z"
    }
   },
   "outputs": [
    {
     "data": {
      "text/html": [
       "<div>\n",
       "<style scoped>\n",
       "    .dataframe tbody tr th:only-of-type {\n",
       "        vertical-align: middle;\n",
       "    }\n",
       "\n",
       "    .dataframe tbody tr th {\n",
       "        vertical-align: top;\n",
       "    }\n",
       "\n",
       "    .dataframe thead th {\n",
       "        text-align: right;\n",
       "    }\n",
       "</style>\n",
       "<table border=\"1\" class=\"dataframe\">\n",
       "  <thead>\n",
       "    <tr style=\"text-align: right;\">\n",
       "      <th></th>\n",
       "      <th>A</th>\n",
       "      <th>B</th>\n",
       "      <th>C</th>\n",
       "      <th>D</th>\n",
       "    </tr>\n",
       "  </thead>\n",
       "  <tbody>\n",
       "    <tr>\n",
       "      <th>60</th>\n",
       "      <td>5</td>\n",
       "      <td>2</td>\n",
       "      <td>2</td>\n",
       "      <td>6</td>\n",
       "    </tr>\n",
       "    <tr>\n",
       "      <th>90</th>\n",
       "      <td>3</td>\n",
       "      <td>1</td>\n",
       "      <td>5</td>\n",
       "      <td>9</td>\n",
       "    </tr>\n",
       "    <tr>\n",
       "      <th>18</th>\n",
       "      <td>3</td>\n",
       "      <td>2</td>\n",
       "      <td>1</td>\n",
       "      <td>7</td>\n",
       "    </tr>\n",
       "    <tr>\n",
       "      <th>73</th>\n",
       "      <td>4</td>\n",
       "      <td>9</td>\n",
       "      <td>5</td>\n",
       "      <td>1</td>\n",
       "    </tr>\n",
       "    <tr>\n",
       "      <th>11</th>\n",
       "      <td>1</td>\n",
       "      <td>1</td>\n",
       "      <td>1</td>\n",
       "      <td>7</td>\n",
       "    </tr>\n",
       "  </tbody>\n",
       "</table>\n",
       "</div>"
      ],
      "text/plain": [
       "    A  B  C  D\n",
       "60  5  2  2  6\n",
       "90  3  1  5  9\n",
       "18  3  2  1  7\n",
       "73  4  9  5  1\n",
       "11  1  1  1  7"
      ]
     },
     "execution_count": 31,
     "metadata": {},
     "output_type": "execute_result"
    }
   ],
   "source": [
    "sdf.sample(n=5)"
   ]
  },
  {
   "cell_type": "code",
   "execution_count": 32,
   "metadata": {
    "ExecuteTime": {
     "start_time": "2020-03-20T10:18:51.624Z"
    }
   },
   "outputs": [
    {
     "data": {
      "text/html": [
       "<div>\n",
       "<style scoped>\n",
       "    .dataframe tbody tr th:only-of-type {\n",
       "        vertical-align: middle;\n",
       "    }\n",
       "\n",
       "    .dataframe tbody tr th {\n",
       "        vertical-align: top;\n",
       "    }\n",
       "\n",
       "    .dataframe thead th {\n",
       "        text-align: right;\n",
       "    }\n",
       "</style>\n",
       "<table border=\"1\" class=\"dataframe\">\n",
       "  <thead>\n",
       "    <tr style=\"text-align: right;\">\n",
       "      <th></th>\n",
       "      <th>A</th>\n",
       "      <th>B</th>\n",
       "      <th>C</th>\n",
       "      <th>D</th>\n",
       "    </tr>\n",
       "  </thead>\n",
       "  <tbody>\n",
       "    <tr>\n",
       "      <th>37</th>\n",
       "      <td>7</td>\n",
       "      <td>3</td>\n",
       "      <td>5</td>\n",
       "      <td>3</td>\n",
       "    </tr>\n",
       "    <tr>\n",
       "      <th>6</th>\n",
       "      <td>6</td>\n",
       "      <td>7</td>\n",
       "      <td>6</td>\n",
       "      <td>5</td>\n",
       "    </tr>\n",
       "    <tr>\n",
       "      <th>57</th>\n",
       "      <td>6</td>\n",
       "      <td>3</td>\n",
       "      <td>9</td>\n",
       "      <td>8</td>\n",
       "    </tr>\n",
       "    <tr>\n",
       "      <th>17</th>\n",
       "      <td>6</td>\n",
       "      <td>8</td>\n",
       "      <td>5</td>\n",
       "      <td>1</td>\n",
       "    </tr>\n",
       "    <tr>\n",
       "      <th>79</th>\n",
       "      <td>7</td>\n",
       "      <td>5</td>\n",
       "      <td>5</td>\n",
       "      <td>3</td>\n",
       "    </tr>\n",
       "  </tbody>\n",
       "</table>\n",
       "</div>"
      ],
      "text/plain": [
       "    A  B  C  D\n",
       "37  7  3  5  3\n",
       "6   6  7  6  5\n",
       "57  6  3  9  8\n",
       "17  6  8  5  1\n",
       "79  7  5  5  3"
      ]
     },
     "execution_count": 32,
     "metadata": {},
     "output_type": "execute_result"
    }
   ],
   "source": [
    "sdf.sample(frac=0.05)"
   ]
  },
  {
   "cell_type": "markdown",
   "metadata": {},
   "source": [
    "### Max by Column"
   ]
  },
  {
   "cell_type": "code",
   "execution_count": 33,
   "metadata": {
    "ExecuteTime": {
     "start_time": "2020-03-20T10:18:51.639Z"
    },
    "init_cell": true,
    "scrolled": true
   },
   "outputs": [
    {
     "data": {
      "text/html": [
       "<div>\n",
       "<style scoped>\n",
       "    .dataframe tbody tr th:only-of-type {\n",
       "        vertical-align: middle;\n",
       "    }\n",
       "\n",
       "    .dataframe tbody tr th {\n",
       "        vertical-align: top;\n",
       "    }\n",
       "\n",
       "    .dataframe thead th {\n",
       "        text-align: right;\n",
       "    }\n",
       "</style>\n",
       "<table border=\"1\" class=\"dataframe\">\n",
       "  <thead>\n",
       "    <tr style=\"text-align: right;\">\n",
       "      <th></th>\n",
       "      <th>n_estimators</th>\n",
       "      <th>auc_roc</th>\n",
       "      <th>time_elapsed</th>\n",
       "    </tr>\n",
       "  </thead>\n",
       "  <tbody>\n",
       "    <tr>\n",
       "      <th>0</th>\n",
       "      <td>10.0</td>\n",
       "      <td>0.71</td>\n",
       "      <td>100.0</td>\n",
       "    </tr>\n",
       "    <tr>\n",
       "      <th>1</th>\n",
       "      <td>20.0</td>\n",
       "      <td>0.72</td>\n",
       "      <td>200.0</td>\n",
       "    </tr>\n",
       "    <tr>\n",
       "      <th>2</th>\n",
       "      <td>30.0</td>\n",
       "      <td>0.73</td>\n",
       "      <td>300.0</td>\n",
       "    </tr>\n",
       "    <tr>\n",
       "      <th>4</th>\n",
       "      <td>40.0</td>\n",
       "      <td>0.74</td>\n",
       "      <td>400.0</td>\n",
       "    </tr>\n",
       "    <tr>\n",
       "      <th>6</th>\n",
       "      <td>50.0</td>\n",
       "      <td>0.70</td>\n",
       "      <td>500.0</td>\n",
       "    </tr>\n",
       "  </tbody>\n",
       "</table>\n",
       "</div>"
      ],
      "text/plain": [
       "   n_estimators  auc_roc  time_elapsed\n",
       "0          10.0     0.71         100.0\n",
       "1          20.0     0.72         200.0\n",
       "2          30.0     0.73         300.0\n",
       "4          40.0     0.74         400.0\n",
       "6          50.0     0.70         500.0"
      ]
     },
     "execution_count": 33,
     "metadata": {},
     "output_type": "execute_result"
    }
   ],
   "source": [
    "res = DataFrame(columns=['n_estimators', 'auc_roc', 'time_elapsed']);\n",
    "res.loc[len(res)] = [ 10, 0.71, 100 ]\n",
    "res.loc[len(res)] = [ 20, 0.72, 200 ]\n",
    "res.loc[len(res)] = [ 30, 0.73, 300 ]\n",
    "res.loc[len(res)+1] = [ 40, 0.74, 400 ]\n",
    "res.loc[len(res)+2] = [ 50, 0.70, 500 ]\n",
    "res\n",
    "#print ('Maximum auc_roc: n={n_estimators}; auc_roc={auc_roc}; time_elapsed={time_elapsed}'.format(**max(res, key=lambda k: k['auc_roc'])) )"
   ]
  },
  {
   "cell_type": "code",
   "execution_count": 34,
   "metadata": {
    "ExecuteTime": {
     "start_time": "2020-03-20T10:18:51.651Z"
    },
    "scrolled": true
   },
   "outputs": [
    {
     "data": {
      "text/plain": [
       "500.0"
      ]
     },
     "execution_count": 34,
     "metadata": {},
     "output_type": "execute_result"
    }
   ],
   "source": [
    "res.max().max()"
   ]
  },
  {
   "cell_type": "code",
   "execution_count": 35,
   "metadata": {
    "ExecuteTime": {
     "start_time": "2020-03-20T10:18:51.662Z"
    },
    "scrolled": true
   },
   "outputs": [
    {
     "data": {
      "text/plain": [
       "n_estimators     40.00\n",
       "auc_roc           0.74\n",
       "time_elapsed    400.00\n",
       "Name: 4, dtype: float64"
      ]
     },
     "execution_count": 35,
     "metadata": {},
     "output_type": "execute_result"
    }
   ],
   "source": [
    "max(res.iterrows(), key=lambda k: k[1]['auc_roc'])[1]"
   ]
  },
  {
   "cell_type": "code",
   "execution_count": 36,
   "metadata": {
    "ExecuteTime": {
     "start_time": "2020-03-20T10:18:51.671Z"
    },
    "scrolled": true
   },
   "outputs": [
    {
     "name": "stdout",
     "output_type": "stream",
     "text": [
      "Maximum auc_roc: n=40.0; auc_roc=0.74; time_elapsed=400.0\n"
     ]
    }
   ],
   "source": [
    "print ('Maximum auc_roc: n={n_estimators}; auc_roc={auc_roc}; time_elapsed={time_elapsed}'.format(\n",
    "            **max(res.iterrows(), key=lambda k: k[1]['auc_roc'])[1] # See ArraysSandbox for indexing magic\n",
    "        )\n",
    "    )"
   ]
  },
  {
   "cell_type": "markdown",
   "metadata": {},
   "source": [
    "### Search by complex criteria (+boolean indexing). Where / mask / query\n",
    "\n",
    "http://pandas.pydata.org/pandas-docs/stable/indexing.html#boolean-indexing\n",
    "\n",
    "http://pandas.pydata.org/pandas-docs/stable/indexing.html#the-where-method-and-masking"
   ]
  },
  {
   "cell_type": "markdown",
   "metadata": {},
   "source": [
    "#### Where, mask"
   ]
  },
  {
   "cell_type": "code",
   "execution_count": 37,
   "metadata": {
    "ExecuteTime": {
     "start_time": "2020-03-20T10:18:51.685Z"
    },
    "init_cell": true
   },
   "outputs": [
    {
     "data": {
      "text/html": [
       "<div>\n",
       "<style scoped>\n",
       "    .dataframe tbody tr th:only-of-type {\n",
       "        vertical-align: middle;\n",
       "    }\n",
       "\n",
       "    .dataframe tbody tr th {\n",
       "        vertical-align: top;\n",
       "    }\n",
       "\n",
       "    .dataframe thead th {\n",
       "        text-align: right;\n",
       "    }\n",
       "</style>\n",
       "<table border=\"1\" class=\"dataframe\">\n",
       "  <thead>\n",
       "    <tr style=\"text-align: right;\">\n",
       "      <th></th>\n",
       "      <th>A</th>\n",
       "      <th>B</th>\n",
       "      <th>C</th>\n",
       "      <th>D</th>\n",
       "    </tr>\n",
       "  </thead>\n",
       "  <tbody>\n",
       "    <tr>\n",
       "      <th>0</th>\n",
       "      <td>1</td>\n",
       "      <td>8</td>\n",
       "      <td>1</td>\n",
       "      <td>3</td>\n",
       "    </tr>\n",
       "    <tr>\n",
       "      <th>1</th>\n",
       "      <td>8</td>\n",
       "      <td>2</td>\n",
       "      <td>4</td>\n",
       "      <td>4</td>\n",
       "    </tr>\n",
       "    <tr>\n",
       "      <th>2</th>\n",
       "      <td>8</td>\n",
       "      <td>8</td>\n",
       "      <td>2</td>\n",
       "      <td>9</td>\n",
       "    </tr>\n",
       "    <tr>\n",
       "      <th>3</th>\n",
       "      <td>6</td>\n",
       "      <td>9</td>\n",
       "      <td>6</td>\n",
       "      <td>9</td>\n",
       "    </tr>\n",
       "    <tr>\n",
       "      <th>4</th>\n",
       "      <td>8</td>\n",
       "      <td>6</td>\n",
       "      <td>2</td>\n",
       "      <td>5</td>\n",
       "    </tr>\n",
       "    <tr>\n",
       "      <th>5</th>\n",
       "      <td>1</td>\n",
       "      <td>8</td>\n",
       "      <td>7</td>\n",
       "      <td>3</td>\n",
       "    </tr>\n",
       "    <tr>\n",
       "      <th>6</th>\n",
       "      <td>8</td>\n",
       "      <td>7</td>\n",
       "      <td>7</td>\n",
       "      <td>9</td>\n",
       "    </tr>\n",
       "    <tr>\n",
       "      <th>7</th>\n",
       "      <td>8</td>\n",
       "      <td>5</td>\n",
       "      <td>2</td>\n",
       "      <td>7</td>\n",
       "    </tr>\n",
       "    <tr>\n",
       "      <th>8</th>\n",
       "      <td>5</td>\n",
       "      <td>7</td>\n",
       "      <td>7</td>\n",
       "      <td>4</td>\n",
       "    </tr>\n",
       "    <tr>\n",
       "      <th>9</th>\n",
       "      <td>3</td>\n",
       "      <td>9</td>\n",
       "      <td>4</td>\n",
       "      <td>8</td>\n",
       "    </tr>\n",
       "  </tbody>\n",
       "</table>\n",
       "</div>"
      ],
      "text/plain": [
       "   A  B  C  D\n",
       "0  1  8  1  3\n",
       "1  8  2  4  4\n",
       "2  8  8  2  9\n",
       "3  6  9  6  9\n",
       "4  8  6  2  5\n",
       "5  1  8  7  3\n",
       "6  8  7  7  9\n",
       "7  8  5  2  7\n",
       "8  5  7  7  4\n",
       "9  3  9  4  8"
      ]
     },
     "execution_count": 37,
     "metadata": {},
     "output_type": "execute_result"
    }
   ],
   "source": [
    "w = DataFrame(numpy.random.randint(1, 10, size=(10, 4)), columns=list('ABCD'))\n",
    "w"
   ]
  },
  {
   "cell_type": "code",
   "execution_count": 38,
   "metadata": {
    "ExecuteTime": {
     "start_time": "2020-03-20T10:18:51.693Z"
    }
   },
   "outputs": [
    {
     "data": {
      "text/html": [
       "<div>\n",
       "<style scoped>\n",
       "    .dataframe tbody tr th:only-of-type {\n",
       "        vertical-align: middle;\n",
       "    }\n",
       "\n",
       "    .dataframe tbody tr th {\n",
       "        vertical-align: top;\n",
       "    }\n",
       "\n",
       "    .dataframe thead th {\n",
       "        text-align: right;\n",
       "    }\n",
       "</style>\n",
       "<table border=\"1\" class=\"dataframe\">\n",
       "  <thead>\n",
       "    <tr style=\"text-align: right;\">\n",
       "      <th></th>\n",
       "      <th>A</th>\n",
       "      <th>B</th>\n",
       "      <th>C</th>\n",
       "      <th>D</th>\n",
       "    </tr>\n",
       "  </thead>\n",
       "  <tbody>\n",
       "    <tr>\n",
       "      <th>0</th>\n",
       "      <td>NaN</td>\n",
       "      <td>8.0</td>\n",
       "      <td>NaN</td>\n",
       "      <td>NaN</td>\n",
       "    </tr>\n",
       "    <tr>\n",
       "      <th>1</th>\n",
       "      <td>8.0</td>\n",
       "      <td>NaN</td>\n",
       "      <td>NaN</td>\n",
       "      <td>NaN</td>\n",
       "    </tr>\n",
       "    <tr>\n",
       "      <th>2</th>\n",
       "      <td>8.0</td>\n",
       "      <td>8.0</td>\n",
       "      <td>NaN</td>\n",
       "      <td>9.0</td>\n",
       "    </tr>\n",
       "    <tr>\n",
       "      <th>3</th>\n",
       "      <td>NaN</td>\n",
       "      <td>9.0</td>\n",
       "      <td>NaN</td>\n",
       "      <td>9.0</td>\n",
       "    </tr>\n",
       "    <tr>\n",
       "      <th>4</th>\n",
       "      <td>8.0</td>\n",
       "      <td>NaN</td>\n",
       "      <td>NaN</td>\n",
       "      <td>NaN</td>\n",
       "    </tr>\n",
       "    <tr>\n",
       "      <th>5</th>\n",
       "      <td>NaN</td>\n",
       "      <td>8.0</td>\n",
       "      <td>NaN</td>\n",
       "      <td>NaN</td>\n",
       "    </tr>\n",
       "    <tr>\n",
       "      <th>6</th>\n",
       "      <td>8.0</td>\n",
       "      <td>NaN</td>\n",
       "      <td>NaN</td>\n",
       "      <td>9.0</td>\n",
       "    </tr>\n",
       "    <tr>\n",
       "      <th>7</th>\n",
       "      <td>8.0</td>\n",
       "      <td>NaN</td>\n",
       "      <td>NaN</td>\n",
       "      <td>NaN</td>\n",
       "    </tr>\n",
       "    <tr>\n",
       "      <th>8</th>\n",
       "      <td>NaN</td>\n",
       "      <td>NaN</td>\n",
       "      <td>NaN</td>\n",
       "      <td>NaN</td>\n",
       "    </tr>\n",
       "    <tr>\n",
       "      <th>9</th>\n",
       "      <td>NaN</td>\n",
       "      <td>9.0</td>\n",
       "      <td>NaN</td>\n",
       "      <td>8.0</td>\n",
       "    </tr>\n",
       "  </tbody>\n",
       "</table>\n",
       "</div>"
      ],
      "text/plain": [
       "     A    B   C    D\n",
       "0  NaN  8.0 NaN  NaN\n",
       "1  8.0  NaN NaN  NaN\n",
       "2  8.0  8.0 NaN  9.0\n",
       "3  NaN  9.0 NaN  9.0\n",
       "4  8.0  NaN NaN  NaN\n",
       "5  NaN  8.0 NaN  NaN\n",
       "6  8.0  NaN NaN  9.0\n",
       "7  8.0  NaN NaN  NaN\n",
       "8  NaN  NaN NaN  NaN\n",
       "9  NaN  9.0 NaN  8.0"
      ]
     },
     "execution_count": 38,
     "metadata": {},
     "output_type": "execute_result"
    }
   ],
   "source": [
    "w[w > 7]"
   ]
  },
  {
   "cell_type": "code",
   "execution_count": 39,
   "metadata": {
    "ExecuteTime": {
     "start_time": "2020-03-20T10:18:51.700Z"
    }
   },
   "outputs": [
    {
     "data": {
      "text/html": [
       "<div>\n",
       "<style scoped>\n",
       "    .dataframe tbody tr th:only-of-type {\n",
       "        vertical-align: middle;\n",
       "    }\n",
       "\n",
       "    .dataframe tbody tr th {\n",
       "        vertical-align: top;\n",
       "    }\n",
       "\n",
       "    .dataframe thead th {\n",
       "        text-align: right;\n",
       "    }\n",
       "</style>\n",
       "<table border=\"1\" class=\"dataframe\">\n",
       "  <thead>\n",
       "    <tr style=\"text-align: right;\">\n",
       "      <th></th>\n",
       "      <th>A</th>\n",
       "      <th>B</th>\n",
       "      <th>C</th>\n",
       "      <th>D</th>\n",
       "    </tr>\n",
       "  </thead>\n",
       "  <tbody>\n",
       "    <tr>\n",
       "      <th>0</th>\n",
       "      <td>NaN</td>\n",
       "      <td>8.0</td>\n",
       "      <td>NaN</td>\n",
       "      <td>NaN</td>\n",
       "    </tr>\n",
       "    <tr>\n",
       "      <th>1</th>\n",
       "      <td>8.0</td>\n",
       "      <td>NaN</td>\n",
       "      <td>NaN</td>\n",
       "      <td>NaN</td>\n",
       "    </tr>\n",
       "    <tr>\n",
       "      <th>2</th>\n",
       "      <td>8.0</td>\n",
       "      <td>8.0</td>\n",
       "      <td>NaN</td>\n",
       "      <td>9.0</td>\n",
       "    </tr>\n",
       "    <tr>\n",
       "      <th>3</th>\n",
       "      <td>NaN</td>\n",
       "      <td>9.0</td>\n",
       "      <td>NaN</td>\n",
       "      <td>9.0</td>\n",
       "    </tr>\n",
       "    <tr>\n",
       "      <th>4</th>\n",
       "      <td>8.0</td>\n",
       "      <td>NaN</td>\n",
       "      <td>NaN</td>\n",
       "      <td>NaN</td>\n",
       "    </tr>\n",
       "    <tr>\n",
       "      <th>5</th>\n",
       "      <td>NaN</td>\n",
       "      <td>8.0</td>\n",
       "      <td>NaN</td>\n",
       "      <td>NaN</td>\n",
       "    </tr>\n",
       "    <tr>\n",
       "      <th>6</th>\n",
       "      <td>8.0</td>\n",
       "      <td>NaN</td>\n",
       "      <td>NaN</td>\n",
       "      <td>9.0</td>\n",
       "    </tr>\n",
       "    <tr>\n",
       "      <th>7</th>\n",
       "      <td>8.0</td>\n",
       "      <td>NaN</td>\n",
       "      <td>NaN</td>\n",
       "      <td>NaN</td>\n",
       "    </tr>\n",
       "    <tr>\n",
       "      <th>8</th>\n",
       "      <td>NaN</td>\n",
       "      <td>NaN</td>\n",
       "      <td>NaN</td>\n",
       "      <td>NaN</td>\n",
       "    </tr>\n",
       "    <tr>\n",
       "      <th>9</th>\n",
       "      <td>NaN</td>\n",
       "      <td>9.0</td>\n",
       "      <td>NaN</td>\n",
       "      <td>8.0</td>\n",
       "    </tr>\n",
       "  </tbody>\n",
       "</table>\n",
       "</div>"
      ],
      "text/plain": [
       "     A    B   C    D\n",
       "0  NaN  8.0 NaN  NaN\n",
       "1  8.0  NaN NaN  NaN\n",
       "2  8.0  8.0 NaN  9.0\n",
       "3  NaN  9.0 NaN  9.0\n",
       "4  8.0  NaN NaN  NaN\n",
       "5  NaN  8.0 NaN  NaN\n",
       "6  8.0  NaN NaN  9.0\n",
       "7  8.0  NaN NaN  NaN\n",
       "8  NaN  NaN NaN  NaN\n",
       "9  NaN  9.0 NaN  8.0"
      ]
     },
     "execution_count": 39,
     "metadata": {},
     "output_type": "execute_result"
    }
   ],
   "source": [
    "w.where(w > 7)"
   ]
  },
  {
   "cell_type": "code",
   "execution_count": 40,
   "metadata": {
    "ExecuteTime": {
     "start_time": "2020-03-20T10:18:51.708Z"
    }
   },
   "outputs": [
    {
     "data": {
      "text/html": [
       "<div>\n",
       "<style scoped>\n",
       "    .dataframe tbody tr th:only-of-type {\n",
       "        vertical-align: middle;\n",
       "    }\n",
       "\n",
       "    .dataframe tbody tr th {\n",
       "        vertical-align: top;\n",
       "    }\n",
       "\n",
       "    .dataframe thead th {\n",
       "        text-align: right;\n",
       "    }\n",
       "</style>\n",
       "<table border=\"1\" class=\"dataframe\">\n",
       "  <thead>\n",
       "    <tr style=\"text-align: right;\">\n",
       "      <th></th>\n",
       "      <th>A</th>\n",
       "      <th>B</th>\n",
       "      <th>C</th>\n",
       "      <th>D</th>\n",
       "    </tr>\n",
       "  </thead>\n",
       "  <tbody>\n",
       "    <tr>\n",
       "      <th>0</th>\n",
       "      <td>-77</td>\n",
       "      <td>8</td>\n",
       "      <td>-77</td>\n",
       "      <td>-77</td>\n",
       "    </tr>\n",
       "    <tr>\n",
       "      <th>1</th>\n",
       "      <td>8</td>\n",
       "      <td>-77</td>\n",
       "      <td>-77</td>\n",
       "      <td>-77</td>\n",
       "    </tr>\n",
       "    <tr>\n",
       "      <th>2</th>\n",
       "      <td>8</td>\n",
       "      <td>8</td>\n",
       "      <td>-77</td>\n",
       "      <td>9</td>\n",
       "    </tr>\n",
       "    <tr>\n",
       "      <th>3</th>\n",
       "      <td>6</td>\n",
       "      <td>9</td>\n",
       "      <td>6</td>\n",
       "      <td>9</td>\n",
       "    </tr>\n",
       "    <tr>\n",
       "      <th>4</th>\n",
       "      <td>8</td>\n",
       "      <td>6</td>\n",
       "      <td>-77</td>\n",
       "      <td>-77</td>\n",
       "    </tr>\n",
       "    <tr>\n",
       "      <th>5</th>\n",
       "      <td>-77</td>\n",
       "      <td>8</td>\n",
       "      <td>7</td>\n",
       "      <td>-77</td>\n",
       "    </tr>\n",
       "    <tr>\n",
       "      <th>6</th>\n",
       "      <td>8</td>\n",
       "      <td>7</td>\n",
       "      <td>7</td>\n",
       "      <td>9</td>\n",
       "    </tr>\n",
       "    <tr>\n",
       "      <th>7</th>\n",
       "      <td>8</td>\n",
       "      <td>-77</td>\n",
       "      <td>-77</td>\n",
       "      <td>7</td>\n",
       "    </tr>\n",
       "    <tr>\n",
       "      <th>8</th>\n",
       "      <td>-77</td>\n",
       "      <td>7</td>\n",
       "      <td>7</td>\n",
       "      <td>-77</td>\n",
       "    </tr>\n",
       "    <tr>\n",
       "      <th>9</th>\n",
       "      <td>-77</td>\n",
       "      <td>9</td>\n",
       "      <td>-77</td>\n",
       "      <td>8</td>\n",
       "    </tr>\n",
       "  </tbody>\n",
       "</table>\n",
       "</div>"
      ],
      "text/plain": [
       "    A   B   C   D\n",
       "0 -77   8 -77 -77\n",
       "1   8 -77 -77 -77\n",
       "2   8   8 -77   9\n",
       "3   6   9   6   9\n",
       "4   8   6 -77 -77\n",
       "5 -77   8   7 -77\n",
       "6   8   7   7   9\n",
       "7   8 -77 -77   7\n",
       "8 -77   7   7 -77\n",
       "9 -77   9 -77   8"
      ]
     },
     "execution_count": 40,
     "metadata": {},
     "output_type": "execute_result"
    }
   ],
   "source": [
    "w.where(w > 5, -77)"
   ]
  },
  {
   "cell_type": "code",
   "execution_count": 41,
   "metadata": {
    "ExecuteTime": {
     "start_time": "2020-03-20T10:18:51.715Z"
    }
   },
   "outputs": [
    {
     "data": {
      "text/html": [
       "<div>\n",
       "<style scoped>\n",
       "    .dataframe tbody tr th:only-of-type {\n",
       "        vertical-align: middle;\n",
       "    }\n",
       "\n",
       "    .dataframe tbody tr th {\n",
       "        vertical-align: top;\n",
       "    }\n",
       "\n",
       "    .dataframe thead th {\n",
       "        text-align: right;\n",
       "    }\n",
       "</style>\n",
       "<table border=\"1\" class=\"dataframe\">\n",
       "  <thead>\n",
       "    <tr style=\"text-align: right;\">\n",
       "      <th></th>\n",
       "      <th>A</th>\n",
       "      <th>B</th>\n",
       "      <th>C</th>\n",
       "      <th>D</th>\n",
       "    </tr>\n",
       "  </thead>\n",
       "  <tbody>\n",
       "    <tr>\n",
       "      <th>0</th>\n",
       "      <td>1.0</td>\n",
       "      <td>NaN</td>\n",
       "      <td>1.0</td>\n",
       "      <td>3.0</td>\n",
       "    </tr>\n",
       "    <tr>\n",
       "      <th>1</th>\n",
       "      <td>NaN</td>\n",
       "      <td>2.0</td>\n",
       "      <td>4.0</td>\n",
       "      <td>4.0</td>\n",
       "    </tr>\n",
       "    <tr>\n",
       "      <th>2</th>\n",
       "      <td>NaN</td>\n",
       "      <td>NaN</td>\n",
       "      <td>2.0</td>\n",
       "      <td>NaN</td>\n",
       "    </tr>\n",
       "    <tr>\n",
       "      <th>3</th>\n",
       "      <td>NaN</td>\n",
       "      <td>NaN</td>\n",
       "      <td>NaN</td>\n",
       "      <td>NaN</td>\n",
       "    </tr>\n",
       "    <tr>\n",
       "      <th>4</th>\n",
       "      <td>NaN</td>\n",
       "      <td>NaN</td>\n",
       "      <td>2.0</td>\n",
       "      <td>5.0</td>\n",
       "    </tr>\n",
       "    <tr>\n",
       "      <th>5</th>\n",
       "      <td>1.0</td>\n",
       "      <td>NaN</td>\n",
       "      <td>NaN</td>\n",
       "      <td>3.0</td>\n",
       "    </tr>\n",
       "    <tr>\n",
       "      <th>6</th>\n",
       "      <td>NaN</td>\n",
       "      <td>NaN</td>\n",
       "      <td>NaN</td>\n",
       "      <td>NaN</td>\n",
       "    </tr>\n",
       "    <tr>\n",
       "      <th>7</th>\n",
       "      <td>NaN</td>\n",
       "      <td>5.0</td>\n",
       "      <td>2.0</td>\n",
       "      <td>NaN</td>\n",
       "    </tr>\n",
       "    <tr>\n",
       "      <th>8</th>\n",
       "      <td>5.0</td>\n",
       "      <td>NaN</td>\n",
       "      <td>NaN</td>\n",
       "      <td>4.0</td>\n",
       "    </tr>\n",
       "    <tr>\n",
       "      <th>9</th>\n",
       "      <td>3.0</td>\n",
       "      <td>NaN</td>\n",
       "      <td>4.0</td>\n",
       "      <td>NaN</td>\n",
       "    </tr>\n",
       "  </tbody>\n",
       "</table>\n",
       "</div>"
      ],
      "text/plain": [
       "     A    B    C    D\n",
       "0  1.0  NaN  1.0  3.0\n",
       "1  NaN  2.0  4.0  4.0\n",
       "2  NaN  NaN  2.0  NaN\n",
       "3  NaN  NaN  NaN  NaN\n",
       "4  NaN  NaN  2.0  5.0\n",
       "5  1.0  NaN  NaN  3.0\n",
       "6  NaN  NaN  NaN  NaN\n",
       "7  NaN  5.0  2.0  NaN\n",
       "8  5.0  NaN  NaN  4.0\n",
       "9  3.0  NaN  4.0  NaN"
      ]
     },
     "execution_count": 41,
     "metadata": {},
     "output_type": "execute_result"
    }
   ],
   "source": [
    "w.mask(w > 5)"
   ]
  },
  {
   "cell_type": "markdown",
   "metadata": {},
   "source": [
    "#### Query"
   ]
  },
  {
   "cell_type": "code",
   "execution_count": 42,
   "metadata": {
    "ExecuteTime": {
     "start_time": "2020-03-20T10:18:51.727Z"
    }
   },
   "outputs": [
    {
     "data": {
      "text/html": [
       "<div>\n",
       "<style scoped>\n",
       "    .dataframe tbody tr th:only-of-type {\n",
       "        vertical-align: middle;\n",
       "    }\n",
       "\n",
       "    .dataframe tbody tr th {\n",
       "        vertical-align: top;\n",
       "    }\n",
       "\n",
       "    .dataframe thead th {\n",
       "        text-align: right;\n",
       "    }\n",
       "</style>\n",
       "<table border=\"1\" class=\"dataframe\">\n",
       "  <thead>\n",
       "    <tr style=\"text-align: right;\">\n",
       "      <th></th>\n",
       "      <th>A</th>\n",
       "      <th>B</th>\n",
       "      <th>C</th>\n",
       "      <th>D</th>\n",
       "    </tr>\n",
       "  </thead>\n",
       "  <tbody>\n",
       "  </tbody>\n",
       "</table>\n",
       "</div>"
      ],
      "text/plain": [
       "Empty DataFrame\n",
       "Columns: [A, B, C, D]\n",
       "Index: []"
      ]
     },
     "execution_count": 42,
     "metadata": {},
     "output_type": "execute_result"
    }
   ],
   "source": [
    "w[(w.A < w.B) & (w.B < w.C)]"
   ]
  },
  {
   "cell_type": "code",
   "execution_count": 43,
   "metadata": {
    "ExecuteTime": {
     "start_time": "2020-03-20T10:18:51.735Z"
    }
   },
   "outputs": [
    {
     "data": {
      "text/html": [
       "<div>\n",
       "<style scoped>\n",
       "    .dataframe tbody tr th:only-of-type {\n",
       "        vertical-align: middle;\n",
       "    }\n",
       "\n",
       "    .dataframe tbody tr th {\n",
       "        vertical-align: top;\n",
       "    }\n",
       "\n",
       "    .dataframe thead th {\n",
       "        text-align: right;\n",
       "    }\n",
       "</style>\n",
       "<table border=\"1\" class=\"dataframe\">\n",
       "  <thead>\n",
       "    <tr style=\"text-align: right;\">\n",
       "      <th></th>\n",
       "      <th>A</th>\n",
       "      <th>B</th>\n",
       "      <th>C</th>\n",
       "      <th>D</th>\n",
       "    </tr>\n",
       "  </thead>\n",
       "  <tbody>\n",
       "  </tbody>\n",
       "</table>\n",
       "</div>"
      ],
      "text/plain": [
       "Empty DataFrame\n",
       "Columns: [A, B, C, D]\n",
       "Index: []"
      ]
     },
     "execution_count": 43,
     "metadata": {},
     "output_type": "execute_result"
    }
   ],
   "source": [
    "w.query('(A < B) & (B < C)')"
   ]
  },
  {
   "cell_type": "code",
   "execution_count": 44,
   "metadata": {
    "ExecuteTime": {
     "start_time": "2020-03-20T10:18:51.744Z"
    }
   },
   "outputs": [
    {
     "data": {
      "text/html": [
       "<div>\n",
       "<style scoped>\n",
       "    .dataframe tbody tr th:only-of-type {\n",
       "        vertical-align: middle;\n",
       "    }\n",
       "\n",
       "    .dataframe tbody tr th {\n",
       "        vertical-align: top;\n",
       "    }\n",
       "\n",
       "    .dataframe thead th {\n",
       "        text-align: right;\n",
       "    }\n",
       "</style>\n",
       "<table border=\"1\" class=\"dataframe\">\n",
       "  <thead>\n",
       "    <tr style=\"text-align: right;\">\n",
       "      <th></th>\n",
       "      <th>A</th>\n",
       "      <th>B</th>\n",
       "      <th>C</th>\n",
       "      <th>D</th>\n",
       "    </tr>\n",
       "  </thead>\n",
       "  <tbody>\n",
       "  </tbody>\n",
       "</table>\n",
       "</div>"
      ],
      "text/plain": [
       "Empty DataFrame\n",
       "Columns: [A, B, C, D]\n",
       "Index: []"
      ]
     },
     "execution_count": 44,
     "metadata": {},
     "output_type": "execute_result"
    }
   ],
   "source": [
    "w.query('A < B & B < C')"
   ]
  },
  {
   "cell_type": "code",
   "execution_count": 45,
   "metadata": {
    "ExecuteTime": {
     "start_time": "2020-03-20T10:18:51.753Z"
    }
   },
   "outputs": [
    {
     "data": {
      "text/html": [
       "<div>\n",
       "<style scoped>\n",
       "    .dataframe tbody tr th:only-of-type {\n",
       "        vertical-align: middle;\n",
       "    }\n",
       "\n",
       "    .dataframe tbody tr th {\n",
       "        vertical-align: top;\n",
       "    }\n",
       "\n",
       "    .dataframe thead th {\n",
       "        text-align: right;\n",
       "    }\n",
       "</style>\n",
       "<table border=\"1\" class=\"dataframe\">\n",
       "  <thead>\n",
       "    <tr style=\"text-align: right;\">\n",
       "      <th></th>\n",
       "      <th>A</th>\n",
       "      <th>B</th>\n",
       "      <th>C</th>\n",
       "      <th>D</th>\n",
       "    </tr>\n",
       "  </thead>\n",
       "  <tbody>\n",
       "  </tbody>\n",
       "</table>\n",
       "</div>"
      ],
      "text/plain": [
       "Empty DataFrame\n",
       "Columns: [A, B, C, D]\n",
       "Index: []"
      ]
     },
     "execution_count": 45,
     "metadata": {},
     "output_type": "execute_result"
    }
   ],
   "source": [
    "w.query('A < B and B < C')"
   ]
  },
  {
   "cell_type": "code",
   "execution_count": 46,
   "metadata": {
    "ExecuteTime": {
     "start_time": "2020-03-20T10:18:51.762Z"
    }
   },
   "outputs": [
    {
     "data": {
      "text/html": [
       "<div>\n",
       "<style scoped>\n",
       "    .dataframe tbody tr th:only-of-type {\n",
       "        vertical-align: middle;\n",
       "    }\n",
       "\n",
       "    .dataframe tbody tr th {\n",
       "        vertical-align: top;\n",
       "    }\n",
       "\n",
       "    .dataframe thead th {\n",
       "        text-align: right;\n",
       "    }\n",
       "</style>\n",
       "<table border=\"1\" class=\"dataframe\">\n",
       "  <thead>\n",
       "    <tr style=\"text-align: right;\">\n",
       "      <th></th>\n",
       "      <th>A</th>\n",
       "      <th>B</th>\n",
       "      <th>C</th>\n",
       "      <th>D</th>\n",
       "    </tr>\n",
       "  </thead>\n",
       "  <tbody>\n",
       "  </tbody>\n",
       "</table>\n",
       "</div>"
      ],
      "text/plain": [
       "Empty DataFrame\n",
       "Columns: [A, B, C, D]\n",
       "Index: []"
      ]
     },
     "execution_count": 46,
     "metadata": {},
     "output_type": "execute_result"
    }
   ],
   "source": [
    "w.query('A < B < C')"
   ]
  },
  {
   "cell_type": "code",
   "execution_count": 47,
   "metadata": {
    "ExecuteTime": {
     "start_time": "2020-03-20T10:18:51.771Z"
    }
   },
   "outputs": [
    {
     "data": {
      "text/html": [
       "<div>\n",
       "<style scoped>\n",
       "    .dataframe tbody tr th:only-of-type {\n",
       "        vertical-align: middle;\n",
       "    }\n",
       "\n",
       "    .dataframe tbody tr th {\n",
       "        vertical-align: top;\n",
       "    }\n",
       "\n",
       "    .dataframe thead th {\n",
       "        text-align: right;\n",
       "    }\n",
       "</style>\n",
       "<table border=\"1\" class=\"dataframe\">\n",
       "  <thead>\n",
       "    <tr style=\"text-align: right;\">\n",
       "      <th></th>\n",
       "      <th>A</th>\n",
       "      <th>B</th>\n",
       "      <th>C</th>\n",
       "      <th>D</th>\n",
       "    </tr>\n",
       "  </thead>\n",
       "  <tbody>\n",
       "    <tr>\n",
       "      <th>0</th>\n",
       "      <td>1</td>\n",
       "      <td>8</td>\n",
       "      <td>1</td>\n",
       "      <td>3</td>\n",
       "    </tr>\n",
       "    <tr>\n",
       "      <th>5</th>\n",
       "      <td>1</td>\n",
       "      <td>8</td>\n",
       "      <td>7</td>\n",
       "      <td>3</td>\n",
       "    </tr>\n",
       "    <tr>\n",
       "      <th>9</th>\n",
       "      <td>3</td>\n",
       "      <td>9</td>\n",
       "      <td>4</td>\n",
       "      <td>8</td>\n",
       "    </tr>\n",
       "  </tbody>\n",
       "</table>\n",
       "</div>"
      ],
      "text/plain": [
       "   A  B  C  D\n",
       "0  1  8  1  3\n",
       "5  1  8  7  3\n",
       "9  3  9  4  8"
      ]
     },
     "execution_count": 47,
     "metadata": {},
     "output_type": "execute_result"
    }
   ],
   "source": [
    "w.query('A not in B')"
   ]
  },
  {
   "cell_type": "code",
   "execution_count": 48,
   "metadata": {
    "ExecuteTime": {
     "start_time": "2020-03-20T10:18:51.777Z"
    }
   },
   "outputs": [
    {
     "data": {
      "text/html": [
       "<div>\n",
       "<style scoped>\n",
       "    .dataframe tbody tr th:only-of-type {\n",
       "        vertical-align: middle;\n",
       "    }\n",
       "\n",
       "    .dataframe tbody tr th {\n",
       "        vertical-align: top;\n",
       "    }\n",
       "\n",
       "    .dataframe thead th {\n",
       "        text-align: right;\n",
       "    }\n",
       "</style>\n",
       "<table border=\"1\" class=\"dataframe\">\n",
       "  <thead>\n",
       "    <tr style=\"text-align: right;\">\n",
       "      <th></th>\n",
       "      <th>A</th>\n",
       "      <th>B</th>\n",
       "      <th>C</th>\n",
       "      <th>D</th>\n",
       "    </tr>\n",
       "  </thead>\n",
       "  <tbody>\n",
       "    <tr>\n",
       "      <th>1</th>\n",
       "      <td>8</td>\n",
       "      <td>2</td>\n",
       "      <td>4</td>\n",
       "      <td>4</td>\n",
       "    </tr>\n",
       "    <tr>\n",
       "      <th>2</th>\n",
       "      <td>8</td>\n",
       "      <td>8</td>\n",
       "      <td>2</td>\n",
       "      <td>9</td>\n",
       "    </tr>\n",
       "    <tr>\n",
       "      <th>3</th>\n",
       "      <td>6</td>\n",
       "      <td>9</td>\n",
       "      <td>6</td>\n",
       "      <td>9</td>\n",
       "    </tr>\n",
       "    <tr>\n",
       "      <th>4</th>\n",
       "      <td>8</td>\n",
       "      <td>6</td>\n",
       "      <td>2</td>\n",
       "      <td>5</td>\n",
       "    </tr>\n",
       "    <tr>\n",
       "      <th>6</th>\n",
       "      <td>8</td>\n",
       "      <td>7</td>\n",
       "      <td>7</td>\n",
       "      <td>9</td>\n",
       "    </tr>\n",
       "    <tr>\n",
       "      <th>7</th>\n",
       "      <td>8</td>\n",
       "      <td>5</td>\n",
       "      <td>2</td>\n",
       "      <td>7</td>\n",
       "    </tr>\n",
       "    <tr>\n",
       "      <th>8</th>\n",
       "      <td>5</td>\n",
       "      <td>7</td>\n",
       "      <td>7</td>\n",
       "      <td>4</td>\n",
       "    </tr>\n",
       "  </tbody>\n",
       "</table>\n",
       "</div>"
      ],
      "text/plain": [
       "   A  B  C  D\n",
       "1  8  2  4  4\n",
       "2  8  8  2  9\n",
       "3  6  9  6  9\n",
       "4  8  6  2  5\n",
       "6  8  7  7  9\n",
       "7  8  5  2  7\n",
       "8  5  7  7  4"
      ]
     },
     "execution_count": 48,
     "metadata": {},
     "output_type": "execute_result"
    }
   ],
   "source": [
    "w.query('A not in [1, 2, 3]')"
   ]
  },
  {
   "cell_type": "code",
   "execution_count": 49,
   "metadata": {
    "ExecuteTime": {
     "start_time": "2020-03-20T10:18:51.786Z"
    },
    "scrolled": true
   },
   "outputs": [
    {
     "data": {
      "text/html": [
       "<div>\n",
       "<style scoped>\n",
       "    .dataframe tbody tr th:only-of-type {\n",
       "        vertical-align: middle;\n",
       "    }\n",
       "\n",
       "    .dataframe tbody tr th {\n",
       "        vertical-align: top;\n",
       "    }\n",
       "\n",
       "    .dataframe thead th {\n",
       "        text-align: right;\n",
       "    }\n",
       "</style>\n",
       "<table border=\"1\" class=\"dataframe\">\n",
       "  <thead>\n",
       "    <tr style=\"text-align: right;\">\n",
       "      <th></th>\n",
       "      <th>A</th>\n",
       "      <th>B</th>\n",
       "      <th>C</th>\n",
       "      <th>D</th>\n",
       "    </tr>\n",
       "  </thead>\n",
       "  <tbody>\n",
       "    <tr>\n",
       "      <th>1</th>\n",
       "      <td>8</td>\n",
       "      <td>2</td>\n",
       "      <td>4</td>\n",
       "      <td>4</td>\n",
       "    </tr>\n",
       "    <tr>\n",
       "      <th>2</th>\n",
       "      <td>8</td>\n",
       "      <td>8</td>\n",
       "      <td>2</td>\n",
       "      <td>9</td>\n",
       "    </tr>\n",
       "    <tr>\n",
       "      <th>3</th>\n",
       "      <td>6</td>\n",
       "      <td>9</td>\n",
       "      <td>6</td>\n",
       "      <td>9</td>\n",
       "    </tr>\n",
       "    <tr>\n",
       "      <th>4</th>\n",
       "      <td>8</td>\n",
       "      <td>6</td>\n",
       "      <td>2</td>\n",
       "      <td>5</td>\n",
       "    </tr>\n",
       "    <tr>\n",
       "      <th>6</th>\n",
       "      <td>8</td>\n",
       "      <td>7</td>\n",
       "      <td>7</td>\n",
       "      <td>9</td>\n",
       "    </tr>\n",
       "    <tr>\n",
       "      <th>7</th>\n",
       "      <td>8</td>\n",
       "      <td>5</td>\n",
       "      <td>2</td>\n",
       "      <td>7</td>\n",
       "    </tr>\n",
       "    <tr>\n",
       "      <th>8</th>\n",
       "      <td>5</td>\n",
       "      <td>7</td>\n",
       "      <td>7</td>\n",
       "      <td>4</td>\n",
       "    </tr>\n",
       "  </tbody>\n",
       "</table>\n",
       "</div>"
      ],
      "text/plain": [
       "   A  B  C  D\n",
       "1  8  2  4  4\n",
       "2  8  8  2  9\n",
       "3  6  9  6  9\n",
       "4  8  6  2  5\n",
       "6  8  7  7  9\n",
       "7  8  5  2  7\n",
       "8  5  7  7  4"
      ]
     },
     "execution_count": 49,
     "metadata": {},
     "output_type": "execute_result"
    }
   ],
   "source": [
    "w.query('A != [1, 2, 3]')"
   ]
  },
  {
   "cell_type": "markdown",
   "metadata": {},
   "source": [
    "### Stack / unstack"
   ]
  },
  {
   "cell_type": "code",
   "execution_count": 50,
   "metadata": {
    "ExecuteTime": {
     "start_time": "2020-03-20T10:18:51.808Z"
    },
    "init_cell": true
   },
   "outputs": [
    {
     "data": {
      "text/html": [
       "<div>\n",
       "<style scoped>\n",
       "    .dataframe tbody tr th:only-of-type {\n",
       "        vertical-align: middle;\n",
       "    }\n",
       "\n",
       "    .dataframe tbody tr th {\n",
       "        vertical-align: top;\n",
       "    }\n",
       "\n",
       "    .dataframe thead th {\n",
       "        text-align: right;\n",
       "    }\n",
       "</style>\n",
       "<table border=\"1\" class=\"dataframe\">\n",
       "  <thead>\n",
       "    <tr style=\"text-align: right;\">\n",
       "      <th></th>\n",
       "      <th>A</th>\n",
       "      <th>B</th>\n",
       "      <th>C</th>\n",
       "      <th>D</th>\n",
       "    </tr>\n",
       "  </thead>\n",
       "  <tbody>\n",
       "    <tr>\n",
       "      <th>0</th>\n",
       "      <td>17</td>\n",
       "      <td>13</td>\n",
       "      <td>10</td>\n",
       "      <td>16</td>\n",
       "    </tr>\n",
       "    <tr>\n",
       "      <th>1</th>\n",
       "      <td>11</td>\n",
       "      <td>16</td>\n",
       "      <td>13</td>\n",
       "      <td>16</td>\n",
       "    </tr>\n",
       "    <tr>\n",
       "      <th>2</th>\n",
       "      <td>12</td>\n",
       "      <td>13</td>\n",
       "      <td>16</td>\n",
       "      <td>19</td>\n",
       "    </tr>\n",
       "    <tr>\n",
       "      <th>3</th>\n",
       "      <td>17</td>\n",
       "      <td>16</td>\n",
       "      <td>16</td>\n",
       "      <td>13</td>\n",
       "    </tr>\n",
       "    <tr>\n",
       "      <th>4</th>\n",
       "      <td>17</td>\n",
       "      <td>12</td>\n",
       "      <td>12</td>\n",
       "      <td>10</td>\n",
       "    </tr>\n",
       "  </tbody>\n",
       "</table>\n",
       "</div>"
      ],
      "text/plain": [
       "    A   B   C   D\n",
       "0  17  13  10  16\n",
       "1  11  16  13  16\n",
       "2  12  13  16  19\n",
       "3  17  16  16  13\n",
       "4  17  12  12  10"
      ]
     },
     "execution_count": 50,
     "metadata": {},
     "output_type": "execute_result"
    }
   ],
   "source": [
    "s = DataFrame(numpy.random.randint(10, 20, size=(5, 4)), columns=list('ABCD'))\n",
    "s"
   ]
  },
  {
   "cell_type": "code",
   "execution_count": 51,
   "metadata": {
    "ExecuteTime": {
     "start_time": "2020-03-20T10:18:51.816Z"
    }
   },
   "outputs": [
    {
     "data": {
      "text/plain": [
       "0  A    17\n",
       "   B    13\n",
       "   C    10\n",
       "   D    16\n",
       "1  A    11\n",
       "   B    16\n",
       "   C    13\n",
       "   D    16\n",
       "2  A    12\n",
       "   B    13\n",
       "   C    16\n",
       "   D    19\n",
       "3  A    17\n",
       "   B    16\n",
       "   C    16\n",
       "   D    13\n",
       "4  A    17\n",
       "   B    12\n",
       "   C    12\n",
       "   D    10\n",
       "dtype: int64"
      ]
     },
     "execution_count": 51,
     "metadata": {},
     "output_type": "execute_result"
    }
   ],
   "source": [
    "s.stack()"
   ]
  },
  {
   "cell_type": "code",
   "execution_count": 52,
   "metadata": {
    "ExecuteTime": {
     "start_time": "2020-03-20T10:18:51.823Z"
    }
   },
   "outputs": [
    {
     "data": {
      "text/plain": [
       "A  0    17\n",
       "   1    11\n",
       "   2    12\n",
       "   3    17\n",
       "   4    17\n",
       "B  0    13\n",
       "   1    16\n",
       "   2    13\n",
       "   3    16\n",
       "   4    12\n",
       "C  0    10\n",
       "   1    13\n",
       "   2    16\n",
       "   3    16\n",
       "   4    12\n",
       "D  0    16\n",
       "   1    16\n",
       "   2    19\n",
       "   3    13\n",
       "   4    10\n",
       "dtype: int64"
      ]
     },
     "execution_count": 52,
     "metadata": {},
     "output_type": "execute_result"
    }
   ],
   "source": [
    "s.unstack()"
   ]
  },
  {
   "cell_type": "markdown",
   "metadata": {},
   "source": [
    "## Aggregate"
   ]
  },
  {
   "cell_type": "code",
   "execution_count": 53,
   "metadata": {
    "ExecuteTime": {
     "start_time": "2020-03-20T10:18:51.835Z"
    },
    "init_cell": true
   },
   "outputs": [
    {
     "data": {
      "text/html": [
       "<div>\n",
       "<style scoped>\n",
       "    .dataframe tbody tr th:only-of-type {\n",
       "        vertical-align: middle;\n",
       "    }\n",
       "\n",
       "    .dataframe tbody tr th {\n",
       "        vertical-align: top;\n",
       "    }\n",
       "\n",
       "    .dataframe thead th {\n",
       "        text-align: right;\n",
       "    }\n",
       "</style>\n",
       "<table border=\"1\" class=\"dataframe\">\n",
       "  <thead>\n",
       "    <tr style=\"text-align: right;\">\n",
       "      <th></th>\n",
       "      <th>A</th>\n",
       "      <th>B</th>\n",
       "      <th>C</th>\n",
       "      <th>D</th>\n",
       "    </tr>\n",
       "  </thead>\n",
       "  <tbody>\n",
       "    <tr>\n",
       "      <th>0</th>\n",
       "      <td>15.0</td>\n",
       "      <td>14.0</td>\n",
       "      <td>17.0</td>\n",
       "      <td>17</td>\n",
       "    </tr>\n",
       "    <tr>\n",
       "      <th>1</th>\n",
       "      <td>12.0</td>\n",
       "      <td>16.0</td>\n",
       "      <td>15.0</td>\n",
       "      <td>14</td>\n",
       "    </tr>\n",
       "    <tr>\n",
       "      <th>2</th>\n",
       "      <td>16.0</td>\n",
       "      <td>10.0</td>\n",
       "      <td>18.0</td>\n",
       "      <td>14</td>\n",
       "    </tr>\n",
       "    <tr>\n",
       "      <th>3</th>\n",
       "      <td>NaN</td>\n",
       "      <td>16.0</td>\n",
       "      <td>15.0</td>\n",
       "      <td>18</td>\n",
       "    </tr>\n",
       "    <tr>\n",
       "      <th>4</th>\n",
       "      <td>NaN</td>\n",
       "      <td>NaN</td>\n",
       "      <td>10.0</td>\n",
       "      <td>17</td>\n",
       "    </tr>\n",
       "    <tr>\n",
       "      <th>5</th>\n",
       "      <td>12.0</td>\n",
       "      <td>NaN</td>\n",
       "      <td>NaN</td>\n",
       "      <td>19</td>\n",
       "    </tr>\n",
       "    <tr>\n",
       "      <th>6</th>\n",
       "      <td>15.0</td>\n",
       "      <td>14.0</td>\n",
       "      <td>NaN</td>\n",
       "      <td>16</td>\n",
       "    </tr>\n",
       "    <tr>\n",
       "      <th>7</th>\n",
       "      <td>14.0</td>\n",
       "      <td>16.0</td>\n",
       "      <td>NaN</td>\n",
       "      <td>16</td>\n",
       "    </tr>\n",
       "    <tr>\n",
       "      <th>8</th>\n",
       "      <td>10.0</td>\n",
       "      <td>18.0</td>\n",
       "      <td>12.0</td>\n",
       "      <td>16</td>\n",
       "    </tr>\n",
       "    <tr>\n",
       "      <th>9</th>\n",
       "      <td>17.0</td>\n",
       "      <td>17.0</td>\n",
       "      <td>18.0</td>\n",
       "      <td>17</td>\n",
       "    </tr>\n",
       "  </tbody>\n",
       "</table>\n",
       "</div>"
      ],
      "text/plain": [
       "      A     B     C   D\n",
       "0  15.0  14.0  17.0  17\n",
       "1  12.0  16.0  15.0  14\n",
       "2  16.0  10.0  18.0  14\n",
       "3   NaN  16.0  15.0  18\n",
       "4   NaN   NaN  10.0  17\n",
       "5  12.0   NaN   NaN  19\n",
       "6  15.0  14.0   NaN  16\n",
       "7  14.0  16.0   NaN  16\n",
       "8  10.0  18.0  12.0  16\n",
       "9  17.0  17.0  18.0  17"
      ]
     },
     "execution_count": 53,
     "metadata": {},
     "output_type": "execute_result"
    }
   ],
   "source": [
    "adf = DataFrame(numpy.random.randint(10, 20, size=(10, 4)), columns=list('ABCD'))\n",
    "\n",
    "adf.iloc[3:5,0] = numpy.nan\n",
    "adf.iloc[4:6,1] = numpy.nan\n",
    "adf.iloc[5:8,2] = numpy.nan\n",
    "adf"
   ]
  },
  {
   "cell_type": "code",
   "execution_count": 54,
   "metadata": {
    "ExecuteTime": {
     "start_time": "2020-03-20T10:18:51.843Z"
    }
   },
   "outputs": [
    {
     "data": {
      "text/plain": [
       "A    13.875\n",
       "B    15.125\n",
       "C    15.000\n",
       "D    16.400\n",
       "dtype: float64"
      ]
     },
     "execution_count": 54,
     "metadata": {},
     "output_type": "execute_result"
    }
   ],
   "source": [
    "adf.mean()"
   ]
  },
  {
   "cell_type": "code",
   "execution_count": 55,
   "metadata": {
    "ExecuteTime": {
     "start_time": "2020-03-20T10:18:51.850Z"
    }
   },
   "outputs": [
    {
     "data": {
      "text/plain": [
       "A    13.875\n",
       "B    15.125\n",
       "C    15.000\n",
       "D    16.400\n",
       "dtype: float64"
      ]
     },
     "execution_count": 55,
     "metadata": {},
     "output_type": "execute_result"
    }
   ],
   "source": [
    "adf.mean(numeric_only=True)"
   ]
  },
  {
   "cell_type": "code",
   "execution_count": 56,
   "metadata": {
    "ExecuteTime": {
     "start_time": "2020-03-20T10:18:51.857Z"
    }
   },
   "outputs": [
    {
     "data": {
      "text/plain": [
       "A    14.5\n",
       "B    16.0\n",
       "C    15.0\n",
       "D    16.5\n",
       "dtype: float64"
      ]
     },
     "execution_count": 56,
     "metadata": {},
     "output_type": "execute_result"
    }
   ],
   "source": [
    "adf.median()"
   ]
  },
  {
   "cell_type": "code",
   "execution_count": 57,
   "metadata": {
    "ExecuteTime": {
     "start_time": "2020-03-20T10:18:51.866Z"
    }
   },
   "outputs": [
    {
     "data": {
      "text/plain": [
       "A    5.553571\n",
       "B    6.125000\n",
       "C    9.333333\n",
       "D    2.488889\n",
       "dtype: float64"
      ]
     },
     "execution_count": 57,
     "metadata": {},
     "output_type": "execute_result"
    }
   ],
   "source": [
    "adf.var()"
   ]
  },
  {
   "cell_type": "markdown",
   "metadata": {},
   "source": [
    "## Multiindex\n",
    "\n",
    "http://pandas.pydata.org/pandas-docs/stable/advanced.html"
   ]
  },
  {
   "cell_type": "markdown",
   "metadata": {},
   "source": [
    "### Simple series"
   ]
  },
  {
   "cell_type": "code",
   "execution_count": 58,
   "metadata": {
    "ExecuteTime": {
     "start_time": "2020-03-20T10:18:51.881Z"
    },
    "init_cell": true
   },
   "outputs": [
    {
     "data": {
      "text/plain": [
       "[('bar', 'one'),\n",
       " ('bar', 'two'),\n",
       " ('baz', 'one'),\n",
       " ('baz', 'two'),\n",
       " ('foo', 'one'),\n",
       " ('foo', 'two'),\n",
       " ('qux', 'one'),\n",
       " ('qux', 'two')]"
      ]
     },
     "execution_count": 58,
     "metadata": {},
     "output_type": "execute_result"
    }
   ],
   "source": [
    "arrays = [['bar', 'bar', 'baz', 'baz', 'foo', 'foo', 'qux', 'qux'],\n",
    "          ['one', 'two', 'one', 'two', 'one', 'two', 'one', 'two']]\n",
    "\n",
    "tuples = list(zip(*arrays))\n",
    "tuples"
   ]
  },
  {
   "cell_type": "code",
   "execution_count": 59,
   "metadata": {
    "ExecuteTime": {
     "start_time": "2020-03-20T10:18:51.891Z"
    },
    "init_cell": true
   },
   "outputs": [
    {
     "data": {
      "text/plain": [
       "MultiIndex([('bar', 'one'),\n",
       "            ('bar', 'two'),\n",
       "            ('baz', 'one'),\n",
       "            ('baz', 'two'),\n",
       "            ('foo', 'one'),\n",
       "            ('foo', 'two'),\n",
       "            ('qux', 'one'),\n",
       "            ('qux', 'two')],\n",
       "           names=['first', 'second'])"
      ]
     },
     "execution_count": 59,
     "metadata": {},
     "output_type": "execute_result"
    }
   ],
   "source": [
    "index = pandas.MultiIndex.from_tuples(tuples, names=['first', 'second'])\n",
    "index"
   ]
  },
  {
   "cell_type": "code",
   "execution_count": 60,
   "metadata": {
    "ExecuteTime": {
     "start_time": "2020-03-20T10:18:51.900Z"
    }
   },
   "outputs": [
    {
     "data": {
      "text/plain": [
       "first  second\n",
       "bar    one      -0.037870\n",
       "       two      -2.696971\n",
       "baz    one      -0.979061\n",
       "       two       1.040790\n",
       "foo    one      -0.800508\n",
       "       two       0.533617\n",
       "qux    one       0.059308\n",
       "       two       1.338352\n",
       "dtype: float64"
      ]
     },
     "execution_count": 60,
     "metadata": {},
     "output_type": "execute_result"
    }
   ],
   "source": [
    "s = pandas.Series(numpy.random.randn(8), index=index)\n",
    "s"
   ]
  },
  {
   "cell_type": "code",
   "execution_count": 61,
   "metadata": {
    "ExecuteTime": {
     "start_time": "2020-03-20T10:18:51.910Z"
    },
    "init_cell": true
   },
   "outputs": [
    {
     "data": {
      "text/html": [
       "<div>\n",
       "<style scoped>\n",
       "    .dataframe tbody tr th:only-of-type {\n",
       "        vertical-align: middle;\n",
       "    }\n",
       "\n",
       "    .dataframe tbody tr th {\n",
       "        vertical-align: top;\n",
       "    }\n",
       "\n",
       "    .dataframe thead th {\n",
       "        text-align: right;\n",
       "    }\n",
       "</style>\n",
       "<table border=\"1\" class=\"dataframe\">\n",
       "  <thead>\n",
       "    <tr style=\"text-align: right;\">\n",
       "      <th></th>\n",
       "      <th></th>\n",
       "      <th>data</th>\n",
       "    </tr>\n",
       "    <tr>\n",
       "      <th>first</th>\n",
       "      <th>second</th>\n",
       "      <th></th>\n",
       "    </tr>\n",
       "  </thead>\n",
       "  <tbody>\n",
       "    <tr>\n",
       "      <th rowspan=\"2\" valign=\"top\">bar</th>\n",
       "      <th>one</th>\n",
       "      <td>-1.194602</td>\n",
       "    </tr>\n",
       "    <tr>\n",
       "      <th>two</th>\n",
       "      <td>0.274728</td>\n",
       "    </tr>\n",
       "    <tr>\n",
       "      <th rowspan=\"2\" valign=\"top\">baz</th>\n",
       "      <th>one</th>\n",
       "      <td>-0.459302</td>\n",
       "    </tr>\n",
       "    <tr>\n",
       "      <th>two</th>\n",
       "      <td>-0.534631</td>\n",
       "    </tr>\n",
       "    <tr>\n",
       "      <th rowspan=\"2\" valign=\"top\">foo</th>\n",
       "      <th>one</th>\n",
       "      <td>-0.337227</td>\n",
       "    </tr>\n",
       "    <tr>\n",
       "      <th>two</th>\n",
       "      <td>0.545972</td>\n",
       "    </tr>\n",
       "    <tr>\n",
       "      <th rowspan=\"2\" valign=\"top\">qux</th>\n",
       "      <th>one</th>\n",
       "      <td>-0.741371</td>\n",
       "    </tr>\n",
       "    <tr>\n",
       "      <th>two</th>\n",
       "      <td>0.575223</td>\n",
       "    </tr>\n",
       "  </tbody>\n",
       "</table>\n",
       "</div>"
      ],
      "text/plain": [
       "                  data\n",
       "first second          \n",
       "bar   one    -1.194602\n",
       "      two     0.274728\n",
       "baz   one    -0.459302\n",
       "      two    -0.534631\n",
       "foo   one    -0.337227\n",
       "      two     0.545972\n",
       "qux   one    -0.741371\n",
       "      two     0.575223"
      ]
     },
     "execution_count": 61,
     "metadata": {},
     "output_type": "execute_result"
    }
   ],
   "source": [
    "d = DataFrame(numpy.random.randn(8), index=index, columns=['data'])\n",
    "d"
   ]
  },
  {
   "cell_type": "code",
   "execution_count": 62,
   "metadata": {
    "ExecuteTime": {
     "start_time": "2020-03-20T10:18:51.918Z"
    }
   },
   "outputs": [
    {
     "data": {
      "text/html": [
       "<div>\n",
       "<style scoped>\n",
       "    .dataframe tbody tr th:only-of-type {\n",
       "        vertical-align: middle;\n",
       "    }\n",
       "\n",
       "    .dataframe tbody tr th {\n",
       "        vertical-align: top;\n",
       "    }\n",
       "\n",
       "    .dataframe thead th {\n",
       "        text-align: right;\n",
       "    }\n",
       "</style>\n",
       "<table border=\"1\" class=\"dataframe\">\n",
       "  <thead>\n",
       "    <tr style=\"text-align: right;\">\n",
       "      <th></th>\n",
       "      <th></th>\n",
       "      <th>data</th>\n",
       "    </tr>\n",
       "    <tr>\n",
       "      <th>first</th>\n",
       "      <th>second</th>\n",
       "      <th></th>\n",
       "    </tr>\n",
       "  </thead>\n",
       "  <tbody>\n",
       "    <tr>\n",
       "      <th rowspan=\"2\" valign=\"top\">foo</th>\n",
       "      <th>one</th>\n",
       "      <td>-0.337227</td>\n",
       "    </tr>\n",
       "    <tr>\n",
       "      <th>two</th>\n",
       "      <td>0.545972</td>\n",
       "    </tr>\n",
       "  </tbody>\n",
       "</table>\n",
       "</div>"
      ],
      "text/plain": [
       "                  data\n",
       "first second          \n",
       "foo   one    -0.337227\n",
       "      two     0.545972"
      ]
     },
     "execution_count": 62,
     "metadata": {},
     "output_type": "execute_result"
    }
   ],
   "source": [
    "d['foo':'one']"
   ]
  },
  {
   "cell_type": "markdown",
   "metadata": {},
   "source": [
    "### DataFrame"
   ]
  },
  {
   "cell_type": "code",
   "execution_count": 63,
   "metadata": {
    "ExecuteTime": {
     "start_time": "2020-03-20T10:18:51.929Z"
    },
    "init_cell": false
   },
   "outputs": [
    {
     "data": {
      "text/plain": [
       "[array(['bar', 'bar', 'baz', 'baz', 'foo', 'foo', 'qux', 'qux'],\n",
       "       dtype='<U3'),\n",
       " array(['one', 'two', 'one', 'two', 'one', 'two', 'one', 'two'],\n",
       "       dtype='<U3')]"
      ]
     },
     "execution_count": 63,
     "metadata": {},
     "output_type": "execute_result"
    }
   ],
   "source": [
    "arrays = [numpy.array(['bar', 'bar', 'baz', 'baz', 'foo', 'foo', 'qux', 'qux']),\n",
    "          numpy.array(['one', 'two', 'one', 'two', 'one', 'two', 'one', 'two'])]\n",
    "arrays"
   ]
  },
  {
   "cell_type": "code",
   "execution_count": 64,
   "metadata": {
    "ExecuteTime": {
     "start_time": "2020-03-20T10:18:51.937Z"
    }
   },
   "outputs": [
    {
     "data": {
      "text/plain": [
       "[['bar', 'bar', 'baz', 'baz', 'foo', 'foo', 'qux', 'qux'],\n",
       " ['one', 'two', 'one', 'two', 'one', 'two', 'one', 'two']]"
      ]
     },
     "execution_count": 64,
     "metadata": {},
     "output_type": "execute_result"
    }
   ],
   "source": [
    "# And directly from array:\n",
    "arrays = [['bar', 'bar', 'baz', 'baz', 'foo', 'foo', 'qux', 'qux'],\n",
    "          ['one', 'two', 'one', 'two', 'one', 'two', 'one', 'two']]\n",
    "arrays"
   ]
  },
  {
   "cell_type": "code",
   "execution_count": 65,
   "metadata": {
    "ExecuteTime": {
     "start_time": "2020-03-20T10:18:51.944Z"
    }
   },
   "outputs": [
    {
     "data": {
      "text/html": [
       "<div>\n",
       "<style scoped>\n",
       "    .dataframe tbody tr th:only-of-type {\n",
       "        vertical-align: middle;\n",
       "    }\n",
       "\n",
       "    .dataframe tbody tr th {\n",
       "        vertical-align: top;\n",
       "    }\n",
       "\n",
       "    .dataframe thead th {\n",
       "        text-align: right;\n",
       "    }\n",
       "</style>\n",
       "<table border=\"1\" class=\"dataframe\">\n",
       "  <thead>\n",
       "    <tr style=\"text-align: right;\">\n",
       "      <th></th>\n",
       "      <th></th>\n",
       "      <th>A</th>\n",
       "      <th>B</th>\n",
       "      <th>C</th>\n",
       "      <th>D</th>\n",
       "    </tr>\n",
       "  </thead>\n",
       "  <tbody>\n",
       "    <tr>\n",
       "      <th rowspan=\"2\" valign=\"top\">bar</th>\n",
       "      <th>one</th>\n",
       "      <td>0.479351</td>\n",
       "      <td>-0.751779</td>\n",
       "      <td>-0.595712</td>\n",
       "      <td>-0.398652</td>\n",
       "    </tr>\n",
       "    <tr>\n",
       "      <th>two</th>\n",
       "      <td>-2.739817</td>\n",
       "      <td>-0.224204</td>\n",
       "      <td>0.769353</td>\n",
       "      <td>-1.085806</td>\n",
       "    </tr>\n",
       "    <tr>\n",
       "      <th rowspan=\"2\" valign=\"top\">baz</th>\n",
       "      <th>one</th>\n",
       "      <td>-0.184855</td>\n",
       "      <td>-0.164818</td>\n",
       "      <td>-1.071680</td>\n",
       "      <td>1.186269</td>\n",
       "    </tr>\n",
       "    <tr>\n",
       "      <th>two</th>\n",
       "      <td>0.405757</td>\n",
       "      <td>0.337087</td>\n",
       "      <td>-0.145867</td>\n",
       "      <td>-0.718322</td>\n",
       "    </tr>\n",
       "    <tr>\n",
       "      <th rowspan=\"2\" valign=\"top\">foo</th>\n",
       "      <th>one</th>\n",
       "      <td>0.517153</td>\n",
       "      <td>-0.485850</td>\n",
       "      <td>1.721578</td>\n",
       "      <td>1.353920</td>\n",
       "    </tr>\n",
       "    <tr>\n",
       "      <th>two</th>\n",
       "      <td>-0.560537</td>\n",
       "      <td>0.623954</td>\n",
       "      <td>0.689739</td>\n",
       "      <td>-0.783044</td>\n",
       "    </tr>\n",
       "    <tr>\n",
       "      <th rowspan=\"2\" valign=\"top\">qux</th>\n",
       "      <th>one</th>\n",
       "      <td>0.166813</td>\n",
       "      <td>1.235022</td>\n",
       "      <td>0.375086</td>\n",
       "      <td>-2.769104</td>\n",
       "    </tr>\n",
       "    <tr>\n",
       "      <th>two</th>\n",
       "      <td>2.883265</td>\n",
       "      <td>0.810427</td>\n",
       "      <td>0.923070</td>\n",
       "      <td>1.103908</td>\n",
       "    </tr>\n",
       "  </tbody>\n",
       "</table>\n",
       "</div>"
      ],
      "text/plain": [
       "                A         B         C         D\n",
       "bar one  0.479351 -0.751779 -0.595712 -0.398652\n",
       "    two -2.739817 -0.224204  0.769353 -1.085806\n",
       "baz one -0.184855 -0.164818 -1.071680  1.186269\n",
       "    two  0.405757  0.337087 -0.145867 -0.718322\n",
       "foo one  0.517153 -0.485850  1.721578  1.353920\n",
       "    two -0.560537  0.623954  0.689739 -0.783044\n",
       "qux one  0.166813  1.235022  0.375086 -2.769104\n",
       "    two  2.883265  0.810427  0.923070  1.103908"
      ]
     },
     "execution_count": 65,
     "metadata": {},
     "output_type": "execute_result"
    }
   ],
   "source": [
    "df = pandas.DataFrame(numpy.random.randn(8, 4), index=arrays, columns=list('ABCD'))\n",
    "df"
   ]
  },
  {
   "cell_type": "code",
   "execution_count": 66,
   "metadata": {
    "ExecuteTime": {
     "start_time": "2020-03-20T10:18:51.951Z"
    }
   },
   "outputs": [
    {
     "data": {
      "text/plain": [
       "bar  one    0.479351\n",
       "     two   -2.739817\n",
       "baz  one   -0.184855\n",
       "     two    0.405757\n",
       "foo  one    0.517153\n",
       "     two   -0.560537\n",
       "qux  one    0.166813\n",
       "     two    2.883265\n",
       "Name: A, dtype: float64"
      ]
     },
     "execution_count": 66,
     "metadata": {},
     "output_type": "execute_result"
    }
   ],
   "source": [
    "df.A"
   ]
  },
  {
   "cell_type": "code",
   "execution_count": 67,
   "metadata": {
    "ExecuteTime": {
     "start_time": "2020-03-20T10:18:51.958Z"
    }
   },
   "outputs": [
    {
     "data": {
      "text/plain": [
       "one    0.479351\n",
       "two   -2.739817\n",
       "Name: A, dtype: float64"
      ]
     },
     "execution_count": 67,
     "metadata": {},
     "output_type": "execute_result"
    }
   ],
   "source": [
    "df.A['bar']"
   ]
  },
  {
   "cell_type": "markdown",
   "metadata": {},
   "source": [
    "## Манипуляции с DataFrame: add row/max/row iteration"
   ]
  },
  {
   "cell_type": "markdown",
   "metadata": {},
   "source": [
    "### Create from nested dict (from_dict)"
   ]
  },
  {
   "cell_type": "code",
   "execution_count": 68,
   "metadata": {
    "ExecuteTime": {
     "start_time": "2020-03-20T10:18:51.973Z"
    },
    "init_cell": true
   },
   "outputs": [
    {
     "data": {
      "text/plain": [
       "{'one': {'A': 1, 'B': 2, 'C': [1, 2, 3], 'D': {'res': 123, 'res1': 321}},\n",
       " 'two': {'A': 11, 'B': 22, 'C': [11, 22, 33], 'D': {'res': 1230}},\n",
       " 'three': {'A': 111, 'B': 222, 'C': [111, 222, 333], 'D': {'res': 12300}},\n",
       " 'four': {'A': 1111, 'B': 2222, 'C': [1111, 2222, 3333], 'D': {'res': 123000}}}"
      ]
     },
     "execution_count": 68,
     "metadata": {},
     "output_type": "execute_result"
    }
   ],
   "source": [
    "res = {\n",
    "    'one': {'A': 1, 'B': 2, 'C': [1, 2, 3], 'D': {'res': 123, 'res1': 321}}\n",
    "    ,'two': {'A': 11, 'B': 22, 'C': [11, 22, 33], 'D': {'res': 1230}}\n",
    "    ,'three': {'A': 111, 'B': 222, 'C': [111, 222, 333], 'D': {'res': 12300}}\n",
    "    ,'four': {'A': 1111, 'B': 2222, 'C': [1111, 2222, 3333], 'D': {'res': 123000}}\n",
    "}\n",
    "res"
   ]
  },
  {
   "cell_type": "code",
   "execution_count": 69,
   "metadata": {
    "ExecuteTime": {
     "start_time": "2020-03-20T10:18:51.982Z"
    }
   },
   "outputs": [
    {
     "data": {
      "text/html": [
       "<div>\n",
       "<style scoped>\n",
       "    .dataframe tbody tr th:only-of-type {\n",
       "        vertical-align: middle;\n",
       "    }\n",
       "\n",
       "    .dataframe tbody tr th {\n",
       "        vertical-align: top;\n",
       "    }\n",
       "\n",
       "    .dataframe thead th {\n",
       "        text-align: right;\n",
       "    }\n",
       "</style>\n",
       "<table border=\"1\" class=\"dataframe\">\n",
       "  <thead>\n",
       "    <tr style=\"text-align: right;\">\n",
       "      <th></th>\n",
       "      <th>one</th>\n",
       "      <th>two</th>\n",
       "      <th>three</th>\n",
       "      <th>four</th>\n",
       "    </tr>\n",
       "  </thead>\n",
       "  <tbody>\n",
       "    <tr>\n",
       "      <th>A</th>\n",
       "      <td>1</td>\n",
       "      <td>11</td>\n",
       "      <td>111</td>\n",
       "      <td>1111</td>\n",
       "    </tr>\n",
       "    <tr>\n",
       "      <th>B</th>\n",
       "      <td>2</td>\n",
       "      <td>22</td>\n",
       "      <td>222</td>\n",
       "      <td>2222</td>\n",
       "    </tr>\n",
       "    <tr>\n",
       "      <th>C</th>\n",
       "      <td>[1, 2, 3]</td>\n",
       "      <td>[11, 22, 33]</td>\n",
       "      <td>[111, 222, 333]</td>\n",
       "      <td>[1111, 2222, 3333]</td>\n",
       "    </tr>\n",
       "    <tr>\n",
       "      <th>D</th>\n",
       "      <td>{'res': 123, 'res1': 321}</td>\n",
       "      <td>{'res': 1230}</td>\n",
       "      <td>{'res': 12300}</td>\n",
       "      <td>{'res': 123000}</td>\n",
       "    </tr>\n",
       "  </tbody>\n",
       "</table>\n",
       "</div>"
      ],
      "text/plain": [
       "                         one            two            three  \\\n",
       "A                          1             11              111   \n",
       "B                          2             22              222   \n",
       "C                  [1, 2, 3]   [11, 22, 33]  [111, 222, 333]   \n",
       "D  {'res': 123, 'res1': 321}  {'res': 1230}   {'res': 12300}   \n",
       "\n",
       "                 four  \n",
       "A                1111  \n",
       "B                2222  \n",
       "C  [1111, 2222, 3333]  \n",
       "D     {'res': 123000}  "
      ]
     },
     "execution_count": 69,
     "metadata": {},
     "output_type": "execute_result"
    }
   ],
   "source": [
    "df = DataFrame(res)\n",
    "df"
   ]
  },
  {
   "cell_type": "code",
   "execution_count": 70,
   "metadata": {
    "ExecuteTime": {
     "start_time": "2020-03-20T10:18:51.990Z"
    }
   },
   "outputs": [
    {
     "data": {
      "text/html": [
       "<div>\n",
       "<style scoped>\n",
       "    .dataframe tbody tr th:only-of-type {\n",
       "        vertical-align: middle;\n",
       "    }\n",
       "\n",
       "    .dataframe tbody tr th {\n",
       "        vertical-align: top;\n",
       "    }\n",
       "\n",
       "    .dataframe thead th {\n",
       "        text-align: right;\n",
       "    }\n",
       "</style>\n",
       "<table border=\"1\" class=\"dataframe\">\n",
       "  <thead>\n",
       "    <tr style=\"text-align: right;\">\n",
       "      <th></th>\n",
       "      <th>A</th>\n",
       "      <th>B</th>\n",
       "      <th>C</th>\n",
       "      <th>D</th>\n",
       "    </tr>\n",
       "  </thead>\n",
       "  <tbody>\n",
       "    <tr>\n",
       "      <th>one</th>\n",
       "      <td>1</td>\n",
       "      <td>2</td>\n",
       "      <td>[1, 2, 3]</td>\n",
       "      <td>{'res': 123, 'res1': 321}</td>\n",
       "    </tr>\n",
       "    <tr>\n",
       "      <th>two</th>\n",
       "      <td>11</td>\n",
       "      <td>22</td>\n",
       "      <td>[11, 22, 33]</td>\n",
       "      <td>{'res': 1230}</td>\n",
       "    </tr>\n",
       "    <tr>\n",
       "      <th>three</th>\n",
       "      <td>111</td>\n",
       "      <td>222</td>\n",
       "      <td>[111, 222, 333]</td>\n",
       "      <td>{'res': 12300}</td>\n",
       "    </tr>\n",
       "    <tr>\n",
       "      <th>four</th>\n",
       "      <td>1111</td>\n",
       "      <td>2222</td>\n",
       "      <td>[1111, 2222, 3333]</td>\n",
       "      <td>{'res': 123000}</td>\n",
       "    </tr>\n",
       "  </tbody>\n",
       "</table>\n",
       "</div>"
      ],
      "text/plain": [
       "          A     B                   C                          D\n",
       "one       1     2           [1, 2, 3]  {'res': 123, 'res1': 321}\n",
       "two      11    22        [11, 22, 33]              {'res': 1230}\n",
       "three   111   222     [111, 222, 333]             {'res': 12300}\n",
       "four   1111  2222  [1111, 2222, 3333]            {'res': 123000}"
      ]
     },
     "execution_count": 70,
     "metadata": {},
     "output_type": "execute_result"
    }
   ],
   "source": [
    "df.T"
   ]
  },
  {
   "cell_type": "code",
   "execution_count": 71,
   "metadata": {
    "ExecuteTime": {
     "start_time": "2020-03-20T10:18:51.999Z"
    },
    "init_cell": true
   },
   "outputs": [
    {
     "data": {
      "text/html": [
       "<div>\n",
       "<style scoped>\n",
       "    .dataframe tbody tr th:only-of-type {\n",
       "        vertical-align: middle;\n",
       "    }\n",
       "\n",
       "    .dataframe tbody tr th {\n",
       "        vertical-align: top;\n",
       "    }\n",
       "\n",
       "    .dataframe thead th {\n",
       "        text-align: right;\n",
       "    }\n",
       "</style>\n",
       "<table border=\"1\" class=\"dataframe\">\n",
       "  <thead>\n",
       "    <tr style=\"text-align: right;\">\n",
       "      <th></th>\n",
       "      <th>A</th>\n",
       "      <th>B</th>\n",
       "      <th>C</th>\n",
       "      <th>D</th>\n",
       "    </tr>\n",
       "  </thead>\n",
       "  <tbody>\n",
       "    <tr>\n",
       "      <th>one</th>\n",
       "      <td>1</td>\n",
       "      <td>2</td>\n",
       "      <td>[1, 2, 3]</td>\n",
       "      <td>{'res': 123, 'res1': 321}</td>\n",
       "    </tr>\n",
       "    <tr>\n",
       "      <th>two</th>\n",
       "      <td>11</td>\n",
       "      <td>22</td>\n",
       "      <td>[11, 22, 33]</td>\n",
       "      <td>{'res': 1230}</td>\n",
       "    </tr>\n",
       "    <tr>\n",
       "      <th>three</th>\n",
       "      <td>111</td>\n",
       "      <td>222</td>\n",
       "      <td>[111, 222, 333]</td>\n",
       "      <td>{'res': 12300}</td>\n",
       "    </tr>\n",
       "    <tr>\n",
       "      <th>four</th>\n",
       "      <td>1111</td>\n",
       "      <td>2222</td>\n",
       "      <td>[1111, 2222, 3333]</td>\n",
       "      <td>{'res': 123000}</td>\n",
       "    </tr>\n",
       "  </tbody>\n",
       "</table>\n",
       "</div>"
      ],
      "text/plain": [
       "          A     B                   C                          D\n",
       "one       1     2           [1, 2, 3]  {'res': 123, 'res1': 321}\n",
       "two      11    22        [11, 22, 33]              {'res': 1230}\n",
       "three   111   222     [111, 222, 333]             {'res': 12300}\n",
       "four   1111  2222  [1111, 2222, 3333]            {'res': 123000}"
      ]
     },
     "execution_count": 71,
     "metadata": {},
     "output_type": "execute_result"
    }
   ],
   "source": [
    "# http://pandas.pydata.org/pandas-docs/stable/generated/pandas.DataFrame.from_dict.html\n",
    "df = DataFrame.from_dict(res, orient='index').sort_index(axis=1)\n",
    "df"
   ]
  },
  {
   "cell_type": "markdown",
   "metadata": {},
   "source": [
    "#### DataFrame.from_records\n",
    "\n",
    "https://github.com/pydata/pandas/issues/1744"
   ]
  },
  {
   "cell_type": "code",
   "execution_count": 72,
   "metadata": {
    "ExecuteTime": {
     "start_time": "2020-03-20T10:18:52.010Z"
    },
    "init_cell": true,
    "scrolled": true
   },
   "outputs": [
    {
     "data": {
      "text/html": [
       "<div>\n",
       "<style scoped>\n",
       "    .dataframe tbody tr th:only-of-type {\n",
       "        vertical-align: middle;\n",
       "    }\n",
       "\n",
       "    .dataframe tbody tr th {\n",
       "        vertical-align: top;\n",
       "    }\n",
       "\n",
       "    .dataframe thead th {\n",
       "        text-align: right;\n",
       "    }\n",
       "</style>\n",
       "<table border=\"1\" class=\"dataframe\">\n",
       "  <thead>\n",
       "    <tr style=\"text-align: right;\">\n",
       "      <th></th>\n",
       "      <th>res</th>\n",
       "      <th>res1</th>\n",
       "    </tr>\n",
       "  </thead>\n",
       "  <tbody>\n",
       "    <tr>\n",
       "      <th>one</th>\n",
       "      <td>123</td>\n",
       "      <td>321.0</td>\n",
       "    </tr>\n",
       "    <tr>\n",
       "      <th>two</th>\n",
       "      <td>1230</td>\n",
       "      <td>NaN</td>\n",
       "    </tr>\n",
       "    <tr>\n",
       "      <th>three</th>\n",
       "      <td>12300</td>\n",
       "      <td>NaN</td>\n",
       "    </tr>\n",
       "    <tr>\n",
       "      <th>four</th>\n",
       "      <td>123000</td>\n",
       "      <td>NaN</td>\n",
       "    </tr>\n",
       "  </tbody>\n",
       "</table>\n",
       "</div>"
      ],
      "text/plain": [
       "          res   res1\n",
       "one       123  321.0\n",
       "two      1230    NaN\n",
       "three   12300    NaN\n",
       "four   123000    NaN"
      ]
     },
     "execution_count": 72,
     "metadata": {},
     "output_type": "execute_result"
    }
   ],
   "source": [
    "d = DataFrame.from_records(df.D.values, index=df.D.index)\n",
    "d"
   ]
  },
  {
   "cell_type": "markdown",
   "metadata": {},
   "source": [
    "#### DataFrame concat"
   ]
  },
  {
   "cell_type": "code",
   "execution_count": 73,
   "metadata": {
    "ExecuteTime": {
     "start_time": "2020-03-20T10:18:52.018Z"
    },
    "scrolled": true
   },
   "outputs": [
    {
     "data": {
      "text/html": [
       "<div>\n",
       "<style scoped>\n",
       "    .dataframe tbody tr th:only-of-type {\n",
       "        vertical-align: middle;\n",
       "    }\n",
       "\n",
       "    .dataframe tbody tr th {\n",
       "        vertical-align: top;\n",
       "    }\n",
       "\n",
       "    .dataframe thead th {\n",
       "        text-align: right;\n",
       "    }\n",
       "</style>\n",
       "<table border=\"1\" class=\"dataframe\">\n",
       "  <thead>\n",
       "    <tr style=\"text-align: right;\">\n",
       "      <th></th>\n",
       "      <th>A</th>\n",
       "      <th>B</th>\n",
       "      <th>C</th>\n",
       "      <th>D</th>\n",
       "      <th>res</th>\n",
       "      <th>res1</th>\n",
       "    </tr>\n",
       "  </thead>\n",
       "  <tbody>\n",
       "    <tr>\n",
       "      <th>one</th>\n",
       "      <td>1</td>\n",
       "      <td>2</td>\n",
       "      <td>[1, 2, 3]</td>\n",
       "      <td>{'res': 123, 'res1': 321}</td>\n",
       "      <td>123</td>\n",
       "      <td>321.0</td>\n",
       "    </tr>\n",
       "    <tr>\n",
       "      <th>two</th>\n",
       "      <td>11</td>\n",
       "      <td>22</td>\n",
       "      <td>[11, 22, 33]</td>\n",
       "      <td>{'res': 1230}</td>\n",
       "      <td>1230</td>\n",
       "      <td>NaN</td>\n",
       "    </tr>\n",
       "    <tr>\n",
       "      <th>three</th>\n",
       "      <td>111</td>\n",
       "      <td>222</td>\n",
       "      <td>[111, 222, 333]</td>\n",
       "      <td>{'res': 12300}</td>\n",
       "      <td>12300</td>\n",
       "      <td>NaN</td>\n",
       "    </tr>\n",
       "    <tr>\n",
       "      <th>four</th>\n",
       "      <td>1111</td>\n",
       "      <td>2222</td>\n",
       "      <td>[1111, 2222, 3333]</td>\n",
       "      <td>{'res': 123000}</td>\n",
       "      <td>123000</td>\n",
       "      <td>NaN</td>\n",
       "    </tr>\n",
       "  </tbody>\n",
       "</table>\n",
       "</div>"
      ],
      "text/plain": [
       "          A     B                   C                          D     res  \\\n",
       "one       1     2           [1, 2, 3]  {'res': 123, 'res1': 321}     123   \n",
       "two      11    22        [11, 22, 33]              {'res': 1230}    1230   \n",
       "three   111   222     [111, 222, 333]             {'res': 12300}   12300   \n",
       "four   1111  2222  [1111, 2222, 3333]            {'res': 123000}  123000   \n",
       "\n",
       "        res1  \n",
       "one    321.0  \n",
       "two      NaN  \n",
       "three    NaN  \n",
       "four     NaN  "
      ]
     },
     "execution_count": 73,
     "metadata": {},
     "output_type": "execute_result"
    }
   ],
   "source": [
    "pandas.concat([df, d], axis=1)"
   ]
  },
  {
   "cell_type": "markdown",
   "metadata": {},
   "source": [
    "#### DataFrame apply(lambda)"
   ]
  },
  {
   "cell_type": "code",
   "execution_count": 74,
   "metadata": {
    "ExecuteTime": {
     "start_time": "2020-03-20T10:18:52.030Z"
    }
   },
   "outputs": [
    {
     "data": {
      "text/plain": [
       "one         123\n",
       "two        1230\n",
       "three     12300\n",
       "four     123000\n",
       "Name: D, dtype: int64"
      ]
     },
     "execution_count": 74,
     "metadata": {},
     "output_type": "execute_result"
    }
   ],
   "source": [
    "d1 = df.D.apply(lambda it: it['res'])\n",
    "d1"
   ]
  },
  {
   "cell_type": "code",
   "execution_count": 75,
   "metadata": {
    "ExecuteTime": {
     "start_time": "2020-03-20T10:18:52.038Z"
    }
   },
   "outputs": [
    {
     "data": {
      "text/html": [
       "<div>\n",
       "<style scoped>\n",
       "    .dataframe tbody tr th:only-of-type {\n",
       "        vertical-align: middle;\n",
       "    }\n",
       "\n",
       "    .dataframe tbody tr th {\n",
       "        vertical-align: top;\n",
       "    }\n",
       "\n",
       "    .dataframe thead th {\n",
       "        text-align: right;\n",
       "    }\n",
       "</style>\n",
       "<table border=\"1\" class=\"dataframe\">\n",
       "  <thead>\n",
       "    <tr style=\"text-align: right;\">\n",
       "      <th></th>\n",
       "      <th>A</th>\n",
       "      <th>B</th>\n",
       "      <th>C</th>\n",
       "      <th>D</th>\n",
       "      <th>D</th>\n",
       "    </tr>\n",
       "  </thead>\n",
       "  <tbody>\n",
       "    <tr>\n",
       "      <th>one</th>\n",
       "      <td>1</td>\n",
       "      <td>2</td>\n",
       "      <td>[1, 2, 3]</td>\n",
       "      <td>{'res': 123, 'res1': 321}</td>\n",
       "      <td>123</td>\n",
       "    </tr>\n",
       "    <tr>\n",
       "      <th>two</th>\n",
       "      <td>11</td>\n",
       "      <td>22</td>\n",
       "      <td>[11, 22, 33]</td>\n",
       "      <td>{'res': 1230}</td>\n",
       "      <td>1230</td>\n",
       "    </tr>\n",
       "    <tr>\n",
       "      <th>three</th>\n",
       "      <td>111</td>\n",
       "      <td>222</td>\n",
       "      <td>[111, 222, 333]</td>\n",
       "      <td>{'res': 12300}</td>\n",
       "      <td>12300</td>\n",
       "    </tr>\n",
       "    <tr>\n",
       "      <th>four</th>\n",
       "      <td>1111</td>\n",
       "      <td>2222</td>\n",
       "      <td>[1111, 2222, 3333]</td>\n",
       "      <td>{'res': 123000}</td>\n",
       "      <td>123000</td>\n",
       "    </tr>\n",
       "  </tbody>\n",
       "</table>\n",
       "</div>"
      ],
      "text/plain": [
       "          A     B                   C                          D       D\n",
       "one       1     2           [1, 2, 3]  {'res': 123, 'res1': 321}     123\n",
       "two      11    22        [11, 22, 33]              {'res': 1230}    1230\n",
       "three   111   222     [111, 222, 333]             {'res': 12300}   12300\n",
       "four   1111  2222  [1111, 2222, 3333]            {'res': 123000}  123000"
      ]
     },
     "execution_count": 75,
     "metadata": {},
     "output_type": "execute_result"
    }
   ],
   "source": [
    "pandas.concat([df, d1], axis=1)"
   ]
  },
  {
   "cell_type": "markdown",
   "metadata": {},
   "source": [
    "#### DataFrame join()"
   ]
  },
  {
   "cell_type": "code",
   "execution_count": 76,
   "metadata": {
    "ExecuteTime": {
     "start_time": "2020-03-20T10:18:52.046Z"
    }
   },
   "outputs": [
    {
     "data": {
      "text/html": [
       "<div>\n",
       "<style scoped>\n",
       "    .dataframe tbody tr th:only-of-type {\n",
       "        vertical-align: middle;\n",
       "    }\n",
       "\n",
       "    .dataframe tbody tr th {\n",
       "        vertical-align: top;\n",
       "    }\n",
       "\n",
       "    .dataframe thead th {\n",
       "        text-align: right;\n",
       "    }\n",
       "</style>\n",
       "<table border=\"1\" class=\"dataframe\">\n",
       "  <thead>\n",
       "    <tr style=\"text-align: right;\">\n",
       "      <th></th>\n",
       "      <th>A</th>\n",
       "      <th>B</th>\n",
       "      <th>C</th>\n",
       "      <th>D</th>\n",
       "      <th>Dscore</th>\n",
       "    </tr>\n",
       "  </thead>\n",
       "  <tbody>\n",
       "    <tr>\n",
       "      <th>one</th>\n",
       "      <td>1</td>\n",
       "      <td>2</td>\n",
       "      <td>[1, 2, 3]</td>\n",
       "      <td>{'res': 123, 'res1': 321}</td>\n",
       "      <td>123</td>\n",
       "    </tr>\n",
       "    <tr>\n",
       "      <th>two</th>\n",
       "      <td>11</td>\n",
       "      <td>22</td>\n",
       "      <td>[11, 22, 33]</td>\n",
       "      <td>{'res': 1230}</td>\n",
       "      <td>1230</td>\n",
       "    </tr>\n",
       "    <tr>\n",
       "      <th>three</th>\n",
       "      <td>111</td>\n",
       "      <td>222</td>\n",
       "      <td>[111, 222, 333]</td>\n",
       "      <td>{'res': 12300}</td>\n",
       "      <td>12300</td>\n",
       "    </tr>\n",
       "    <tr>\n",
       "      <th>four</th>\n",
       "      <td>1111</td>\n",
       "      <td>2222</td>\n",
       "      <td>[1111, 2222, 3333]</td>\n",
       "      <td>{'res': 123000}</td>\n",
       "      <td>123000</td>\n",
       "    </tr>\n",
       "  </tbody>\n",
       "</table>\n",
       "</div>"
      ],
      "text/plain": [
       "          A     B                   C                          D  Dscore\n",
       "one       1     2           [1, 2, 3]  {'res': 123, 'res1': 321}     123\n",
       "two      11    22        [11, 22, 33]              {'res': 1230}    1230\n",
       "three   111   222     [111, 222, 333]             {'res': 12300}   12300\n",
       "four   1111  2222  [1111, 2222, 3333]            {'res': 123000}  123000"
      ]
     },
     "execution_count": 76,
     "metadata": {},
     "output_type": "execute_result"
    }
   ],
   "source": [
    "df.join(d1, rsuffix='score')"
   ]
  },
  {
   "cell_type": "code",
   "execution_count": 77,
   "metadata": {
    "ExecuteTime": {
     "start_time": "2020-03-20T10:18:52.054Z"
    }
   },
   "outputs": [
    {
     "data": {
      "text/html": [
       "<div>\n",
       "<style scoped>\n",
       "    .dataframe tbody tr th:only-of-type {\n",
       "        vertical-align: middle;\n",
       "    }\n",
       "\n",
       "    .dataframe tbody tr th {\n",
       "        vertical-align: top;\n",
       "    }\n",
       "\n",
       "    .dataframe thead th {\n",
       "        text-align: right;\n",
       "    }\n",
       "</style>\n",
       "<table border=\"1\" class=\"dataframe\">\n",
       "  <thead>\n",
       "    <tr style=\"text-align: right;\">\n",
       "      <th></th>\n",
       "      <th>A</th>\n",
       "      <th>B</th>\n",
       "      <th>C</th>\n",
       "      <th>D</th>\n",
       "      <th>res</th>\n",
       "    </tr>\n",
       "  </thead>\n",
       "  <tbody>\n",
       "    <tr>\n",
       "      <th>one</th>\n",
       "      <td>1</td>\n",
       "      <td>2</td>\n",
       "      <td>[1, 2, 3]</td>\n",
       "      <td>{'res': 123, 'res1': 321}</td>\n",
       "      <td>123</td>\n",
       "    </tr>\n",
       "    <tr>\n",
       "      <th>two</th>\n",
       "      <td>11</td>\n",
       "      <td>22</td>\n",
       "      <td>[11, 22, 33]</td>\n",
       "      <td>{'res': 1230}</td>\n",
       "      <td>1230</td>\n",
       "    </tr>\n",
       "    <tr>\n",
       "      <th>three</th>\n",
       "      <td>111</td>\n",
       "      <td>222</td>\n",
       "      <td>[111, 222, 333]</td>\n",
       "      <td>{'res': 12300}</td>\n",
       "      <td>12300</td>\n",
       "    </tr>\n",
       "    <tr>\n",
       "      <th>four</th>\n",
       "      <td>1111</td>\n",
       "      <td>2222</td>\n",
       "      <td>[1111, 2222, 3333]</td>\n",
       "      <td>{'res': 123000}</td>\n",
       "      <td>123000</td>\n",
       "    </tr>\n",
       "  </tbody>\n",
       "</table>\n",
       "</div>"
      ],
      "text/plain": [
       "          A     B                   C                          D     res\n",
       "one       1     2           [1, 2, 3]  {'res': 123, 'res1': 321}     123\n",
       "two      11    22        [11, 22, 33]              {'res': 1230}    1230\n",
       "three   111   222     [111, 222, 333]             {'res': 12300}   12300\n",
       "four   1111  2222  [1111, 2222, 3333]            {'res': 123000}  123000"
      ]
     },
     "execution_count": 77,
     "metadata": {},
     "output_type": "execute_result"
    }
   ],
   "source": [
    "# http://stackoverflow.com/questions/19758364/python-rename-single-column-header-in-pandas-dataframe\n",
    "df.join(d1, rsuffix='score').rename(columns={'Dscore': 'res'})"
   ]
  },
  {
   "cell_type": "markdown",
   "metadata": {},
   "source": [
    "### Добавление к каждому элементу (elementwise add)"
   ]
  },
  {
   "cell_type": "code",
   "execution_count": 78,
   "metadata": {
    "ExecuteTime": {
     "start_time": "2020-03-20T10:18:52.065Z"
    }
   },
   "outputs": [
    {
     "data": {
      "text/html": [
       "<div>\n",
       "<style scoped>\n",
       "    .dataframe tbody tr th:only-of-type {\n",
       "        vertical-align: middle;\n",
       "    }\n",
       "\n",
       "    .dataframe tbody tr th {\n",
       "        vertical-align: top;\n",
       "    }\n",
       "\n",
       "    .dataframe thead th {\n",
       "        text-align: right;\n",
       "    }\n",
       "</style>\n",
       "<table border=\"1\" class=\"dataframe\">\n",
       "  <thead>\n",
       "    <tr style=\"text-align: right;\">\n",
       "      <th></th>\n",
       "      <th>res</th>\n",
       "      <th>res1</th>\n",
       "    </tr>\n",
       "  </thead>\n",
       "  <tbody>\n",
       "    <tr>\n",
       "      <th>one</th>\n",
       "      <td>134</td>\n",
       "      <td>332.0</td>\n",
       "    </tr>\n",
       "    <tr>\n",
       "      <th>two</th>\n",
       "      <td>1241</td>\n",
       "      <td>NaN</td>\n",
       "    </tr>\n",
       "    <tr>\n",
       "      <th>three</th>\n",
       "      <td>12311</td>\n",
       "      <td>NaN</td>\n",
       "    </tr>\n",
       "    <tr>\n",
       "      <th>four</th>\n",
       "      <td>123011</td>\n",
       "      <td>NaN</td>\n",
       "    </tr>\n",
       "  </tbody>\n",
       "</table>\n",
       "</div>"
      ],
      "text/plain": [
       "          res   res1\n",
       "one       134  332.0\n",
       "two      1241    NaN\n",
       "three   12311    NaN\n",
       "four   123011    NaN"
      ]
     },
     "execution_count": 78,
     "metadata": {},
     "output_type": "execute_result"
    }
   ],
   "source": [
    "d.add(11)"
   ]
  },
  {
   "cell_type": "code",
   "execution_count": 79,
   "metadata": {
    "ExecuteTime": {
     "start_time": "2020-03-20T10:18:52.073Z"
    },
    "scrolled": true
   },
   "outputs": [
    {
     "data": {
      "text/html": [
       "<div>\n",
       "<style scoped>\n",
       "    .dataframe tbody tr th:only-of-type {\n",
       "        vertical-align: middle;\n",
       "    }\n",
       "\n",
       "    .dataframe tbody tr th {\n",
       "        vertical-align: top;\n",
       "    }\n",
       "\n",
       "    .dataframe thead th {\n",
       "        text-align: right;\n",
       "    }\n",
       "</style>\n",
       "<table border=\"1\" class=\"dataframe\">\n",
       "  <thead>\n",
       "    <tr style=\"text-align: right;\">\n",
       "      <th></th>\n",
       "      <th>res</th>\n",
       "      <th>res1</th>\n",
       "    </tr>\n",
       "  </thead>\n",
       "  <tbody>\n",
       "    <tr>\n",
       "      <th>one</th>\n",
       "      <td>133</td>\n",
       "      <td>331.0</td>\n",
       "    </tr>\n",
       "    <tr>\n",
       "      <th>two</th>\n",
       "      <td>1240</td>\n",
       "      <td>NaN</td>\n",
       "    </tr>\n",
       "    <tr>\n",
       "      <th>three</th>\n",
       "      <td>12310</td>\n",
       "      <td>NaN</td>\n",
       "    </tr>\n",
       "    <tr>\n",
       "      <th>four</th>\n",
       "      <td>123010</td>\n",
       "      <td>NaN</td>\n",
       "    </tr>\n",
       "  </tbody>\n",
       "</table>\n",
       "</div>"
      ],
      "text/plain": [
       "          res   res1\n",
       "one       133  331.0\n",
       "two      1240    NaN\n",
       "three   12310    NaN\n",
       "four   123010    NaN"
      ]
     },
     "execution_count": 79,
     "metadata": {},
     "output_type": "execute_result"
    }
   ],
   "source": [
    "d.radd(10)"
   ]
  },
  {
   "cell_type": "code",
   "execution_count": 80,
   "metadata": {
    "ExecuteTime": {
     "start_time": "2020-03-20T10:18:52.081Z"
    }
   },
   "outputs": [
    {
     "data": {
      "text/html": [
       "<div>\n",
       "<style scoped>\n",
       "    .dataframe tbody tr th:only-of-type {\n",
       "        vertical-align: middle;\n",
       "    }\n",
       "\n",
       "    .dataframe tbody tr th {\n",
       "        vertical-align: top;\n",
       "    }\n",
       "\n",
       "    .dataframe thead th {\n",
       "        text-align: right;\n",
       "    }\n",
       "</style>\n",
       "<table border=\"1\" class=\"dataframe\">\n",
       "  <thead>\n",
       "    <tr style=\"text-align: right;\">\n",
       "      <th></th>\n",
       "      <th>res</th>\n",
       "      <th>res1</th>\n",
       "    </tr>\n",
       "  </thead>\n",
       "  <tbody>\n",
       "    <tr>\n",
       "      <th>one</th>\n",
       "      <td>133</td>\n",
       "      <td>421.0</td>\n",
       "    </tr>\n",
       "    <tr>\n",
       "      <th>two</th>\n",
       "      <td>1240</td>\n",
       "      <td>NaN</td>\n",
       "    </tr>\n",
       "    <tr>\n",
       "      <th>three</th>\n",
       "      <td>12310</td>\n",
       "      <td>NaN</td>\n",
       "    </tr>\n",
       "    <tr>\n",
       "      <th>four</th>\n",
       "      <td>123010</td>\n",
       "      <td>NaN</td>\n",
       "    </tr>\n",
       "  </tbody>\n",
       "</table>\n",
       "</div>"
      ],
      "text/plain": [
       "          res   res1\n",
       "one       133  421.0\n",
       "two      1240    NaN\n",
       "three   12310    NaN\n",
       "four   123010    NaN"
      ]
     },
     "execution_count": 80,
     "metadata": {},
     "output_type": "execute_result"
    }
   ],
   "source": [
    "d += [ 10, 100 ]\n",
    "d"
   ]
  },
  {
   "cell_type": "markdown",
   "metadata": {},
   "source": [
    "### Добавление строки (add row)"
   ]
  },
  {
   "cell_type": "code",
   "execution_count": 81,
   "metadata": {
    "ExecuteTime": {
     "start_time": "2020-03-20T10:18:52.094Z"
    },
    "scrolled": true
   },
   "outputs": [
    {
     "data": {
      "text/html": [
       "<div>\n",
       "<style scoped>\n",
       "    .dataframe tbody tr th:only-of-type {\n",
       "        vertical-align: middle;\n",
       "    }\n",
       "\n",
       "    .dataframe tbody tr th {\n",
       "        vertical-align: top;\n",
       "    }\n",
       "\n",
       "    .dataframe thead th {\n",
       "        text-align: right;\n",
       "    }\n",
       "</style>\n",
       "<table border=\"1\" class=\"dataframe\">\n",
       "  <thead>\n",
       "    <tr style=\"text-align: right;\">\n",
       "      <th></th>\n",
       "      <th>res</th>\n",
       "      <th>res1</th>\n",
       "    </tr>\n",
       "  </thead>\n",
       "  <tbody>\n",
       "    <tr>\n",
       "      <th>one</th>\n",
       "      <td>133</td>\n",
       "      <td>421.0</td>\n",
       "    </tr>\n",
       "    <tr>\n",
       "      <th>two</th>\n",
       "      <td>1240</td>\n",
       "      <td>NaN</td>\n",
       "    </tr>\n",
       "    <tr>\n",
       "      <th>three</th>\n",
       "      <td>12310</td>\n",
       "      <td>NaN</td>\n",
       "    </tr>\n",
       "    <tr>\n",
       "      <th>four</th>\n",
       "      <td>123010</td>\n",
       "      <td>NaN</td>\n",
       "    </tr>\n",
       "    <tr>\n",
       "      <th>4</th>\n",
       "      <td>10</td>\n",
       "      <td>20.0</td>\n",
       "    </tr>\n",
       "  </tbody>\n",
       "</table>\n",
       "</div>"
      ],
      "text/plain": [
       "          res   res1\n",
       "one       133  421.0\n",
       "two      1240    NaN\n",
       "three   12310    NaN\n",
       "four   123010    NaN\n",
       "4          10   20.0"
      ]
     },
     "execution_count": 81,
     "metadata": {},
     "output_type": "execute_result"
    }
   ],
   "source": [
    "d.loc[len(d)] = (10, 20)\n",
    "d"
   ]
  },
  {
   "cell_type": "markdown",
   "metadata": {},
   "source": [
    "### Добавление столбца (add column)\n",
    "\n",
    "http://pandas.pydata.org/pandas-docs/stable/indexing.html#attribute-access"
   ]
  },
  {
   "cell_type": "code",
   "execution_count": 82,
   "metadata": {
    "ExecuteTime": {
     "start_time": "2020-03-20T10:18:52.107Z"
    },
    "scrolled": true
   },
   "outputs": [],
   "source": [
    "# d.addon = ...\n",
    "# d['addon'] = numpy.random.randint(1, 10, size=5)\n",
    "# Will lead: ValueError: Length of values does not match length of index"
   ]
  },
  {
   "cell_type": "markdown",
   "metadata": {},
   "source": [
    "#### Добавление нескольких столбцов (concat)"
   ]
  },
  {
   "cell_type": "code",
   "execution_count": 83,
   "metadata": {
    "ExecuteTime": {
     "start_time": "2020-03-20T10:18:52.118Z"
    },
    "init_cell": false,
    "scrolled": true
   },
   "outputs": [
    {
     "data": {
      "text/html": [
       "<div>\n",
       "<style scoped>\n",
       "    .dataframe tbody tr th:only-of-type {\n",
       "        vertical-align: middle;\n",
       "    }\n",
       "\n",
       "    .dataframe tbody tr th {\n",
       "        vertical-align: top;\n",
       "    }\n",
       "\n",
       "    .dataframe thead th {\n",
       "        text-align: right;\n",
       "    }\n",
       "</style>\n",
       "<table border=\"1\" class=\"dataframe\">\n",
       "  <thead>\n",
       "    <tr style=\"text-align: right;\">\n",
       "      <th></th>\n",
       "      <th>A</th>\n",
       "      <th>B</th>\n",
       "      <th>C</th>\n",
       "      <th>D</th>\n",
       "    </tr>\n",
       "  </thead>\n",
       "  <tbody>\n",
       "    <tr>\n",
       "      <th>one</th>\n",
       "      <td>5</td>\n",
       "      <td>4</td>\n",
       "      <td>2</td>\n",
       "      <td>2</td>\n",
       "    </tr>\n",
       "    <tr>\n",
       "      <th>two</th>\n",
       "      <td>9</td>\n",
       "      <td>7</td>\n",
       "      <td>3</td>\n",
       "      <td>3</td>\n",
       "    </tr>\n",
       "    <tr>\n",
       "      <th>three</th>\n",
       "      <td>1</td>\n",
       "      <td>7</td>\n",
       "      <td>1</td>\n",
       "      <td>5</td>\n",
       "    </tr>\n",
       "    <tr>\n",
       "      <th>four</th>\n",
       "      <td>5</td>\n",
       "      <td>8</td>\n",
       "      <td>4</td>\n",
       "      <td>5</td>\n",
       "    </tr>\n",
       "    <tr>\n",
       "      <th>4</th>\n",
       "      <td>2</td>\n",
       "      <td>2</td>\n",
       "      <td>4</td>\n",
       "      <td>1</td>\n",
       "    </tr>\n",
       "  </tbody>\n",
       "</table>\n",
       "</div>"
      ],
      "text/plain": [
       "       A  B  C  D\n",
       "one    5  4  2  2\n",
       "two    9  7  3  3\n",
       "three  1  7  1  5\n",
       "four   5  8  4  5\n",
       "4      2  2  4  1"
      ]
     },
     "execution_count": 83,
     "metadata": {},
     "output_type": "execute_result"
    }
   ],
   "source": [
    "add = DataFrame(numpy.random.randint(1, 10, size=(5, 4)), columns=list('ABCD'), index=d.index)\n",
    "#add.drop(add.index[[4,5]], inplace=True)\n",
    "add"
   ]
  },
  {
   "cell_type": "code",
   "execution_count": 84,
   "metadata": {
    "ExecuteTime": {
     "start_time": "2020-03-20T10:18:52.126Z"
    },
    "scrolled": true
   },
   "outputs": [
    {
     "data": {
      "text/html": [
       "<div>\n",
       "<style scoped>\n",
       "    .dataframe tbody tr th:only-of-type {\n",
       "        vertical-align: middle;\n",
       "    }\n",
       "\n",
       "    .dataframe tbody tr th {\n",
       "        vertical-align: top;\n",
       "    }\n",
       "\n",
       "    .dataframe thead th {\n",
       "        text-align: right;\n",
       "    }\n",
       "</style>\n",
       "<table border=\"1\" class=\"dataframe\">\n",
       "  <thead>\n",
       "    <tr style=\"text-align: right;\">\n",
       "      <th></th>\n",
       "      <th>res</th>\n",
       "      <th>res1</th>\n",
       "      <th>A</th>\n",
       "      <th>B</th>\n",
       "      <th>C</th>\n",
       "      <th>D</th>\n",
       "    </tr>\n",
       "  </thead>\n",
       "  <tbody>\n",
       "    <tr>\n",
       "      <th>one</th>\n",
       "      <td>133</td>\n",
       "      <td>421.0</td>\n",
       "      <td>5</td>\n",
       "      <td>4</td>\n",
       "      <td>2</td>\n",
       "      <td>2</td>\n",
       "    </tr>\n",
       "    <tr>\n",
       "      <th>two</th>\n",
       "      <td>1240</td>\n",
       "      <td>NaN</td>\n",
       "      <td>9</td>\n",
       "      <td>7</td>\n",
       "      <td>3</td>\n",
       "      <td>3</td>\n",
       "    </tr>\n",
       "    <tr>\n",
       "      <th>three</th>\n",
       "      <td>12310</td>\n",
       "      <td>NaN</td>\n",
       "      <td>1</td>\n",
       "      <td>7</td>\n",
       "      <td>1</td>\n",
       "      <td>5</td>\n",
       "    </tr>\n",
       "    <tr>\n",
       "      <th>four</th>\n",
       "      <td>123010</td>\n",
       "      <td>NaN</td>\n",
       "      <td>5</td>\n",
       "      <td>8</td>\n",
       "      <td>4</td>\n",
       "      <td>5</td>\n",
       "    </tr>\n",
       "    <tr>\n",
       "      <th>4</th>\n",
       "      <td>10</td>\n",
       "      <td>20.0</td>\n",
       "      <td>2</td>\n",
       "      <td>2</td>\n",
       "      <td>4</td>\n",
       "      <td>1</td>\n",
       "    </tr>\n",
       "  </tbody>\n",
       "</table>\n",
       "</div>"
      ],
      "text/plain": [
       "          res   res1  A  B  C  D\n",
       "one       133  421.0  5  4  2  2\n",
       "two      1240    NaN  9  7  3  3\n",
       "three   12310    NaN  1  7  1  5\n",
       "four   123010    NaN  5  8  4  5\n",
       "4          10   20.0  2  2  4  1"
      ]
     },
     "execution_count": 84,
     "metadata": {},
     "output_type": "execute_result"
    }
   ],
   "source": [
    "pandas.concat([d, add], axis=1)"
   ]
  },
  {
   "cell_type": "markdown",
   "metadata": {},
   "source": [
    "#### Добавление нескольких столбцов с РАЗНОЙ индексацией"
   ]
  },
  {
   "cell_type": "code",
   "execution_count": 85,
   "metadata": {
    "ExecuteTime": {
     "start_time": "2020-03-20T10:18:52.137Z"
    },
    "scrolled": true
   },
   "outputs": [
    {
     "data": {
      "text/html": [
       "<div>\n",
       "<style scoped>\n",
       "    .dataframe tbody tr th:only-of-type {\n",
       "        vertical-align: middle;\n",
       "    }\n",
       "\n",
       "    .dataframe tbody tr th {\n",
       "        vertical-align: top;\n",
       "    }\n",
       "\n",
       "    .dataframe thead th {\n",
       "        text-align: right;\n",
       "    }\n",
       "</style>\n",
       "<table border=\"1\" class=\"dataframe\">\n",
       "  <thead>\n",
       "    <tr style=\"text-align: right;\">\n",
       "      <th></th>\n",
       "      <th>A</th>\n",
       "      <th>B</th>\n",
       "      <th>C</th>\n",
       "      <th>D</th>\n",
       "    </tr>\n",
       "  </thead>\n",
       "  <tbody>\n",
       "    <tr>\n",
       "      <th>1</th>\n",
       "      <td>5</td>\n",
       "      <td>3</td>\n",
       "      <td>4</td>\n",
       "      <td>6</td>\n",
       "    </tr>\n",
       "    <tr>\n",
       "      <th>2</th>\n",
       "      <td>6</td>\n",
       "      <td>3</td>\n",
       "      <td>3</td>\n",
       "      <td>6</td>\n",
       "    </tr>\n",
       "    <tr>\n",
       "      <th>3</th>\n",
       "      <td>4</td>\n",
       "      <td>8</td>\n",
       "      <td>7</td>\n",
       "      <td>6</td>\n",
       "    </tr>\n",
       "    <tr>\n",
       "      <th>7</th>\n",
       "      <td>3</td>\n",
       "      <td>5</td>\n",
       "      <td>8</td>\n",
       "      <td>9</td>\n",
       "    </tr>\n",
       "    <tr>\n",
       "      <th>9</th>\n",
       "      <td>4</td>\n",
       "      <td>3</td>\n",
       "      <td>8</td>\n",
       "      <td>8</td>\n",
       "    </tr>\n",
       "  </tbody>\n",
       "</table>\n",
       "</div>"
      ],
      "text/plain": [
       "   A  B  C  D\n",
       "1  5  3  4  6\n",
       "2  6  3  3  6\n",
       "3  4  8  7  6\n",
       "7  3  5  8  9\n",
       "9  4  3  8  8"
      ]
     },
     "execution_count": 85,
     "metadata": {},
     "output_type": "execute_result"
    }
   ],
   "source": [
    "add = DataFrame(numpy.random.randint(1, 10, size=(5, 4)), columns=list('ABCD'), index=[1, 2, 3, 7, 9])\n",
    "#add.drop(add.index[[4,5]], inplace=True)\n",
    "add"
   ]
  },
  {
   "cell_type": "code",
   "execution_count": 86,
   "metadata": {
    "ExecuteTime": {
     "start_time": "2020-03-20T10:18:52.145Z"
    },
    "scrolled": true
   },
   "outputs": [
    {
     "data": {
      "text/html": [
       "<div>\n",
       "<style scoped>\n",
       "    .dataframe tbody tr th:only-of-type {\n",
       "        vertical-align: middle;\n",
       "    }\n",
       "\n",
       "    .dataframe tbody tr th {\n",
       "        vertical-align: top;\n",
       "    }\n",
       "\n",
       "    .dataframe thead th {\n",
       "        text-align: right;\n",
       "    }\n",
       "</style>\n",
       "<table border=\"1\" class=\"dataframe\">\n",
       "  <thead>\n",
       "    <tr style=\"text-align: right;\">\n",
       "      <th></th>\n",
       "      <th>res</th>\n",
       "      <th>res1</th>\n",
       "      <th>A</th>\n",
       "      <th>B</th>\n",
       "      <th>C</th>\n",
       "      <th>D</th>\n",
       "    </tr>\n",
       "  </thead>\n",
       "  <tbody>\n",
       "    <tr>\n",
       "      <th>1</th>\n",
       "      <td>NaN</td>\n",
       "      <td>NaN</td>\n",
       "      <td>5.0</td>\n",
       "      <td>3.0</td>\n",
       "      <td>4.0</td>\n",
       "      <td>6.0</td>\n",
       "    </tr>\n",
       "    <tr>\n",
       "      <th>2</th>\n",
       "      <td>NaN</td>\n",
       "      <td>NaN</td>\n",
       "      <td>6.0</td>\n",
       "      <td>3.0</td>\n",
       "      <td>3.0</td>\n",
       "      <td>6.0</td>\n",
       "    </tr>\n",
       "    <tr>\n",
       "      <th>3</th>\n",
       "      <td>NaN</td>\n",
       "      <td>NaN</td>\n",
       "      <td>4.0</td>\n",
       "      <td>8.0</td>\n",
       "      <td>7.0</td>\n",
       "      <td>6.0</td>\n",
       "    </tr>\n",
       "    <tr>\n",
       "      <th>4</th>\n",
       "      <td>10.0</td>\n",
       "      <td>20.0</td>\n",
       "      <td>NaN</td>\n",
       "      <td>NaN</td>\n",
       "      <td>NaN</td>\n",
       "      <td>NaN</td>\n",
       "    </tr>\n",
       "    <tr>\n",
       "      <th>7</th>\n",
       "      <td>NaN</td>\n",
       "      <td>NaN</td>\n",
       "      <td>3.0</td>\n",
       "      <td>5.0</td>\n",
       "      <td>8.0</td>\n",
       "      <td>9.0</td>\n",
       "    </tr>\n",
       "    <tr>\n",
       "      <th>9</th>\n",
       "      <td>NaN</td>\n",
       "      <td>NaN</td>\n",
       "      <td>4.0</td>\n",
       "      <td>3.0</td>\n",
       "      <td>8.0</td>\n",
       "      <td>8.0</td>\n",
       "    </tr>\n",
       "    <tr>\n",
       "      <th>four</th>\n",
       "      <td>123010.0</td>\n",
       "      <td>NaN</td>\n",
       "      <td>NaN</td>\n",
       "      <td>NaN</td>\n",
       "      <td>NaN</td>\n",
       "      <td>NaN</td>\n",
       "    </tr>\n",
       "    <tr>\n",
       "      <th>one</th>\n",
       "      <td>133.0</td>\n",
       "      <td>421.0</td>\n",
       "      <td>NaN</td>\n",
       "      <td>NaN</td>\n",
       "      <td>NaN</td>\n",
       "      <td>NaN</td>\n",
       "    </tr>\n",
       "    <tr>\n",
       "      <th>three</th>\n",
       "      <td>12310.0</td>\n",
       "      <td>NaN</td>\n",
       "      <td>NaN</td>\n",
       "      <td>NaN</td>\n",
       "      <td>NaN</td>\n",
       "      <td>NaN</td>\n",
       "    </tr>\n",
       "    <tr>\n",
       "      <th>two</th>\n",
       "      <td>1240.0</td>\n",
       "      <td>NaN</td>\n",
       "      <td>NaN</td>\n",
       "      <td>NaN</td>\n",
       "      <td>NaN</td>\n",
       "      <td>NaN</td>\n",
       "    </tr>\n",
       "  </tbody>\n",
       "</table>\n",
       "</div>"
      ],
      "text/plain": [
       "            res   res1    A    B    C    D\n",
       "1           NaN    NaN  5.0  3.0  4.0  6.0\n",
       "2           NaN    NaN  6.0  3.0  3.0  6.0\n",
       "3           NaN    NaN  4.0  8.0  7.0  6.0\n",
       "4          10.0   20.0  NaN  NaN  NaN  NaN\n",
       "7           NaN    NaN  3.0  5.0  8.0  9.0\n",
       "9           NaN    NaN  4.0  3.0  8.0  8.0\n",
       "four   123010.0    NaN  NaN  NaN  NaN  NaN\n",
       "one       133.0  421.0  NaN  NaN  NaN  NaN\n",
       "three   12310.0    NaN  NaN  NaN  NaN  NaN\n",
       "two      1240.0    NaN  NaN  NaN  NaN  NaN"
      ]
     },
     "execution_count": 86,
     "metadata": {},
     "output_type": "execute_result"
    }
   ],
   "source": [
    "pandas.concat([d, add], axis=1)"
   ]
  },
  {
   "cell_type": "code",
   "execution_count": 87,
   "metadata": {
    "ExecuteTime": {
     "start_time": "2020-03-20T10:18:52.156Z"
    },
    "scrolled": true
   },
   "outputs": [],
   "source": [
    "# pandas.concat([d, add], axis=1, join_axes=[d.index])\n",
    "#??? TypeError: concat() got an unexpected keyword argument 'join_axes'"
   ]
  },
  {
   "cell_type": "code",
   "execution_count": 88,
   "metadata": {
    "ExecuteTime": {
     "start_time": "2020-03-20T10:18:52.163Z"
    },
    "scrolled": true
   },
   "outputs": [
    {
     "data": {
      "text/html": [
       "<div>\n",
       "<style scoped>\n",
       "    .dataframe tbody tr th:only-of-type {\n",
       "        vertical-align: middle;\n",
       "    }\n",
       "\n",
       "    .dataframe tbody tr th {\n",
       "        vertical-align: top;\n",
       "    }\n",
       "\n",
       "    .dataframe thead th {\n",
       "        text-align: right;\n",
       "    }\n",
       "</style>\n",
       "<table border=\"1\" class=\"dataframe\">\n",
       "  <thead>\n",
       "    <tr style=\"text-align: right;\">\n",
       "      <th></th>\n",
       "      <th>0</th>\n",
       "      <th>1</th>\n",
       "      <th>2</th>\n",
       "      <th>3</th>\n",
       "      <th>4</th>\n",
       "      <th>5</th>\n",
       "    </tr>\n",
       "  </thead>\n",
       "  <tbody>\n",
       "    <tr>\n",
       "      <th>1</th>\n",
       "      <td>NaN</td>\n",
       "      <td>NaN</td>\n",
       "      <td>5.0</td>\n",
       "      <td>3.0</td>\n",
       "      <td>4.0</td>\n",
       "      <td>6.0</td>\n",
       "    </tr>\n",
       "    <tr>\n",
       "      <th>2</th>\n",
       "      <td>NaN</td>\n",
       "      <td>NaN</td>\n",
       "      <td>6.0</td>\n",
       "      <td>3.0</td>\n",
       "      <td>3.0</td>\n",
       "      <td>6.0</td>\n",
       "    </tr>\n",
       "    <tr>\n",
       "      <th>3</th>\n",
       "      <td>NaN</td>\n",
       "      <td>NaN</td>\n",
       "      <td>4.0</td>\n",
       "      <td>8.0</td>\n",
       "      <td>7.0</td>\n",
       "      <td>6.0</td>\n",
       "    </tr>\n",
       "    <tr>\n",
       "      <th>4</th>\n",
       "      <td>10.0</td>\n",
       "      <td>20.0</td>\n",
       "      <td>NaN</td>\n",
       "      <td>NaN</td>\n",
       "      <td>NaN</td>\n",
       "      <td>NaN</td>\n",
       "    </tr>\n",
       "    <tr>\n",
       "      <th>7</th>\n",
       "      <td>NaN</td>\n",
       "      <td>NaN</td>\n",
       "      <td>3.0</td>\n",
       "      <td>5.0</td>\n",
       "      <td>8.0</td>\n",
       "      <td>9.0</td>\n",
       "    </tr>\n",
       "    <tr>\n",
       "      <th>9</th>\n",
       "      <td>NaN</td>\n",
       "      <td>NaN</td>\n",
       "      <td>4.0</td>\n",
       "      <td>3.0</td>\n",
       "      <td>8.0</td>\n",
       "      <td>8.0</td>\n",
       "    </tr>\n",
       "    <tr>\n",
       "      <th>four</th>\n",
       "      <td>123010.0</td>\n",
       "      <td>NaN</td>\n",
       "      <td>NaN</td>\n",
       "      <td>NaN</td>\n",
       "      <td>NaN</td>\n",
       "      <td>NaN</td>\n",
       "    </tr>\n",
       "    <tr>\n",
       "      <th>one</th>\n",
       "      <td>133.0</td>\n",
       "      <td>421.0</td>\n",
       "      <td>NaN</td>\n",
       "      <td>NaN</td>\n",
       "      <td>NaN</td>\n",
       "      <td>NaN</td>\n",
       "    </tr>\n",
       "    <tr>\n",
       "      <th>three</th>\n",
       "      <td>12310.0</td>\n",
       "      <td>NaN</td>\n",
       "      <td>NaN</td>\n",
       "      <td>NaN</td>\n",
       "      <td>NaN</td>\n",
       "      <td>NaN</td>\n",
       "    </tr>\n",
       "    <tr>\n",
       "      <th>two</th>\n",
       "      <td>1240.0</td>\n",
       "      <td>NaN</td>\n",
       "      <td>NaN</td>\n",
       "      <td>NaN</td>\n",
       "      <td>NaN</td>\n",
       "      <td>NaN</td>\n",
       "    </tr>\n",
       "  </tbody>\n",
       "</table>\n",
       "</div>"
      ],
      "text/plain": [
       "              0      1    2    3    4    5\n",
       "1           NaN    NaN  5.0  3.0  4.0  6.0\n",
       "2           NaN    NaN  6.0  3.0  3.0  6.0\n",
       "3           NaN    NaN  4.0  8.0  7.0  6.0\n",
       "4          10.0   20.0  NaN  NaN  NaN  NaN\n",
       "7           NaN    NaN  3.0  5.0  8.0  9.0\n",
       "9           NaN    NaN  4.0  3.0  8.0  8.0\n",
       "four   123010.0    NaN  NaN  NaN  NaN  NaN\n",
       "one       133.0  421.0  NaN  NaN  NaN  NaN\n",
       "three   12310.0    NaN  NaN  NaN  NaN  NaN\n",
       "two      1240.0    NaN  NaN  NaN  NaN  NaN"
      ]
     },
     "execution_count": 88,
     "metadata": {},
     "output_type": "execute_result"
    }
   ],
   "source": [
    "pandas.concat([d, add], axis=1, ignore_index=True)"
   ]
  },
  {
   "cell_type": "code",
   "execution_count": 89,
   "metadata": {
    "ExecuteTime": {
     "start_time": "2020-03-20T10:18:52.171Z"
    }
   },
   "outputs": [
    {
     "data": {
      "text/html": [
       "<div>\n",
       "<style scoped>\n",
       "    .dataframe tbody tr th:only-of-type {\n",
       "        vertical-align: middle;\n",
       "    }\n",
       "\n",
       "    .dataframe tbody tr th {\n",
       "        vertical-align: top;\n",
       "    }\n",
       "\n",
       "    .dataframe thead th {\n",
       "        text-align: right;\n",
       "    }\n",
       "</style>\n",
       "<table border=\"1\" class=\"dataframe\">\n",
       "  <thead>\n",
       "    <tr style=\"text-align: right;\">\n",
       "      <th></th>\n",
       "      <th>res</th>\n",
       "      <th>res1</th>\n",
       "      <th>A</th>\n",
       "      <th>B</th>\n",
       "      <th>C</th>\n",
       "      <th>D</th>\n",
       "    </tr>\n",
       "  </thead>\n",
       "  <tbody>\n",
       "    <tr>\n",
       "      <th>one</th>\n",
       "      <td>133</td>\n",
       "      <td>421.0</td>\n",
       "      <td>5</td>\n",
       "      <td>3</td>\n",
       "      <td>4</td>\n",
       "      <td>6</td>\n",
       "    </tr>\n",
       "    <tr>\n",
       "      <th>two</th>\n",
       "      <td>1240</td>\n",
       "      <td>NaN</td>\n",
       "      <td>6</td>\n",
       "      <td>3</td>\n",
       "      <td>3</td>\n",
       "      <td>6</td>\n",
       "    </tr>\n",
       "    <tr>\n",
       "      <th>three</th>\n",
       "      <td>12310</td>\n",
       "      <td>NaN</td>\n",
       "      <td>4</td>\n",
       "      <td>8</td>\n",
       "      <td>7</td>\n",
       "      <td>6</td>\n",
       "    </tr>\n",
       "    <tr>\n",
       "      <th>four</th>\n",
       "      <td>123010</td>\n",
       "      <td>NaN</td>\n",
       "      <td>3</td>\n",
       "      <td>5</td>\n",
       "      <td>8</td>\n",
       "      <td>9</td>\n",
       "    </tr>\n",
       "    <tr>\n",
       "      <th>4</th>\n",
       "      <td>10</td>\n",
       "      <td>20.0</td>\n",
       "      <td>4</td>\n",
       "      <td>3</td>\n",
       "      <td>8</td>\n",
       "      <td>8</td>\n",
       "    </tr>\n",
       "  </tbody>\n",
       "</table>\n",
       "</div>"
      ],
      "text/plain": [
       "          res   res1  A  B  C  D\n",
       "one       133  421.0  5  3  4  6\n",
       "two      1240    NaN  6  3  3  6\n",
       "three   12310    NaN  4  8  7  6\n",
       "four   123010    NaN  3  5  8  9\n",
       "4          10   20.0  4  3  8  8"
      ]
     },
     "execution_count": 89,
     "metadata": {},
     "output_type": "execute_result"
    }
   ],
   "source": [
    "add.index=d.index\n",
    "pandas.concat([d, add], axis=1)"
   ]
  },
  {
   "cell_type": "markdown",
   "metadata": {},
   "source": [
    "### Replace columns"
   ]
  },
  {
   "cell_type": "markdown",
   "metadata": {},
   "source": [
    "#### Same amount"
   ]
  },
  {
   "cell_type": "code",
   "execution_count": 90,
   "metadata": {
    "ExecuteTime": {
     "start_time": "2020-03-20T10:18:52.188Z"
    },
    "scrolled": true
   },
   "outputs": [
    {
     "data": {
      "text/html": [
       "<div>\n",
       "<style scoped>\n",
       "    .dataframe tbody tr th:only-of-type {\n",
       "        vertical-align: middle;\n",
       "    }\n",
       "\n",
       "    .dataframe tbody tr th {\n",
       "        vertical-align: top;\n",
       "    }\n",
       "\n",
       "    .dataframe thead th {\n",
       "        text-align: right;\n",
       "    }\n",
       "</style>\n",
       "<table border=\"1\" class=\"dataframe\">\n",
       "  <thead>\n",
       "    <tr style=\"text-align: right;\">\n",
       "      <th></th>\n",
       "      <th>A</th>\n",
       "      <th>B</th>\n",
       "      <th>C</th>\n",
       "      <th>D</th>\n",
       "      <th>E</th>\n",
       "    </tr>\n",
       "  </thead>\n",
       "  <tbody>\n",
       "    <tr>\n",
       "      <th>0</th>\n",
       "      <td>3</td>\n",
       "      <td>9</td>\n",
       "      <td>7</td>\n",
       "      <td>2</td>\n",
       "      <td>5</td>\n",
       "    </tr>\n",
       "    <tr>\n",
       "      <th>1</th>\n",
       "      <td>6</td>\n",
       "      <td>6</td>\n",
       "      <td>4</td>\n",
       "      <td>1</td>\n",
       "      <td>3</td>\n",
       "    </tr>\n",
       "    <tr>\n",
       "      <th>2</th>\n",
       "      <td>1</td>\n",
       "      <td>8</td>\n",
       "      <td>5</td>\n",
       "      <td>2</td>\n",
       "      <td>6</td>\n",
       "    </tr>\n",
       "    <tr>\n",
       "      <th>3</th>\n",
       "      <td>7</td>\n",
       "      <td>7</td>\n",
       "      <td>8</td>\n",
       "      <td>9</td>\n",
       "      <td>9</td>\n",
       "    </tr>\n",
       "    <tr>\n",
       "      <th>6</th>\n",
       "      <td>4</td>\n",
       "      <td>2</td>\n",
       "      <td>1</td>\n",
       "      <td>2</td>\n",
       "      <td>7</td>\n",
       "    </tr>\n",
       "    <tr>\n",
       "      <th>7</th>\n",
       "      <td>6</td>\n",
       "      <td>6</td>\n",
       "      <td>8</td>\n",
       "      <td>7</td>\n",
       "      <td>3</td>\n",
       "    </tr>\n",
       "  </tbody>\n",
       "</table>\n",
       "</div>"
      ],
      "text/plain": [
       "   A  B  C  D  E\n",
       "0  3  9  7  2  5\n",
       "1  6  6  4  1  3\n",
       "2  1  8  5  2  6\n",
       "3  7  7  8  9  9\n",
       "6  4  2  1  2  7\n",
       "7  6  6  8  7  3"
      ]
     },
     "execution_count": 90,
     "metadata": {},
     "output_type": "execute_result"
    }
   ],
   "source": [
    "df = DataFrame(numpy.random.randint(1, 10, size=(8, 5)), columns=list('ABCDE'))\n",
    "df.drop(df.index[[4,5]], inplace=True)\n",
    "df"
   ]
  },
  {
   "cell_type": "code",
   "execution_count": 91,
   "metadata": {
    "ExecuteTime": {
     "start_time": "2020-03-20T10:18:52.195Z"
    }
   },
   "outputs": [
    {
     "data": {
      "text/html": [
       "<div>\n",
       "<style scoped>\n",
       "    .dataframe tbody tr th:only-of-type {\n",
       "        vertical-align: middle;\n",
       "    }\n",
       "\n",
       "    .dataframe tbody tr th {\n",
       "        vertical-align: top;\n",
       "    }\n",
       "\n",
       "    .dataframe thead th {\n",
       "        text-align: right;\n",
       "    }\n",
       "</style>\n",
       "<table border=\"1\" class=\"dataframe\">\n",
       "  <thead>\n",
       "    <tr style=\"text-align: right;\">\n",
       "      <th></th>\n",
       "      <th>a</th>\n",
       "      <th>b</th>\n",
       "      <th>c</th>\n",
       "    </tr>\n",
       "  </thead>\n",
       "  <tbody>\n",
       "    <tr>\n",
       "      <th>0</th>\n",
       "      <td>-0.973346</td>\n",
       "      <td>-0.291979</td>\n",
       "      <td>1.384523</td>\n",
       "    </tr>\n",
       "    <tr>\n",
       "      <th>1</th>\n",
       "      <td>0.167610</td>\n",
       "      <td>0.852961</td>\n",
       "      <td>-0.168808</td>\n",
       "    </tr>\n",
       "    <tr>\n",
       "      <th>2</th>\n",
       "      <td>1.113061</td>\n",
       "      <td>0.913952</td>\n",
       "      <td>-0.763057</td>\n",
       "    </tr>\n",
       "    <tr>\n",
       "      <th>3</th>\n",
       "      <td>-0.003409</td>\n",
       "      <td>0.098280</td>\n",
       "      <td>0.710590</td>\n",
       "    </tr>\n",
       "    <tr>\n",
       "      <th>4</th>\n",
       "      <td>2.227534</td>\n",
       "      <td>-1.277980</td>\n",
       "      <td>-0.723055</td>\n",
       "    </tr>\n",
       "    <tr>\n",
       "      <th>5</th>\n",
       "      <td>1.561839</td>\n",
       "      <td>0.059169</td>\n",
       "      <td>-0.198323</td>\n",
       "    </tr>\n",
       "  </tbody>\n",
       "</table>\n",
       "</div>"
      ],
      "text/plain": [
       "          a         b         c\n",
       "0 -0.973346 -0.291979  1.384523\n",
       "1  0.167610  0.852961 -0.168808\n",
       "2  1.113061  0.913952 -0.763057\n",
       "3 -0.003409  0.098280  0.710590\n",
       "4  2.227534 -1.277980 -0.723055\n",
       "5  1.561839  0.059169 -0.198323"
      ]
     },
     "execution_count": 91,
     "metadata": {},
     "output_type": "execute_result"
    }
   ],
   "source": [
    "rep = DataFrame(numpy.random.randn(6,3), columns=list('abc'))\n",
    "rep"
   ]
  },
  {
   "cell_type": "code",
   "execution_count": 92,
   "metadata": {
    "ExecuteTime": {
     "start_time": "2020-03-20T10:18:52.204Z"
    }
   },
   "outputs": [
    {
     "data": {
      "text/html": [
       "<div>\n",
       "<style scoped>\n",
       "    .dataframe tbody tr th:only-of-type {\n",
       "        vertical-align: middle;\n",
       "    }\n",
       "\n",
       "    .dataframe tbody tr th {\n",
       "        vertical-align: top;\n",
       "    }\n",
       "\n",
       "    .dataframe thead th {\n",
       "        text-align: right;\n",
       "    }\n",
       "</style>\n",
       "<table border=\"1\" class=\"dataframe\">\n",
       "  <thead>\n",
       "    <tr style=\"text-align: right;\">\n",
       "      <th></th>\n",
       "      <th>A</th>\n",
       "      <th>B</th>\n",
       "      <th>C</th>\n",
       "      <th>D</th>\n",
       "      <th>E</th>\n",
       "    </tr>\n",
       "  </thead>\n",
       "  <tbody>\n",
       "    <tr>\n",
       "      <th>0</th>\n",
       "      <td>3</td>\n",
       "      <td>-0.291979</td>\n",
       "      <td>1.384523</td>\n",
       "      <td>2</td>\n",
       "      <td>5</td>\n",
       "    </tr>\n",
       "    <tr>\n",
       "      <th>1</th>\n",
       "      <td>6</td>\n",
       "      <td>0.852961</td>\n",
       "      <td>-0.168808</td>\n",
       "      <td>1</td>\n",
       "      <td>3</td>\n",
       "    </tr>\n",
       "    <tr>\n",
       "      <th>2</th>\n",
       "      <td>1</td>\n",
       "      <td>0.913952</td>\n",
       "      <td>-0.763057</td>\n",
       "      <td>2</td>\n",
       "      <td>6</td>\n",
       "    </tr>\n",
       "    <tr>\n",
       "      <th>3</th>\n",
       "      <td>7</td>\n",
       "      <td>0.098280</td>\n",
       "      <td>0.710590</td>\n",
       "      <td>9</td>\n",
       "      <td>9</td>\n",
       "    </tr>\n",
       "    <tr>\n",
       "      <th>6</th>\n",
       "      <td>4</td>\n",
       "      <td>NaN</td>\n",
       "      <td>NaN</td>\n",
       "      <td>2</td>\n",
       "      <td>7</td>\n",
       "    </tr>\n",
       "    <tr>\n",
       "      <th>7</th>\n",
       "      <td>6</td>\n",
       "      <td>NaN</td>\n",
       "      <td>NaN</td>\n",
       "      <td>7</td>\n",
       "      <td>3</td>\n",
       "    </tr>\n",
       "  </tbody>\n",
       "</table>\n",
       "</div>"
      ],
      "text/plain": [
       "   A         B         C  D  E\n",
       "0  3 -0.291979  1.384523  2  5\n",
       "1  6  0.852961 -0.168808  1  3\n",
       "2  1  0.913952 -0.763057  2  6\n",
       "3  7  0.098280  0.710590  9  9\n",
       "6  4       NaN       NaN  2  7\n",
       "7  6       NaN       NaN  7  3"
      ]
     },
     "execution_count": 92,
     "metadata": {},
     "output_type": "execute_result"
    }
   ],
   "source": [
    "df[['B','C']] = rep[['b', 'c']]\n",
    "df\n",
    "# Unfortunately only same amount of rows. So:\n",
    "# res[['auc_roc','time_elapsed']] = rep\n",
    "# will lead to error: ValueError: Columns must be same length as key"
   ]
  },
  {
   "cell_type": "markdown",
   "metadata": {},
   "source": [
    "#### Different columns (drop 2, add 3)"
   ]
  },
  {
   "cell_type": "code",
   "execution_count": 93,
   "metadata": {
    "ExecuteTime": {
     "start_time": "2020-03-20T10:18:52.216Z"
    },
    "scrolled": true
   },
   "outputs": [
    {
     "data": {
      "text/html": [
       "<div>\n",
       "<style scoped>\n",
       "    .dataframe tbody tr th:only-of-type {\n",
       "        vertical-align: middle;\n",
       "    }\n",
       "\n",
       "    .dataframe tbody tr th {\n",
       "        vertical-align: top;\n",
       "    }\n",
       "\n",
       "    .dataframe thead th {\n",
       "        text-align: right;\n",
       "    }\n",
       "</style>\n",
       "<table border=\"1\" class=\"dataframe\">\n",
       "  <thead>\n",
       "    <tr style=\"text-align: right;\">\n",
       "      <th></th>\n",
       "      <th>A</th>\n",
       "      <th>D</th>\n",
       "      <th>E</th>\n",
       "      <th>a</th>\n",
       "      <th>b</th>\n",
       "      <th>c</th>\n",
       "    </tr>\n",
       "  </thead>\n",
       "  <tbody>\n",
       "    <tr>\n",
       "      <th>0</th>\n",
       "      <td>3</td>\n",
       "      <td>2</td>\n",
       "      <td>5</td>\n",
       "      <td>-0.973346</td>\n",
       "      <td>-0.291979</td>\n",
       "      <td>1.384523</td>\n",
       "    </tr>\n",
       "    <tr>\n",
       "      <th>1</th>\n",
       "      <td>6</td>\n",
       "      <td>1</td>\n",
       "      <td>3</td>\n",
       "      <td>0.167610</td>\n",
       "      <td>0.852961</td>\n",
       "      <td>-0.168808</td>\n",
       "    </tr>\n",
       "    <tr>\n",
       "      <th>2</th>\n",
       "      <td>1</td>\n",
       "      <td>2</td>\n",
       "      <td>6</td>\n",
       "      <td>1.113061</td>\n",
       "      <td>0.913952</td>\n",
       "      <td>-0.763057</td>\n",
       "    </tr>\n",
       "    <tr>\n",
       "      <th>3</th>\n",
       "      <td>7</td>\n",
       "      <td>9</td>\n",
       "      <td>9</td>\n",
       "      <td>-0.003409</td>\n",
       "      <td>0.098280</td>\n",
       "      <td>0.710590</td>\n",
       "    </tr>\n",
       "    <tr>\n",
       "      <th>6</th>\n",
       "      <td>4</td>\n",
       "      <td>2</td>\n",
       "      <td>7</td>\n",
       "      <td>NaN</td>\n",
       "      <td>NaN</td>\n",
       "      <td>NaN</td>\n",
       "    </tr>\n",
       "    <tr>\n",
       "      <th>7</th>\n",
       "      <td>6</td>\n",
       "      <td>7</td>\n",
       "      <td>3</td>\n",
       "      <td>NaN</td>\n",
       "      <td>NaN</td>\n",
       "      <td>NaN</td>\n",
       "    </tr>\n",
       "  </tbody>\n",
       "</table>\n",
       "</div>"
      ],
      "text/plain": [
       "   A  D  E         a         b         c\n",
       "0  3  2  5 -0.973346 -0.291979  1.384523\n",
       "1  6  1  3  0.167610  0.852961 -0.168808\n",
       "2  1  2  6  1.113061  0.913952 -0.763057\n",
       "3  7  9  9 -0.003409  0.098280  0.710590\n",
       "6  4  2  7       NaN       NaN       NaN\n",
       "7  6  7  3       NaN       NaN       NaN"
      ]
     },
     "execution_count": 93,
     "metadata": {},
     "output_type": "execute_result"
    }
   ],
   "source": [
    "df.drop(\n",
    "    ['B','C'], axis=1\n",
    "    #, inplace=True\n",
    ").join(rep)"
   ]
  },
  {
   "cell_type": "markdown",
   "metadata": {},
   "source": [
    "#### Do NOT preserve indexes"
   ]
  },
  {
   "cell_type": "code",
   "execution_count": 94,
   "metadata": {
    "ExecuteTime": {
     "start_time": "2020-03-20T10:18:52.228Z"
    }
   },
   "outputs": [
    {
     "data": {
      "text/html": [
       "<div>\n",
       "<style scoped>\n",
       "    .dataframe tbody tr th:only-of-type {\n",
       "        vertical-align: middle;\n",
       "    }\n",
       "\n",
       "    .dataframe tbody tr th {\n",
       "        vertical-align: top;\n",
       "    }\n",
       "\n",
       "    .dataframe thead th {\n",
       "        text-align: right;\n",
       "    }\n",
       "</style>\n",
       "<table border=\"1\" class=\"dataframe\">\n",
       "  <thead>\n",
       "    <tr style=\"text-align: right;\">\n",
       "      <th></th>\n",
       "      <th>A</th>\n",
       "      <th>B</th>\n",
       "      <th>C</th>\n",
       "      <th>D</th>\n",
       "      <th>E</th>\n",
       "    </tr>\n",
       "  </thead>\n",
       "  <tbody>\n",
       "    <tr>\n",
       "      <th>0</th>\n",
       "      <td>3</td>\n",
       "      <td>-0.291979</td>\n",
       "      <td>1.384523</td>\n",
       "      <td>2</td>\n",
       "      <td>5</td>\n",
       "    </tr>\n",
       "    <tr>\n",
       "      <th>1</th>\n",
       "      <td>6</td>\n",
       "      <td>0.852961</td>\n",
       "      <td>-0.168808</td>\n",
       "      <td>1</td>\n",
       "      <td>3</td>\n",
       "    </tr>\n",
       "    <tr>\n",
       "      <th>2</th>\n",
       "      <td>1</td>\n",
       "      <td>0.913952</td>\n",
       "      <td>-0.763057</td>\n",
       "      <td>2</td>\n",
       "      <td>6</td>\n",
       "    </tr>\n",
       "    <tr>\n",
       "      <th>3</th>\n",
       "      <td>7</td>\n",
       "      <td>0.098280</td>\n",
       "      <td>0.710590</td>\n",
       "      <td>9</td>\n",
       "      <td>9</td>\n",
       "    </tr>\n",
       "    <tr>\n",
       "      <th>6</th>\n",
       "      <td>4</td>\n",
       "      <td>-1.277980</td>\n",
       "      <td>-0.723055</td>\n",
       "      <td>2</td>\n",
       "      <td>7</td>\n",
       "    </tr>\n",
       "    <tr>\n",
       "      <th>7</th>\n",
       "      <td>6</td>\n",
       "      <td>0.059169</td>\n",
       "      <td>-0.198323</td>\n",
       "      <td>7</td>\n",
       "      <td>3</td>\n",
       "    </tr>\n",
       "  </tbody>\n",
       "</table>\n",
       "</div>"
      ],
      "text/plain": [
       "   A         B         C  D  E\n",
       "0  3 -0.291979  1.384523  2  5\n",
       "1  6  0.852961 -0.168808  1  3\n",
       "2  1  0.913952 -0.763057  2  6\n",
       "3  7  0.098280  0.710590  9  9\n",
       "6  4 -1.277980 -0.723055  2  7\n",
       "7  6  0.059169 -0.198323  7  3"
      ]
     },
     "execution_count": 94,
     "metadata": {},
     "output_type": "execute_result"
    }
   ],
   "source": [
    "rep_ = rep[['b', 'c']]\n",
    "rep_.index = df[['B','C']].index\n",
    "rep_\n",
    "df[['B','C']] = rep_\n",
    "df"
   ]
  },
  {
   "cell_type": "code",
   "execution_count": 95,
   "metadata": {
    "ExecuteTime": {
     "start_time": "2020-03-20T10:18:52.236Z"
    },
    "scrolled": true
   },
   "outputs": [],
   "source": [
    "#rep_ = rep[['b', 'c']]\n",
    "#rep_.index = df[['B','C']].index\n",
    "#rep_\n",
    "#df << rep_\n",
    "#df\n",
    "\n",
    "#??? TypeError: unsupported operand type(s) for <<: 'DataFrame' and 'DataFrame'"
   ]
  },
  {
   "cell_type": "markdown",
   "metadata": {},
   "source": [
    "### Удаление строк (row remove)\n",
    "\n",
    "http://stackoverflow.com/questions/14661701/how-to-drop-a-list-of-rows-from-pandas-dataframe"
   ]
  },
  {
   "cell_type": "code",
   "execution_count": 96,
   "metadata": {
    "ExecuteTime": {
     "start_time": "2020-03-20T10:18:52.250Z"
    },
    "scrolled": true
   },
   "outputs": [
    {
     "data": {
      "text/html": [
       "<div>\n",
       "<style scoped>\n",
       "    .dataframe tbody tr th:only-of-type {\n",
       "        vertical-align: middle;\n",
       "    }\n",
       "\n",
       "    .dataframe tbody tr th {\n",
       "        vertical-align: top;\n",
       "    }\n",
       "\n",
       "    .dataframe thead th {\n",
       "        text-align: right;\n",
       "    }\n",
       "</style>\n",
       "<table border=\"1\" class=\"dataframe\">\n",
       "  <thead>\n",
       "    <tr style=\"text-align: right;\">\n",
       "      <th></th>\n",
       "      <th>res</th>\n",
       "      <th>res1</th>\n",
       "    </tr>\n",
       "  </thead>\n",
       "  <tbody>\n",
       "    <tr>\n",
       "      <th>one</th>\n",
       "      <td>133</td>\n",
       "      <td>421.0</td>\n",
       "    </tr>\n",
       "    <tr>\n",
       "      <th>three</th>\n",
       "      <td>12310</td>\n",
       "      <td>NaN</td>\n",
       "    </tr>\n",
       "    <tr>\n",
       "      <th>4</th>\n",
       "      <td>10</td>\n",
       "      <td>20.0</td>\n",
       "    </tr>\n",
       "  </tbody>\n",
       "</table>\n",
       "</div>"
      ],
      "text/plain": [
       "         res   res1\n",
       "one      133  421.0\n",
       "three  12310    NaN\n",
       "4         10   20.0"
      ]
     },
     "execution_count": 96,
     "metadata": {},
     "output_type": "execute_result"
    }
   ],
   "source": [
    "d.drop(d.index[[1,3]])"
   ]
  },
  {
   "cell_type": "code",
   "execution_count": 97,
   "metadata": {
    "ExecuteTime": {
     "start_time": "2020-03-20T10:18:52.259Z"
    }
   },
   "outputs": [
    {
     "data": {
      "text/plain": [
       "Index(['two', 'four'], dtype='object')"
      ]
     },
     "execution_count": 97,
     "metadata": {},
     "output_type": "execute_result"
    }
   ],
   "source": [
    "d.index[[1,3]]"
   ]
  },
  {
   "cell_type": "code",
   "execution_count": 98,
   "metadata": {
    "ExecuteTime": {
     "start_time": "2020-03-20T10:18:52.266Z"
    }
   },
   "outputs": [
    {
     "data": {
      "text/html": [
       "<div>\n",
       "<style scoped>\n",
       "    .dataframe tbody tr th:only-of-type {\n",
       "        vertical-align: middle;\n",
       "    }\n",
       "\n",
       "    .dataframe tbody tr th {\n",
       "        vertical-align: top;\n",
       "    }\n",
       "\n",
       "    .dataframe thead th {\n",
       "        text-align: right;\n",
       "    }\n",
       "</style>\n",
       "<table border=\"1\" class=\"dataframe\">\n",
       "  <thead>\n",
       "    <tr style=\"text-align: right;\">\n",
       "      <th></th>\n",
       "      <th>res</th>\n",
       "      <th>res1</th>\n",
       "    </tr>\n",
       "  </thead>\n",
       "  <tbody>\n",
       "    <tr>\n",
       "      <th>one</th>\n",
       "      <td>133</td>\n",
       "      <td>421.0</td>\n",
       "    </tr>\n",
       "    <tr>\n",
       "      <th>two</th>\n",
       "      <td>1240</td>\n",
       "      <td>NaN</td>\n",
       "    </tr>\n",
       "    <tr>\n",
       "      <th>four</th>\n",
       "      <td>123010</td>\n",
       "      <td>NaN</td>\n",
       "    </tr>\n",
       "    <tr>\n",
       "      <th>4</th>\n",
       "      <td>10</td>\n",
       "      <td>20.0</td>\n",
       "    </tr>\n",
       "  </tbody>\n",
       "</table>\n",
       "</div>"
      ],
      "text/plain": [
       "         res   res1\n",
       "one      133  421.0\n",
       "two     1240    NaN\n",
       "four  123010    NaN\n",
       "4         10   20.0"
      ]
     },
     "execution_count": 98,
     "metadata": {},
     "output_type": "execute_result"
    }
   ],
   "source": [
    "d.drop(d.index[[2]])"
   ]
  },
  {
   "cell_type": "code",
   "execution_count": 99,
   "metadata": {
    "ExecuteTime": {
     "start_time": "2020-03-20T10:18:52.274Z"
    }
   },
   "outputs": [
    {
     "data": {
      "text/html": [
       "<div>\n",
       "<style scoped>\n",
       "    .dataframe tbody tr th:only-of-type {\n",
       "        vertical-align: middle;\n",
       "    }\n",
       "\n",
       "    .dataframe tbody tr th {\n",
       "        vertical-align: top;\n",
       "    }\n",
       "\n",
       "    .dataframe thead th {\n",
       "        text-align: right;\n",
       "    }\n",
       "</style>\n",
       "<table border=\"1\" class=\"dataframe\">\n",
       "  <thead>\n",
       "    <tr style=\"text-align: right;\">\n",
       "      <th></th>\n",
       "      <th>res</th>\n",
       "      <th>res1</th>\n",
       "    </tr>\n",
       "  </thead>\n",
       "  <tbody>\n",
       "    <tr>\n",
       "      <th>one</th>\n",
       "      <td>133</td>\n",
       "      <td>421.0</td>\n",
       "    </tr>\n",
       "    <tr>\n",
       "      <th>two</th>\n",
       "      <td>1240</td>\n",
       "      <td>NaN</td>\n",
       "    </tr>\n",
       "    <tr>\n",
       "      <th>four</th>\n",
       "      <td>123010</td>\n",
       "      <td>NaN</td>\n",
       "    </tr>\n",
       "    <tr>\n",
       "      <th>4</th>\n",
       "      <td>10</td>\n",
       "      <td>20.0</td>\n",
       "    </tr>\n",
       "  </tbody>\n",
       "</table>\n",
       "</div>"
      ],
      "text/plain": [
       "         res   res1\n",
       "one      133  421.0\n",
       "two     1240    NaN\n",
       "four  123010    NaN\n",
       "4         10   20.0"
      ]
     },
     "execution_count": 99,
     "metadata": {},
     "output_type": "execute_result"
    }
   ],
   "source": [
    "d.drop(d.index[2])"
   ]
  },
  {
   "cell_type": "markdown",
   "metadata": {},
   "source": [
    "### Удаление столбцов (column remove)"
   ]
  },
  {
   "cell_type": "code",
   "execution_count": 100,
   "metadata": {
    "ExecuteTime": {
     "start_time": "2020-03-20T10:18:52.287Z"
    }
   },
   "outputs": [
    {
     "data": {
      "text/html": [
       "<div>\n",
       "<style scoped>\n",
       "    .dataframe tbody tr th:only-of-type {\n",
       "        vertical-align: middle;\n",
       "    }\n",
       "\n",
       "    .dataframe tbody tr th {\n",
       "        vertical-align: top;\n",
       "    }\n",
       "\n",
       "    .dataframe thead th {\n",
       "        text-align: right;\n",
       "    }\n",
       "</style>\n",
       "<table border=\"1\" class=\"dataframe\">\n",
       "  <thead>\n",
       "    <tr style=\"text-align: right;\">\n",
       "      <th></th>\n",
       "      <th>A</th>\n",
       "      <th>B</th>\n",
       "      <th>C</th>\n",
       "    </tr>\n",
       "  </thead>\n",
       "  <tbody>\n",
       "    <tr>\n",
       "      <th>0</th>\n",
       "      <td>-0.586438</td>\n",
       "      <td>1.915910</td>\n",
       "      <td>0.000404</td>\n",
       "    </tr>\n",
       "    <tr>\n",
       "      <th>1</th>\n",
       "      <td>0.505076</td>\n",
       "      <td>1.055403</td>\n",
       "      <td>-1.436197</td>\n",
       "    </tr>\n",
       "    <tr>\n",
       "      <th>2</th>\n",
       "      <td>0.063189</td>\n",
       "      <td>-0.183239</td>\n",
       "      <td>0.199857</td>\n",
       "    </tr>\n",
       "    <tr>\n",
       "      <th>3</th>\n",
       "      <td>-0.559880</td>\n",
       "      <td>1.870335</td>\n",
       "      <td>0.756060</td>\n",
       "    </tr>\n",
       "    <tr>\n",
       "      <th>4</th>\n",
       "      <td>-1.513214</td>\n",
       "      <td>-0.492525</td>\n",
       "      <td>-0.771845</td>\n",
       "    </tr>\n",
       "    <tr>\n",
       "      <th>5</th>\n",
       "      <td>-1.480082</td>\n",
       "      <td>-0.315035</td>\n",
       "      <td>0.421150</td>\n",
       "    </tr>\n",
       "    <tr>\n",
       "      <th>6</th>\n",
       "      <td>0.726358</td>\n",
       "      <td>-0.337403</td>\n",
       "      <td>-1.255467</td>\n",
       "    </tr>\n",
       "    <tr>\n",
       "      <th>7</th>\n",
       "      <td>-0.660284</td>\n",
       "      <td>-1.414345</td>\n",
       "      <td>0.225802</td>\n",
       "    </tr>\n",
       "    <tr>\n",
       "      <th>8</th>\n",
       "      <td>-0.957532</td>\n",
       "      <td>0.317615</td>\n",
       "      <td>0.444829</td>\n",
       "    </tr>\n",
       "    <tr>\n",
       "      <th>9</th>\n",
       "      <td>0.373756</td>\n",
       "      <td>-1.352563</td>\n",
       "      <td>-0.028696</td>\n",
       "    </tr>\n",
       "  </tbody>\n",
       "</table>\n",
       "</div>"
      ],
      "text/plain": [
       "          A         B         C\n",
       "0 -0.586438  1.915910  0.000404\n",
       "1  0.505076  1.055403 -1.436197\n",
       "2  0.063189 -0.183239  0.199857\n",
       "3 -0.559880  1.870335  0.756060\n",
       "4 -1.513214 -0.492525 -0.771845\n",
       "5 -1.480082 -0.315035  0.421150\n",
       "6  0.726358 -0.337403 -1.255467\n",
       "7 -0.660284 -1.414345  0.225802\n",
       "8 -0.957532  0.317615  0.444829\n",
       "9  0.373756 -1.352563 -0.028696"
      ]
     },
     "execution_count": 100,
     "metadata": {},
     "output_type": "execute_result"
    }
   ],
   "source": [
    "rm = DataFrame(numpy.random.randn(10,3), columns=list('ABC'))\n",
    "rm"
   ]
  },
  {
   "cell_type": "markdown",
   "metadata": {},
   "source": [
    "#### Safe remove if exists"
   ]
  },
  {
   "cell_type": "code",
   "execution_count": 101,
   "metadata": {
    "ExecuteTime": {
     "start_time": "2020-03-20T10:18:52.299Z"
    }
   },
   "outputs": [
    {
     "data": {
      "text/html": [
       "<div>\n",
       "<style scoped>\n",
       "    .dataframe tbody tr th:only-of-type {\n",
       "        vertical-align: middle;\n",
       "    }\n",
       "\n",
       "    .dataframe tbody tr th {\n",
       "        vertical-align: top;\n",
       "    }\n",
       "\n",
       "    .dataframe thead th {\n",
       "        text-align: right;\n",
       "    }\n",
       "</style>\n",
       "<table border=\"1\" class=\"dataframe\">\n",
       "  <thead>\n",
       "    <tr style=\"text-align: right;\">\n",
       "      <th></th>\n",
       "      <th>A</th>\n",
       "    </tr>\n",
       "  </thead>\n",
       "  <tbody>\n",
       "    <tr>\n",
       "      <th>0</th>\n",
       "      <td>-0.586438</td>\n",
       "    </tr>\n",
       "    <tr>\n",
       "      <th>1</th>\n",
       "      <td>0.505076</td>\n",
       "    </tr>\n",
       "    <tr>\n",
       "      <th>2</th>\n",
       "      <td>0.063189</td>\n",
       "    </tr>\n",
       "    <tr>\n",
       "      <th>3</th>\n",
       "      <td>-0.559880</td>\n",
       "    </tr>\n",
       "    <tr>\n",
       "      <th>4</th>\n",
       "      <td>-1.513214</td>\n",
       "    </tr>\n",
       "    <tr>\n",
       "      <th>5</th>\n",
       "      <td>-1.480082</td>\n",
       "    </tr>\n",
       "    <tr>\n",
       "      <th>6</th>\n",
       "      <td>0.726358</td>\n",
       "    </tr>\n",
       "    <tr>\n",
       "      <th>7</th>\n",
       "      <td>-0.660284</td>\n",
       "    </tr>\n",
       "    <tr>\n",
       "      <th>8</th>\n",
       "      <td>-0.957532</td>\n",
       "    </tr>\n",
       "    <tr>\n",
       "      <th>9</th>\n",
       "      <td>0.373756</td>\n",
       "    </tr>\n",
       "  </tbody>\n",
       "</table>\n",
       "</div>"
      ],
      "text/plain": [
       "          A\n",
       "0 -0.586438\n",
       "1  0.505076\n",
       "2  0.063189\n",
       "3 -0.559880\n",
       "4 -1.513214\n",
       "5 -1.480082\n",
       "6  0.726358\n",
       "7 -0.660284\n",
       "8 -0.957532\n",
       "9  0.373756"
      ]
     },
     "execution_count": 101,
     "metadata": {},
     "output_type": "execute_result"
    }
   ],
   "source": [
    "# Second time:\n",
    "rm.drop(['B', 'C'], axis=1, inplace=True)\n",
    "rm\n",
    "# ValueError: labels ['B' 'C'] not contained in axis"
   ]
  },
  {
   "cell_type": "code",
   "execution_count": 102,
   "metadata": {
    "ExecuteTime": {
     "start_time": "2020-03-20T10:18:52.309Z"
    }
   },
   "outputs": [
    {
     "data": {
      "text/html": [
       "<div>\n",
       "<style scoped>\n",
       "    .dataframe tbody tr th:only-of-type {\n",
       "        vertical-align: middle;\n",
       "    }\n",
       "\n",
       "    .dataframe tbody tr th {\n",
       "        vertical-align: top;\n",
       "    }\n",
       "\n",
       "    .dataframe thead th {\n",
       "        text-align: right;\n",
       "    }\n",
       "</style>\n",
       "<table border=\"1\" class=\"dataframe\">\n",
       "  <thead>\n",
       "    <tr style=\"text-align: right;\">\n",
       "      <th></th>\n",
       "      <th>A</th>\n",
       "    </tr>\n",
       "  </thead>\n",
       "  <tbody>\n",
       "    <tr>\n",
       "      <th>0</th>\n",
       "      <td>-0.586438</td>\n",
       "    </tr>\n",
       "    <tr>\n",
       "      <th>1</th>\n",
       "      <td>0.505076</td>\n",
       "    </tr>\n",
       "    <tr>\n",
       "      <th>2</th>\n",
       "      <td>0.063189</td>\n",
       "    </tr>\n",
       "    <tr>\n",
       "      <th>3</th>\n",
       "      <td>-0.559880</td>\n",
       "    </tr>\n",
       "    <tr>\n",
       "      <th>4</th>\n",
       "      <td>-1.513214</td>\n",
       "    </tr>\n",
       "    <tr>\n",
       "      <th>5</th>\n",
       "      <td>-1.480082</td>\n",
       "    </tr>\n",
       "    <tr>\n",
       "      <th>6</th>\n",
       "      <td>0.726358</td>\n",
       "    </tr>\n",
       "    <tr>\n",
       "      <th>7</th>\n",
       "      <td>-0.660284</td>\n",
       "    </tr>\n",
       "    <tr>\n",
       "      <th>8</th>\n",
       "      <td>-0.957532</td>\n",
       "    </tr>\n",
       "    <tr>\n",
       "      <th>9</th>\n",
       "      <td>0.373756</td>\n",
       "    </tr>\n",
       "  </tbody>\n",
       "</table>\n",
       "</div>"
      ],
      "text/plain": [
       "          A\n",
       "0 -0.586438\n",
       "1  0.505076\n",
       "2  0.063189\n",
       "3 -0.559880\n",
       "4 -1.513214\n",
       "5 -1.480082\n",
       "6  0.726358\n",
       "7 -0.660284\n",
       "8 -0.957532\n",
       "9  0.373756"
      ]
     },
     "execution_count": 102,
     "metadata": {},
     "output_type": "execute_result"
    }
   ],
   "source": [
    "# For intersection see http://localhost:8888/notebooks/final.assignment/Kaggle/ArraysSandbox.ipynb#Intersection\n",
    "rm.drop(set(rm.columns) & set(['B', 'C']), axis=1, inplace=True)\n",
    "rm"
   ]
  },
  {
   "cell_type": "markdown",
   "metadata": {},
   "source": [
    "### String format of row (row unpacking)"
   ]
  },
  {
   "cell_type": "code",
   "execution_count": 103,
   "metadata": {},
   "outputs": [],
   "source": [
    "d = DataFrame([[1, 2], [3, 8], [7, 8], [12, 9], [17, 18]], columns=['train', 'test'])\n",
    "d.index = [10, 20, 30, 40, 50]"
   ]
  },
  {
   "cell_type": "code",
   "execution_count": 104,
   "metadata": {
    "ExecuteTime": {
     "start_time": "2020-03-20T10:18:52.321Z"
    }
   },
   "outputs": [
    {
     "data": {
      "text/plain": [
       "'train=1; test=2'"
      ]
     },
     "execution_count": 104,
     "metadata": {},
     "output_type": "execute_result"
    }
   ],
   "source": [
    "\"train={train}; test={test}\".format(**d.loc[10])"
   ]
  },
  {
   "cell_type": "markdown",
   "metadata": {},
   "source": [
    "### Columns string concat"
   ]
  },
  {
   "cell_type": "code",
   "execution_count": 105,
   "metadata": {
    "ExecuteTime": {
     "start_time": "2020-03-20T10:18:52.331Z"
    }
   },
   "outputs": [
    {
     "data": {
      "text/plain": [
       "{'one': {'A': 1, 'B': 2, 'C': [1, 2, 3], 'D': {'res': 123, 'res1': 321}},\n",
       " 'two': {'A': 11, 'B': 22, 'C': [11, 22, 33], 'D': {'res': 1230}},\n",
       " 'three': {'A': 111, 'B': 222, 'C': [111, 222, 333], 'D': {'res': 12300}},\n",
       " 'four': {'A': 1111, 'B': 2222, 'C': [1111, 2222, 3333], 'D': {'res': 123000}}}"
      ]
     },
     "execution_count": 105,
     "metadata": {},
     "output_type": "execute_result"
    }
   ],
   "source": [
    "res"
   ]
  },
  {
   "cell_type": "code",
   "execution_count": 106,
   "metadata": {
    "ExecuteTime": {
     "start_time": "2020-03-20T10:18:52.340Z"
    }
   },
   "outputs": [
    {
     "ename": "AttributeError",
     "evalue": "'dict' object has no attribute 'n_estimators'",
     "output_type": "error",
     "traceback": [
      "\u001b[0;31m---------------------------------------------------------------------------\u001b[0m",
      "\u001b[0;31mAttributeError\u001b[0m                            Traceback (most recent call last)",
      "\u001b[0;32m<ipython-input-106-b35d6fa2a031>\u001b[0m in \u001b[0;36m<module>\u001b[0;34m\u001b[0m\n\u001b[1;32m      1\u001b[0m \u001b[0;31m# http://stackoverflow.com/questions/19377969/combine-two-columns-of-text-in-dataframe-in-pandas-python\u001b[0m\u001b[0;34m\u001b[0m\u001b[0;34m\u001b[0m\u001b[0;34m\u001b[0m\u001b[0m\n\u001b[0;32m----> 2\u001b[0;31m \u001b[0mres\u001b[0m\u001b[0;34m[\u001b[0m\u001b[0;34m'n&time'\u001b[0m\u001b[0;34m]\u001b[0m \u001b[0;34m=\u001b[0m \u001b[0mres\u001b[0m\u001b[0;34m.\u001b[0m\u001b[0mn_estimators\u001b[0m\u001b[0;34m.\u001b[0m\u001b[0mastype\u001b[0m\u001b[0;34m(\u001b[0m\u001b[0mstr\u001b[0m\u001b[0;34m)\u001b[0m\u001b[0;34m.\u001b[0m\u001b[0mstr\u001b[0m\u001b[0;34m.\u001b[0m\u001b[0mcat\u001b[0m\u001b[0;34m(\u001b[0m\u001b[0mres\u001b[0m\u001b[0;34m.\u001b[0m\u001b[0mtime_elapsed\u001b[0m\u001b[0;34m.\u001b[0m\u001b[0mastype\u001b[0m\u001b[0;34m(\u001b[0m\u001b[0mstr\u001b[0m\u001b[0;34m)\u001b[0m\u001b[0;34m,\u001b[0m \u001b[0msep\u001b[0m\u001b[0;34m=\u001b[0m\u001b[0;34m'\\n'\u001b[0m\u001b[0;34m)\u001b[0m\u001b[0;34m\u001b[0m\u001b[0;34m\u001b[0m\u001b[0m\n\u001b[0m\u001b[1;32m      3\u001b[0m \u001b[0mres\u001b[0m\u001b[0;34m\u001b[0m\u001b[0;34m\u001b[0m\u001b[0m\n",
      "\u001b[0;31mAttributeError\u001b[0m: 'dict' object has no attribute 'n_estimators'"
     ]
    }
   ],
   "source": [
    "# http://stackoverflow.com/questions/19377969/combine-two-columns-of-text-in-dataframe-in-pandas-python\n",
    "res['n&time'] = res.n_estimators.astype(str).str.cat(res.time_elapsed.astype(str), sep='\\n')\n",
    "res"
   ]
  },
  {
   "cell_type": "code",
   "execution_count": null,
   "metadata": {
    "ExecuteTime": {
     "start_time": "2020-03-20T10:18:52.351Z"
    },
    "scrolled": true
   },
   "outputs": [],
   "source": [
    "# http://stackoverflow.com/questions/20025882/append-string-to-the-start-of-each-value-in-a-said-column-of-a-pandas-dataframe\n",
    "res['n&time'] = 'n_estimators=' + res.time_elapsed.astype(str) + '\\n<br />'\n",
    "res"
   ]
  },
  {
   "cell_type": "markdown",
   "metadata": {},
   "source": [
    "### Column names suffiexes/prefixes"
   ]
  },
  {
   "cell_type": "code",
   "execution_count": null,
   "metadata": {
    "ExecuteTime": {
     "start_time": "2020-03-20T10:18:52.362Z"
    }
   },
   "outputs": [],
   "source": [
    "res.add_suffix(':some')"
   ]
  },
  {
   "cell_type": "code",
   "execution_count": null,
   "metadata": {
    "ExecuteTime": {
     "start_time": "2020-03-20T10:18:52.370Z"
    }
   },
   "outputs": [],
   "source": [
    "res.add_prefix('some:')"
   ]
  },
  {
   "cell_type": "markdown",
   "metadata": {},
   "source": [
    "### Map, apply"
   ]
  },
  {
   "cell_type": "code",
   "execution_count": null,
   "metadata": {
    "ExecuteTime": {
     "start_time": "2020-03-20T10:18:52.381Z"
    },
    "scrolled": true
   },
   "outputs": [],
   "source": [
    "sdf.A.map(lambda x: x > 5)"
   ]
  },
  {
   "cell_type": "code",
   "execution_count": null,
   "metadata": {
    "ExecuteTime": {
     "start_time": "2020-03-20T10:18:52.389Z"
    }
   },
   "outputs": [],
   "source": [
    "d1 = df.D.apply(lambda it: it['res'])\n",
    "d1"
   ]
  },
  {
   "cell_type": "markdown",
   "metadata": {},
   "source": [
    "## Nan, Nulls\n",
    "\n",
    "http://pandas.pydata.org/pandas-docs/stable/missing_data.html#filling-with-a-pandasobject\n",
    "\n",
    "Good example: http://chrisalbon.com/python/pandas_missing_data.html"
   ]
  },
  {
   "cell_type": "code",
   "execution_count": null,
   "metadata": {
    "ExecuteTime": {
     "start_time": "2020-03-20T10:18:52.402Z"
    }
   },
   "outputs": [],
   "source": [
    "dff = DataFrame(numpy.random.randn(10,3), columns=list('ABC'))\n",
    "dff.iloc[3:5,0] = numpy.nan\n",
    "dff.iloc[4:6,1] = numpy.nan\n",
    "dff.iloc[5:8,2] = numpy.nan\n",
    "dff"
   ]
  },
  {
   "cell_type": "code",
   "execution_count": null,
   "metadata": {
    "ExecuteTime": {
     "start_time": "2020-03-20T10:18:52.409Z"
    }
   },
   "outputs": [],
   "source": [
    "pd.isnull(dff)"
   ]
  },
  {
   "cell_type": "code",
   "execution_count": null,
   "metadata": {
    "ExecuteTime": {
     "start_time": "2020-03-20T10:18:52.417Z"
    },
    "scrolled": true
   },
   "outputs": [],
   "source": [
    "dff.isnull()"
   ]
  },
  {
   "cell_type": "code",
   "execution_count": null,
   "metadata": {
    "ExecuteTime": {
     "start_time": "2020-03-20T10:18:52.426Z"
    }
   },
   "outputs": [],
   "source": [
    "# http://stackoverflow.com/questions/14247586/python-pandas-how-to-select-rows-with-one-or-more-nulls-from-a-dataframe-without\n",
    "dff.isnull().any(axis=1)"
   ]
  },
  {
   "cell_type": "code",
   "execution_count": null,
   "metadata": {
    "ExecuteTime": {
     "start_time": "2020-03-20T10:18:52.435Z"
    }
   },
   "outputs": [],
   "source": [
    "dff.isnull().any(axis=0)"
   ]
  },
  {
   "cell_type": "markdown",
   "metadata": {},
   "source": [
    "### Count nulls\n",
    "\n",
    "http://stackoverflow.com/questions/29971075/count-number-of-non-nan-entries-in-every-column-of-dataframe\n",
    "\n",
    "Count not-Nulls:\n",
    "http://pandas.pydata.org/pandas-docs/stable/generated/pandas.DataFrame.count.html\n",
    "\n",
    "Count Nulls:\n",
    "http://stackoverflow.com/questions/30059260/python-pandas-counting-the-number-of-nan-in-each-row"
   ]
  },
  {
   "cell_type": "code",
   "execution_count": null,
   "metadata": {
    "ExecuteTime": {
     "start_time": "2020-03-20T10:18:52.445Z"
    }
   },
   "outputs": [],
   "source": [
    "dff"
   ]
  },
  {
   "cell_type": "code",
   "execution_count": null,
   "metadata": {
    "ExecuteTime": {
     "start_time": "2020-03-20T10:18:52.453Z"
    }
   },
   "outputs": [],
   "source": [
    "# Count not-Nulls by column\n",
    "dff.count(axis=0)"
   ]
  },
  {
   "cell_type": "code",
   "execution_count": null,
   "metadata": {
    "ExecuteTime": {
     "start_time": "2020-03-20T10:18:52.462Z"
    }
   },
   "outputs": [],
   "source": [
    "# Count not-Nulls by row\n",
    "dff.count(axis=1)"
   ]
  },
  {
   "cell_type": "code",
   "execution_count": null,
   "metadata": {
    "ExecuteTime": {
     "start_time": "2020-03-20T10:18:52.469Z"
    }
   },
   "outputs": [],
   "source": [
    "# http://stackoverflow.com/questions/30059260/python-pandas-counting-the-number-of-nan-in-each-row\n",
    "# Count Nulls\n",
    "dff.isnull().sum()"
   ]
  },
  {
   "cell_type": "markdown",
   "metadata": {},
   "source": [
    "### Rows with NaN in any column\n",
    "\n",
    "http://stackoverflow.com/questions/14247586/python-pandas-how-to-select-rows-with-one-or-more-nulls-from-a-dataframe-without"
   ]
  },
  {
   "cell_type": "code",
   "execution_count": null,
   "metadata": {
    "ExecuteTime": {
     "start_time": "2020-03-20T10:18:52.482Z"
    }
   },
   "outputs": [],
   "source": [
    "dff[ dff.isnull().any(axis=1) ]"
   ]
  },
  {
   "cell_type": "markdown",
   "metadata": {},
   "source": [
    "### Fillna gaps\n",
    "\n",
    "http://pandas.pydata.org/pandas-docs/stable/missing_data.html#filling-with-a-pandasobject"
   ]
  },
  {
   "cell_type": "code",
   "execution_count": null,
   "metadata": {
    "ExecuteTime": {
     "start_time": "2020-03-20T10:18:52.493Z"
    },
    "init_cell": true
   },
   "outputs": [],
   "source": [
    "dff = DataFrame(numpy.random.randn(10,3), columns=list('ABC'))\n",
    "dff.iloc[3:5,0] = numpy.nan\n",
    "dff.iloc[4:6,1] = numpy.nan\n",
    "dff.iloc[5:8,2] = numpy.nan\n",
    "dff"
   ]
  },
  {
   "cell_type": "code",
   "execution_count": null,
   "metadata": {
    "ExecuteTime": {
     "start_time": "2020-03-20T10:18:52.501Z"
    },
    "scrolled": true
   },
   "outputs": [],
   "source": [
    "dff.mean()"
   ]
  },
  {
   "cell_type": "code",
   "execution_count": null,
   "metadata": {
    "ExecuteTime": {
     "start_time": "2020-03-20T10:18:52.509Z"
    },
    "scrolled": true
   },
   "outputs": [],
   "source": [
    "dff.fillna(dff.mean())"
   ]
  },
  {
   "cell_type": "code",
   "execution_count": null,
   "metadata": {
    "ExecuteTime": {
     "start_time": "2020-03-20T10:18:52.516Z"
    },
    "scrolled": true
   },
   "outputs": [],
   "source": [
    "dff.fillna(dff.mean()['B':'C'])"
   ]
  },
  {
   "cell_type": "markdown",
   "metadata": {},
   "source": [
    "#### Interpolate\n",
    "http://pandas.pydata.org/pandas-docs/stable/missing_data.html#interpolation"
   ]
  },
  {
   "cell_type": "code",
   "execution_count": null,
   "metadata": {
    "ExecuteTime": {
     "start_time": "2020-03-20T10:18:52.528Z"
    }
   },
   "outputs": [],
   "source": [
    "dff"
   ]
  },
  {
   "cell_type": "code",
   "execution_count": null,
   "metadata": {
    "ExecuteTime": {
     "start_time": "2020-03-20T10:18:52.536Z"
    }
   },
   "outputs": [],
   "source": [
    "dff.interpolate()"
   ]
  },
  {
   "cell_type": "code",
   "execution_count": null,
   "metadata": {
    "ExecuteTime": {
     "start_time": "2020-03-20T10:18:52.546Z"
    },
    "scrolled": true
   },
   "outputs": [],
   "source": [
    "#%matplotlib notebook\n",
    "%matplotlib inline\n",
    "dff.plot(title=\"Original data\")\n",
    "dff.interpolate().plot(title=\"Base interpolate (values?)\")\n",
    "dff.interpolate(method='quadratic').plot(title=\"method='quadratic'\")"
   ]
  },
  {
   "cell_type": "code",
   "execution_count": null,
   "metadata": {
    "ExecuteTime": {
     "start_time": "2020-03-20T10:18:52.553Z"
    }
   },
   "outputs": [],
   "source": [
    "dff.plot(title=\"Original data\")"
   ]
  },
  {
   "cell_type": "code",
   "execution_count": null,
   "metadata": {
    "ExecuteTime": {
     "start_time": "2020-03-20T10:18:52.561Z"
    }
   },
   "outputs": [],
   "source": [
    "for method in ['linear', 'index', 'values', 'nearest', 'zero',\n",
    "              'slinear', 'quadratic', 'cubic', 'barycentric', 'krogh'\n",
    "              ,'pchip']: # + 'time'\n",
    "            # 'piecewise_polynomial' produce: ZeroDivisionError: integer division or modulo by zero\n",
    "            print (method)\n",
    "            dff.interpolate(method=method).plot(title=\"method='{}'\".format(method))\n",
    "\n",
    "for method in ['polynomial', 'spline']:\n",
    "    for order in range(1, 5):\n",
    "        print (method, order)\n",
    "        dff.interpolate(method=method, order=order).plot(title=\"method='{}', order={}\".format(method, order))"
   ]
  },
  {
   "cell_type": "code",
   "execution_count": null,
   "metadata": {
    "ExecuteTime": {
     "start_time": "2020-03-20T10:18:52.567Z"
    }
   },
   "outputs": [],
   "source": [
    "help(dff.interpolate)"
   ]
  },
  {
   "cell_type": "code",
   "execution_count": null,
   "metadata": {
    "ExecuteTime": {
     "start_time": "2020-03-20T10:18:52.576Z"
    }
   },
   "outputs": [],
   "source": [
    "# dff.interpolate(method='piecewise_polynomial')\n",
    "# ZeroDivisionError: integer division or modulo by zero\n",
    "# @BUG https://github.com/pydata/pandas/issues/10365"
   ]
  },
  {
   "cell_type": "markdown",
   "metadata": {},
   "source": [
    "##### Krogh"
   ]
  },
  {
   "cell_type": "code",
   "execution_count": null,
   "metadata": {
    "ExecuteTime": {
     "start_time": "2020-03-20T10:18:52.586Z"
    }
   },
   "outputs": [],
   "source": [
    "dff.interpolate(method='krogh')"
   ]
  },
  {
   "cell_type": "code",
   "execution_count": null,
   "metadata": {
    "ExecuteTime": {
     "start_time": "2020-03-20T10:18:52.594Z"
    }
   },
   "outputs": [],
   "source": [
    "features = pandas.read_csv('features.csv', index_col='match_id')\n",
    "features.head()"
   ]
  },
  {
   "cell_type": "code",
   "execution_count": null,
   "metadata": {
    "ExecuteTime": {
     "start_time": "2020-03-20T10:18:52.602Z"
    }
   },
   "outputs": [],
   "source": [
    "# Count Nulls\n",
    "cnt = features.isnull().sum()\n",
    "cnt[cnt > 0]"
   ]
  },
  {
   "cell_type": "code",
   "execution_count": null,
   "metadata": {
    "ExecuteTime": {
     "start_time": "2020-03-20T10:18:52.610Z"
    }
   },
   "outputs": [],
   "source": [
    "features.interpolate(method='krogh', inplace=True)"
   ]
  },
  {
   "cell_type": "code",
   "execution_count": null,
   "metadata": {
    "ExecuteTime": {
     "start_time": "2020-03-20T10:18:52.617Z"
    }
   },
   "outputs": [],
   "source": [
    "# Count Nulls\n",
    "cnt = features.isnull().sum()\n",
    "cnt[cnt > 0]"
   ]
  },
  {
   "cell_type": "markdown",
   "metadata": {},
   "source": [
    "## DataFrame diff\n",
    "\n",
    "http://stackoverflow.com/questions/17095101/outputting-difference-in-two-pandas-dataframes-side-by-side-highlighting-the-d"
   ]
  },
  {
   "cell_type": "code",
   "execution_count": null,
   "metadata": {
    "ExecuteTime": {
     "start_time": "2020-03-20T10:18:52.629Z"
    }
   },
   "outputs": [],
   "source": [
    "a1 = DataFrame(numpy.random.randint(5, 10, size=(7, 3)), columns=list('ABC'))\n",
    "a1.drop(a1.index[[4,5]], inplace=True)\n",
    "a1"
   ]
  },
  {
   "cell_type": "code",
   "execution_count": null,
   "metadata": {
    "ExecuteTime": {
     "start_time": "2020-03-20T10:18:52.636Z"
    }
   },
   "outputs": [],
   "source": [
    "b1 = a1.copy()\n",
    "b1.loc[0,'C'] = numpy.nan\n",
    "b1.loc[1,'A'] = 77\n",
    "b1.loc[3,'B'] = 777\n",
    "#b1.iloc[4,2] = 7777\n",
    "b1.loc[6,'C'] = 7777 # Equivalent to iloc above. Note 4 an 6 row num difference because index not sequential!\n",
    "# Add row will not work: a[a != b]: ValueError: Can only compare identically-labeled DataFrame objects\n",
    "# b.loc[len(b)] = ( 1, 11, 111 )\n",
    "b1"
   ]
  },
  {
   "cell_type": "markdown",
   "metadata": {},
   "source": [
    "### Direct !="
   ]
  },
  {
   "cell_type": "code",
   "execution_count": null,
   "metadata": {
    "ExecuteTime": {
     "start_time": "2020-03-20T10:18:52.647Z"
    }
   },
   "outputs": [],
   "source": [
    "# http://stackoverflow.com/a/17095364/307525\n",
    "a1 != b1"
   ]
  },
  {
   "cell_type": "code",
   "execution_count": null,
   "metadata": {
    "ExecuteTime": {
     "start_time": "2020-03-20T10:18:52.655Z"
    }
   },
   "outputs": [],
   "source": [
    "a1[a1 != b1]"
   ]
  },
  {
   "cell_type": "code",
   "execution_count": null,
   "metadata": {
    "ExecuteTime": {
     "start_time": "2020-03-20T10:18:52.664Z"
    }
   },
   "outputs": [],
   "source": [
    "# Show only rows with diff\n",
    "a1_diff = a1[a1 != b1]\n",
    "a1_diff[a1_diff.notnull().any(axis=1)]"
   ]
  },
  {
   "cell_type": "code",
   "execution_count": null,
   "metadata": {
    "ExecuteTime": {
     "start_time": "2020-03-20T10:18:52.674Z"
    }
   },
   "outputs": [],
   "source": [
    "# Show only rows with diff. One line\n",
    "a1[a1 != b1][numpy.any(a1 != b1, axis=1)]"
   ]
  },
  {
   "cell_type": "code",
   "execution_count": null,
   "metadata": {
    "ExecuteTime": {
     "start_time": "2020-03-20T10:18:52.684Z"
    }
   },
   "outputs": [],
   "source": [
    "a1[a1 != b1][numpy.any(a1 != b1, axis=1)].join(DataFrame('a<->b', index=a1.index, columns=['a<=>b'])).join(\n",
    "        b1[a1 != b1][numpy.any(a1 != b1, axis=1)]\n",
    "        ,lsuffix='_a'\n",
    ").fillna('')"
   ]
  },
  {
   "cell_type": "markdown",
   "metadata": {},
   "source": [
    "#### function DataFrameDiff"
   ]
  },
  {
   "cell_type": "code",
   "execution_count": null,
   "metadata": {},
   "outputs": [],
   "source": []
  },
  {
   "cell_type": "raw",
   "metadata": {},
   "source": []
  },
  {
   "cell_type": "code",
   "execution_count": null,
   "metadata": {
    "ExecuteTime": {
     "start_time": "2020-03-20T10:18:52.952Z"
    }
   },
   "outputs": [],
   "source": [
    "def DataFrameDiff(a_, b_, sep='a<->b', head_n=10, drop_empty_columns=True):\n",
    "    a = a_.sort_index(axis=1)\n",
    "    b = b_.sort_index(axis=1)\n",
    "    diff = a[a != b][numpy.any(a != b, axis=1)].join(DataFrame(sep, index=a.index, columns=['a<=>b'])).join(\n",
    "            b[a != b][numpy.any(a != b, axis=1)]\n",
    "            ,lsuffix='_a'\n",
    "    ).fillna('')\n",
    "\n",
    "    print ('Diff shape: ', diff.shape)\n",
    "    diff = diff.head(head_n)\n",
    "    if drop_empty_columns:\n",
    "        return diff[diff.columns[(diff != '').any()]]\n",
    "    else:\n",
    "        return diff"
   ]
  },
  {
   "cell_type": "code",
   "execution_count": null,
   "metadata": {
    "ExecuteTime": {
     "start_time": "2020-03-20T10:18:52.961Z"
    }
   },
   "outputs": [],
   "source": [
    "DataFrameDiff(a1, b1)"
   ]
  },
  {
   "cell_type": "markdown",
   "metadata": {},
   "source": [
    "### Compare not identical DataFrames\n",
    "\n",
    "http://stackoverflow.com/questions/20225110/comparing-two-dataframes-and-getting-the-differences"
   ]
  },
  {
   "cell_type": "code",
   "execution_count": null,
   "metadata": {
    "ExecuteTime": {
     "start_time": "2020-03-20T10:18:52.974Z"
    }
   },
   "outputs": [],
   "source": [
    "b3 = b2.drop(['C'], axis=1)\n",
    "b3"
   ]
  },
  {
   "cell_type": "code",
   "execution_count": null,
   "metadata": {
    "ExecuteTime": {
     "start_time": "2020-03-20T10:18:52.982Z"
    }
   },
   "outputs": [],
   "source": [
    "# DataFrameDiff(a1, b3)\n",
    "# ValueError: Can only compare identically-labeled DataFrame objects"
   ]
  },
  {
   "cell_type": "code",
   "execution_count": null,
   "metadata": {
    "ExecuteTime": {
     "start_time": "2020-03-20T10:18:52.988Z"
    }
   },
   "outputs": [],
   "source": [
    "df = pandas.concat([a1, b3])\n",
    "df = df.reset_index(drop=True)\n",
    "\n",
    "# group by\n",
    "df_gpby = df.groupby(list(a1.columns))\n",
    "\n",
    "# get index of unique records\n",
    "idx = [x[0] for x in df_gpby.groups.values() if len(x) == 1]\n",
    "\n",
    "# filter\n",
    "df.reindex(idx)\n",
    "\n",
    "#df"
   ]
  },
  {
   "cell_type": "markdown",
   "metadata": {},
   "source": [
    "### Sort columns (Workaround ValueError: Can only compare identically-labeled DataFrame objects)"
   ]
  },
  {
   "cell_type": "code",
   "execution_count": null,
   "metadata": {
    "ExecuteTime": {
     "start_time": "2020-03-20T10:18:52.999Z"
    },
    "scrolled": true
   },
   "outputs": [],
   "source": [
    "# Same data, different column order\n",
    "# NOT dataframe copy, new instead\n",
    "b2 = DataFrame('', index=a1.index, columns=list('CBA'))\n",
    "b2.C = a1.C\n",
    "b2.B = a1.B\n",
    "b2.A = a1.A\n",
    "\n",
    "b2.loc[0,'C'] = numpy.nan\n",
    "b2.loc[1,'A'] = 77\n",
    "b2.loc[3,'A'] = 777\n",
    "#b2.iloc[4,2] = 7777\n",
    "b2.loc[6,'C'] = 7777 # Equivalent to iloc above. Note 4 an 6 row num difference because index not sequential!\n",
    "b2"
   ]
  },
  {
   "cell_type": "code",
   "execution_count": null,
   "metadata": {
    "ExecuteTime": {
     "start_time": "2020-03-20T10:18:53.008Z"
    }
   },
   "outputs": [],
   "source": [
    "# a1 != b2\n",
    "# ValueError: Can only compare identically-labeled DataFrame objects"
   ]
  },
  {
   "cell_type": "code",
   "execution_count": null,
   "metadata": {
    "ExecuteTime": {
     "start_time": "2020-03-20T10:18:53.015Z"
    }
   },
   "outputs": [],
   "source": [
    "a1"
   ]
  },
  {
   "cell_type": "code",
   "execution_count": null,
   "metadata": {
    "ExecuteTime": {
     "start_time": "2020-03-20T10:18:53.022Z"
    }
   },
   "outputs": [],
   "source": [
    "b2.sort_index(axis=1)"
   ]
  },
  {
   "cell_type": "code",
   "execution_count": null,
   "metadata": {
    "ExecuteTime": {
     "start_time": "2020-03-20T10:18:53.030Z"
    }
   },
   "outputs": [],
   "source": [
    "a1 != b2.sort_index(axis=1)"
   ]
  },
  {
   "cell_type": "code",
   "execution_count": null,
   "metadata": {
    "ExecuteTime": {
     "start_time": "2020-03-20T10:18:53.037Z"
    }
   },
   "outputs": [],
   "source": [
    "DataFrameDiff(a1, b1)"
   ]
  },
  {
   "cell_type": "code",
   "execution_count": null,
   "metadata": {
    "ExecuteTime": {
     "start_time": "2020-03-20T10:18:53.045Z"
    }
   },
   "outputs": [],
   "source": [
    "DataFrameDiff(a1, b2)"
   ]
  },
  {
   "cell_type": "markdown",
   "metadata": {},
   "source": [
    "### DataFrame columns correlations\n",
    "\n",
    "Example from: http://stackoverflow.com/questions/24002820/returning-groups-of-correlated-columns-in-pandas-data-frame"
   ]
  },
  {
   "cell_type": "code",
   "execution_count": null,
   "metadata": {
    "ExecuteTime": {
     "start_time": "2020-03-20T10:18:53.056Z"
    }
   },
   "outputs": [],
   "source": [
    "df = pandas.DataFrame( {'one':[0.1, .32, .2, 0.4, 0.8], 'two':[.23, .18, .56, .61, .12], 'three':[.9, .3, .6, .5, .3], 'four':[.34, .75, .91, .19, .21], 'zive': [0.1, .32, .2, 0.4, 0.8], 'six':[.9, .3, .6, .5, .3], 'drive':[.9, .3, .6, .5, .3]})\n",
    "\n",
    "corr = df.corr()\n",
    "corr"
   ]
  },
  {
   "cell_type": "code",
   "execution_count": null,
   "metadata": {
    "ExecuteTime": {
     "start_time": "2020-03-20T10:18:53.064Z"
    }
   },
   "outputs": [],
   "source": [
    "# See PlotSandbox.ipynb\n",
    "import matplotlib.pyplot as plt\n",
    "%matplotlib inline\n",
    "plt.matshow(corr)"
   ]
  },
  {
   "cell_type": "markdown",
   "metadata": {},
   "source": [
    "#### Find tight correlated: Full solution http://stackoverflow.com/questions/24002820/returning-groups-of-correlated-columns-in-pandas-data-frame"
   ]
  },
  {
   "cell_type": "code",
   "execution_count": null,
   "metadata": {
    "ExecuteTime": {
     "start_time": "2020-03-20T10:18:53.075Z"
    }
   },
   "outputs": [],
   "source": [
    "cor = corr\n",
    "cor.loc[:] = numpy.tril(cor, k=-1)\n",
    "cor = cor.stack()\n",
    "cor[cor > 0.9]"
   ]
  },
  {
   "cell_type": "markdown",
   "metadata": {},
   "source": [
    "##### Step-by-step"
   ]
  },
  {
   "cell_type": "code",
   "execution_count": null,
   "metadata": {
    "ExecuteTime": {
     "start_time": "2020-03-20T10:18:53.086Z"
    }
   },
   "outputs": [],
   "source": [
    "cor = corr\n",
    "numpy.tril(cor, k=-1)"
   ]
  },
  {
   "cell_type": "code",
   "execution_count": null,
   "metadata": {
    "ExecuteTime": {
     "start_time": "2020-03-20T10:18:53.095Z"
    }
   },
   "outputs": [],
   "source": [
    "cor.loc[:,:] = numpy.tril(cor, k=-1)\n",
    "cor"
   ]
  },
  {
   "cell_type": "code",
   "execution_count": null,
   "metadata": {
    "ExecuteTime": {
     "start_time": "2020-03-20T10:18:53.103Z"
    }
   },
   "outputs": [],
   "source": [
    "cor = cor.stack()\n",
    "cor"
   ]
  },
  {
   "cell_type": "code",
   "execution_count": null,
   "metadata": {
    "ExecuteTime": {
     "start_time": "2020-03-20T10:18:53.112Z"
    },
    "scrolled": true
   },
   "outputs": [],
   "source": [
    "cor[cor > 0.9]"
   ]
  },
  {
   "cell_type": "markdown",
   "metadata": {},
   "source": [
    "## Statistics statsmodel\n",
    "\n",
    "http://stackoverflow.com/questions/22054964/ols-regression-scikit-vs-statsmodels\n",
    "\n",
    "http://statsmodels.sourceforge.net/devel/example_formulas.html"
   ]
  },
  {
   "cell_type": "code",
   "execution_count": null,
   "metadata": {
    "ExecuteTime": {
     "start_time": "2020-03-20T10:18:53.123Z"
    }
   },
   "outputs": [],
   "source": [
    "import statsmodels.api as sm\n",
    "from sklearn.linear_model import LinearRegression\n",
    "\n",
    "# Generate artificial data (2 regressors + constant)\n",
    "nobs = 100 \n",
    "X = numpy.random.random((nobs, 2)) \n",
    "X = sm.add_constant(X)\n",
    "beta = [1, .1, .5] \n",
    "e = numpy.random.random(nobs)\n",
    "y = numpy.dot(X, beta) + e \n",
    "\n",
    "X"
   ]
  },
  {
   "cell_type": "code",
   "execution_count": null,
   "metadata": {
    "ExecuteTime": {
     "start_time": "2020-03-20T10:18:53.130Z"
    }
   },
   "outputs": [],
   "source": [
    "y"
   ]
  },
  {
   "cell_type": "code",
   "execution_count": null,
   "metadata": {
    "ExecuteTime": {
     "start_time": "2020-03-20T10:18:53.138Z"
    }
   },
   "outputs": [],
   "source": [
    "# Fit regression model\n",
    "sm.OLS(y, X).fit().params\n",
    "#>> array([ 1.4507724 ,  0.08612654,  0.60129898])"
   ]
  },
  {
   "cell_type": "code",
   "execution_count": null,
   "metadata": {
    "ExecuteTime": {
     "start_time": "2020-03-20T10:18:53.146Z"
    }
   },
   "outputs": [],
   "source": [
    "LinearRegression(fit_intercept=False).fit(X, y).coef_\n",
    "#>> array([ 1.4507724 ,  0.08612654,  0.60129898])"
   ]
  },
  {
   "cell_type": "markdown",
   "metadata": {},
   "source": [
    "### Formulas"
   ]
  },
  {
   "cell_type": "code",
   "execution_count": null,
   "metadata": {
    "ExecuteTime": {
     "start_time": "2020-03-20T10:18:53.157Z"
    }
   },
   "outputs": [],
   "source": [
    "res = DataFrame(columns=['n_estimators', 'auc_roc', 'time_elapsed']);\n",
    "res.loc[len(res)] = [ 10, 0.71, 100 ]\n",
    "res.loc[len(res)] = [ 20, 0.72, 200 ]\n",
    "res.loc[len(res)] = [ 30, 0.73, 300 ]\n",
    "res.loc[len(res)+1] = [ 40, 0.74, 400 ]\n",
    "res.loc[len(res)+2] = [ 50, 0.70, 500 ]\n",
    "res"
   ]
  },
  {
   "cell_type": "code",
   "execution_count": null,
   "metadata": {
    "ExecuteTime": {
     "start_time": "2020-03-20T10:18:53.165Z"
    }
   },
   "outputs": [],
   "source": [
    "y, X = dmatrices('levels ~ week + character + guild')"
   ]
  },
  {
   "cell_type": "markdown",
   "metadata": {},
   "source": [
    "# Dict"
   ]
  },
  {
   "cell_type": "code",
   "execution_count": null,
   "metadata": {
    "ExecuteTime": {
     "start_time": "2020-03-20T10:18:53.176Z"
    }
   },
   "outputs": [],
   "source": [
    "result = []\n",
    "result.append({'testName': 'one', 'date': [1, 2, 3], 'desc': 'Some description'})\n",
    "result"
   ]
  },
  {
   "cell_type": "code",
   "execution_count": null,
   "metadata": {
    "ExecuteTime": {
     "start_time": "2020-03-20T10:18:53.183Z"
    }
   },
   "outputs": [],
   "source": [
    "res = {}\n",
    "res['secondTest'] = {'description': 'Some description of data', 'data': [1, 2, 3]}\n",
    "res['thirdTest'] = {'description': 'Some another data', 'data': numpy.round(numpy.random.randn(4), 2)}\n",
    "res"
   ]
  },
  {
   "cell_type": "markdown",
   "metadata": {},
   "source": [
    "## Check key present"
   ]
  },
  {
   "cell_type": "code",
   "execution_count": null,
   "metadata": {
    "ExecuteTime": {
     "start_time": "2020-03-20T10:18:53.194Z"
    }
   },
   "outputs": [],
   "source": [
    "d = {'one': 1, 'two': 2}\n",
    "d"
   ]
  },
  {
   "cell_type": "code",
   "execution_count": null,
   "metadata": {
    "ExecuteTime": {
     "start_time": "2020-03-20T10:18:53.203Z"
    }
   },
   "outputs": [],
   "source": [
    "print ('one' in d)"
   ]
  },
  {
   "cell_type": "markdown",
   "metadata": {},
   "source": [
    "# Series"
   ]
  },
  {
   "cell_type": "markdown",
   "metadata": {},
   "source": [
    "## Indexing\n",
    "\n",
    "http://pandas.pydata.org/pandas-docs/stable/indexing.html#indexing-with-isin\n",
    "found interesting example: `numpy.arange(5)[::-1]`"
   ]
  },
  {
   "cell_type": "code",
   "execution_count": null,
   "metadata": {
    "ExecuteTime": {
     "start_time": "2020-03-20T10:18:53.220Z"
    }
   },
   "outputs": [],
   "source": [
    "numpy.arange(5)[::-1]"
   ]
  },
  {
   "cell_type": "code",
   "execution_count": null,
   "metadata": {
    "ExecuteTime": {
     "start_time": "2020-03-20T10:18:53.229Z"
    }
   },
   "outputs": [],
   "source": [
    "s = numpy.arange(5)\n",
    "s"
   ]
  },
  {
   "cell_type": "code",
   "execution_count": null,
   "metadata": {
    "ExecuteTime": {
     "start_time": "2020-03-20T10:18:53.240Z"
    }
   },
   "outputs": [],
   "source": [
    "s[0]"
   ]
  },
  {
   "cell_type": "code",
   "execution_count": null,
   "metadata": {
    "ExecuteTime": {
     "start_time": "2020-03-20T10:18:53.249Z"
    }
   },
   "outputs": [],
   "source": [
    "s[:]"
   ]
  },
  {
   "cell_type": "code",
   "execution_count": null,
   "metadata": {
    "ExecuteTime": {
     "start_time": "2020-03-20T10:18:53.258Z"
    }
   },
   "outputs": [],
   "source": [
    "s[::]"
   ]
  },
  {
   "cell_type": "code",
   "execution_count": null,
   "metadata": {
    "ExecuteTime": {
     "start_time": "2020-03-20T10:18:53.266Z"
    }
   },
   "outputs": [],
   "source": [
    "s[:-1:]"
   ]
  },
  {
   "cell_type": "code",
   "execution_count": null,
   "metadata": {
    "ExecuteTime": {
     "start_time": "2020-03-20T10:18:53.274Z"
    }
   },
   "outputs": [],
   "source": [
    "s[:3]"
   ]
  },
  {
   "cell_type": "code",
   "execution_count": null,
   "metadata": {
    "ExecuteTime": {
     "start_time": "2020-03-20T10:18:53.283Z"
    }
   },
   "outputs": [],
   "source": [
    "s[::2]"
   ]
  },
  {
   "cell_type": "markdown",
   "metadata": {},
   "source": [
    "### is in\n",
    "\n",
    "http://pandas.pydata.org/pandas-docs/stable/indexing.html#indexing-with-isin"
   ]
  },
  {
   "cell_type": "code",
   "execution_count": null,
   "metadata": {
    "ExecuteTime": {
     "start_time": "2020-03-20T10:18:53.294Z"
    }
   },
   "outputs": [],
   "source": [
    "s = pd.Series(numpy.arange(5), index=numpy.arange(5)[::-1], dtype='int64')\n",
    "s"
   ]
  },
  {
   "cell_type": "code",
   "execution_count": null,
   "metadata": {
    "ExecuteTime": {
     "start_time": "2020-03-20T10:18:53.303Z"
    }
   },
   "outputs": [],
   "source": [
    "s.isin([2, 4, 6])"
   ]
  },
  {
   "cell_type": "code",
   "execution_count": null,
   "metadata": {
    "ExecuteTime": {
     "start_time": "2020-03-20T10:18:53.310Z"
    }
   },
   "outputs": [],
   "source": [
    "In [130]: s[s.isin([2, 4, 6])]"
   ]
  },
  {
   "cell_type": "markdown",
   "metadata": {},
   "source": [
    "## Random"
   ]
  },
  {
   "cell_type": "code",
   "execution_count": null,
   "metadata": {
    "ExecuteTime": {
     "start_time": "2020-03-20T10:18:53.322Z"
    }
   },
   "outputs": [],
   "source": [
    "numpy.random.randn(5, 3)"
   ]
  },
  {
   "cell_type": "code",
   "execution_count": null,
   "metadata": {
    "ExecuteTime": {
     "start_time": "2020-03-20T10:18:53.332Z"
    }
   },
   "outputs": [],
   "source": [
    "numpy.random.randn(3)"
   ]
  },
  {
   "cell_type": "code",
   "execution_count": null,
   "metadata": {
    "ExecuteTime": {
     "start_time": "2020-03-20T10:18:53.340Z"
    }
   },
   "outputs": [],
   "source": [
    "numpy.random.randn()"
   ]
  },
  {
   "cell_type": "code",
   "execution_count": null,
   "metadata": {
    "ExecuteTime": {
     "start_time": "2020-03-20T10:18:53.350Z"
    }
   },
   "outputs": [],
   "source": [
    "numpy.random.random(5)"
   ]
  },
  {
   "cell_type": "code",
   "execution_count": null,
   "metadata": {
    "ExecuteTime": {
     "start_time": "2020-03-20T10:18:53.359Z"
    }
   },
   "outputs": [],
   "source": [
    "# Example from help: Two-by-four array of samples from N(3, 6.25):\n",
    "2.5 * numpy.random.randn(2, 4) + 3"
   ]
  },
  {
   "cell_type": "code",
   "execution_count": null,
   "metadata": {
    "ExecuteTime": {
     "start_time": "2020-03-20T10:18:53.370Z"
    }
   },
   "outputs": [],
   "source": [
    "numpy.ceil(numpy.random.randn(4))"
   ]
  },
  {
   "cell_type": "code",
   "execution_count": null,
   "metadata": {
    "ExecuteTime": {
     "start_time": "2020-03-20T10:18:53.378Z"
    }
   },
   "outputs": [],
   "source": [
    "numpy.round(numpy.random.randn(4), 2)"
   ]
  },
  {
   "cell_type": "code",
   "execution_count": null,
   "metadata": {
    "ExecuteTime": {
     "start_time": "2020-03-20T10:18:53.386Z"
    }
   },
   "outputs": [],
   "source": [
    "numpy.random.standard_normal()"
   ]
  },
  {
   "cell_type": "code",
   "execution_count": null,
   "metadata": {
    "ExecuteTime": {
     "start_time": "2020-03-20T10:18:53.395Z"
    }
   },
   "outputs": [],
   "source": [
    "numpy.random.standard_normal(3)"
   ]
  },
  {
   "cell_type": "code",
   "execution_count": null,
   "metadata": {
    "ExecuteTime": {
     "start_time": "2020-03-20T10:18:53.405Z"
    }
   },
   "outputs": [],
   "source": [
    "numpy.random.randint(1, 10)"
   ]
  },
  {
   "cell_type": "code",
   "execution_count": null,
   "metadata": {
    "ExecuteTime": {
     "start_time": "2020-03-20T10:18:53.414Z"
    }
   },
   "outputs": [],
   "source": [
    "numpy.random.randint(5, 10, size=(4, 2))"
   ]
  },
  {
   "cell_type": "markdown",
   "metadata": {},
   "source": [
    "## Time series"
   ]
  },
  {
   "cell_type": "code",
   "execution_count": null,
   "metadata": {
    "ExecuteTime": {
     "start_time": "2020-03-20T10:18:53.427Z"
    }
   },
   "outputs": [],
   "source": [
    "# http://stackoverflow.com/questions/23543909/plotting-pandas-timedelta\n",
    "pandas.to_timedelta(numpy.arange(5),unit='s')"
   ]
  },
  {
   "cell_type": "code",
   "execution_count": null,
   "metadata": {
    "ExecuteTime": {
     "start_time": "2020-03-20T10:18:53.437Z"
    }
   },
   "outputs": [],
   "source": [
    "pandas.to_timedelta(abs(numpy.random.randn(5)) * 10, unit='s')"
   ]
  },
  {
   "cell_type": "code",
   "execution_count": null,
   "metadata": {
    "ExecuteTime": {
     "start_time": "2020-03-20T10:18:53.446Z"
    }
   },
   "outputs": [],
   "source": [
    "pandas.to_timedelta(abs(numpy.random.randn()) * 10, unit='s')"
   ]
  },
  {
   "cell_type": "markdown",
   "metadata": {},
   "source": [
    "### Time measure\n",
    "http://stackoverflow.com/questions/85451/python-time-clock-vs-time-time-accuracy\n",
    "\n",
    "https://docs.python.org/3/library/time.html#time.perf_counter\n",
    "\n",
    "https://docs.python.org/3/library/time.html#time.process_time"
   ]
  },
  {
   "cell_type": "code",
   "execution_count": null,
   "metadata": {
    "ExecuteTime": {
     "start_time": "2020-03-20T10:18:53.461Z"
    }
   },
   "outputs": [],
   "source": [
    "# Borrowed from https://gist.github.com/zed/5073409 (http://stackoverflow.com/questions/15176619/timing-the-cpu-time-of-a-python-program)\n",
    "# implementation of process_time function for Python 2 (backport)\n",
    "\"\"\"time.process_time() and time.perf_counter() for Python 2\"\"\"\n",
    "import ctypes\n",
    "import errno\n",
    "from ctypes.util import find_library\n",
    "from functools import partial\n",
    "\n",
    "CLOCK_PROCESS_CPUTIME_ID = 2  # time.h\n",
    "CLOCK_MONOTONIC_RAW = 4\n",
    "\n",
    "clockid_t = ctypes.c_int\n",
    "time_t = ctypes.c_long\n",
    "\n",
    "\n",
    "class timespec(ctypes.Structure):\n",
    "    _fields_ = [\n",
    "        ('tv_sec', time_t),         # seconds\n",
    "        ('tv_nsec', ctypes.c_long)  # nanoseconds\n",
    "    ]\n",
    "_clock_gettime = ctypes.CDLL(find_library('rt'), use_errno=True).clock_gettime\n",
    "_clock_gettime.argtypes = [clockid_t, ctypes.POINTER(timespec)]\n",
    "\n",
    "\n",
    "def clock_gettime(clk_id):\n",
    "    tp = timespec()\n",
    "    if _clock_gettime(clk_id, ctypes.byref(tp)) < 0:\n",
    "        err = ctypes.get_errno()\n",
    "        msg = errno.errorcode[err]\n",
    "        if err == errno.EINVAL:\n",
    "            msg += (\" The clk_id specified is not supported on this system\"\n",
    "                    \" clk_id=%r\") % (clk_id,)\n",
    "        raise OSError(err, msg)\n",
    "    return tp.tv_sec + tp.tv_nsec * 1e-9\n",
    "\n",
    "try:\n",
    "    from time import perf_counter, process_time\n",
    "except ImportError:  # Python <3.3\n",
    "    perf_counter = partial(clock_gettime, CLOCK_MONOTONIC_RAW)\n",
    "    perf_counter.__name__ = 'perf_counter'\n",
    "    process_time = partial(clock_gettime, CLOCK_PROCESS_CPUTIME_ID)\n",
    "    process_time.__name__ = 'process_time'\n",
    "\n",
    "if __name__ == \"__main__\":\n",
    "    import random\n",
    "    import time\n",
    "    from itertools import repeat\n",
    "    from timeit import Timer, default_timer\n",
    "\n",
    "    print(\"process_time() doesn't include time.sleep(2):\")\n",
    "    timers = [default_timer, time.clock, process_time, perf_counter]\n",
    "    start_times = [t() for t in timers]\n",
    "    time.sleep(2)\n",
    "    _ = sum(random.random() - f for f in repeat(.5, 1000000))\n",
    "    for start, timer in zip(start_times, timers):\n",
    "        print(\"\\t%-12s %.3g\" % (timer.__name__, timer() - start))\n",
    "\n",
    "    # measure overhead\n",
    "    print(\"overhead (execute `pass` statement):\")\n",
    "    n = 10000000\n",
    "    for timer in timers:\n",
    "        t = min(Timer(timer=timer).repeat(number=n)) / n\n",
    "        print(\"\\t%-12s  %.2f ns\" % (timer.__name__, t*1e9))"
   ]
  },
  {
   "cell_type": "code",
   "execution_count": null,
   "metadata": {
    "ExecuteTime": {
     "start_time": "2020-03-20T10:18:53.472Z"
    }
   },
   "outputs": [],
   "source": [
    "# Demonstration\n",
    "import datetime\n",
    "\n",
    "start_time = datetime.datetime.now()\n",
    "cpu_start_time = process_time()\n",
    "_ = sum(random.random() - f for f in repeat(.5, 10000000)) # Some \"real\" workload\n",
    "time.sleep(2)\n",
    "cpu_time_diff = process_time() - cpu_start_time\n",
    "time_diff = datetime.datetime.now() - start_time\n",
    "print ('start_time={}, cpu_start_time={}, time_diff={}, cpu_time_diff(seconds)={}, cpu_time_diff(hr)={}'.format(\n",
    "    start_time, cpu_start_time, time_diff, cpu_time_diff, datetime.timedelta(seconds=cpu_time_diff)\n",
    "))"
   ]
  },
  {
   "cell_type": "markdown",
   "metadata": {},
   "source": [
    "## Date, Time"
   ]
  },
  {
   "cell_type": "code",
   "execution_count": null,
   "metadata": {
    "ExecuteTime": {
     "start_time": "2020-03-20T10:18:53.484Z"
    },
    "scrolled": true
   },
   "outputs": [],
   "source": [
    "# Pandas use different timedelta class: http://pandas.pydata.org/pandas-docs/stable/timedeltas.html\n",
    "datetime.timedelta"
   ]
  },
  {
   "cell_type": "code",
   "execution_count": null,
   "metadata": {
    "ExecuteTime": {
     "start_time": "2020-03-20T10:18:53.491Z"
    }
   },
   "outputs": [],
   "source": [
    "start_time = datetime.datetime.now()\n",
    "time.sleep(2)\n",
    "datetime.datetime.now() - start_time\n",
    "start_time"
   ]
  },
  {
   "cell_type": "code",
   "execution_count": null,
   "metadata": {
    "ExecuteTime": {
     "start_time": "2020-03-20T10:18:53.500Z"
    },
    "scrolled": true
   },
   "outputs": [],
   "source": [
    "# http://stackoverflow.com/questions/3694487/python-initialize-a-datetime-object-with-seconds-since-epoch\n",
    "print datetime.datetime.fromtimestamp(1284286794.123)"
   ]
  },
  {
   "cell_type": "markdown",
   "metadata": {},
   "source": [
    "## numpy.zeros"
   ]
  },
  {
   "cell_type": "code",
   "execution_count": null,
   "metadata": {
    "ExecuteTime": {
     "start_time": "2020-03-20T10:18:53.512Z"
    }
   },
   "outputs": [],
   "source": [
    "numpy.zeros((3, 6))"
   ]
  },
  {
   "cell_type": "markdown",
   "metadata": {},
   "source": [
    "## Timedelta\n",
    "\n",
    "Convert timedelta to milliseconds to plot: http://stackoverflow.com/questions/23543909/plotting-pandas-timedelta"
   ]
  },
  {
   "cell_type": "code",
   "execution_count": null,
   "metadata": {
    "ExecuteTime": {
     "start_time": "2020-03-20T10:18:53.523Z"
    }
   },
   "outputs": [],
   "source": [
    "(pandas.to_timedelta(numpy.arange(5),unit='d')+pandas.to_timedelta(1,unit='s')).astype('timedelta64[ms]')"
   ]
  },
  {
   "cell_type": "markdown",
   "metadata": {},
   "source": [
    "## Itertools"
   ]
  },
  {
   "cell_type": "code",
   "execution_count": null,
   "metadata": {
    "ExecuteTime": {
     "start_time": "2020-03-20T10:18:53.537Z"
    }
   },
   "outputs": [],
   "source": [
    "# https://gist.github.com/zed/5073409\n",
    "from itertools import repeat\n",
    "list(repeat(.5, 10))"
   ]
  },
  {
   "cell_type": "code",
   "execution_count": null,
   "metadata": {
    "ExecuteTime": {
     "start_time": "2020-03-20T10:18:53.545Z"
    }
   },
   "outputs": [],
   "source": [
    "numpy.power(10.0, numpy.arange(-3, 3))"
   ]
  },
  {
   "cell_type": "code",
   "execution_count": null,
   "metadata": {
    "ExecuteTime": {
     "start_time": "2020-03-20T10:18:53.555Z"
    }
   },
   "outputs": [],
   "source": [
    "numpy.arange(5)"
   ]
  },
  {
   "cell_type": "code",
   "execution_count": null,
   "metadata": {
    "ExecuteTime": {
     "start_time": "2020-03-20T10:18:53.563Z"
    }
   },
   "outputs": [],
   "source": [
    "list(range(5))"
   ]
  },
  {
   "cell_type": "code",
   "execution_count": null,
   "metadata": {
    "ExecuteTime": {
     "start_time": "2020-03-20T10:18:53.573Z"
    }
   },
   "outputs": [],
   "source": [
    "list(range(3, 5))"
   ]
  },
  {
   "cell_type": "code",
   "execution_count": null,
   "metadata": {
    "ExecuteTime": {
     "start_time": "2020-03-20T10:18:53.583Z"
    }
   },
   "outputs": [],
   "source": [
    "h = ['hero1', 'hero2', 'hero3', 'hero4', 'hero5']\n",
    "list(range(len(h)))"
   ]
  },
  {
   "cell_type": "code",
   "execution_count": null,
   "metadata": {
    "ExecuteTime": {
     "start_time": "2020-03-20T10:18:53.592Z"
    }
   },
   "outputs": [],
   "source": [
    "list( range(1, len(h)+1) )"
   ]
  },
  {
   "cell_type": "code",
   "execution_count": null,
   "metadata": {
    "ExecuteTime": {
     "start_time": "2020-03-20T10:18:53.602Z"
    }
   },
   "outputs": [],
   "source": [
    "ids = [1, 2, 4, 5]\n",
    "list( range(max(ids)+1) )"
   ]
  },
  {
   "cell_type": "markdown",
   "metadata": {},
   "source": [
    "# Lists"
   ]
  },
  {
   "cell_type": "markdown",
   "metadata": {},
   "source": [
    "## Intersection"
   ]
  },
  {
   "cell_type": "code",
   "execution_count": null,
   "metadata": {
    "ExecuteTime": {
     "start_time": "2020-03-20T10:18:53.623Z"
    }
   },
   "outputs": [],
   "source": [
    "l1 = list(\"ABCDEF\")\n",
    "l1\n",
    "l2 = list(\"BDFG\")\n",
    "# List intersection http://stackoverflow.com/questions/642763/python-intersection-of-two-lists\n",
    "set(l1) & set(l2)"
   ]
  },
  {
   "cell_type": "markdown",
   "metadata": {},
   "source": [
    "# Formatting"
   ]
  },
  {
   "cell_type": "markdown",
   "metadata": {},
   "source": [
    "## HTML, %%asmarkdown cell magic"
   ]
  },
  {
   "cell_type": "code",
   "execution_count": null,
   "metadata": {
    "ExecuteTime": {
     "start_time": "2020-03-20T10:18:53.644Z"
    }
   },
   "outputs": [],
   "source": [
    "# http://stackoverflow.com/a/13770691/307525\n",
    "from IPython.core.display import HTML\n",
    "\n",
    "raw_html = \"<i>Yah, rendered HTML</i>\"\n",
    "HTML(raw_html)\n"
   ]
  },
  {
   "cell_type": "code",
   "execution_count": null,
   "metadata": {
    "ExecuteTime": {
     "start_time": "2020-03-20T10:18:53.656Z"
    }
   },
   "outputs": [],
   "source": [
    "# %%asmarkdown cell magic\n",
    "# Borrowed from http://guido.vonrudorff.de/ipython-notebook-code-output-as-markdown/\n",
    "# (http://stackoverflow.com/questions/13770394/make-output-cells-like-markdown)\n",
    "from __future__ import absolute_import\n",
    "from IPython.core.getipython import get_ipython\n",
    "from IPython.core.magic import (Magics, magics_class,  cell_magic)\n",
    "import sys\n",
    "from io import StringIO\n",
    "from markdown import markdown\n",
    "from IPython.core.display import HTML\n",
    "\n",
    "@magics_class\n",
    "class MarkdownMagics(Magics):\n",
    "\n",
    "    @cell_magic\n",
    "    def asmarkdown(self, line, cell):\n",
    "        buffer = StringIO()\n",
    "        stdout = sys.stdout\n",
    "        sys.stdout = buffer\n",
    "        try:\n",
    "            exec(cell, locals(), self.shell.user_ns)\n",
    "        except:\n",
    "            sys.stdout = stdout\n",
    "            raise\n",
    "        sys.stdout = stdout\n",
    "        return HTML(\"<p>{}</p>\".format(markdown(buffer.getvalue(), extensions=['markdown.extensions.extra'])))\n",
    "        return buffer.getvalue() + 'test'\n",
    "\n",
    "get_ipython().register_magics(MarkdownMagics)"
   ]
  },
  {
   "cell_type": "code",
   "execution_count": null,
   "metadata": {
    "ExecuteTime": {
     "start_time": "2020-03-20T10:18:53.666Z"
    },
    "scrolled": true
   },
   "outputs": [],
   "source": [
    "%%asmarkdown\n",
    "print (\"\"\"\n",
    "<h2>Matplotlib's chart gallery (Click a chart to see the code to create it)</h2><br>\n",
    "<div align=\"center\"> <iframe title=\"Matplotlib Gallery\" width=\"950\"\n",
    "height=\"250\" src=\"http://matplotlib.org/gallery.html#api\" frameborder=\"0\"\n",
    "allowfullscreen></iframe></div>\n",
    "\"\"\")"
   ]
  },
  {
   "cell_type": "markdown",
   "metadata": {},
   "source": [
    "## DataFrame formatting\n",
    "\n",
    "http://pandas.pydata.org/pandas-docs/stable/options.html\n",
    "\n",
    "http://stackoverflow.com/questions/15006298/how-to-preview-a-part-of-a-large-pandas-dataframe\n",
    "\n",
    "http://stackoverflow.com/questions/11707586/python-pandas-widen-output-display\n",
    "\n",
    "http://stackoverflow.com/questions/19124601/is-there-a-way-to-pretty-print-the-entire-pandas-series-dataframe"
   ]
  },
  {
   "cell_type": "code",
   "execution_count": null,
   "metadata": {
    "ExecuteTime": {
     "start_time": "2020-03-20T10:18:53.679Z"
    },
    "init_cell": true
   },
   "outputs": [],
   "source": [
    "#import pandas as pd\n",
    "pd.set_option('display.notebook_repr_html', True)\n",
    "# Both works, but add traing 0\n",
    "#pd.set_option('display.precision', 20)\n",
    "#pd.set_option('precision', 15)\n",
    "print(pd.get_option('display.float_format'))\n",
    "# Do NOT use scentific -E notation before 15 digits in length\n",
    "pd.set_option('display.float_format', lambda f: '{:,.15f}'.format(f).rstrip('0.'))\n",
    "fdf = pd.DataFrame(numpy.array([\n",
    "            [2,4,0.01]\n",
    "           ,[4,3,0.000001]\n",
    "           ,[5,9,0.00000000001]]),columns=list('ABC'))\n",
    "#print(HTML(fdf.to_html()))\n",
    "print(fdf)\n",
    "fdf"
   ]
  },
  {
   "cell_type": "code",
   "execution_count": null,
   "metadata": {
    "ExecuteTime": {
     "start_time": "2020-03-20T10:18:53.686Z"
    }
   },
   "outputs": [],
   "source": [
    "'{:,.15f}'.format(0.0000123).rstrip('0')"
   ]
  },
  {
   "cell_type": "code",
   "execution_count": null,
   "metadata": {
    "ExecuteTime": {
     "start_time": "2020-03-20T10:18:53.695Z"
    }
   },
   "outputs": [],
   "source": [
    "# http://pandas.pydata.org/pandas-docs/stable/generated/pandas.describe_option.html#pandas.describe_option\n",
    "pd.describe_option()"
   ]
  },
  {
   "cell_type": "markdown",
   "metadata": {},
   "source": [
    "# Categorical data\n",
    "\n",
    "http://pandas.pydata.org/pandas-docs/stable/categorical.html\n",
    "\n",
    "http://scikit-learn.org/stable/modules/generated/sklearn.preprocessing.OneHotEncoder.html#sklearn.preprocessing.OneHotEncoder"
   ]
  },
  {
   "cell_type": "markdown",
   "metadata": {},
   "source": [
    "## Cast series"
   ]
  },
  {
   "cell_type": "code",
   "execution_count": null,
   "metadata": {
    "ExecuteTime": {
     "start_time": "2020-03-20T10:18:53.710Z"
    }
   },
   "outputs": [],
   "source": [
    "s = pd.Series(['foo','bar']*1000)\n",
    "s.head(15)"
   ]
  },
  {
   "cell_type": "markdown",
   "metadata": {},
   "source": [
    "## Cast DataFrame columns\n",
    "\n",
    "Have not found way for multiple columns at once"
   ]
  },
  {
   "cell_type": "code",
   "execution_count": null,
   "metadata": {
    "ExecuteTime": {
     "start_time": "2020-03-20T10:18:53.721Z"
    }
   },
   "outputs": [],
   "source": [
    "cdf = DataFrame(numpy.random.randint(1, 50, size=(10, 4)), columns=list('ABCD'))\n",
    "cdf"
   ]
  },
  {
   "cell_type": "code",
   "execution_count": null,
   "metadata": {
    "ExecuteTime": {
     "start_time": "2020-03-20T10:18:53.729Z"
    }
   },
   "outputs": [],
   "source": [
    "cdf.dtypes"
   ]
  },
  {
   "cell_type": "code",
   "execution_count": null,
   "metadata": {
    "ExecuteTime": {
     "start_time": "2020-03-20T10:18:53.740Z"
    }
   },
   "outputs": [],
   "source": [
    "for col in cdf.loc[:,'C':'D']:\n",
    "    print (col)\n",
    "    cdf[col] = cdf[col].astype('category')\n",
    "\n",
    "cdf.dtypes"
   ]
  },
  {
   "cell_type": "code",
   "execution_count": null,
   "metadata": {
    "ExecuteTime": {
     "start_time": "2020-03-20T10:18:53.750Z"
    }
   },
   "outputs": [],
   "source": [
    "# Try scale\n",
    "from sklearn.preprocessing import StandardScaler\n",
    "scaler = StandardScaler()\n",
    "\n",
    "cdf1 = DataFrame(scaler.fit_transform(cdf))\n",
    "cdf1"
   ]
  },
  {
   "cell_type": "code",
   "execution_count": null,
   "metadata": {
    "ExecuteTime": {
     "start_time": "2020-03-20T10:18:53.761Z"
    }
   },
   "outputs": [],
   "source": [
    "cdf1.dtypes"
   ]
  },
  {
   "cell_type": "markdown",
   "metadata": {},
   "source": [
    "## Pandas get_dummies (words bag)\n",
    "\n",
    "http://stackoverflow.com/questions/15021521/how-to-encode-a-categorical-variable-in-sklearn?lq=1\n",
    "\n",
    "http://pandas.pydata.org/pandas-docs/stable/generated/pandas.get_dummies.html"
   ]
  },
  {
   "cell_type": "code",
   "execution_count": null,
   "metadata": {
    "ExecuteTime": {
     "start_time": "2020-03-20T10:18:53.774Z"
    }
   },
   "outputs": [],
   "source": [
    "pd.get_dummies(cdf.D)"
   ]
  },
  {
   "cell_type": "code",
   "execution_count": null,
   "metadata": {
    "ExecuteTime": {
     "start_time": "2020-03-20T10:18:53.782Z"
    }
   },
   "outputs": [],
   "source": [
    "pd.get_dummies(cdf, columns=['C', 'D'])"
   ]
  },
  {
   "cell_type": "markdown",
   "metadata": {},
   "source": [
    "## sklearn.preprocessing.OneHotEncoder\n",
    "\n",
    "http://scikit-learn.org/stable/modules/generated/sklearn.preprocessing.OneHotEncoder.html#sklearn-preprocessing-onehotencoder"
   ]
  },
  {
   "cell_type": "code",
   "execution_count": null,
   "metadata": {
    "ExecuteTime": {
     "start_time": "2020-03-20T10:18:53.794Z"
    }
   },
   "outputs": [],
   "source": [
    ">>> from sklearn.preprocessing import OneHotEncoder\n",
    ">>> enc = OneHotEncoder()\n",
    ">>> enc.fit([[0, 0, 3], [1, 1, 0], [0, 2, 1], [1, 0, 2]])  \n",
    "\n",
    ">>> enc.n_values_\n",
    "\n",
    ">>> enc.feature_indices_\n",
    "\n",
    ">>> enc.transform([[0, 1, 1]]).toarray()\n"
   ]
  },
  {
   "cell_type": "markdown",
   "metadata": {},
   "source": [
    "## Memory consumption\n",
    "\n",
    "http://pandas.pydata.org/pandas-docs/stable/categorical.html#categorical-memory"
   ]
  },
  {
   "cell_type": "code",
   "execution_count": null,
   "metadata": {
    "ExecuteTime": {
     "start_time": "2020-03-20T10:18:53.805Z"
    }
   },
   "outputs": [],
   "source": [
    "# object dtype\n",
    "s.nbytes"
   ]
  },
  {
   "cell_type": "code",
   "execution_count": null,
   "metadata": {
    "ExecuteTime": {
     "start_time": "2020-03-20T10:18:53.813Z"
    }
   },
   "outputs": [],
   "source": [
    "# category dtype\n",
    "sc = s.astype('category')\n",
    "sc.head(15)"
   ]
  },
  {
   "cell_type": "code",
   "execution_count": null,
   "metadata": {
    "ExecuteTime": {
     "start_time": "2020-03-20T10:18:53.820Z"
    }
   },
   "outputs": [],
   "source": [
    "sc.nbytes"
   ]
  },
  {
   "cell_type": "markdown",
   "metadata": {},
   "source": [
    "## Cut (bucket ranging)"
   ]
  },
  {
   "cell_type": "code",
   "execution_count": null,
   "metadata": {
    "ExecuteTime": {
     "start_time": "2020-03-20T10:18:53.832Z"
    }
   },
   "outputs": [],
   "source": [
    "df = pd.DataFrame({'value': numpy.random.randint(0, 100, 20)})\n",
    "df"
   ]
  },
  {
   "cell_type": "code",
   "execution_count": null,
   "metadata": {
    "ExecuteTime": {
     "start_time": "2020-03-20T10:18:53.840Z"
    }
   },
   "outputs": [],
   "source": [
    "labels = [ \"{0} - {1}\".format(i, i + 9) for i in range(0, 100, 10) ]\n",
    "labels"
   ]
  },
  {
   "cell_type": "code",
   "execution_count": null,
   "metadata": {
    "ExecuteTime": {
     "start_time": "2020-03-20T10:18:53.847Z"
    }
   },
   "outputs": [],
   "source": [
    "df['group'] = pd.cut(df.value, range(0, 105, 10), right=False, labels=labels)\n",
    "df.head(10)"
   ]
  },
  {
   "cell_type": "code",
   "execution_count": null,
   "metadata": {
    "ExecuteTime": {
     "start_time": "2020-03-20T10:18:53.854Z"
    }
   },
   "outputs": [],
   "source": [
    "df['group'].dtype"
   ]
  },
  {
   "cell_type": "code",
   "execution_count": null,
   "metadata": {
    "ExecuteTime": {
     "start_time": "2020-03-20T10:18:53.862Z"
    }
   },
   "outputs": [],
   "source": [
    "df"
   ]
  },
  {
   "cell_type": "code",
   "execution_count": null,
   "metadata": {
    "ExecuteTime": {
     "start_time": "2020-03-20T10:18:53.870Z"
    }
   },
   "outputs": [],
   "source": [
    "df.describe()"
   ]
  },
  {
   "cell_type": "code",
   "execution_count": null,
   "metadata": {
    "ExecuteTime": {
     "start_time": "2020-03-20T10:18:53.881Z"
    }
   },
   "outputs": [],
   "source": [
    "df.group.describe()"
   ]
  },
  {
   "cell_type": "markdown",
   "metadata": {
    "collapsed": true
   },
   "source": [
    "# Fitting\n",
    "\n",
    "My question http://stackoverflow.com/questions/36271166/how-to-get-comparable-and-reproducible-results-from-logisticregressioncv-and-gri\n",
    "\n",
    "Good example how to provide parameters to classifier:\n",
    "http://stackoverflow.com/questions/32889929/gridsearchcv-scoring-parameter-using-scoring-f1-or-scoring-none-by-default-u\n",
    "\n",
    "Some speedup may be with different solvers also:\n",
    "https://kwtrnka.wordpress.com/2015/10/21/feature-scaling-is-important-but-not-how-i-expected/"
   ]
  },
  {
   "cell_type": "code",
   "execution_count": null,
   "metadata": {
    "ExecuteTime": {
     "start_time": "2020-03-20T10:18:53.894Z"
    }
   },
   "outputs": [],
   "source": [
    "import platform; print(platform.platform())\n",
    "import sys; print(\"Python\", sys.version)\n",
    "import numpy; print(\"NumPy\", numpy.__version__)\n",
    "import scipy; print(\"SciPy\", scipy.__version__)\n",
    "import sklearn; print(\"Scikit-Learn\", sklearn.__version__)"
   ]
  },
  {
   "cell_type": "code",
   "execution_count": null,
   "metadata": {
    "ExecuteTime": {
     "start_time": "2020-03-20T10:18:53.901Z"
    }
   },
   "outputs": [],
   "source": [
    "from sklearn import datasets\n",
    "boston = datasets.load_boston()\n",
    "X = boston.data\n",
    "y = boston.target"
   ]
  },
  {
   "cell_type": "code",
   "execution_count": null,
   "metadata": {
    "ExecuteTime": {
     "start_time": "2020-03-20T10:18:53.910Z"
    }
   },
   "outputs": [],
   "source": [
    "y[y <= y.mean()] = 0; y[y > 0] = 1\n",
    "y"
   ]
  },
  {
   "cell_type": "markdown",
   "metadata": {},
   "source": [
    "## GridSearchCV"
   ]
  },
  {
   "cell_type": "code",
   "execution_count": null,
   "metadata": {
    "ExecuteTime": {
     "start_time": "2020-03-20T10:18:53.922Z"
    }
   },
   "outputs": [],
   "source": [
    "import numpy as np\n",
    "from sklearn.cross_validation import KFold\n",
    "from sklearn.linear_model import LogisticRegression\n",
    "from sklearn.grid_search import GridSearchCV\n",
    "import datetime\n",
    "\n",
    "start_time = datetime.datetime.now()\n",
    "\n",
    "grid = {\n",
    "    'C': numpy.power(10.0, numpy.arange(-10, 10))\n",
    "#    , 'solver': ('newton-cg', 'lbfgs', 'liblinear')\n",
    "     ,'solver': ['newton-cg']\n",
    "}\n",
    "fold = KFold(len(y), n_folds=5, shuffle=True, random_state=777)\n",
    "clf = LogisticRegression(penalty='l2', random_state=777, max_iter=10000, tol=(10**-4), solver='netwon-cg')\n",
    "gs = GridSearchCV(clf, grid, scoring='roc_auc', cv=fold, n_jobs=-1, verbose=True)\n",
    "gs.fit(X, y)\n",
    "print ('gs.best_params_:', gs.best_params_)\n",
    "print ('gs.best_score_:', gs.best_score_)\n",
    "print ('Time spent:', datetime.datetime.now() - start_time)\n",
    "gs.grid_scores_"
   ]
  },
  {
   "cell_type": "markdown",
   "metadata": {},
   "source": [
    "## LogisticRegressionCV"
   ]
  },
  {
   "cell_type": "code",
   "execution_count": null,
   "metadata": {
    "ExecuteTime": {
     "start_time": "2020-03-20T10:18:53.934Z"
    }
   },
   "outputs": [],
   "source": [
    "from sklearn.linear_model import LogisticRegressionCV\n",
    "start_time = datetime.datetime.now()\n",
    "\n",
    "fold = KFold(len(y), n_folds=5, shuffle=True, random_state=777)\n",
    "\n",
    "searchCV = LogisticRegressionCV(\n",
    "    Cs=list(numpy.power(10.0, numpy.arange(-10, 10)))\n",
    "    ,penalty='l2'\n",
    "    ,scoring='roc_auc'\n",
    "    ,cv=fold\n",
    "    ,n_jobs=-1\n",
    "    ,verbose=True\n",
    "    ,random_state=777\n",
    "    ,max_iter=10000\n",
    "    ,fit_intercept=True\n",
    "#    ,class_weight='balanced'\n",
    "#    ,dual=True # ValueError: Solver lbfgs,sag,newton-cg supports only dual=False, got dual=True\n",
    "    ,solver='newton-cg'\n",
    "    ,tol=(10**-7)\n",
    ")\n",
    "searchCV.fit(X, y)\n",
    "\n",
    "print ('.coef_:', searchCV.coef_)\n",
    "print ('.intercept_:', searchCV.intercept_)\n",
    "#print ('.Cs_:', searchCV.Cs_)\n",
    "#print ('.coefs_paths_:', searchCV.coefs_paths_)\n",
    "print ('.scores_:', searchCV.scores_)\n",
    "print ('.C_:', searchCV.C_)\n",
    "#print ('.n_iter_:', searchCV.n_iter_)\n",
    "print ('Time spent:', datetime.datetime.now() - start_time)\n",
    "#print ('Max auc_roc:', searchCV.scores_[1].max())  # is wrong see https://github.com/scikit-learn/scikit-learn/issues/6619\n",
    "print ('Max auc_roc:', searchCV.scores_[1].mean(axis=0).max())  # is correct"
   ]
  },
  {
   "cell_type": "markdown",
   "metadata": {},
   "source": [
    "# Serialization\n",
    "\n",
    "https://docs.python.org/3/library/pickle.html#examples\n",
    "\n",
    "http://stackoverflow.com/questions/4529815/saving-an-object-data-persistence-in-python"
   ]
  },
  {
   "cell_type": "markdown",
   "metadata": {},
   "source": [
    "## Pickle"
   ]
  },
  {
   "cell_type": "code",
   "execution_count": null,
   "metadata": {
    "ExecuteTime": {
     "start_time": "2020-03-20T10:18:53.949Z"
    }
   },
   "outputs": [],
   "source": [
    "class CustomClass:\n",
    "    s = 'Some string'\n",
    "    s1 = 's1_'\n",
    "    s2 = 's2_'"
   ]
  },
  {
   "cell_type": "code",
   "execution_count": null,
   "metadata": {
    "ExecuteTime": {
     "start_time": "2020-03-20T10:18:53.958Z"
    }
   },
   "outputs": [],
   "source": [
    "cc = CustomClass()"
   ]
  },
  {
   "cell_type": "code",
   "execution_count": null,
   "metadata": {
    "ExecuteTime": {
     "start_time": "2020-03-20T10:18:53.966Z"
    }
   },
   "outputs": [],
   "source": [
    "# An arbitrary collection of objects supported by pickle.\n",
    "data = {\n",
    "    'a': [1, 2.0, 3, 4+6j],\n",
    "    'b': (\"character string\", b\"byte string\"),\n",
    "    'c': {None, True, False},\n",
    "    'cc': cc\n",
    "}"
   ]
  },
  {
   "cell_type": "code",
   "execution_count": null,
   "metadata": {
    "ExecuteTime": {
     "start_time": "2020-03-20T10:18:53.974Z"
    }
   },
   "outputs": [],
   "source": [
    "import pickle\n",
    "\n",
    "with open('test.pickle', 'wb') as f:\n",
    "    # Pickle the 'data' dictionary using the highest protocol available.\n",
    "    pickle.dump(data, f, pickle.HIGHEST_PROTOCOL)"
   ]
  },
  {
   "cell_type": "code",
   "execution_count": null,
   "metadata": {
    "ExecuteTime": {
     "start_time": "2020-03-20T10:18:53.983Z"
    }
   },
   "outputs": [],
   "source": [
    "# Without protocol specification each time: http://stackoverflow.com/questions/4529815/saving-an-object-data-persistence-in-python\n",
    "import pickle\n",
    "\n",
    "with open('test.pickle', 'wb') as f:\n",
    "    pickler = pickle.Pickler(f, -1)\n",
    "    # Pickle the 'data' dictionary using the highest protocol available.\n",
    "    pickler.dump(data)"
   ]
  },
  {
   "cell_type": "code",
   "execution_count": null,
   "metadata": {
    "ExecuteTime": {
     "start_time": "2020-03-20T10:18:53.992Z"
    }
   },
   "outputs": [],
   "source": [
    "import pickle\n",
    "\n",
    "with open('data.pickle', 'rb') as f:\n",
    "    # The protocol version used is detected automatically, so we do not\n",
    "    # have to specify it.\n",
    "    data = pickle.load(f)\n",
    "\n",
    "data"
   ]
  },
  {
   "cell_type": "markdown",
   "metadata": {},
   "source": [
    "### So, we can't save/restore classes which changed :("
   ]
  },
  {
   "cell_type": "markdown",
   "metadata": {},
   "source": [
    "## Json\n",
    "\n",
    "https://www.safaribooksonline.com/library/view/python-cookbook-3rd/9781449357337/ch06s02.html\n",
    "\n",
    "http://robotfantastic.org/serializing-python-data-to-json-some-edge-cases.html ->\n",
    "    http://jsonpickle.github.io/"
   ]
  },
  {
   "cell_type": "code",
   "execution_count": null,
   "metadata": {
    "ExecuteTime": {
     "start_time": "2020-03-20T10:18:54.010Z"
    }
   },
   "outputs": [],
   "source": [
    "import json\n",
    "\n",
    "# Writing JSON data\n",
    "with open('test.json', 'w') as f:\n",
    "     json.dump(data, f)"
   ]
  },
  {
   "cell_type": "markdown",
   "metadata": {},
   "source": [
    "### jsonpickle"
   ]
  },
  {
   "cell_type": "code",
   "execution_count": null,
   "metadata": {
    "ExecuteTime": {
     "start_time": "2020-03-20T10:18:54.022Z"
    }
   },
   "outputs": [],
   "source": [
    "import jsonpickle\n",
    "\n",
    "print (jsonpickle.encode(data))"
   ]
  },
  {
   "cell_type": "markdown",
   "metadata": {},
   "source": [
    "## Marshal"
   ]
  },
  {
   "cell_type": "code",
   "execution_count": null,
   "metadata": {
    "ExecuteTime": {
     "start_time": "2020-03-20T10:18:54.035Z"
    }
   },
   "outputs": [],
   "source": [
    "import marshal\n",
    "\n",
    "with open('test.marshal', 'w') as f:\n",
    "     marshal.dump(data, f)"
   ]
  },
  {
   "cell_type": "code",
   "execution_count": null,
   "metadata": {},
   "outputs": [],
   "source": []
  },
  {
   "cell_type": "code",
   "execution_count": null,
   "metadata": {},
   "outputs": [],
   "source": []
  },
  {
   "cell_type": "code",
   "execution_count": null,
   "metadata": {},
   "outputs": [],
   "source": []
  },
  {
   "cell_type": "code",
   "execution_count": null,
   "metadata": {},
   "outputs": [],
   "source": []
  },
  {
   "cell_type": "code",
   "execution_count": null,
   "metadata": {},
   "outputs": [],
   "source": []
  },
  {
   "cell_type": "markdown",
   "metadata": {
    "collapsed": true
   },
   "source": [
    "# Matching vectorize"
   ]
  },
  {
   "cell_type": "code",
   "execution_count": null,
   "metadata": {
    "ExecuteTime": {
     "start_time": "2020-03-20T10:18:54.072Z"
    }
   },
   "outputs": [],
   "source": [
    "text = [\n",
    "    'Алё. Петя, поищи в нашей базе Адольфа Швардсенеггера',\n",
    "    'Вася Уткин, проживающий по адресу г. Санкт-Петербург...',\n",
    "    'гражданин Уткин В., регион СПб...',\n",
    "    'Разум дан человеку для того, чтобы он разумно жил, а не для того только, чтобы он понимал, что он неразумно живет.'\n",
    "]\n",
    "\n",
    "from sklearn.feature_extraction.text import TfidfVectorizer\n",
    "vectorizer = TfidfVectorizer(min_df=1)\n",
    "array = vectorizer.fit_transform(text)\n",
    "array.toarray()"
   ]
  },
  {
   "cell_type": "markdown",
   "metadata": {},
   "source": [
    "## CrossValidationScorer results"
   ]
  },
  {
   "cell_type": "code",
   "execution_count": null,
   "metadata": {
    "ExecuteTime": {
     "start_time": "2020-03-20T10:18:54.085Z"
    }
   },
   "outputs": [],
   "source": [
    "from sklearn.preprocessing import StandardScaler\n",
    "\n",
    "\n",
    "class CrossResults:\n",
    "    '''Based on Results class, but more generalised to store just GridSearchCV instead of custom array of direct loop'''\n",
    "\n",
    "    # All instance vars **must** be difined in constructor: http://localhost:8888/notebooks/final.assignment/Kaggle/FuncSandbox.ipynb#Class,-instance,-static-vars\n",
    "    def __init__(self):\n",
    "        self.res = {}\n",
    "\n",
    "    def put(self, name, description, score, timeSpent):\n",
    "        '''\n",
    "        Store data for next comparations of runs.\n",
    "        Score is just GridSearchCV object after fit() method called\n",
    "        '''\n",
    "        self.res[name] = {\n",
    "            'description': description\n",
    "            ,'spent': timeSpent\n",
    "            ,'score': score\n",
    "            ,'addTime': datetime.datetime.now()\n",
    "        }\n",
    "\n",
    "    def describe(self, comparedTo='init'):\n",
    "        # See http://localhost:8888/notebooks/final.assignment/Kaggle/ArraysSandbox.ipynb#DataFrame.from_records\n",
    "        df = DataFrame(self.res).T\n",
    "        if 0 == len(self.res):\n",
    "            return DataFrame(self.res)\n",
    "\n",
    "        df = df \\\n",
    "            .join(df.score.apply(lambda it: it.best_score_), rsuffix='R') \\\n",
    "            .rename(columns={'scoreR': 'best_auc_roc'}) \\\n",
    "            .join(df.score.apply(lambda it: it.best_params_), rsuffix='R') \\\n",
    "            .rename(columns={'scoreR': 'best_params'}) \\\n",
    "            .drop({'score'}, axis=1) \\\n",
    "            .sort_values(by=['addTime'])\n",
    "\n",
    "        # Add diff column\n",
    "        df['AUC_ROC_diff'] = df.best_auc_roc - df.loc[comparedTo, 'best_auc_roc']\n",
    "        # Move columns AUC_ROC_diff after best_auc_roc:\n",
    "        # http://stackoverflow.com/questions/25122099/move-column-by-name-to-front-of-table-in-pandas\n",
    "        cols = list(df.columns)\n",
    "        cols.insert(cols.index('best_auc_roc') + 1, cols.pop(cols.index('AUC_ROC_diff')))\n",
    "        return df.ix[:, cols]\n",
    "\n",
    "    def describeBest(self, comparedTo='init'):\n",
    "        '''\n",
    "        Return only those tries which are better then one with name 'init'.\n",
    "        Sort by AUC_ROC_diff DESC - Better firest!\n",
    "        '''\n",
    "        df = self.describe()\n",
    "        return df[df.AUC_ROC_diff >=0].sort_values(by=['AUC_ROC_diff'], ascending=False)\n",
    "\n",
    "    def __repr__(self):\n",
    "        return str(self.describe())"
   ]
  },
  {
   "cell_type": "code",
   "execution_count": null,
   "metadata": {
    "ExecuteTime": {
     "start_time": "2020-03-20T10:18:54.093Z"
    }
   },
   "outputs": [],
   "source": [
    "from sklearn.cross_validation import KFold\n",
    "from pandas import DataFrame\n",
    "import pandas\n",
    "import numpy as np\n",
    "import pickle\n",
    "from sklearn.grid_search import GridSearchCV\n",
    "from sklearn.preprocessing import StandardScaler\n",
    "from sklearn.linear_model import LogisticRegression\n",
    "\n",
    "class CrossValidationScorer:\n",
    "    '''\n",
    "    Generilize first attempt LogisticCrossValidationScorer to different type of classifiers, not\n",
    "    only LogisticRegression.\n",
    "    Use GridSearchCV instead of custom parralel implementation. It lack of per loop timing statistic, but more\n",
    "    generic in different parameters grid search!\n",
    "    '''\n",
    "\n",
    "    # All instance vars **must** be difined in constructor: http://localhost:8888/notebooks/final.assignment/Kaggle/FuncSandbox.ipynb#Class,-instance,-static-vars\n",
    "    def __init__(self):\n",
    "        self.features_ = None\n",
    "        self.features_test_ = None\n",
    "\n",
    "        self.X_trn_ = None\n",
    "        self.y_trn_ = None\n",
    "        self.X_tst_ = None\n",
    "\n",
    "        self.c_search_result_ = None\n",
    "\n",
    "        # Grid search instance fited and ready to predict\n",
    "        self.gs = None\n",
    "\n",
    "        # Predicted values from clf_ on test data\n",
    "        self.y_pred_ = None\n",
    "\n",
    "        self.results = CrossResults()\n",
    "\n",
    "    def loadData(self, featuresFile='features.csv', featuresTestFile='features_test.csv'):\n",
    "        # 1) Считайте таблицу с признаками из файла features.csv с помощью кода, приведенного выше.\n",
    "        self.features_ = pandas.read_csv('features.csv', index_col='match_id')\n",
    "        self.features_test_ = pandas.read_csv('features_test.csv', index_col='match_id')\n",
    "        self.dataPrepare()\n",
    "\n",
    "    def dataPrepare(self):\n",
    "        # 1.1) Удалите признаки, связанные с итогами матча (они помечены в описании данных как отсутствующие в\n",
    "        # тестовой выборке).\n",
    "        self.y_trn_ = self.features_.radiant_win\n",
    "        self.X_trn_ = self.features_.loc[:, 'start_time':'dire_first_ward_time']\n",
    "        self.X_tst_ = self.features_test_.loc[:, 'start_time':'dire_first_ward_time']\n",
    "\n",
    "    def getNanCounts(self):\n",
    "        # 2) Проверьте выборку на наличие пропусков с помощью функции count(), которая для каждого столбца\n",
    "        # показывает число заполненных значений. Много ли пропусков в данных? Запишите названия признаков, имеющих\n",
    "        # пропуски, и попробуйте для\n",
    "        # любых двух из них дать обоснование, почему их значения могут быть пропущены.\n",
    "\n",
    "        trn_count = self.X_trn_.count()\n",
    "        trn_with_nan = trn_count[ trn_count < self.X_trn_.shape[0] ]\n",
    "        \n",
    "        # Test data also\n",
    "        tst_count = self.X_tst_.count()\n",
    "        tst_with_nan = tst_count[ tst_count < self.X_tst_.shape[0] ]\n",
    "\n",
    "        #first_blood_time               77677\n",
    "        #first_blood_team               77677\n",
    "        #first_blood_player1            77677\n",
    "        #first_blood_player2            53243\n",
    "        #radiant_bottle_time            81539\n",
    "        #radiant_courier_time           96538\n",
    "        #radiant_flying_courier_time    69751\n",
    "        #radiant_first_ward_time        95394\n",
    "        #dire_bottle_time               81087\n",
    "        #dire_courier_time              96554\n",
    "        #dire_flying_courier_time       71132\n",
    "        #dire_first_ward_time           95404\n",
    "\n",
    "        # Выше приведены признаки, количество значений которых меньше чем в данных результата. Таким образом они\n",
    "        # с пропусками.\n",
    "        # *) Первые 4 признака (first_blood_time, first_blood_team, first_blood_player1, first_blood_player2)\n",
    "        # по описанию могут иметь пропуски: \"Признаки события \"первая кровь\" (first blood). Если событие \"первая\n",
    "        # кровь\" не успело произойти\n",
    "        # за первые 5 минут, то признаки принимают пропущенное значение\". То есть для части матчей оно не произошло.\n",
    "        # *) Следующие: radiant_bottle_time + dire_bottle_time: время первого приобретения командой предмета \"bottle\",\n",
    "        # radiant_courier_time + dire_courier_time: время приобретения предмета \"courier\" radiant_flying_courier_time +\n",
    "        # dire_flying_courier_time: время приобретения предмета \"flying_courier\". Я не играю в эту игру, но вероятнее\n",
    "        # всего покупка данных вещей не является обязательным. То есть эти события могут и не наступать.\n",
    "        # *) radiant_first_ward_time, dire_first_ward_time: время установки командой первого \"наблюдателя\", т.е.\n",
    "        # предмета, который позволяет видеть часть игрового поля. Вероятнее всего это тоже не входит в обязательную\n",
    "        # часть победы и соответственно некоторые игры могут обходиться без этого\n",
    "        return {'train_with_nan': trn_with_nan, 'test_with_nan': tst_with_nan}\n",
    "\n",
    "    def fillNa(self, value=0):\n",
    "        # 3) Замените пропуски на нули с помощью функции fillna(). На самом деле этот способ является предпочтительным\n",
    "        # для логистической регрессии, поскольку он позволит пропущенному значению не вносить никакого вклада в\n",
    "        # предсказание.\n",
    "        # Для деревьев часто лучшим вариантом оказывается замена пропуска на очень большое или очень маленькое значение\n",
    "        # — в этом случае при построении разбиения вершины можно будет отправить объекты с пропусками в отдельную\n",
    "        # ветвь дерева.\n",
    "\n",
    "        # Также есть и другие подходы — например, замена пропуска на среднее значение признака. Мы не требуем этого\n",
    "        # в задании, но при желании попробуйте разные подходы к обработке пропусков и сравните их между собой.\n",
    "\n",
    "        nanCounts = self.getNanCounts()\n",
    "        for i in nanCounts['train_with_nan'].index:\n",
    "            self.X_trn_[i].fillna(value, inplace=True)\n",
    "\n",
    "        for i in nanCounts['test_with_nan'].index:\n",
    "            self.X_tst_[i].fillna(value, inplace=True)\n",
    "\n",
    "    def dropCategorial(self, columns=['lobby_type', 'r1_hero', 'r2_hero', 'r3_hero', 'r4_hero', 'r5_hero', 'd1_hero'\n",
    "                ,'d2_hero', 'd3_hero', 'd4_hero', 'd5_hero']):\n",
    "        # 2) Среди признаков в выборке есть категориальные, которые мы использовали как числовые, что вряд ли\n",
    "        # является хорошей идеей. Категориальных признаков в этой задаче одиннадцать:\n",
    "        # lobby_type и r1_hero, r2_hero, ..., r5_hero, d1_hero, d2_hero, ..., d5_hero.\n",
    "        # Уберите их из выборки, и проведите кросс-валидацию для логистической регрессии на новой выборке с подбором\n",
    "        # лучшего параметра регуляризации.\n",
    "        # Изменилось ли качество? Чем вы можете это объяснить?\n",
    "\n",
    "        # + http://stackoverflow.com/questions/13411544/delete-column-from-pandas-dataframe\n",
    "        self.X_trn_.drop(columns, axis=1, inplace=True)\n",
    "        self.X_tst_.drop(columns, axis=1, inplace=True)\n",
    "\n",
    "    def scale(self, scaler=None):\n",
    "        # Важно: не забывайте, что линейные алгоритмы чувствительны к масштабу признаков! Может пригодиться\n",
    "        # sklearn.preprocessing.StandartScaler.\n",
    "        scaler = scaler if scaler is not None else StandardScaler()\n",
    "\n",
    "        self.X_trn_[self.X_trn_.columns] = scaler.fit_transform(self.X_trn_)\n",
    "        self.X_tst_[self.X_tst_.columns] = scaler.transform(self.X_tst_)\n",
    "\n",
    "    def futuresBag(self\n",
    "                   ,columns=['r1_hero', 'r2_hero', 'r3_hero', 'r4_hero', 'r5_hero', 'd1_hero', 'd2_hero', 'd3_hero'\n",
    "                             , 'd4_hero', 'd5_hero']\n",
    "                   ,patternPositive='r{}_hero', positiveValue=1\n",
    "                   ,patternNegative='d{}_hero', negativeValue=-1\n",
    "                   ,patternBagColumnNames='h{}'):\n",
    "        # 3) На предыдущем шаге мы исключили из выборки признаки rM_hero и dM_hero, которые показывают, какие именно\n",
    "        # герои играли за каждую команду. Это важные признаки — герои имеют разные характеристики, и некоторые из\n",
    "        # них выигрывают чаще, чем другие.\n",
    "        print ('Creating futuresBag')\n",
    "        self.X_trn_ = pandas.concat(\n",
    "            [\n",
    "                self.X_trn_\n",
    "                ,CrossValidationScorer._words_bag(\n",
    "                    self.features_, columns, patternPositive, positiveValue, patternNegative, negativeValue, patternBagColumnNames\n",
    "                )\n",
    "            ]\n",
    "            ,axis=1\n",
    "        )\n",
    "        self.X_tst_ = pandas.concat(\n",
    "            [\n",
    "                self.X_tst_\n",
    "                ,CrossValidationScorer._words_bag(\n",
    "                    self.features_test_, columns, patternPositive, positiveValue, patternNegative, negativeValue, patternBagColumnNames\n",
    "                )\n",
    "            ]\n",
    "            ,axis=1\n",
    "        )\n",
    "\n",
    "    # Мешок слов. Оптимизированный вариант.\n",
    "    # используем numpy.ndarray, но размер делаем не по количеству уникальных элементов, а по максимальному значению.\n",
    "    # Затем конвертируем в DataFrame и удаляем колонки, содержащие только 0\n",
    "    # (http://stackoverflow.com/questions/12411649/filter-columns-of-only-zeros-from-a-pandas-data-frame)\n",
    "    @staticmethod\n",
    "    def _words_bag(df\n",
    "                   ,columns\n",
    "                   ,patternPositive='r{}_hero', positiveValue=1\n",
    "                   ,patternNegative='d{}_hero', negativeValue=-1\n",
    "                   ,patternBagColumnNames='h{}'):\n",
    "\n",
    "        '''\n",
    "        Function for replace categorial data (f.e. ref id) to bag.\n",
    "        F.e.:\n",
    "        r1_hero | r2_hero | d1_hero | d2_hero\n",
    "        1       | 2       | 4       | 6\n",
    "        4       | 3       | 1       | 2\n",
    "        6       | 4       | 1       | 3\n",
    "\n",
    "        will be transformed into:\n",
    "        h1 h2 h3 h4 h6\n",
    "        1  1  0  -1 -1\n",
    "       -1 -1  1  1  0\n",
    "       -1  0 -1  1  1\n",
    "        \n",
    "        Note there no h5 as it was not in incoming data!\n",
    "        Return DataFrame with replaced columns.\n",
    "        '''\n",
    "        bag = numpy.zeros((df.shape[0], df[columns].max().max())) # global max by columns\n",
    "\n",
    "        for i, _id in enumerate(df.index): # i - monotone index (1, 2, 3), _id is real index (1, 3, 8)\n",
    "            for p in range(1, int(len(columns) / 2) + 1): # ???\n",
    "                bag[i, df.ix[_id, patternPositive.format(p)]-1] = positiveValue\n",
    "                bag[i, df.ix[_id, patternNegative.format(p)]-1] = negativeValue\n",
    "\n",
    "        bag = DataFrame(bag, index=df.index)\n",
    "        bag = bag[bag.columns[(bag != 0).any()]]\n",
    "        bag.columns = [patternBagColumnNames.format(h+1) for i,h in enumerate(bag.columns)]\n",
    "        # See http://localhost:8888/notebooks/final.assignment/Kaggle/ArraysSandbox.ipynb#Добавление-нескольких-столбцов-с-РАЗНОЙ-индексацией\n",
    "        bag.index = df.index\n",
    "        return bag\n",
    "\n",
    "    def searchBestParams(self, grid = {'C': numpy.power(10.0, numpy.arange(-10, 30))}, clf = LogisticRegression(penalty='l2', random_state=777)):\n",
    "        '''Search best parameters for classifier'''\n",
    "\n",
    "        print ('Search best parameters for classifier')\n",
    "        start_time = datetime.datetime.now()\n",
    "\n",
    "        fold = KFold(len(self.y_trn_), n_folds=5, shuffle=True, random_state=777)\n",
    "        self.gs = GridSearchCV(clf, grid, scoring='roc_auc', cv=fold, n_jobs=N_JOBS, verbose=True)\n",
    "        self.gs.fit(self.X_trn_, self.y_trn_)\n",
    "        print ('gs.best_params_:', self.gs.best_params_)\n",
    "        print ('gs.best_score_:', self.gs.best_score_)\n",
    "        print ('Time spent:', (datetime.datetime.now() - start_time))\n",
    "\n",
    "    def predict(self):\n",
    "        print ('Predict on test data')\n",
    "        # self.gs.best_estimator_, not self.gs !!!\n",
    "        # http://stackoverflow.com/questions/25949205/sklearn-and-gridsearchcv-is-it-expected-to-return-optimal-parameters/25951666#25951666\n",
    "        self.y_pred_ = self.gs.best_estimator_.predict_proba(self.X_tst_)[:, 1]\n",
    "        print (': y.predict_proba() predicted (min, max, mean): ', self.y_pred_.min(), self.y_pred_.max(), self.y_pred_.mean() )\n",
    "\n",
    "    def writeResultFile(self, result_file='results/kaggle.results.{}.csv'):\n",
    "        print ('Write result into [{}]'.format(result_file.format(self.processedName)))\n",
    "        res = numpy.column_stack( (self.X_tst_.index, self.y_pred_) )\n",
    "        res_df = DataFrame(res, columns=['match_id', 'radiant_win'])\n",
    "        res_df.match_id = res_df.match_id.astype('int') # Is not possible now provide Compound dtypes.\n",
    "        # See http://localhost:8888/notebooks/final.assignment/Kaggle/ArraysSandbox.ipynb#DataFarme-dtypes-on-create\n",
    "        res_df.to_csv(result_file.format(self.processedName), encoding='utf-8', index=False)\n",
    "\n",
    "    def PROCESS(self\n",
    "        ,name, description\n",
    "        ,flow=['loadData', 'fillNa', 'dropCategorial', 'scale', 'futuresBag', 'searchBestParams', 'predict', 'writeResultFile']\n",
    "        ,flow_override={}):\n",
    "        '''\n",
    "        Flow may contain string method name or something which may be callable.\n",
    "        '''\n",
    "\n",
    "        self.processedName = name\n",
    "        start_time = datetime.datetime.now()\n",
    "        print ('Start processing [{}] (\"{}\") at {}'.format(name, description, start_time))\n",
    "\n",
    "        for call in flow:\n",
    "            call = flow_override[call] if call in flow_override else call\n",
    "\n",
    "            if callable(call):\n",
    "                call(self)\n",
    "            else: # Threat as method name. See FuncSandbox.ipynb\n",
    "                getattr(self, call)()\n",
    "\n",
    "        timeSpent = (datetime.datetime.now() - start_time)\n",
    "        self.results.put(\n",
    "            name, description\n",
    "            ,self.gs\n",
    "            ,timeSpent\n",
    "        )\n",
    "        print ('Done processing [{}] ({}). Total time spent: {}'.format(name, description, timeSpent))\n",
    "\n",
    "    def saveResults(self, file='scorer.results.res.pickle'):\n",
    "        with open('scorer.results.res.pickle', 'wb') as file:\n",
    "            pickle.dump(self.results.res, file, pickle.HIGHEST_PROTOCOL)\n",
    "\n",
    "    def loadResults(self, file='scorer.results.res.pickle'):\n",
    "        with open(file, 'rb') as file:\n",
    "            self.results.res = pickle.load(file)\n",
    "\n",
    "# Example of use:\n",
    "#lcv = CrossValidationScorer()\n",
    "#lcv.PROCESS(\n",
    "#    'Test0', 'Just test'\n",
    "#    [\n",
    "#        'loadData'\n",
    "#        ,'fillNa'\n",
    "#        ,'dropCategorial'\n",
    "#        ,'scale'\n",
    "#        ,'futuresBag'\n",
    "#        ,'searchBestParams'\n",
    "#        ,'predict', 'writeResultFile'\n",
    "#    ]\n",
    "#)\n",
    "#lcv.results.describe()\n",
    "#lcv.results.descriptions()\n",
    "#lcv.results.head()\n",
    "#lcv.results.plot()\n",
    "print (\"done\")"
   ]
  },
  {
   "cell_type": "code",
   "execution_count": null,
   "metadata": {
    "ExecuteTime": {
     "start_time": "2020-03-20T10:18:54.103Z"
    }
   },
   "outputs": [],
   "source": [
    "# OR load saved!\n",
    "scorer = CrossValidationScorer()\n",
    "scorer.loadResults()"
   ]
  },
  {
   "cell_type": "markdown",
   "metadata": {},
   "source": [
    "# ↡↡↡↡↡↡↡"
   ]
  },
  {
   "cell_type": "code",
   "execution_count": null,
   "metadata": {
    "ExecuteTime": {
     "start_time": "2020-03-20T10:18:54.114Z"
    }
   },
   "outputs": [],
   "source": [
    "scorer.results.describeBest().filter(regex='^drop_column:.*', axis=0).index"
   ]
  },
  {
   "cell_type": "code",
   "execution_count": null,
   "metadata": {
    "ExecuteTime": {
     "start_time": "2020-03-20T10:18:54.124Z"
    }
   },
   "outputs": [],
   "source": [
    "[ c.replace('drop_column:', '') for c in scorer.results.describeBest().filter(regex='^drop_column:.*', axis=0).index ]"
   ]
  }
 ],
 "metadata": {
  "celltoolbar": "Initialisation Cell",
  "kernelspec": {
   "display_name": "Python 3",
   "language": "python",
   "name": "python3"
  },
  "language_info": {
   "codemirror_mode": {
    "name": "ipython",
    "version": 3
   },
   "file_extension": ".py",
   "mimetype": "text/x-python",
   "name": "python",
   "nbconvert_exporter": "python",
   "pygments_lexer": "ipython3",
   "version": "3.7.6"
  },
  "toc": {
   "base_numbering": 1,
   "nav_menu": {},
   "number_sections": true,
   "sideBar": true,
   "skip_h1_title": false,
   "title_cell": "Table of Contents",
   "title_sidebar": "Contents",
   "toc_cell": true,
   "toc_position": {},
   "toc_section_display": false,
   "toc_window_display": true
  },
  "toc_position": {
   "height": "811px",
   "left": "1022px",
   "right": "20px",
   "top": "6px",
   "width": "475px"
  }
 },
 "nbformat": 4,
 "nbformat_minor": 1
}
