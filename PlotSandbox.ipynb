{
 "cells": [
  {
   "cell_type": "markdown",
   "metadata": {
    "toc": "true"
   },
   "source": [
    "<h1>Table of Contents<span class=\"tocSkip\"></span></h1>\n",
    "<div class=\"toc\"><ul class=\"toc-item\"><li><ul class=\"toc-item\"><li><span><a href=\"#Borrow-PLOT-idea-from-reviewed-prodect_dota_1-(Unfortunately-I-lost-author-Name-:(-)\" data-toc-modified-id=\"Borrow-PLOT-idea-from-reviewed-prodect_dota_1-(Unfortunately-I-lost-author-Name-:(-)-0.1\"><span class=\"toc-item-num\">0.1&nbsp;&nbsp;</span>Borrow PLOT idea from reviewed prodect_dota_1 (Unfortunately I lost author Name :( )</a></span><ul class=\"toc-item\"><li><span><a href=\"#Direct\" data-toc-modified-id=\"Direct-0.1.1\"><span class=\"toc-item-num\">0.1.1&nbsp;&nbsp;</span>Direct</a></span><ul class=\"toc-item\"><li><span><a href=\"#Direct-plot---function\" data-toc-modified-id=\"Direct-plot---function-0.1.1.1\"><span class=\"toc-item-num\">0.1.1.1&nbsp;&nbsp;</span>Direct plot - function</a></span></li></ul></li><li><span><a href=\"#Logarithmic\" data-toc-modified-id=\"Logarithmic-0.1.2\"><span class=\"toc-item-num\">0.1.2&nbsp;&nbsp;</span>Logarithmic</a></span></li></ul></li><li><span><a href=\"#Plot-axes-in-different-scale\" data-toc-modified-id=\"Plot-axes-in-different-scale-0.2\"><span class=\"toc-item-num\">0.2&nbsp;&nbsp;</span>Plot axes in different scale</a></span></li></ul></li><li><span><a href=\"#Pandas-visualisation-examples\" data-toc-modified-id=\"Pandas-visualisation-examples-1\"><span class=\"toc-item-num\">1&nbsp;&nbsp;</span>Pandas visualisation examples</a></span><ul class=\"toc-item\"><li><span><a href=\"#Lag-plot\" data-toc-modified-id=\"Lag-plot-1.1\"><span class=\"toc-item-num\">1.1&nbsp;&nbsp;</span>Lag plot</a></span></li><li><span><a href=\"#Plotting-on-a-Secondary-Y-axis¶\" data-toc-modified-id=\"Plotting-on-a-Secondary-Y-axis¶-1.2\"><span class=\"toc-item-num\">1.2&nbsp;&nbsp;</span>Plotting on a Secondary Y-axis¶</a></span></li><li><span><a href=\"#Subplots\" data-toc-modified-id=\"Subplots-1.3\"><span class=\"toc-item-num\">1.3&nbsp;&nbsp;</span>Subplots</a></span></li><li><span><a href=\"#Plotting-tables\" data-toc-modified-id=\"Plotting-tables-1.4\"><span class=\"toc-item-num\">1.4&nbsp;&nbsp;</span>Plotting tables</a></span></li></ul></li><li><span><a href=\"#Plot-several-axes-in-one-X\" data-toc-modified-id=\"Plot-several-axes-in-one-X-2\"><span class=\"toc-item-num\">2&nbsp;&nbsp;</span>Plot several axes in one X</a></span><ul class=\"toc-item\"><li><span><a href=\"#Матрица-корреляции\" data-toc-modified-id=\"Матрица-корреляции-2.1\"><span class=\"toc-item-num\">2.1&nbsp;&nbsp;</span>Матрица корреляции</a></span></li><li><span><a href=\"#Multiple-X-columns-plot\" data-toc-modified-id=\"Multiple-X-columns-plot-2.2\"><span class=\"toc-item-num\">2.2&nbsp;&nbsp;</span>Multiple X columns plot</a></span></li><li><span><a href=\"#python-nvd3\" data-toc-modified-id=\"python-nvd3-2.3\"><span class=\"toc-item-num\">2.3&nbsp;&nbsp;</span>python-nvd3</a></span></li></ul></li><li><span><a href=\"#Plot.ly\" data-toc-modified-id=\"Plot.ly-3\"><span class=\"toc-item-num\">3&nbsp;&nbsp;</span>Plot.ly</a></span><ul class=\"toc-item\"><li><span><a href=\"#Plot-in-separate-html-file\" data-toc-modified-id=\"Plot-in-separate-html-file-3.1\"><span class=\"toc-item-num\">3.1&nbsp;&nbsp;</span>Plot in separate html file</a></span></li><li><span><a href=\"#Embeding-in-notebook\" data-toc-modified-id=\"Embeding-in-notebook-3.2\"><span class=\"toc-item-num\">3.2&nbsp;&nbsp;</span>Embeding in notebook</a></span></li><li><span><a href=\"#Plotting-with-Pandas\" data-toc-modified-id=\"Plotting-with-Pandas-3.3\"><span class=\"toc-item-num\">3.3&nbsp;&nbsp;</span>Plotting with Pandas</a></span></li></ul></li><li><span><a href=\"#Cufflinks\" data-toc-modified-id=\"Cufflinks-4\"><span class=\"toc-item-num\">4&nbsp;&nbsp;</span>Cufflinks</a></span><ul class=\"toc-item\"><li><span><a href=\"#Plotly-example-of-cufflinks\" data-toc-modified-id=\"Plotly-example-of-cufflinks-4.1\"><span class=\"toc-item-num\">4.1&nbsp;&nbsp;</span>Plotly example of cufflinks</a></span><ul class=\"toc-item\"><li><span><a href=\"#Installation-(no-RPM-yet)\" data-toc-modified-id=\"Installation-(no-RPM-yet)-4.1.1\"><span class=\"toc-item-num\">4.1.1&nbsp;&nbsp;</span>Installation (no RPM yet)</a></span></li><li><span><a href=\"#Example-1\" data-toc-modified-id=\"Example-1-4.1.2\"><span class=\"toc-item-num\">4.1.2&nbsp;&nbsp;</span>Example 1</a></span></li><li><span><a href=\"#Example-preparation-and-tune\" data-toc-modified-id=\"Example-preparation-and-tune-4.1.3\"><span class=\"toc-item-num\">4.1.3&nbsp;&nbsp;</span>Example preparation and tune</a></span></li><li><span><a href=\"#Cufflinks---Heatmap\" data-toc-modified-id=\"Cufflinks---Heatmap-4.1.4\"><span class=\"toc-item-num\">4.1.4&nbsp;&nbsp;</span>Cufflinks - Heatmap</a></span></li><li><span><a href=\"#Cufflinks-+-Pandas\" data-toc-modified-id=\"Cufflinks-+-Pandas-4.1.5\"><span class=\"toc-item-num\">4.1.5&nbsp;&nbsp;</span>Cufflinks + Pandas</a></span><ul class=\"toc-item\"><li><span><a href=\"#My-data.-Simple-auc_roc\" data-toc-modified-id=\"My-data.-Simple-auc_roc-4.1.5.1\"><span class=\"toc-item-num\">4.1.5.1&nbsp;&nbsp;</span>My data. Simple auc_roc</a></span></li><li><span><a href=\"#My-data.-+fill,-theme,-titles,-trend,-text-from-column-(default-mode='lines')\" data-toc-modified-id=\"My-data.-+fill,-theme,-titles,-trend,-text-from-column-(default-mode='lines')-4.1.5.2\"><span class=\"toc-item-num\">4.1.5.2&nbsp;&nbsp;</span>My data. +fill, theme, titles, trend, text from column (default mode='lines')</a></span></li><li><span><a href=\"#My-data.-+-mode='markers'\" data-toc-modified-id=\"My-data.-+-mode='markers'-4.1.5.3\"><span class=\"toc-item-num\">4.1.5.3&nbsp;&nbsp;</span>My data. + mode='markers'</a></span></li><li><span><a href=\"#My-data.-+-mode='lines+markers'\" data-toc-modified-id=\"My-data.-+-mode='lines+markers'-4.1.5.4\"><span class=\"toc-item-num\">4.1.5.4&nbsp;&nbsp;</span>My data. + mode='lines+markers'</a></span></li><li><span><a href=\"#My-data.-+-mode='lines+text'\" data-toc-modified-id=\"My-data.-+-mode='lines+text'-4.1.5.5\"><span class=\"toc-item-num\">4.1.5.5&nbsp;&nbsp;</span>My data. + mode='lines+text'</a></span></li><li><span><a href=\"#My-data.-+-mode='markers+text'\" data-toc-modified-id=\"My-data.-+-mode='markers+text'-4.1.5.6\"><span class=\"toc-item-num\">4.1.5.6&nbsp;&nbsp;</span>My data. + mode='markers+text'</a></span></li><li><span><a href=\"#My-data.-+-mode='lines+markers+text'\" data-toc-modified-id=\"My-data.-+-mode='lines+markers+text'-4.1.5.7\"><span class=\"toc-item-num\">4.1.5.7&nbsp;&nbsp;</span>My data. + mode='lines+markers+text'</a></span></li><li><span><a href=\"#My-data.-+-Custom-text\" data-toc-modified-id=\"My-data.-+-Custom-text-4.1.5.8\"><span class=\"toc-item-num\">4.1.5.8&nbsp;&nbsp;</span>My data. + Custom text</a></span></li></ul></li></ul></li><li><span><a href=\"#My-data.-Subplots\" data-toc-modified-id=\"My-data.-Subplots-4.2\"><span class=\"toc-item-num\">4.2&nbsp;&nbsp;</span>My data. Subplots</a></span></li><li><span><a href=\"#Simple\" data-toc-modified-id=\"Simple-4.3\"><span class=\"toc-item-num\">4.3&nbsp;&nbsp;</span>Simple</a></span></li><li><span><a href=\"#Combine\" data-toc-modified-id=\"Combine-4.4\"><span class=\"toc-item-num\">4.4&nbsp;&nbsp;</span>Combine</a></span><ul class=\"toc-item\"><li><span><a href=\"#Titles,-layout,-help-for-options\" data-toc-modified-id=\"Titles,-layout,-help-for-options-4.4.1\"><span class=\"toc-item-num\">4.4.1&nbsp;&nbsp;</span>Titles, layout, help for options</a></span></li></ul></li></ul></li><li><span><a href=\"#Echarts,-pyecharts\" data-toc-modified-id=\"Echarts,-pyecharts-5\"><span class=\"toc-item-num\">5&nbsp;&nbsp;</span>Echarts, pyecharts</a></span></li><li><span><a href=\"#!Shell-commands!\" data-toc-modified-id=\"!Shell-commands!-6\"><span class=\"toc-item-num\">6&nbsp;&nbsp;</span>!Shell commands!</a></span></li><li><span><a href=\"#LaTex,-Tex,-Math\" data-toc-modified-id=\"LaTex,-Tex,-Math-7\"><span class=\"toc-item-num\">7&nbsp;&nbsp;</span>LaTex, Tex, Math</a></span><ul class=\"toc-item\"><li><span><a href=\"#LaTeX-equations-supported:\" data-toc-modified-id=\"LaTeX-equations-supported:-7.1\"><span class=\"toc-item-num\">7.1&nbsp;&nbsp;</span>LaTeX equations supported:</a></span></li></ul></li></ul></div>"
   ]
  },
  {
   "cell_type": "code",
   "execution_count": 1,
   "metadata": {
    "ExecuteTime": {
     "end_time": "2019-03-12T22:24:45.950675Z",
     "start_time": "2019-03-12T22:24:45.212929Z"
    }
   },
   "outputs": [],
   "source": [
    "import numpy as np\n",
    "import pandas\n",
    "from pandas import DataFrame\n",
    "from pandas import Series\n",
    "import matplotlib.pyplot as plt\n",
    "%matplotlib notebook"
   ]
  },
  {
   "cell_type": "code",
   "execution_count": 2,
   "metadata": {
    "ExecuteTime": {
     "end_time": "2019-03-12T22:24:45.966543Z",
     "start_time": "2019-03-12T22:24:45.953729Z"
    }
   },
   "outputs": [
    {
     "data": {
      "text/html": [
       "<div>\n",
       "<style scoped>\n",
       "    .dataframe tbody tr th:only-of-type {\n",
       "        vertical-align: middle;\n",
       "    }\n",
       "\n",
       "    .dataframe tbody tr th {\n",
       "        vertical-align: top;\n",
       "    }\n",
       "\n",
       "    .dataframe thead th {\n",
       "        text-align: right;\n",
       "    }\n",
       "</style>\n",
       "<table border=\"1\" class=\"dataframe\">\n",
       "  <thead>\n",
       "    <tr style=\"text-align: right;\">\n",
       "      <th></th>\n",
       "      <th>train</th>\n",
       "      <th>test</th>\n",
       "    </tr>\n",
       "  </thead>\n",
       "  <tbody>\n",
       "    <tr>\n",
       "      <th>10</th>\n",
       "      <td>1</td>\n",
       "      <td>2</td>\n",
       "    </tr>\n",
       "    <tr>\n",
       "      <th>20</th>\n",
       "      <td>3</td>\n",
       "      <td>8</td>\n",
       "    </tr>\n",
       "    <tr>\n",
       "      <th>30</th>\n",
       "      <td>7</td>\n",
       "      <td>8</td>\n",
       "    </tr>\n",
       "    <tr>\n",
       "      <th>30</th>\n",
       "      <td>12</td>\n",
       "      <td>9</td>\n",
       "    </tr>\n",
       "    <tr>\n",
       "      <th>40</th>\n",
       "      <td>17</td>\n",
       "      <td>18</td>\n",
       "    </tr>\n",
       "  </tbody>\n",
       "</table>\n",
       "</div>"
      ],
      "text/plain": [
       "    train  test\n",
       "10      1     2\n",
       "20      3     8\n",
       "30      7     8\n",
       "30     12     9\n",
       "40     17    18"
      ]
     },
     "execution_count": 2,
     "metadata": {},
     "output_type": "execute_result"
    }
   ],
   "source": [
    "df = DataFrame([[1, 2], [3, 8], [7, 8], [12, 9], [17, 18]], columns=['train', 'test'])\n",
    "df.index = [10, 20, 30, 30, 40]\n",
    "df"
   ]
  },
  {
   "cell_type": "code",
   "execution_count": 3,
   "metadata": {
    "ExecuteTime": {
     "end_time": "2019-03-12T22:24:45.981038Z",
     "start_time": "2019-03-12T22:24:45.969295Z"
    }
   },
   "outputs": [
    {
     "data": {
      "text/html": [
       "<div>\n",
       "<style scoped>\n",
       "    .dataframe tbody tr th:only-of-type {\n",
       "        vertical-align: middle;\n",
       "    }\n",
       "\n",
       "    .dataframe tbody tr th {\n",
       "        vertical-align: top;\n",
       "    }\n",
       "\n",
       "    .dataframe thead th {\n",
       "        text-align: right;\n",
       "    }\n",
       "</style>\n",
       "<table border=\"1\" class=\"dataframe\">\n",
       "  <thead>\n",
       "    <tr style=\"text-align: right;\">\n",
       "      <th></th>\n",
       "      <th>train</th>\n",
       "      <th>test</th>\n",
       "      <th>big</th>\n",
       "    </tr>\n",
       "  </thead>\n",
       "  <tbody>\n",
       "    <tr>\n",
       "      <th>10</th>\n",
       "      <td>1</td>\n",
       "      <td>2</td>\n",
       "      <td>1000</td>\n",
       "    </tr>\n",
       "    <tr>\n",
       "      <th>20</th>\n",
       "      <td>3</td>\n",
       "      <td>8</td>\n",
       "      <td>1100</td>\n",
       "    </tr>\n",
       "    <tr>\n",
       "      <th>30</th>\n",
       "      <td>7</td>\n",
       "      <td>8</td>\n",
       "      <td>2200</td>\n",
       "    </tr>\n",
       "    <tr>\n",
       "      <th>30</th>\n",
       "      <td>12</td>\n",
       "      <td>9</td>\n",
       "      <td>3350</td>\n",
       "    </tr>\n",
       "    <tr>\n",
       "      <th>40</th>\n",
       "      <td>17</td>\n",
       "      <td>18</td>\n",
       "      <td>4000</td>\n",
       "    </tr>\n",
       "  </tbody>\n",
       "</table>\n",
       "</div>"
      ],
      "text/plain": [
       "    train  test   big\n",
       "10      1     2  1000\n",
       "20      3     8  1100\n",
       "30      7     8  2200\n",
       "30     12     9  3350\n",
       "40     17    18  4000"
      ]
     },
     "execution_count": 3,
     "metadata": {},
     "output_type": "execute_result"
    }
   ],
   "source": [
    "# http://stackoverflow.com/questions/12555323/adding-new-column-to-existing-dataframe-in-python-pandas\n",
    "df['big'] = Series([1000, 1100, 2200, 3350, 4000], index=df.index)\n",
    "# d.big=... Does NOT work!\n",
    "df"
   ]
  },
  {
   "cell_type": "markdown",
   "metadata": {},
   "source": [
    "## Borrow PLOT idea from reviewed prodect_dota_1 (Unfortunately I lost author Name :( )"
   ]
  },
  {
   "cell_type": "markdown",
   "metadata": {},
   "source": [
    "### Direct"
   ]
  },
  {
   "cell_type": "code",
   "execution_count": 4,
   "metadata": {
    "ExecuteTime": {
     "end_time": "2019-03-12T22:24:46.212523Z",
     "start_time": "2019-03-12T22:24:45.982630Z"
    }
   },
   "outputs": [
    {
     "ename": "ModuleNotFoundError",
     "evalue": "No module named 'seaborn'",
     "output_type": "error",
     "traceback": [
      "\u001b[0;31m---------------------------------------------------------------------------\u001b[0m",
      "\u001b[0;31mModuleNotFoundError\u001b[0m                       Traceback (most recent call last)",
      "\u001b[0;32m<ipython-input-4-e2b2093f9dcb>\u001b[0m in \u001b[0;36m<module>\u001b[0;34m()\u001b[0m\n\u001b[0;32m----> 1\u001b[0;31m \u001b[0;32mimport\u001b[0m \u001b[0mseaborn\u001b[0m \u001b[0;32mas\u001b[0m \u001b[0msns\u001b[0m\u001b[0;34m\u001b[0m\u001b[0;34m\u001b[0m\u001b[0m\n\u001b[0m\u001b[1;32m      2\u001b[0m \u001b[0;32mimport\u001b[0m \u001b[0mmatplotlib\u001b[0m\u001b[0;34m.\u001b[0m\u001b[0mpyplot\u001b[0m \u001b[0;32mas\u001b[0m \u001b[0mplt\u001b[0m\u001b[0;34m\u001b[0m\u001b[0;34m\u001b[0m\u001b[0m\n\u001b[1;32m      3\u001b[0m \u001b[0mcm\u001b[0m \u001b[0;34m=\u001b[0m \u001b[0msns\u001b[0m\u001b[0;34m.\u001b[0m\u001b[0mcolor_palette\u001b[0m\u001b[0;34m(\u001b[0m\u001b[0;34m)\u001b[0m\u001b[0;34m\u001b[0m\u001b[0;34m\u001b[0m\u001b[0m\n\u001b[1;32m      4\u001b[0m \u001b[0mget_ipython\u001b[0m\u001b[0;34m(\u001b[0m\u001b[0;34m)\u001b[0m\u001b[0;34m.\u001b[0m\u001b[0mrun_line_magic\u001b[0m\u001b[0;34m(\u001b[0m\u001b[0;34m'matplotlib'\u001b[0m\u001b[0;34m,\u001b[0m \u001b[0;34m'inline'\u001b[0m\u001b[0;34m)\u001b[0m\u001b[0;34m\u001b[0m\u001b[0;34m\u001b[0m\u001b[0m\n\u001b[1;32m      5\u001b[0m \u001b[0msns\u001b[0m\u001b[0;34m.\u001b[0m\u001b[0mtsplot\u001b[0m\u001b[0;34m(\u001b[0m\u001b[0mnp\u001b[0m\u001b[0;34m.\u001b[0m\u001b[0marray\u001b[0m\u001b[0;34m(\u001b[0m\u001b[0mdf\u001b[0m\u001b[0;34m.\u001b[0m\u001b[0mtrain\u001b[0m\u001b[0;34m)\u001b[0m\u001b[0;34m)\u001b[0m\u001b[0;34m\u001b[0m\u001b[0;34m\u001b[0m\u001b[0m\n",
      "\u001b[0;31mModuleNotFoundError\u001b[0m: No module named 'seaborn'"
     ]
    }
   ],
   "source": [
    "import seaborn as sns\n",
    "import matplotlib.pyplot as plt\n",
    "cm = sns.color_palette()\n",
    "%matplotlib inline\n",
    "sns.tsplot(np.array(df.train))\n",
    "#sns.tsplot(np.array(t.two), color=cm[1])\n",
    "sns.tsplot(np.array(df.test), color='green')\n",
    "plt.xlabel('n_estimators')\n",
    "plt.ylabel('AUC-ROC')"
   ]
  },
  {
   "cell_type": "markdown",
   "metadata": {},
   "source": [
    "#### Direct plot - function"
   ]
  },
  {
   "cell_type": "code",
   "execution_count": null,
   "metadata": {
    "ExecuteTime": {
     "end_time": "2019-03-12T22:24:46.213146Z",
     "start_time": "2019-03-12T22:24:45.234Z"
    },
    "scrolled": false
   },
   "outputs": [],
   "source": [
    "import seaborn as sns\n",
    "import matplotlib.pyplot as plt\n",
    "%matplotlib inline\n",
    "#%matplotlib notebook\n",
    "#%matplotlib nbagg\n",
    "\n",
    "def plot_lines(_Y, _xlabel='X', _ylabel='Y', _x=None):\n",
    "    '''\n",
    "    Input _Y is DataFrame. All will be plot in different color\n",
    "    \n",
    "    Warning! _x single for all lines! If it not provides (None by default) _Y.index will be used\n",
    "    '''\n",
    "  \n",
    "    if (_x == None):\n",
    "        _x = _Y.index\n",
    "\n",
    "    print (_x)\n",
    "\n",
    "    colors = sns.color_palette()\n",
    "    # http://stackoverflow.com/questions/332289/how-do-you-change-the-size-of-figures-drawn-with-matplotlib\n",
    "    plt.figure(figsize=(8,8))\n",
    "\n",
    "    for i, col in enumerate(_Y.columns):\n",
    "        # sns.tsplot(_X[col].values, color=colors[i])\n",
    "        plt.plot(_x, _Y[col].values, color=colors[i], label=col, marker='o', markersize=5)\n",
    "\n",
    "    plt.xlabel(_xlabel)\n",
    "    plt.ylabel(_ylabel)\n",
    "    plt.plot\n",
    "    # Place a legend to the right of this smaller figure: http://matplotlib.org/users/legend_guide.html.\n",
    "    plt.legend(bbox_to_anchor=(1.05, 1), loc=2, borderaxespad=0.)\n",
    "    plt.show()\n",
    "\n",
    "plot_lines(df, 'n_estimators', 'AUC-ROC')"
   ]
  },
  {
   "cell_type": "markdown",
   "metadata": {},
   "source": [
    "### Logarithmic"
   ]
  },
  {
   "cell_type": "code",
   "execution_count": null,
   "metadata": {
    "ExecuteTime": {
     "end_time": "2019-03-12T22:24:46.214008Z",
     "start_time": "2019-03-12T22:24:45.251Z"
    }
   },
   "outputs": [],
   "source": [
    "def plot_logreg_scores(data, _indexes):\n",
    "    sns.tsplot(data['train'].T, color='blue', time=np.log10(_indexes))\n",
    "    sns.tsplot(data['test'].T, color='green', time=np.log10(_indexes))\n",
    "    plt.xlabel('$log_{10}$C')\n",
    "    plt.ylabel('AUC-ROC')\n",
    "    pass"
   ]
  },
  {
   "cell_type": "code",
   "execution_count": null,
   "metadata": {
    "ExecuteTime": {
     "end_time": "2019-03-12T22:24:46.214923Z",
     "start_time": "2019-03-12T22:24:45.262Z"
    }
   },
   "outputs": [],
   "source": [
    "# Float fersion of [x]range\n",
    "np.arange(-3.25, 1, 0.25)"
   ]
  },
  {
   "cell_type": "code",
   "execution_count": null,
   "metadata": {
    "ExecuteTime": {
     "end_time": "2019-03-12T22:24:46.215797Z",
     "start_time": "2019-03-12T22:24:45.267Z"
    }
   },
   "outputs": [],
   "source": [
    "C_pool = 10.**np.arange(-2, 3)\n",
    "C_pool"
   ]
  },
  {
   "cell_type": "code",
   "execution_count": null,
   "metadata": {
    "ExecuteTime": {
     "end_time": "2019-03-12T22:24:46.216758Z",
     "start_time": "2019-03-12T22:24:45.276Z"
    }
   },
   "outputs": [],
   "source": [
    "log = DataFrame([[1, 2], [3, 4], [7, 8], [12, 8], [17, 18]], columns=['train', 'test'])\n",
    "log"
   ]
  },
  {
   "cell_type": "code",
   "execution_count": null,
   "metadata": {
    "ExecuteTime": {
     "end_time": "2019-03-12T22:24:46.217643Z",
     "start_time": "2019-03-12T22:24:45.281Z"
    }
   },
   "outputs": [],
   "source": [
    "plot_logreg_scores(log, C_pool)"
   ]
  },
  {
   "cell_type": "markdown",
   "metadata": {},
   "source": [
    "## Plot axes in different scale"
   ]
  },
  {
   "cell_type": "code",
   "execution_count": null,
   "metadata": {
    "ExecuteTime": {
     "end_time": "2019-03-12T22:24:46.218427Z",
     "start_time": "2019-03-12T22:24:45.287Z"
    }
   },
   "outputs": [],
   "source": [
    "from mpl_toolkits.axes_grid1 import host_subplot\n",
    "import mpl_toolkits.axisartist as AA\n",
    "import matplotlib.pyplot as plt\n",
    "\n",
    "#%matplotlib notebook\n",
    "%matplotlib inline\n",
    "\n",
    "host = host_subplot(111, axes_class=AA.Axes)\n",
    "#plt.subplots_adjust(right=1)\n",
    "\n",
    "par1 = host.twinx()\n",
    "par2 = host.twinx()\n",
    "\n",
    "offset = 60\n",
    "new_fixed_axis = par2.get_grid_helper().new_fixed_axis\n",
    "par2.axis[\"right\"] = new_fixed_axis(loc=\"right\", axes=par2, offset=(offset, 0))\n",
    "#par2.axis[\"right\"].toggle(all=True)\n",
    "\n",
    "#host.set_xlim(0, 2)\n",
    "#host.set_ylim(0, 2)\n",
    "\n",
    "host.set_xlabel(\"Distance\")\n",
    "host.set_ylabel(\"Density\")\n",
    "par1.set_ylabel(\"Temperature\")\n",
    "par2.set_ylabel(\"Velocity\")\n",
    "\n",
    "p1, = host.plot([0, 1, 2], [0, 1, 2], label=\"Density\")\n",
    "p2, = par1.plot([0, 1, 2], [0, 3, 2], label=\"Temperature\")\n",
    "p3, = par2.plot([0, 1, 2], [50, 30, 15], label=\"Velocity\")"
   ]
  },
  {
   "cell_type": "code",
   "execution_count": null,
   "metadata": {
    "ExecuteTime": {
     "end_time": "2019-03-12T22:24:46.219317Z",
     "start_time": "2019-03-12T22:24:45.296Z"
    }
   },
   "outputs": [],
   "source": [
    "#    par1.set_ylim(0, 4)\n",
    "#    par2.set_ylim(1, 65)\n",
    "\n",
    "#    host.legend()\n",
    "\n",
    "#    host.axis[\"left\"].label.set_color(p1.get_color())\n",
    "#    par1.axis[\"right\"].label.set_color(p2.get_color())\n",
    "#    par2.axis[\"right\"].label.set_color(p3.get_color())\n",
    "\n",
    "#plt.draw()\n",
    "#plt.show()\n",
    "\n",
    "#plt.savefig(\"Test\")"
   ]
  },
  {
   "cell_type": "code",
   "execution_count": null,
   "metadata": {
    "ExecuteTime": {
     "end_time": "2019-03-12T22:24:46.220510Z",
     "start_time": "2019-03-12T22:24:45.301Z"
    }
   },
   "outputs": [],
   "source": [
    "import matplotlib.pyplot as plt\n",
    "%matplotlib inline\n",
    "#%matplotlib notebook\n",
    "#%matplotlib nbagg\n",
    "\n",
    "def plot_lines_multiaxes(_Y, _xlabel='X', _ylabel='Y', _x=None, _DataFrame_columns=None):\n",
    "    '''\n",
    "    Input _Y is DataFrame. All will be plot in different color\n",
    "    \n",
    "    Warning! _x single for all lines! If it not provides (None by default) _Y.index will be used\n",
    "    '''\n",
    "  \n",
    "    if _x is None:\n",
    "        _x = _Y.index\n",
    "\n",
    "    if _DataFrame_columns is None:\n",
    "        _DataFrame_columns = _Y.columns\n",
    "\n",
    "    colors = sns.color_palette()\n",
    "    # Plot size: http://stackoverflow.com/questions/332289/how-do-you-change-the-size-of-figures-drawn-with-matplotlib\n",
    "    plt.figure(figsize=(10,5))\n",
    "\n",
    "    # Miltiple axes: http://stackoverflow.com/questions/9103166/multiple-axis-in-matplotlib-with-different-scales\n",
    "    # (http://matplotlib.org/examples/axes_grid/demo_parasite_axes2.html)\n",
    "    host = host_subplot(111, axes_class=AA.Axes)\n",
    "    offset = 30\n",
    "    \n",
    "    for i, col in enumerate(_DataFrame_columns):\n",
    "        par = host.twinx()\n",
    "        new_fixed_axis = par.get_grid_helper().new_fixed_axis\n",
    "        par.axis[\"right\"] = new_fixed_axis(loc=\"right\", axes=par, offset=(offset * i, 0))\n",
    "        par.set_ylabel(col)\n",
    "        par.plot(_x, _Y[col].values, color=colors[i], label=col, marker='o', markersize=6)\n",
    "\n",
    "    host.set_xlabel(_xlabel)\n",
    "    #host.set_ylabel(_ylabel)\n",
    "\n",
    "    # Place a legend to the right of this smaller figure: http://matplotlib.org/users/legend_guide.html.\n",
    "    # At graph right:\n",
    "    # plt.legend(bbox_to_anchor=(1.05, 1), loc=2, borderaxespad=0.)\n",
    "    # At graph top:\n",
    "    plt.legend(bbox_to_anchor=(0., 1.02, 1., .102), loc=3, ncol=2, mode=\"expand\", borderaxespad=0.)\n",
    "    plt.show()\n",
    "\n",
    "plot_lines_multiaxes(df)"
   ]
  },
  {
   "cell_type": "code",
   "execution_count": null,
   "metadata": {
    "ExecuteTime": {
     "end_time": "2019-03-12T22:24:46.221611Z",
     "start_time": "2019-03-12T22:24:45.306Z"
    }
   },
   "outputs": [],
   "source": [
    "df"
   ]
  },
  {
   "cell_type": "code",
   "execution_count": null,
   "metadata": {
    "ExecuteTime": {
     "end_time": "2019-03-12T22:24:46.222771Z",
     "start_time": "2019-03-12T22:24:45.310Z"
    }
   },
   "outputs": [],
   "source": [
    "df.plot(legend=True)"
   ]
  },
  {
   "cell_type": "markdown",
   "metadata": {},
   "source": [
    "# Pandas visualisation examples"
   ]
  },
  {
   "cell_type": "code",
   "execution_count": null,
   "metadata": {
    "ExecuteTime": {
     "end_time": "2019-03-12T22:24:46.224030Z",
     "start_time": "2019-03-12T22:24:45.319Z"
    },
    "scrolled": true
   },
   "outputs": [],
   "source": [
    "# http://pandas.pydata.org/pandas-docs/stable/visualization.html#plotting-on-a-secondary-y-axis\n",
    "df4 = DataFrame({'a': np.random.randn(1000) + 1, 'b': np.random.randn(1000),\n",
    "                 'c': np.random.randn(1000) - 1}, columns=['a', 'b', 'c'])\n",
    "\n",
    "plt.figure();\n",
    "df4.plot(kind='hist', alpha=0.5)"
   ]
  },
  {
   "cell_type": "code",
   "execution_count": null,
   "metadata": {
    "ExecuteTime": {
     "end_time": "2019-03-12T22:24:46.225245Z",
     "start_time": "2019-03-12T22:24:45.326Z"
    }
   },
   "outputs": [],
   "source": [
    "df4.a.plot(kind='hist', alpha=0.5)"
   ]
  },
  {
   "cell_type": "code",
   "execution_count": null,
   "metadata": {
    "ExecuteTime": {
     "end_time": "2019-03-12T22:24:46.226739Z",
     "start_time": "2019-03-12T22:24:45.335Z"
    }
   },
   "outputs": [],
   "source": [
    "df4.head()"
   ]
  },
  {
   "cell_type": "markdown",
   "metadata": {},
   "source": [
    "## Lag plot\n",
    "Lag plots are used to check if a data set or time series is random. Random data should not exhibit any structure in the lag plot. Non-random structure implies that the underlying data are not random.\n",
    "\n",
    "http://pandas.pydata.org/pandas-docs/stable/visualization.html#lag-plot"
   ]
  },
  {
   "cell_type": "code",
   "execution_count": null,
   "metadata": {
    "ExecuteTime": {
     "end_time": "2019-03-12T22:24:46.227865Z",
     "start_time": "2019-03-12T22:24:45.346Z"
    }
   },
   "outputs": [],
   "source": [
    "from pandas.tools.plotting import lag_plot\n",
    "\n",
    "plt.figure()\n",
    "\n",
    "data = Series(0.1 * np.random.rand(1000) + 0.9 * np.sin(np.linspace(-99 * np.pi, 99 * np.pi, num=1000)))\n",
    "lag_plot(data)"
   ]
  },
  {
   "cell_type": "code",
   "execution_count": null,
   "metadata": {
    "ExecuteTime": {
     "end_time": "2019-03-12T22:24:46.228864Z",
     "start_time": "2019-03-12T22:24:45.351Z"
    }
   },
   "outputs": [],
   "source": [
    "lag_plot(df)"
   ]
  },
  {
   "cell_type": "markdown",
   "metadata": {},
   "source": [
    "## Plotting on a Secondary Y-axis¶\n",
    "To plot data on a secondary y-axis, use the secondary_y keyword:\n",
    "\n",
    "http://pandas.pydata.org/pandas-docs/stable/visualization.html#plotting-on-a-secondary-y-axis\n",
    "\n",
    "**Очень удобно если нужно всего 2 масштаба осей. Если нужно больше, можно либо использовать Subplots - рисовать на отдельных графиках, либо мою самописную функцию plot_lines**."
   ]
  },
  {
   "cell_type": "code",
   "execution_count": null,
   "metadata": {
    "ExecuteTime": {
     "end_time": "2019-03-12T22:24:46.229890Z",
     "start_time": "2019-03-12T22:24:45.355Z"
    }
   },
   "outputs": [],
   "source": [
    "df.train.plot()\n",
    "df.test.plot(secondary_y=True, style='g')"
   ]
  },
  {
   "cell_type": "code",
   "execution_count": null,
   "metadata": {
    "ExecuteTime": {
     "end_time": "2019-03-12T22:24:46.231004Z",
     "start_time": "2019-03-12T22:24:45.359Z"
    }
   },
   "outputs": [],
   "source": [
    "df.train.plot()\n",
    "df.test.plot(secondary_y=True, style='g')\n",
    "df.big.plot(secondary_y=True, style='r')\n",
    "# хреново"
   ]
  },
  {
   "cell_type": "code",
   "execution_count": null,
   "metadata": {
    "ExecuteTime": {
     "end_time": "2019-03-12T22:24:46.231914Z",
     "start_time": "2019-03-12T22:24:45.363Z"
    }
   },
   "outputs": [],
   "source": [
    "ax = df.plot(secondary_y=['big'])\n",
    "# Optional labels:\n",
    "ax.set_ylabel('LEFT scale')\n",
    "ax.right_ax.set_ylabel('RIGHT scale')"
   ]
  },
  {
   "cell_type": "markdown",
   "metadata": {},
   "source": [
    "## Subplots\n",
    "http://pandas.pydata.org/pandas-docs/stable/visualization.html#subplots\n",
    "\n",
    "**Очень удобно если нужно больше 2 масштабов осей (для двух удобно использовать secondary_y параметр). Если нужно на одном, но в разных осях стоит использовать самописную функцию plot_lines**."
   ]
  },
  {
   "cell_type": "code",
   "execution_count": null,
   "metadata": {
    "ExecuteTime": {
     "end_time": "2019-03-12T22:24:46.232635Z",
     "start_time": "2019-03-12T22:24:45.368Z"
    }
   },
   "outputs": [],
   "source": [
    "df.plot(subplots=True, figsize=(10, 8));"
   ]
  },
  {
   "cell_type": "markdown",
   "metadata": {},
   "source": [
    "## Plotting tables\n",
    "http://pandas.pydata.org/pandas-docs/stable/visualization.html#plotting-tables"
   ]
  },
  {
   "cell_type": "code",
   "execution_count": null,
   "metadata": {
    "ExecuteTime": {
     "end_time": "2019-03-12T22:24:46.233702Z",
     "start_time": "2019-03-12T22:24:45.373Z"
    }
   },
   "outputs": [],
   "source": [
    "fig, ax = plt.subplots(1, 1)\n",
    "\n",
    "df = DataFrame(np.random.rand(5, 3), columns=['a', 'b', 'c'])\n",
    "\n",
    "ax.get_xaxis().set_visible(False)   # Hide Ticks\n",
    "\n",
    "df.plot(table=True, ax=ax)"
   ]
  },
  {
   "cell_type": "markdown",
   "metadata": {},
   "source": [
    "# Plot several axes in one X"
   ]
  },
  {
   "cell_type": "code",
   "execution_count": null,
   "metadata": {
    "ExecuteTime": {
     "end_time": "2019-03-12T22:24:46.234631Z",
     "start_time": "2019-03-12T22:24:45.378Z"
    }
   },
   "outputs": [],
   "source": [
    "inparam = {\n",
    "    'n_estimators': [10, 30, 60, 100]\n",
    "    ,'learning_rate': [0.1, 0.5, 1.0]\n",
    "    ,'max_depth': [0.1, 1, 10]\n",
    "    ,'subsample': [0.1, 0.5, 1.0]\n",
    "    ,'max_features': [0.1, 0.5, 1.0]\n",
    "#    ,'auc_roc': np.round(np.random.randn(10))\n",
    "}\n",
    "#    {\n",
    "#    'a': np.round(np.random.randn(10) + 1\n",
    "#    ,'b': np.random.randn(10),\n",
    "#             'c': np.random.randn(10) - 1}, columns=['a', 'b', 'c'])\n",
    "#df5\n",
    "inparam"
   ]
  },
  {
   "cell_type": "code",
   "execution_count": null,
   "metadata": {
    "ExecuteTime": {
     "end_time": "2019-03-12T22:24:46.235509Z",
     "start_time": "2019-03-12T22:24:45.388Z"
    },
    "scrolled": true
   },
   "outputs": [],
   "source": [
    "res = DataFrame(columns=['n_estimators', 'learning_rate', 'max_depth', 'subsample', 'max_features', 'auc_roc', 'time_elapsed'])\n",
    "\n",
    "i=0\n",
    "\n",
    "for n in inparam['n_estimators']:\n",
    "    for lr in inparam['learning_rate']:\n",
    "        for md in inparam['max_depth']:\n",
    "            for ss in inparam['subsample']:\n",
    "                for mf in inparam['max_features']:\n",
    "                    i += 1\n",
    "                    res.loc[i] = [ n, lr, md, ss, mf, np.random.randn(), pandas.to_timedelta(abs(np.random.randn()) * 10, unit='s') ]\n",
    "\n",
    "print (res.shape)\n",
    "\n",
    "res.head(20)"
   ]
  },
  {
   "cell_type": "code",
   "execution_count": null,
   "metadata": {
    "ExecuteTime": {
     "end_time": "2019-03-12T22:24:46.236339Z",
     "start_time": "2019-03-12T22:24:45.397Z"
    },
    "scrolled": true
   },
   "outputs": [],
   "source": [
    "# Read real data (See ArraysSandbox.ipynb)\n",
    "import glob\n",
    "import pandas\n",
    "res = pandas.concat((pandas.read_csv(f) for f in glob.glob(\"gradient_cross_score_extended_n=*.csv\")),ignore_index=True)\n",
    "res"
   ]
  },
  {
   "cell_type": "code",
   "execution_count": null,
   "metadata": {
    "ExecuteTime": {
     "end_time": "2019-03-12T22:24:46.237172Z",
     "start_time": "2019-03-12T22:24:45.401Z"
    }
   },
   "outputs": [],
   "source": [
    "#res.index = res.n_estimators * 100 * 10**5 + res.learning_rate * 100 * 10**4 + res.max_depth * 100 * 10**3 + res.subsample * 100 * 10**2 + res.max_features * 100 * 10**1\n",
    "#res.sort_index(inplace=True)\n",
    "#res.head()"
   ]
  },
  {
   "cell_type": "markdown",
   "metadata": {},
   "source": [
    "## Матрица корреляции"
   ]
  },
  {
   "cell_type": "code",
   "execution_count": null,
   "metadata": {
    "ExecuteTime": {
     "end_time": "2019-03-12T22:24:46.238010Z",
     "start_time": "2019-03-12T22:24:45.406Z"
    }
   },
   "outputs": [],
   "source": [
    "# http://stackoverflow.com/questions/29432629/correlation-matrix-using-pandas\n",
    "%matplotlib inline\n",
    "plt.matshow(res.corr())\n",
    "res.corr()"
   ]
  },
  {
   "cell_type": "markdown",
   "metadata": {},
   "source": [
    "## Multiple X columns plot"
   ]
  },
  {
   "cell_type": "code",
   "execution_count": null,
   "metadata": {
    "ExecuteTime": {
     "end_time": "2019-03-12T22:24:46.238864Z",
     "start_time": "2019-03-12T22:24:45.411Z"
    },
    "scrolled": true
   },
   "outputs": [],
   "source": [
    "#%matplotlib notebook\n",
    "%matplotlib inline\n",
    "res.auc_roc.plot()"
   ]
  },
  {
   "cell_type": "code",
   "execution_count": null,
   "metadata": {
    "ExecuteTime": {
     "end_time": "2019-03-12T22:24:46.239754Z",
     "start_time": "2019-03-12T22:24:45.415Z"
    }
   },
   "outputs": [],
   "source": [
    "res.time_elapsed.plot()\n",
    "# Will lead to: TypeError: Empty 'DataFrame': no numeric data to plot"
   ]
  },
  {
   "cell_type": "markdown",
   "metadata": {},
   "source": [
    "## python-nvd3\n",
    "https://github.com/areski/python-nvd3\n",
    "\n",
    "See also nvd3_ipython_notebook_demo.ipynb (from https://gist.github.com/jdavidheiser/9552624#file-nvd3-ipython-notebook-demo).\n",
    "\n",
    "Submit the @BUG https://github.com/areski/python-nvd3/issues/115"
   ]
  },
  {
   "cell_type": "code",
   "execution_count": null,
   "metadata": {
    "ExecuteTime": {
     "end_time": "2019-03-12T22:24:46.240560Z",
     "start_time": "2019-03-12T22:24:45.423Z"
    }
   },
   "outputs": [],
   "source": [
    "# load nvd3\n",
    "import random\n",
    "from IPython import display as d\n",
    "import nvd3\n",
    "nvd3.ipynb.initialize_javascript(use_remote=True)"
   ]
  },
  {
   "cell_type": "code",
   "execution_count": null,
   "metadata": {
    "ExecuteTime": {
     "end_time": "2019-03-12T22:24:46.241190Z",
     "start_time": "2019-03-12T22:24:45.429Z"
    }
   },
   "outputs": [],
   "source": [
    "chart4=nvd3.lineWithFocusChart(name=\"focusChart\", height=600, width=800)\n",
    "#xdata = [ i['_id'] for i in DATA_SOURCE ]\n",
    "#ydata = [ i['count'] for i in DATA_SOURCE ]\n",
    "\n",
    "nb_element = 100\n",
    "xdata = range(nb_element)\n",
    "ydata = [i * random.randint(1, 10) for i in range(nb_element)]\n",
    "\n",
    "chart4.add_serie(x=xdata,y=ydata,name=\"monthly allergic\", x_is_date=True, x_axis_format=\"%Y/%m/%d\")\n",
    "chart4.buildhtml()\n",
    "chart4"
   ]
  },
  {
   "cell_type": "markdown",
   "metadata": {},
   "source": [
    "# Plot.ly\n",
    "\n",
    "http://plot.ly/\n",
    "\n",
    "https://plot.ly/python/offline/\n",
    "\n",
    "https://plot.ly/python/"
   ]
  },
  {
   "cell_type": "code",
   "execution_count": null,
   "metadata": {
    "ExecuteTime": {
     "end_time": "2019-03-12T22:24:46.241868Z",
     "start_time": "2019-03-12T22:24:45.434Z"
    }
   },
   "outputs": [],
   "source": [
    "import plotly\n",
    "from plotly.offline import download_plotlyjs, init_notebook_mode, iplot, plot\n",
    "from plotly.graph_objs import *\n",
    "\n",
    "init_notebook_mode() # run at the start of every ipython notebook to use plotly.offline\n",
    "                     # this injects the plotly.js source files into the notebook\n",
    "print (plotly.__version__)"
   ]
  },
  {
   "cell_type": "markdown",
   "metadata": {},
   "source": [
    "## Plot in separate html file"
   ]
  },
  {
   "cell_type": "code",
   "execution_count": null,
   "metadata": {
    "ExecuteTime": {
     "end_time": "2019-03-12T22:24:46.242573Z",
     "start_time": "2019-03-12T22:24:45.438Z"
    }
   },
   "outputs": [],
   "source": [
    "plot([Scatter(x=[1, 2, 3], y=[3, 1, 6])])"
   ]
  },
  {
   "cell_type": "markdown",
   "metadata": {},
   "source": [
    "## Embeding in notebook"
   ]
  },
  {
   "cell_type": "code",
   "execution_count": null,
   "metadata": {
    "ExecuteTime": {
     "end_time": "2019-03-12T22:24:46.243288Z",
     "start_time": "2019-03-12T22:24:45.442Z"
    }
   },
   "outputs": [],
   "source": [
    "iplot([Scatter(x=[1, 2, 3], y=[3, 1, 6])])"
   ]
  },
  {
   "cell_type": "markdown",
   "metadata": {},
   "source": [
    "## Plotting with Pandas"
   ]
  },
  {
   "cell_type": "code",
   "execution_count": null,
   "metadata": {
    "ExecuteTime": {
     "end_time": "2019-03-12T22:24:46.244101Z",
     "start_time": "2019-03-12T22:24:45.447Z"
    }
   },
   "outputs": [],
   "source": [
    "# Plotting with Pandas\n",
    "\n",
    "import pandas as pd\n",
    "df = pd.read_csv('https://plot.ly/~etpinard/191.csv')\n",
    "df.head(1)"
   ]
  },
  {
   "cell_type": "code",
   "execution_count": null,
   "metadata": {
    "ExecuteTime": {
     "end_time": "2019-03-12T22:24:46.244815Z",
     "start_time": "2019-03-12T22:24:45.451Z"
    }
   },
   "outputs": [],
   "source": [
    "iplot({\n",
    "    'data': [\n",
    "        Scatter(x=df[continent+'_Life Expentancy [in years]'],\n",
    "                y=df[continent+'_Gross Domestic Product per Capita [in USD of the year 2000]'],\n",
    "                text=df[continent+'_text'],\n",
    "                marker=Marker(size=df[continent+'_marker.size'], sizemode='area', sizeref=131868,),\n",
    "                mode='markers',\n",
    "                name=continent) for continent in ['Africa', 'Americas', 'Asia', 'Europe', 'Oceania']\n",
    "    ],\n",
    "    'layout': Layout(xaxis=XAxis(title='Life Expectancy'), yaxis=YAxis(title='GDP per Capita', type='log'))\n",
    "}, show_link=False)"
   ]
  },
  {
   "cell_type": "markdown",
   "metadata": {},
   "source": [
    "# Cufflinks"
   ]
  },
  {
   "cell_type": "markdown",
   "metadata": {},
   "source": [
    "## Plotly example of cufflinks\n",
    "\n",
    "Cufflinks example: http://nbviewer.jupyter.org/gist/santosjorge/b278ce0ae2448f47c31d\n",
    "\n",
    "Many examples: https://plot.ly/ipython-notebooks/cufflinks/"
   ]
  },
  {
   "cell_type": "markdown",
   "metadata": {},
   "source": [
    "### Installation (no RPM yet)"
   ]
  },
  {
   "cell_type": "code",
   "execution_count": null,
   "metadata": {
    "ExecuteTime": {
     "end_time": "2019-03-12T22:24:46.245646Z",
     "start_time": "2019-03-12T22:24:45.456Z"
    },
    "scrolled": true
   },
   "outputs": [],
   "source": [
    "# An alternative method for Pandas plotting is with cufflinks: https://github.com/santosjorge/cufflinks\n",
    "! sudo pip3 install cufflinks --upgrade"
   ]
  },
  {
   "cell_type": "code",
   "execution_count": null,
   "metadata": {
    "ExecuteTime": {
     "end_time": "2019-03-12T22:24:46.246362Z",
     "start_time": "2019-03-12T22:24:45.459Z"
    }
   },
   "outputs": [],
   "source": [
    "import cufflinks as cf\n",
    "\n",
    "# Required for SOME charts only (See offline mode: http://nbviewer.jupyter.org/gist/santosjorge/5fdbe947496faf7af5e6\n",
    "# https://plot.ly/python/offline/ )\n",
    "cf.go_offline()"
   ]
  },
  {
   "cell_type": "markdown",
   "metadata": {},
   "source": [
    "### Example 1\n",
    "\n",
    "From http://nbviewer.jupyter.org/gist/santosjorge/b278ce0ae2448f47c31d"
   ]
  },
  {
   "cell_type": "code",
   "execution_count": null,
   "metadata": {
    "ExecuteTime": {
     "end_time": "2019-03-12T22:24:46.247050Z",
     "start_time": "2019-03-12T22:24:45.463Z"
    }
   },
   "outputs": [],
   "source": [
    "iplot(\n",
    "    cf.datagen.lines().iplot(\n",
    "        asFigure=True\n",
    "        ,kind='scatter',xTitle='Dates',yTitle='Returns',title='Returns'\n",
    "    )\n",
    ")"
   ]
  },
  {
   "cell_type": "code",
   "execution_count": null,
   "metadata": {
    "ExecuteTime": {
     "end_time": "2019-03-12T22:24:46.247673Z",
     "start_time": "2019-03-12T22:24:45.474Z"
    }
   },
   "outputs": [],
   "source": [
    "cf.datagen.heatmap(20,20)"
   ]
  },
  {
   "cell_type": "markdown",
   "metadata": {},
   "source": [
    "### Example preparation and tune"
   ]
  },
  {
   "cell_type": "code",
   "execution_count": null,
   "metadata": {
    "ExecuteTime": {
     "end_time": "2019-03-12T22:24:46.248359Z",
     "start_time": "2019-03-12T22:24:45.480Z"
    }
   },
   "outputs": [],
   "source": [
    "cf.datagen.lines().head()"
   ]
  },
  {
   "cell_type": "code",
   "execution_count": null,
   "metadata": {
    "ExecuteTime": {
     "end_time": "2019-03-12T22:24:46.249029Z",
     "start_time": "2019-03-12T22:24:45.488Z"
    }
   },
   "outputs": [],
   "source": [
    "    cf.datagen.lines().iplot(\n",
    "        asFigure=True\n",
    "        ,kind='scatter',xTitle='Dates',yTitle='Returns',title='Returns'\n",
    "    )"
   ]
  },
  {
   "cell_type": "code",
   "execution_count": null,
   "metadata": {
    "ExecuteTime": {
     "end_time": "2019-03-12T22:24:46.249801Z",
     "start_time": "2019-03-12T22:24:45.492Z"
    }
   },
   "outputs": [],
   "source": [
    "cf.datagen.lines().iplot(\n",
    "    asFigure=True\n",
    "    ,kind='scatter',xTitle='Dates',yTitle='Returns',title='Returns'\n",
    ").layout.width"
   ]
  },
  {
   "cell_type": "code",
   "execution_count": null,
   "metadata": {
    "ExecuteTime": {
     "end_time": "2019-03-12T22:24:46.250635Z",
     "start_time": "2019-03-12T22:24:45.496Z"
    }
   },
   "outputs": [],
   "source": [
    "# Change generated layout\n",
    "chart = cf.datagen.lines().iplot(\n",
    "    asFigure=True\n",
    "    ,kind='scatter',xTitle='Dates',yTitle='Returns',title='Returns'\n",
    ")\n",
    "chart.layout.width = 800\n",
    "iplot(chart)"
   ]
  },
  {
   "cell_type": "code",
   "execution_count": null,
   "metadata": {
    "ExecuteTime": {
     "end_time": "2019-03-12T22:24:46.251364Z",
     "start_time": "2019-03-12T22:24:45.500Z"
    }
   },
   "outputs": [],
   "source": [
    "# Or provide layout inplace as dict\n",
    "iplot(\n",
    "    cf.datagen.lines().iplot(\n",
    "        asFigure=True\n",
    "        ,kind='scatter',xTitle='Dates',yTitle='Returns',title='Returns'\n",
    "        ,layout={'width': 600}\n",
    "    )\n",
    ")"
   ]
  },
  {
   "cell_type": "markdown",
   "metadata": {},
   "source": [
    "### Cufflinks - Heatmap"
   ]
  },
  {
   "cell_type": "code",
   "execution_count": null,
   "metadata": {
    "ExecuteTime": {
     "end_time": "2019-03-12T22:24:46.252120Z",
     "start_time": "2019-03-12T22:24:45.505Z"
    },
    "scrolled": true
   },
   "outputs": [],
   "source": [
    "iplot(cf.datagen.heatmap(20,20).iplot(asFigure=True,\n",
    "                                      kind='heatmap',colorscale='spectral',title='Cufflinks - Heatmap'))"
   ]
  },
  {
   "cell_type": "code",
   "execution_count": null,
   "metadata": {
    "ExecuteTime": {
     "end_time": "2019-03-12T22:24:46.252842Z",
     "start_time": "2019-03-12T22:24:45.509Z"
    },
    "scrolled": true
   },
   "outputs": [],
   "source": [
    "cf.go_offline()\n",
    "cf.datagen.sinwave(10,.25).iplot(kind='surface',theme='solar',colorscale='brbg',title='Cufflinks - Surface Plot',\n",
    "                                 margin=(0,0,0,0))"
   ]
  },
  {
   "cell_type": "markdown",
   "metadata": {},
   "source": [
    "### Cufflinks + Pandas\n",
    "\n",
    "http://nbviewer.jupyter.org/gist/santosjorge/f3b07b2be8094deea8c6"
   ]
  },
  {
   "cell_type": "markdown",
   "metadata": {},
   "source": [
    "#### My data. Simple auc_roc"
   ]
  },
  {
   "cell_type": "code",
   "execution_count": null,
   "metadata": {
    "ExecuteTime": {
     "end_time": "2019-03-12T22:24:46.253648Z",
     "start_time": "2019-03-12T22:24:45.513Z"
    },
    "scrolled": true
   },
   "outputs": [],
   "source": [
    "res.iplot(layout={'width': 800})"
   ]
  },
  {
   "cell_type": "code",
   "execution_count": null,
   "metadata": {
    "ExecuteTime": {
     "end_time": "2019-03-12T22:24:46.254352Z",
     "start_time": "2019-03-12T22:24:45.518Z"
    }
   },
   "outputs": [],
   "source": [
    "res.auc_roc.iplot(layout={'width': 800})"
   ]
  },
  {
   "cell_type": "code",
   "execution_count": null,
   "metadata": {
    "ExecuteTime": {
     "end_time": "2019-03-12T22:24:46.255137Z",
     "start_time": "2019-03-12T22:24:45.522Z"
    }
   },
   "outputs": [],
   "source": [
    "res.loc[:,'auc_roc'].iplot(\n",
    "    theme='pearl', title='AUC_ROC values', xTitle='Iteration', yTitle='Auc-roc'\n",
    "#    ,bestfit=True # python3-statsmodels required!\n",
    "#        ,bestfit_colors=['blue'] # http://nbviewer.jupyter.org/gist/santosjorge/f3b07b2be8094deea8c6#Customizing-Colors\n",
    "    ,layout={'width': 800}\n",
    "    ,fill=True # http://nbviewer.jupyter.org/gist/santosjorge/f3b07b2be8094deea8c6#Filled-Traces\n",
    ")\n",
    "\n",
    "# res.loc[:,'auc_roc'].iplot(\n",
    "# equivalent to\n",
    "# res.iplot(keys=['auc_roc'])\n",
    "# But it can't use other columns like: ,text='time_elapsed'"
   ]
  },
  {
   "cell_type": "markdown",
   "metadata": {},
   "source": [
    "#### My data. +fill, theme, titles, trend, text from column (default mode='lines')"
   ]
  },
  {
   "cell_type": "code",
   "execution_count": null,
   "metadata": {
    "ExecuteTime": {
     "end_time": "2019-03-12T22:24:46.255834Z",
     "start_time": "2019-03-12T22:24:45.527Z"
    }
   },
   "outputs": [],
   "source": [
    "res.iplot(\n",
    "    keys=['auc_roc']\n",
    "    ,text='time_elapsed'\n",
    "    ,theme='pearl', title='AUC_ROC values', xTitle='Iteration', yTitle='Auc-roc'\n",
    "    ,bestfit=True # python3-statsmodels required!\n",
    "        ,bestfit_colors=['blue'] # http://nbviewer.jupyter.org/gist/santosjorge/f3b07b2be8094deea8c6#Customizing-Colors\n",
    "    ,layout={'width': 800}\n",
    "#    ,fill=True # http://nbviewer.jupyter.org/gist/santosjorge/f3b07b2be8094deea8c6#Filled-Traces\n",
    ")"
   ]
  },
  {
   "cell_type": "markdown",
   "metadata": {},
   "source": [
    "#### My data. + mode='markers'"
   ]
  },
  {
   "cell_type": "code",
   "execution_count": null,
   "metadata": {
    "ExecuteTime": {
     "end_time": "2019-03-12T22:24:46.256547Z",
     "start_time": "2019-03-12T22:24:45.531Z"
    }
   },
   "outputs": [],
   "source": [
    "res.iplot(\n",
    "    keys=['auc_roc']\n",
    "    ,text='time_elapsed'\n",
    "    ,theme='pearl', title='AUC_ROC values', xTitle='Iteration', yTitle='Auc-roc'\n",
    "#    ,bestfit=True # python3-statsmodels required!\n",
    "#        ,bestfit_colors=['blue'] # http://nbviewer.jupyter.org/gist/santosjorge/f3b07b2be8094deea8c6#Customizing-Colors\n",
    "    ,layout={'width': 800}\n",
    "    ,mode='markers', size=4\n",
    ")"
   ]
  },
  {
   "cell_type": "markdown",
   "metadata": {},
   "source": [
    "#### My data. + mode='lines+markers'"
   ]
  },
  {
   "cell_type": "code",
   "execution_count": null,
   "metadata": {
    "ExecuteTime": {
     "end_time": "2019-03-12T22:24:46.257503Z",
     "start_time": "2019-03-12T22:24:45.536Z"
    }
   },
   "outputs": [],
   "source": [
    "res.iplot(\n",
    "    keys=['auc_roc']\n",
    "    ,text='time_elapsed'\n",
    "    ,theme='pearl', title='AUC_ROC values', xTitle='Iteration', yTitle='Auc-roc'\n",
    "#    ,bestfit=True # python3-statsmodels required!\n",
    "#        ,bestfit_colors=['blue'] # http://nbviewer.jupyter.org/gist/santosjorge/f3b07b2be8094deea8c6#Customizing-Colors\n",
    "    ,layout={'width': 800}\n",
    "    ,mode='lines+markers', size=4\n",
    ")"
   ]
  },
  {
   "cell_type": "markdown",
   "metadata": {},
   "source": [
    "#### My data. + mode='lines+text'"
   ]
  },
  {
   "cell_type": "code",
   "execution_count": null,
   "metadata": {
    "ExecuteTime": {
     "end_time": "2019-03-12T22:24:46.258168Z",
     "start_time": "2019-03-12T22:24:45.540Z"
    }
   },
   "outputs": [],
   "source": [
    "res.iplot(\n",
    "    keys=['auc_roc']\n",
    "    ,text='time_elapsed'\n",
    "    ,theme='pearl', title='AUC_ROC values', xTitle='Iteration', yTitle='Auc-roc'\n",
    "#    ,bestfit=True # python3-statsmodels required!\n",
    "#        ,bestfit_colors=['blue'] # http://nbviewer.jupyter.org/gist/santosjorge/f3b07b2be8094deea8c6#Customizing-Colors\n",
    "    ,layout={'width': 800}\n",
    "    ,mode='lines+text', size=4\n",
    ")"
   ]
  },
  {
   "cell_type": "markdown",
   "metadata": {},
   "source": [
    "#### My data. + mode='markers+text'"
   ]
  },
  {
   "cell_type": "code",
   "execution_count": null,
   "metadata": {
    "ExecuteTime": {
     "end_time": "2019-03-12T22:24:46.258865Z",
     "start_time": "2019-03-12T22:24:45.545Z"
    }
   },
   "outputs": [],
   "source": [
    "res.iplot(\n",
    "    keys=['auc_roc']\n",
    "    ,text='time_elapsed'\n",
    "    ,theme='pearl', title='AUC_ROC values', xTitle='Iteration', yTitle='Auc-roc'\n",
    "#    ,bestfit=True # python3-statsmodels required!\n",
    "#        ,bestfit_colors=['blue'] # http://nbviewer.jupyter.org/gist/santosjorge/f3b07b2be8094deea8c6#Customizing-Colors\n",
    "    ,layout={'width': 800}\n",
    "    ,mode='markers+text', size=4\n",
    ")"
   ]
  },
  {
   "cell_type": "markdown",
   "metadata": {},
   "source": [
    "#### My data. + mode='lines+markers+text'"
   ]
  },
  {
   "cell_type": "code",
   "execution_count": null,
   "metadata": {
    "ExecuteTime": {
     "end_time": "2019-03-12T22:24:46.259564Z",
     "start_time": "2019-03-12T22:24:45.548Z"
    }
   },
   "outputs": [],
   "source": [
    "res.iplot(\n",
    "    keys=['auc_roc']\n",
    "    ,text='time_elapsed'\n",
    "    ,theme='pearl', title='AUC_ROC values', xTitle='Iteration', yTitle='Auc-roc'\n",
    "#    ,bestfit=True # python3-statsmodels required!\n",
    "#        ,bestfit_colors=['blue'] # http://nbviewer.jupyter.org/gist/santosjorge/f3b07b2be8094deea8c6#Customizing-Colors\n",
    "    ,layout={'width': 800}\n",
    "    ,mode='lines+markers+text', size=4\n",
    ")"
   ]
  },
  {
   "cell_type": "markdown",
   "metadata": {},
   "source": [
    "#### My data. + Custom text"
   ]
  },
  {
   "cell_type": "code",
   "execution_count": null,
   "metadata": {
    "ExecuteTime": {
     "end_time": "2019-03-12T22:24:46.260287Z",
     "start_time": "2019-03-12T22:24:45.553Z"
    }
   },
   "outputs": [],
   "source": [
    "res.head()"
   ]
  },
  {
   "cell_type": "code",
   "execution_count": null,
   "metadata": {
    "ExecuteTime": {
     "end_time": "2019-03-12T22:24:46.260968Z",
     "start_time": "2019-03-12T22:24:45.557Z"
    }
   },
   "outputs": [],
   "source": [
    "res['text'] = 'n_estimators=' + res.n_estimators.astype(str) \\\n",
    "    + '\\n<br />learning_rate=' + res.learning_rate.astype(str) \\\n",
    "    + '\\n<br />max_depth=' + res.max_depth.astype(str) \\\n",
    "    + '\\n<br />subsample=' + res.subsample.astype(str) \\\n",
    "    + '\\n<br />max_features=' + res.max_features.astype(str) \\\n",
    "    + '\\n<br />time_elapsed=' + res.time_elapsed.astype(str)\n",
    "res.head()"
   ]
  },
  {
   "cell_type": "code",
   "execution_count": null,
   "metadata": {
    "ExecuteTime": {
     "end_time": "2019-03-12T22:24:46.261782Z",
     "start_time": "2019-03-12T22:24:45.563Z"
    }
   },
   "outputs": [],
   "source": [
    "\n",
    "res.iplot(\n",
    "    keys=['auc_roc']\n",
    "    ,text='text'\n",
    "    ,theme='pearl', title='AUC_ROC values', xTitle='Iteration', yTitle='Auc-roc'\n",
    "    ,bestfit=True # python3-statsmodels required!\n",
    "        ,bestfit_colors=['blue'] # http://nbviewer.jupyter.org/gist/santosjorge/f3b07b2be8094deea8c6#Customizing-Colors\n",
    "    ,layout={'width': 800}\n",
    "    ,mode='lines+markers', size=4\n",
    ")"
   ]
  },
  {
   "cell_type": "code",
   "execution_count": null,
   "metadata": {
    "ExecuteTime": {
     "end_time": "2019-03-12T22:24:46.262637Z",
     "start_time": "2019-03-12T22:24:45.568Z"
    }
   },
   "outputs": [],
   "source": [
    "res"
   ]
  },
  {
   "cell_type": "markdown",
   "metadata": {},
   "source": [
    "## My data. Subplots\n",
    "\n",
    "https://plot.ly/pandas/subplots/\n",
    "\n",
    "https://github.com/santosjorge/cufflinks/blob/master/cufflinks/tools.py\n",
    "\n",
    "https://plot.ly/ipython-notebooks/subplots/"
   ]
  },
  {
   "cell_type": "markdown",
   "metadata": {},
   "source": [
    "## Simple"
   ]
  },
  {
   "cell_type": "code",
   "execution_count": null,
   "metadata": {
    "ExecuteTime": {
     "end_time": "2019-03-12T22:24:46.263306Z",
     "start_time": "2019-03-12T22:24:45.574Z"
    }
   },
   "outputs": [],
   "source": [
    "data = DataFrame(np.random.randn(10, 4), columns=['c:1', 'auc_roc:1', 'c:2', 'auc_roc:2'])\n",
    "data"
   ]
  },
  {
   "cell_type": "code",
   "execution_count": null,
   "metadata": {
    "ExecuteTime": {
     "end_time": "2019-03-12T22:24:46.263983Z",
     "start_time": "2019-03-12T22:24:45.578Z"
    },
    "scrolled": false
   },
   "outputs": [],
   "source": [
    "data.iplot(\n",
    "    subplots=True\n",
    "    ,layout={'width': 800}\n",
    ")"
   ]
  },
  {
   "cell_type": "code",
   "execution_count": null,
   "metadata": {
    "ExecuteTime": {
     "end_time": "2019-03-12T22:24:46.264768Z",
     "start_time": "2019-03-12T22:24:45.582Z"
    },
    "scrolled": false
   },
   "outputs": [],
   "source": [
    "data.iplot(\n",
    "    subplots=True\n",
    "    ,shape=[1,4]\n",
    "    ,layout={'width': 800}\n",
    ")"
   ]
  },
  {
   "cell_type": "code",
   "execution_count": null,
   "metadata": {
    "ExecuteTime": {
     "end_time": "2019-03-12T22:24:46.265511Z",
     "start_time": "2019-03-12T22:24:45.586Z"
    },
    "scrolled": false
   },
   "outputs": [],
   "source": [
    "data.iplot(\n",
    "    subplots=True\n",
    "    ,shape=(4,1)\n",
    "    ,layout={'width': 800}\n",
    ")"
   ]
  },
  {
   "cell_type": "markdown",
   "metadata": {},
   "source": [
    "## Combine"
   ]
  },
  {
   "cell_type": "markdown",
   "metadata": {},
   "source": [
    "https://plot.ly/pandas/subplots/\n",
    "Combining multiple traces into a single subplot, or mixing and matching chart types, isn't as easy with cufflinks. Subplots are entirely customizable with Plotly's native Python syntax:"
   ]
  },
  {
   "cell_type": "code",
   "execution_count": null,
   "metadata": {
    "ExecuteTime": {
     "end_time": "2019-03-12T22:24:46.266227Z",
     "start_time": "2019-03-12T22:24:45.591Z"
    }
   },
   "outputs": [],
   "source": [
    "import plotly.tools as tls\n",
    "fig = tls.make_subplots(rows=2, cols=1, shared_xaxes=True)\n",
    "\n",
    "for col in ['c:1', 'c:2']:\n",
    "    fig.append_trace({'x': data.index, 'y': data[col], 'type': 'scatter', 'name': col}, 1, 1)\n",
    "\n",
    "for col in ['auc_roc:1', 'auc_roc:2']:\n",
    "    fig.append_trace({'x': data.index, 'y': data[col], 'type': 'bar', 'name': col}, 2, 1)\n",
    "\n",
    "iplot(fig)"
   ]
  },
  {
   "cell_type": "markdown",
   "metadata": {},
   "source": [
    "### Titles, layout, help for options\n",
    "https://plot.ly/ipython-notebooks/subplots/"
   ]
  },
  {
   "cell_type": "code",
   "execution_count": null,
   "metadata": {
    "ExecuteTime": {
     "end_time": "2019-03-12T22:24:46.266958Z",
     "start_time": "2019-03-12T22:24:45.596Z"
    }
   },
   "outputs": [],
   "source": [
    "import plotly.tools as tls\n",
    "fig = tls.make_subplots(\n",
    "    rows=2, cols=1, shared_xaxes=True\n",
    "    ,subplot_titles=('Title one', 'Title two')\n",
    ")\n",
    "\n",
    "fig['layout']['title'] = 'Main title'\n",
    "\n",
    "for col in ['c:1', 'c:2']:\n",
    "    fig.append_trace(\n",
    "        {\n",
    "            'x': data.index, 'y': data[col]\n",
    "            ,'type': 'scatter', 'name': col\n",
    "            ,'mode': 'lines+markers'\n",
    "            ,'line': { 'width': 2}\n",
    "            ,'marker': { 'size': 8 }\n",
    "        }, 1, 1\n",
    "    )\n",
    "\n",
    "for col in ['auc_roc:1', 'auc_roc:2']:\n",
    "    fig.append_trace({'x': data.index, 'y': data[col], 'type': 'bar', 'name': col}, 2, 1)\n",
    "\n",
    "iplot(fig)"
   ]
  },
  {
   "cell_type": "code",
   "execution_count": null,
   "metadata": {
    "ExecuteTime": {
     "end_time": "2019-03-12T22:24:46.267742Z",
     "start_time": "2019-03-12T22:24:45.599Z"
    }
   },
   "outputs": [],
   "source": [
    "print (fig)"
   ]
  },
  {
   "cell_type": "code",
   "execution_count": null,
   "metadata": {
    "ExecuteTime": {
     "end_time": "2019-03-12T22:24:46.268558Z",
     "start_time": "2019-03-12T22:24:45.603Z"
    }
   },
   "outputs": [],
   "source": [
    "print (fig.to_string())"
   ]
  },
  {
   "cell_type": "code",
   "execution_count": null,
   "metadata": {
    "ExecuteTime": {
     "end_time": "2019-03-12T22:24:46.269330Z",
     "start_time": "2019-03-12T22:24:45.606Z"
    }
   },
   "outputs": [],
   "source": [
    "help(fig['layout'])"
   ]
  },
  {
   "cell_type": "markdown",
   "metadata": {},
   "source": [
    "# Echarts, pyecharts\n",
    "\n",
    "http://echarts.apache.org\n",
    "\n",
    "Thats are awesome!\n",
    "\n",
    "http://pyecharts.org/#/\n",
    "\n",
    "Try online: https://mybinder.org/v2/gh/pyecharts/pyecharts-users-cases/master?filepath=notebook-users-cases%2Fnotebook-user-cases.ipynb (add first cell `! pip install pyecharts pyecharts_snapshot`)!!!\n"
   ]
  },
  {
   "cell_type": "markdown",
   "metadata": {},
   "source": [
    "# !Shell commands!"
   ]
  },
  {
   "cell_type": "code",
   "execution_count": null,
   "metadata": {
    "ExecuteTime": {
     "end_time": "2019-03-12T22:24:46.270113Z",
     "start_time": "2019-03-12T22:24:45.611Z"
    }
   },
   "outputs": [],
   "source": [
    "! ls"
   ]
  },
  {
   "cell_type": "code",
   "execution_count": null,
   "metadata": {
    "ExecuteTime": {
     "end_time": "2019-03-12T22:24:46.270868Z",
     "start_time": "2019-03-12T22:24:45.614Z"
    },
    "scrolled": true
   },
   "outputs": [],
   "source": [
    "! date"
   ]
  },
  {
   "cell_type": "markdown",
   "metadata": {},
   "source": [
    "# LaTex, Tex, Math"
   ]
  },
  {
   "cell_type": "markdown",
   "metadata": {},
   "source": [
    "## LaTeX equations supported:\n",
    "\n",
    "[https://jupyter-notebook.readthedocs.io/en/stable/examples/Notebook/Working With Markdown Cells.html#LaTeX-equations]():\n",
    "\n",
    "$$e^x=\\sum_{i=0}^\\infty \\frac{1}{i!}x^i$$"
   ]
  },
  {
   "cell_type": "markdown",
   "metadata": {
    "ExecuteTime": {
     "end_time": "2019-02-20T21:48:26.517467Z",
     "start_time": "2019-02-20T21:48:26.456386Z"
    }
   },
   "source": [
    "[Direct LaTeX syntax also supported:](https://jupyter-notebook.readthedocs.io/en/stable/examples/Notebook/Typesetting%20Equations.html)\n",
    "\n",
    "\\begin{align}\n",
    "\\dot{x} & = \\sigma(y-x) \\\\\n",
    "\\dot{y} & = \\rho x - y - xz \\\\\n",
    "\\dot{z} & = -\\beta z + xy\n",
    "\\end{align}"
   ]
  }
 ],
 "metadata": {
  "kernelspec": {
   "display_name": "Python 3",
   "language": "python",
   "name": "python3"
  },
  "language_info": {
   "codemirror_mode": {
    "name": "ipython",
    "version": 3
   },
   "file_extension": ".py",
   "mimetype": "text/x-python",
   "name": "python",
   "nbconvert_exporter": "python",
   "pygments_lexer": "ipython3",
   "version": "3.7.2"
  },
  "toc": {
   "base_numbering": 1,
   "nav_menu": {},
   "number_sections": true,
   "sideBar": true,
   "skip_h1_title": false,
   "title_cell": "Table of Contents",
   "title_sidebar": "Contents",
   "toc_cell": true,
   "toc_position": {
    "height": "calc(100% - 180px)",
    "left": "10px",
    "top": "150px",
    "width": "306.6px"
   },
   "toc_section_display": false,
   "toc_window_display": true
  }
 },
 "nbformat": 4,
 "nbformat_minor": 1
}
