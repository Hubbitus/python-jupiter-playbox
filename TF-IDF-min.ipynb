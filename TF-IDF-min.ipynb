{
 "cells": [
  {
   "cell_type": "markdown",
   "metadata": {},
   "source": [
    "# Preparation"
   ]
  },
  {
   "cell_type": "code",
   "execution_count": 1,
   "metadata": {
    "ExecuteTime": {
     "end_time": "2020-03-19T22:42:24.569594Z",
     "start_time": "2020-03-19T22:42:23.455873Z"
    },
    "pycharm": {
     "is_executing": true
    }
   },
   "outputs": [
    {
     "name": "stdout",
     "output_type": "stream",
     "text": [
      "Requirement already satisfied: pandas in /usr/lib64/python3.8/site-packages (0.25.3)\r\n",
      "Requirement already satisfied: numpy in /usr/lib64/python3.8/site-packages (1.18.2)\r\n",
      "Requirement already satisfied: sklearn in /home/pasha/.local/lib/python3.8/site-packages (0.0)\r\n",
      "Requirement already satisfied: nltk in /home/pasha/.local/lib/python3.8/site-packages (3.4.5)\r\n",
      "Requirement already satisfied: python-dateutil>=2.6.1 in /usr/lib/python3.8/site-packages (from pandas) (2.8.0)\r\n",
      "Requirement already satisfied: pytz>=2017.2 in /usr/lib/python3.8/site-packages (from pandas) (2019.3)\r\n",
      "Requirement already satisfied: scikit-learn in /home/pasha/.local/lib/python3.8/site-packages (from sklearn) (0.22.2.post1)\r\n",
      "Requirement already satisfied: six in /usr/lib/python3.8/site-packages (from nltk) (1.14.0)\r\n",
      "Requirement already satisfied: scipy>=0.17.0 in /usr/lib64/python3.8/site-packages (from scikit-learn->sklearn) (1.4.1)\r\n",
      "Requirement already satisfied: joblib>=0.11 in /home/pasha/.local/lib/python3.8/site-packages (from scikit-learn->sklearn) (0.14.1)\r\n"
     ]
    }
   ],
   "source": [
    "import sys\n",
    "!{sys.executable} -m pip install --user pandas numpy sklearn nltk"
   ]
  },
  {
   "cell_type": "code",
   "execution_count": 2,
   "metadata": {
    "ExecuteTime": {
     "end_time": "2020-03-19T22:42:25.158527Z",
     "start_time": "2020-03-19T22:42:24.571122Z"
    },
    "pycharm": {
     "is_executing": true
    }
   },
   "outputs": [],
   "source": [
    "import pandas as pd\n",
    "import numpy as np\n",
    "from sklearn.feature_extraction.text import TfidfVectorizer"
   ]
  },
  {
   "cell_type": "code",
   "execution_count": 3,
   "metadata": {
    "ExecuteTime": {
     "end_time": "2020-03-19T22:42:25.162432Z",
     "start_time": "2020-03-19T22:42:25.160207Z"
    },
    "pycharm": {
     "is_executing": true
    }
   },
   "outputs": [],
   "source": [
    "# Define constants\n",
    "tfidf = TfidfVectorizer(stop_words='english')"
   ]
  },
  {
   "cell_type": "code",
   "execution_count": 4,
   "metadata": {
    "ExecuteTime": {
     "end_time": "2020-03-19T22:42:25.177255Z",
     "start_time": "2020-03-19T22:42:25.164076Z"
    }
   },
   "outputs": [],
   "source": [
    "# By https://ru.stackoverflow.com/questions/995616/Как-сделать-tf-idf-для-русских-текстов\n",
    "\n",
    "#import nltk\n",
    "#from nltk.corpus import stopwords as nltk_stopwords\n",
    "\n",
    "#nltk.download('stopwords')\n",
    "#stopwords = set(nltk_stopwords.words('russian') )\n",
    "#tfidf = TfidfVectorizer(stop_words=stopwords)"
   ]
  },
  {
   "cell_type": "code",
   "execution_count": 65,
   "metadata": {
    "ExecuteTime": {
     "end_time": "2020-03-20T15:18:27.867084Z",
     "start_time": "2020-03-20T15:18:27.829614Z"
    },
    "pycharm": {
     "is_executing": true
    },
    "scrolled": true
   },
   "outputs": [
    {
     "data": {
      "text/html": [
       "<div>\n",
       "<style scoped>\n",
       "    .dataframe tbody tr th:only-of-type {\n",
       "        vertical-align: middle;\n",
       "    }\n",
       "\n",
       "    .dataframe tbody tr th {\n",
       "        vertical-align: top;\n",
       "    }\n",
       "\n",
       "    .dataframe thead th {\n",
       "        text-align: right;\n",
       "    }\n",
       "</style>\n",
       "<table border=\"1\" class=\"dataframe\">\n",
       "  <thead>\n",
       "    <tr style=\"text-align: right;\">\n",
       "      <th></th>\n",
       "      <th>File name</th>\n",
       "      <th>DUP File name</th>\n",
       "      <th>Initial DUP №</th>\n",
       "      <th>DUP Doubts</th>\n",
       "      <th>DUP</th>\n",
       "      <th>Article</th>\n",
       "      <th>RDC answer about doubts</th>\n",
       "      <th>Dup/Uniq</th>\n",
       "      <th>Dup changed</th>\n",
       "      <th>Max TF/IDF DUP score matches DUP</th>\n",
       "      <th>Unnamed: 11</th>\n",
       "    </tr>\n",
       "    <tr>\n",
       "      <th>№</th>\n",
       "      <th></th>\n",
       "      <th></th>\n",
       "      <th></th>\n",
       "      <th></th>\n",
       "      <th></th>\n",
       "      <th></th>\n",
       "      <th></th>\n",
       "      <th></th>\n",
       "      <th></th>\n",
       "      <th></th>\n",
       "      <th></th>\n",
       "    </tr>\n",
       "  </thead>\n",
       "  <tbody>\n",
       "    <tr>\n",
       "      <th>1</th>\n",
       "      <td>FACTIVA_PBTR000020071220e3cj00015_20071220_000...</td>\n",
       "      <td>FACTIVA_PPGZ000020071220e3ck0001l_20071220_000...</td>\n",
       "      <td>2</td>\n",
       "      <td>DUP &lt; 0.5</td>\n",
       "      <td>2</td>\n",
       "      <td>A Carnegie man threatened to kill employees at...</td>\n",
       "      <td>no</td>\n",
       "      <td>dup</td>\n",
       "      <td>NaN</td>\n",
       "      <td>+</td>\n",
       "      <td>Total dup: 50</td>\n",
       "    </tr>\n",
       "    <tr>\n",
       "      <th>2</th>\n",
       "      <td>FACTIVA_PPGZ000020071220e3ck0001l_20071220_000...</td>\n",
       "      <td>FACTIVA_PBTR000020071220e3cj00015_20071220_000...</td>\n",
       "      <td>1</td>\n",
       "      <td>DUP &lt; 0.5</td>\n",
       "      <td>1</td>\n",
       "      <td>A Carnegie man was arrested late Monday aftern...</td>\n",
       "      <td>no</td>\n",
       "      <td>dup</td>\n",
       "      <td>NaN</td>\n",
       "      <td>+</td>\n",
       "      <td>Total uniq: 50</td>\n",
       "    </tr>\n",
       "    <tr>\n",
       "      <th>3</th>\n",
       "      <td>FACTIVA_INHT000020060116e21g0002e_20060116_000...</td>\n",
       "      <td>FACTIVA_AIWIBA0020060116e21f0000p_20060116_000...</td>\n",
       "      <td>4</td>\n",
       "      <td>NaN</td>\n",
       "      <td>4</td>\n",
       "      <td>Israel Discount Bank, a leading Israeli lender...</td>\n",
       "      <td>NaN</td>\n",
       "      <td>dup</td>\n",
       "      <td>NaN</td>\n",
       "      <td>+</td>\n",
       "      <td>NaN</td>\n",
       "    </tr>\n",
       "    <tr>\n",
       "      <th>4</th>\n",
       "      <td>FACTIVA_AIWIBA0020060116e21f0000p_20060116_000...</td>\n",
       "      <td>FACTIVA_INHT000020060116e21g0002e_20060116_000...</td>\n",
       "      <td>3</td>\n",
       "      <td>NaN</td>\n",
       "      <td>3</td>\n",
       "      <td>Israel Discount Bank of New York general manag...</td>\n",
       "      <td>NaN</td>\n",
       "      <td>dup</td>\n",
       "      <td>NaN</td>\n",
       "      <td>+</td>\n",
       "      <td>NaN</td>\n",
       "    </tr>\n",
       "    <tr>\n",
       "      <th>5</th>\n",
       "      <td>FACTIVA_VNCS000020060225e22p00055_20060225_000...</td>\n",
       "      <td>FACTIVA_TRIB000020060225e22p0005a_20060225_000...</td>\n",
       "      <td>6</td>\n",
       "      <td>NaN</td>\n",
       "      <td>6</td>\n",
       "      <td>SAN FRANCISCO   DOPING I SAN FRANCISCO -- A tr...</td>\n",
       "      <td>NaN</td>\n",
       "      <td>dup</td>\n",
       "      <td>NaN</td>\n",
       "      <td>+</td>\n",
       "      <td>NaN</td>\n",
       "    </tr>\n",
       "    <tr>\n",
       "      <th>...</th>\n",
       "      <td>...</td>\n",
       "      <td>...</td>\n",
       "      <td>...</td>\n",
       "      <td>...</td>\n",
       "      <td>...</td>\n",
       "      <td>...</td>\n",
       "      <td>...</td>\n",
       "      <td>...</td>\n",
       "      <td>...</td>\n",
       "      <td>...</td>\n",
       "      <td>...</td>\n",
       "    </tr>\n",
       "    <tr>\n",
       "      <th>96</th>\n",
       "      <td>FACTIVA_LBA0000020080321e43l000fr_20080321_000...</td>\n",
       "      <td>FACTIVA_NYTF000020080321e43l00051_20080321_000...</td>\n",
       "      <td>97</td>\n",
       "      <td>NaN</td>\n",
       "      <td>97</td>\n",
       "      <td>(Recasts with announcement of ecology probe)  ...</td>\n",
       "      <td>NaN</td>\n",
       "      <td>dup</td>\n",
       "      <td>NaN</td>\n",
       "      <td>+</td>\n",
       "      <td>NaN</td>\n",
       "    </tr>\n",
       "    <tr>\n",
       "      <th>97</th>\n",
       "      <td>FACTIVA_NYTF000020080321e43l00051_20080321_000...</td>\n",
       "      <td>FACTIVA_LBA0000020080321e43l000fr_20080321_000...</td>\n",
       "      <td>96</td>\n",
       "      <td>NaN</td>\n",
       "      <td>96</td>\n",
       "      <td>MOSCOW -- Russian security services have detai...</td>\n",
       "      <td>NaN</td>\n",
       "      <td>dup</td>\n",
       "      <td>NaN</td>\n",
       "      <td>+</td>\n",
       "      <td>NaN</td>\n",
       "    </tr>\n",
       "    <tr>\n",
       "      <th>98</th>\n",
       "      <td>FACTIVA_AFNWS00020070612e36b00020_20070612_000...</td>\n",
       "      <td>FACTIVA_AFNWS00020080417e44h0010c_20080417_000...</td>\n",
       "      <td>99</td>\n",
       "      <td>Originally present in both dup and nondup dire...</td>\n",
       "      <td>99</td>\n",
       "      <td>Kampala, Jun 11, 2007 (The Monitor/All Africa ...</td>\n",
       "      <td>leave only dup</td>\n",
       "      <td>dup</td>\n",
       "      <td>NaN</td>\n",
       "      <td>NO</td>\n",
       "      <td>NaN</td>\n",
       "    </tr>\n",
       "    <tr>\n",
       "      <th>99</th>\n",
       "      <td>FACTIVA_AFNWS00020080417e44h0010c_20080417_000...</td>\n",
       "      <td>FACTIVA_AFNWS00020070612e36b00020_20070612_000...</td>\n",
       "      <td>98</td>\n",
       "      <td>NaN</td>\n",
       "      <td>98</td>\n",
       "      <td>Apr 17, 2008 (The Weekly Observer/All Africa G...</td>\n",
       "      <td>NaN</td>\n",
       "      <td>dup</td>\n",
       "      <td>NaN</td>\n",
       "      <td>NO</td>\n",
       "      <td>NaN</td>\n",
       "    </tr>\n",
       "    <tr>\n",
       "      <th>100</th>\n",
       "      <td>ACQUIREMED_9293274cc602bf9125f58e10001c65fcc77...</td>\n",
       "      <td>NaN</td>\n",
       "      <td>0</td>\n",
       "      <td>NaN</td>\n",
       "      <td>0</td>\n",
       "      <td>Sri Lanka, Jan. 21 -- A person was arrested wi...</td>\n",
       "      <td>NaN</td>\n",
       "      <td>uniq</td>\n",
       "      <td>NaN</td>\n",
       "      <td>+</td>\n",
       "      <td>NaN</td>\n",
       "    </tr>\n",
       "  </tbody>\n",
       "</table>\n",
       "<p>100 rows × 11 columns</p>\n",
       "</div>"
      ],
      "text/plain": [
       "                                             File name  \\\n",
       "№                                                        \n",
       "1    FACTIVA_PBTR000020071220e3cj00015_20071220_000...   \n",
       "2    FACTIVA_PPGZ000020071220e3ck0001l_20071220_000...   \n",
       "3    FACTIVA_INHT000020060116e21g0002e_20060116_000...   \n",
       "4    FACTIVA_AIWIBA0020060116e21f0000p_20060116_000...   \n",
       "5    FACTIVA_VNCS000020060225e22p00055_20060225_000...   \n",
       "..                                                 ...   \n",
       "96   FACTIVA_LBA0000020080321e43l000fr_20080321_000...   \n",
       "97   FACTIVA_NYTF000020080321e43l00051_20080321_000...   \n",
       "98   FACTIVA_AFNWS00020070612e36b00020_20070612_000...   \n",
       "99   FACTIVA_AFNWS00020080417e44h0010c_20080417_000...   \n",
       "100  ACQUIREMED_9293274cc602bf9125f58e10001c65fcc77...   \n",
       "\n",
       "                                         DUP File name  Initial DUP №  \\\n",
       "№                                                                       \n",
       "1    FACTIVA_PPGZ000020071220e3ck0001l_20071220_000...              2   \n",
       "2    FACTIVA_PBTR000020071220e3cj00015_20071220_000...              1   \n",
       "3    FACTIVA_AIWIBA0020060116e21f0000p_20060116_000...              4   \n",
       "4    FACTIVA_INHT000020060116e21g0002e_20060116_000...              3   \n",
       "5    FACTIVA_TRIB000020060225e22p0005a_20060225_000...              6   \n",
       "..                                                 ...            ...   \n",
       "96   FACTIVA_NYTF000020080321e43l00051_20080321_000...             97   \n",
       "97   FACTIVA_LBA0000020080321e43l000fr_20080321_000...             96   \n",
       "98   FACTIVA_AFNWS00020080417e44h0010c_20080417_000...             99   \n",
       "99   FACTIVA_AFNWS00020070612e36b00020_20070612_000...             98   \n",
       "100                                                NaN              0   \n",
       "\n",
       "                                            DUP Doubts  DUP  \\\n",
       "№                                                             \n",
       "1                                            DUP < 0.5    2   \n",
       "2                                            DUP < 0.5    1   \n",
       "3                                                  NaN    4   \n",
       "4                                                  NaN    3   \n",
       "5                                                  NaN    6   \n",
       "..                                                 ...  ...   \n",
       "96                                                 NaN   97   \n",
       "97                                                 NaN   96   \n",
       "98   Originally present in both dup and nondup dire...   99   \n",
       "99                                                 NaN   98   \n",
       "100                                                NaN    0   \n",
       "\n",
       "                                               Article  \\\n",
       "№                                                        \n",
       "1    A Carnegie man threatened to kill employees at...   \n",
       "2    A Carnegie man was arrested late Monday aftern...   \n",
       "3    Israel Discount Bank, a leading Israeli lender...   \n",
       "4    Israel Discount Bank of New York general manag...   \n",
       "5    SAN FRANCISCO   DOPING I SAN FRANCISCO -- A tr...   \n",
       "..                                                 ...   \n",
       "96   (Recasts with announcement of ecology probe)  ...   \n",
       "97   MOSCOW -- Russian security services have detai...   \n",
       "98   Kampala, Jun 11, 2007 (The Monitor/All Africa ...   \n",
       "99   Apr 17, 2008 (The Weekly Observer/All Africa G...   \n",
       "100  Sri Lanka, Jan. 21 -- A person was arrested wi...   \n",
       "\n",
       "    RDC answer about doubts Dup/Uniq Dup changed  \\\n",
       "№                                                  \n",
       "1                        no      dup         NaN   \n",
       "2                        no      dup         NaN   \n",
       "3                       NaN      dup         NaN   \n",
       "4                       NaN      dup         NaN   \n",
       "5                       NaN      dup         NaN   \n",
       "..                      ...      ...         ...   \n",
       "96                      NaN      dup         NaN   \n",
       "97                      NaN      dup         NaN   \n",
       "98           leave only dup      dup         NaN   \n",
       "99                      NaN      dup         NaN   \n",
       "100                     NaN     uniq         NaN   \n",
       "\n",
       "    Max TF/IDF DUP score matches DUP     Unnamed: 11  \n",
       "№                                                     \n",
       "1                                  +   Total dup: 50  \n",
       "2                                  +  Total uniq: 50  \n",
       "3                                  +             NaN  \n",
       "4                                  +             NaN  \n",
       "5                                  +             NaN  \n",
       "..                               ...             ...  \n",
       "96                                 +             NaN  \n",
       "97                                 +             NaN  \n",
       "98                                NO             NaN  \n",
       "99                                NO             NaN  \n",
       "100                                +             NaN  \n",
       "\n",
       "[100 rows x 11 columns]"
      ]
     },
     "execution_count": 65,
     "metadata": {},
     "output_type": "execute_result"
    }
   ],
   "source": [
    "# Minimal example:\n",
    "# articles = pd.read_csv('TF-IDF-min.csv', index_col='№')\n",
    "# Full real file:\n",
    "articles = pd.read_csv('RDC-135_articles_golden_set_mapping.csv', index_col='№')\n",
    "articles"
   ]
  },
  {
   "cell_type": "code",
   "execution_count": 6,
   "metadata": {
    "ExecuteTime": {
     "end_time": "2020-03-19T22:42:25.231837Z",
     "start_time": "2020-03-19T22:42:25.203651Z"
    },
    "scrolled": false
   },
   "outputs": [
    {
     "data": {
      "text/plain": [
       "array([[0.        , 0.        , 0.        , 0.5       , 0.        ,\n",
       "        0.        , 0.        , 0.        , 0.        , 0.5       ,\n",
       "        0.        , 0.5       , 0.5       ],\n",
       "       [0.        , 0.        , 0.63907044, 0.        , 0.42799292,\n",
       "        0.        , 0.63907044, 0.        , 0.        , 0.        ,\n",
       "        0.        , 0.        , 0.        ],\n",
       "       [0.57735027, 0.57735027, 0.        , 0.        , 0.        ,\n",
       "        0.57735027, 0.        , 0.        , 0.        , 0.        ,\n",
       "        0.        , 0.        , 0.        ],\n",
       "       [0.        , 0.        , 0.        , 0.        , 0.4622077 ,\n",
       "        0.        , 0.        , 0.55681615, 0.        , 0.        ,\n",
       "        0.69015927, 0.        , 0.        ],\n",
       "       [0.        , 0.        , 0.        , 0.        , 0.4622077 ,\n",
       "        0.        , 0.        , 0.55681615, 0.69015927, 0.        ,\n",
       "        0.        , 0.        , 0.        ]])"
      ]
     },
     "execution_count": 6,
     "metadata": {},
     "output_type": "execute_result"
    }
   ],
   "source": [
    "tfidf_matrix = tfidf.fit_transform(articles['Article'])\n",
    "tfidf_matrix.toarray() # or res.todense()"
   ]
  },
  {
   "cell_type": "code",
   "execution_count": 7,
   "metadata": {
    "ExecuteTime": {
     "end_time": "2020-03-19T22:42:25.241097Z",
     "start_time": "2020-03-19T22:42:25.233200Z"
    }
   },
   "outputs": [
    {
     "data": {
      "text/plain": [
       "(5, 13)"
      ]
     },
     "execution_count": 7,
     "metadata": {},
     "output_type": "execute_result"
    }
   ],
   "source": [
    "tfidf_matrix.shape"
   ]
  },
  {
   "cell_type": "code",
   "execution_count": 8,
   "metadata": {
    "ExecuteTime": {
     "end_time": "2020-03-19T22:42:25.254251Z",
     "start_time": "2020-03-19T22:42:25.243300Z"
    }
   },
   "outputs": [
    {
     "data": {
      "text/plain": [
       "'english'"
      ]
     },
     "execution_count": 8,
     "metadata": {},
     "output_type": "execute_result"
    }
   ],
   "source": [
    "tfidf.stop_words"
   ]
  },
  {
   "cell_type": "markdown",
   "metadata": {},
   "source": [
    "# Вычисление\n",
    "\n",
    "## Самые популярные слова"
   ]
  },
  {
   "cell_type": "code",
   "execution_count": 9,
   "metadata": {
    "ExecuteTime": {
     "end_time": "2020-03-19T22:42:25.264083Z",
     "start_time": "2020-03-19T22:42:25.255978Z"
    }
   },
   "outputs": [
    {
     "data": {
      "text/plain": [
       "['вдруг',\n",
       " 'выбегает',\n",
       " 'вышел',\n",
       " 'два',\n",
       " 'зайчик',\n",
       " 'охотник',\n",
       " 'погулять',\n",
       " 'прямо',\n",
       " 'пуляет',\n",
       " 'раз',\n",
       " 'стреляет',\n",
       " 'три',\n",
       " 'четыре']"
      ]
     },
     "execution_count": 9,
     "metadata": {},
     "output_type": "execute_result"
    }
   ],
   "source": [
    "# By https://www.rupython.com/sklearn-tfidf-transformer-tf-idf-33655.html\n",
    "# Вышеупомянутый X имеет значения TF-IDF всех документов в корпусе. Это большая разреженная матрица.\n",
    "# Теперь,\n",
    "tfidf.get_feature_names()\n",
    "# это дает вам список всех токенов или n-граммов или слов. Для первого документа в вашем корпусе, "
   ]
  },
  {
   "cell_type": "code",
   "execution_count": 10,
   "metadata": {
    "ExecuteTime": {
     "end_time": "2020-03-19T22:42:25.277619Z",
     "start_time": "2020-03-19T22:42:25.265579Z"
    }
   },
   "outputs": [
    {
     "data": {
      "text/plain": [
       "{'раз': 9,\n",
       " 'два': 3,\n",
       " 'три': 11,\n",
       " 'четыре': 12,\n",
       " 'вышел': 2,\n",
       " 'зайчик': 4,\n",
       " 'погулять': 6,\n",
       " 'вдруг': 0,\n",
       " 'охотник': 5,\n",
       " 'выбегает': 1,\n",
       " 'прямо': 7,\n",
       " 'стреляет': 10,\n",
       " 'пуляет': 8}"
      ]
     },
     "execution_count": 10,
     "metadata": {},
     "output_type": "execute_result"
    }
   ],
   "source": [
    "# By https://stackoverflow.com/questions/37593293/what-is-the-simplest-way-to-get-tfidf-with-pandas-dataframe#comment72191707_37593408\n",
    "# v.get_feature_names() will give you the list of feature names.\n",
    "# v.vocabulary_ will give you a dict with feature names as keys and their index in the matrix produced as values.\n",
    "tfidf.vocabulary_"
   ]
  },
  {
   "cell_type": "code",
   "execution_count": 11,
   "metadata": {
    "ExecuteTime": {
     "end_time": "2020-03-19T22:42:25.293861Z",
     "start_time": "2020-03-19T22:42:25.279437Z"
    }
   },
   "outputs": [
    {
     "name": "stdout",
     "output_type": "stream",
     "text": [
      "### doc 0: ###\n",
      "четыре 0.5\n",
      "три 0.5\n",
      "два 0.5\n",
      "раз 0.5\n",
      "### doc 1: ###\n",
      "погулять 0.6390704413963749\n",
      "зайчик 0.42799292268317357\n",
      "вышел 0.6390704413963749\n",
      "### doc 2: ###\n",
      "выбегает 0.5773502691896258\n",
      "охотник 0.5773502691896258\n",
      "вдруг 0.5773502691896258\n",
      "### doc 3: ###\n",
      "стреляет 0.6901592662889633\n",
      "прямо 0.5568161504458247\n",
      "зайчик 0.46220770413113277\n",
      "### doc 4: ###\n",
      "пуляет 0.6901592662889633\n",
      "прямо 0.5568161504458247\n",
      "зайчик 0.46220770413113277\n"
     ]
    }
   ],
   "source": [
    "# By https://www.rupython.com/sklearn-tfidf-transformer-tf-idf-33655.html\n",
    "# это дает вам список всех токенов или n-граммов или слов. Для первого документа в вашем корпусе, \n",
    "# Позволяет распечатать их:\n",
    "def print_word_ratings_by_document(doc=0):\n",
    "    feature_names = tfidf.get_feature_names()\n",
    "    feature_index = tfidf_matrix[doc,:].nonzero()[1]\n",
    "    tfidf_scores = zip(feature_index, [tfidf_matrix[doc, x] for x in feature_index]) \n",
    "    for w, s in [(feature_names[i], s) for (i, s) in tfidf_scores]:\n",
    "        print (w, s)\n",
    "\n",
    "for i, _ in articles.iterrows():\n",
    "    print(\"### doc {}: ###\".format(i-1))\n",
    "    print_word_ratings_by_document(i-1)"
   ]
  },
  {
   "cell_type": "code",
   "execution_count": 12,
   "metadata": {
    "ExecuteTime": {
     "end_time": "2020-03-19T22:42:25.303562Z",
     "start_time": "2020-03-19T22:42:25.295870Z"
    }
   },
   "outputs": [
    {
     "data": {
      "text/plain": [
       "['зайчик',\n",
       " 'прямо',\n",
       " 'стреляет',\n",
       " 'пуляет',\n",
       " 'погулять',\n",
       " 'вышел',\n",
       " 'охотник',\n",
       " 'выбегает',\n",
       " 'вдруг',\n",
       " 'четыре']"
      ]
     },
     "execution_count": 12,
     "metadata": {},
     "output_type": "execute_result"
    }
   ],
   "source": [
    "# https://ru.stackoverflow.com/questions/772859/tfidfvectorizer/773018#773018\n",
    "# Топ 10 самых популярных слов:\n",
    "N=10\n",
    "idx = np.ravel(tfidf_matrix.sum(axis=0).argsort(axis=1))[::-1][:N]\n",
    "top_10_words = np.array(tfidf.get_feature_names())[idx].tolist()\n",
    "top_10_words"
   ]
  },
  {
   "cell_type": "markdown",
   "metadata": {},
   "source": [
    "### Разбор"
   ]
  },
  {
   "cell_type": "code",
   "execution_count": 13,
   "metadata": {
    "ExecuteTime": {
     "end_time": "2020-03-19T22:42:25.315087Z",
     "start_time": "2020-03-19T22:42:25.305000Z"
    }
   },
   "outputs": [
    {
     "data": {
      "text/plain": [
       "(5, 13)"
      ]
     },
     "execution_count": 13,
     "metadata": {},
     "output_type": "execute_result"
    }
   ],
   "source": [
    "tfidf_matrix.shape"
   ]
  },
  {
   "cell_type": "code",
   "execution_count": 14,
   "metadata": {
    "ExecuteTime": {
     "end_time": "2020-03-19T22:42:25.324478Z",
     "start_time": "2020-03-19T22:42:25.316701Z"
    }
   },
   "outputs": [
    {
     "data": {
      "text/plain": [
       "matrix([[0.        , 0.        , 0.        , 0.5       , 0.        ,\n",
       "         0.        , 0.        , 0.        , 0.        , 0.5       ,\n",
       "         0.        , 0.5       , 0.5       ],\n",
       "        [0.        , 0.        , 0.63907044, 0.        , 0.42799292,\n",
       "         0.        , 0.63907044, 0.        , 0.        , 0.        ,\n",
       "         0.        , 0.        , 0.        ],\n",
       "        [0.57735027, 0.57735027, 0.        , 0.        , 0.        ,\n",
       "         0.57735027, 0.        , 0.        , 0.        , 0.        ,\n",
       "         0.        , 0.        , 0.        ],\n",
       "        [0.        , 0.        , 0.        , 0.        , 0.4622077 ,\n",
       "         0.        , 0.        , 0.55681615, 0.        , 0.        ,\n",
       "         0.69015927, 0.        , 0.        ],\n",
       "        [0.        , 0.        , 0.        , 0.        , 0.4622077 ,\n",
       "         0.        , 0.        , 0.55681615, 0.69015927, 0.        ,\n",
       "         0.        , 0.        , 0.        ]])"
      ]
     },
     "execution_count": 14,
     "metadata": {},
     "output_type": "execute_result"
    }
   ],
   "source": [
    "tfidf_matrix.todense()"
   ]
  },
  {
   "cell_type": "code",
   "execution_count": 15,
   "metadata": {
    "ExecuteTime": {
     "end_time": "2020-03-19T22:42:25.342414Z",
     "start_time": "2020-03-19T22:42:25.325758Z"
    }
   },
   "outputs": [
    {
     "data": {
      "text/plain": [
       "matrix([[0.57735027, 0.57735027, 0.63907044, 0.5       , 1.35240833,\n",
       "         0.57735027, 0.63907044, 1.1136323 , 0.69015927, 0.5       ,\n",
       "         0.69015927, 0.5       , 0.5       ]])"
      ]
     },
     "execution_count": 15,
     "metadata": {},
     "output_type": "execute_result"
    }
   ],
   "source": [
    "# Doc: https://docs.scipy.org/doc/numpy/reference/generated/numpy.sum.html#numpy.sum\n",
    "tfidf_matrix.sum(axis=0)  # Сумма по столбцам"
   ]
  },
  {
   "cell_type": "code",
   "execution_count": 16,
   "metadata": {
    "ExecuteTime": {
     "end_time": "2020-03-19T22:42:25.353738Z",
     "start_time": "2020-03-19T22:42:25.343975Z"
    }
   },
   "outputs": [
    {
     "data": {
      "text/plain": [
       "matrix([[ 3,  9, 11, 12,  0,  1,  5,  2,  6,  8, 10,  7,  4]])"
      ]
     },
     "execution_count": 16,
     "metadata": {},
     "output_type": "execute_result"
    }
   ],
   "source": [
    "# Doc: https://docs.scipy.org/doc/numpy/reference/generated/numpy.argsort.html\n",
    "tfidf_matrix.sum(axis=0).argsort(axis=1)  # Возвращает *индексы*, по возрастанию значений элементов"
   ]
  },
  {
   "cell_type": "code",
   "execution_count": 17,
   "metadata": {
    "ExecuteTime": {
     "end_time": "2020-03-19T22:42:25.366030Z",
     "start_time": "2020-03-19T22:42:25.355101Z"
    },
    "scrolled": true
   },
   "outputs": [
    {
     "data": {
      "text/plain": [
       "array([ 3,  9, 11, 12,  0,  1,  5,  2,  6,  8, 10,  7,  4])"
      ]
     },
     "execution_count": 17,
     "metadata": {},
     "output_type": "execute_result"
    }
   ],
   "source": [
    "# Doc: https://docs.scipy.org/doc/numpy/reference/generated/numpy.ravel.html\n",
    "np.ravel(tfidf_matrix.sum(axis=0).argsort(axis=1))"
   ]
  },
  {
   "cell_type": "code",
   "execution_count": 18,
   "metadata": {
    "ExecuteTime": {
     "end_time": "2020-03-19T22:42:25.379452Z",
     "start_time": "2020-03-19T22:42:25.367716Z"
    },
    "scrolled": true
   },
   "outputs": [
    {
     "data": {
      "text/plain": [
       "array([ 4,  7, 10,  8,  6,  2,  5,  1,  0, 12, 11,  9,  3])"
      ]
     },
     "execution_count": 18,
     "metadata": {},
     "output_type": "execute_result"
    }
   ],
   "source": [
    "np.ravel(tfidf_matrix.sum(axis=0).argsort(axis=1))[::-1]  # Reverse list (DESC)"
   ]
  },
  {
   "cell_type": "code",
   "execution_count": 19,
   "metadata": {
    "ExecuteTime": {
     "end_time": "2020-03-19T22:42:25.391111Z",
     "start_time": "2020-03-19T22:42:25.380873Z"
    },
    "scrolled": true
   },
   "outputs": [
    {
     "data": {
      "text/plain": [
       "array([ 4,  7, 10,  8,  6,  2,  5,  1,  0, 12])"
      ]
     },
     "execution_count": 19,
     "metadata": {},
     "output_type": "execute_result"
    }
   ],
   "source": [
    "np.ravel(tfidf_matrix.sum(axis=0).argsort(axis=1))[::-1][:N] # Take top N elements"
   ]
  },
  {
   "cell_type": "code",
   "execution_count": 20,
   "metadata": {
    "ExecuteTime": {
     "end_time": "2020-03-19T22:42:25.405914Z",
     "start_time": "2020-03-19T22:42:25.392664Z"
    }
   },
   "outputs": [
    {
     "data": {
      "text/plain": [
       "array([ 4,  7, 10,  8,  6,  2,  5,  1,  0, 12])"
      ]
     },
     "execution_count": 20,
     "metadata": {},
     "output_type": "execute_result"
    }
   ],
   "source": [
    "np.ravel(tfidf_matrix.sum(axis=0).argsort(axis=1))[-N:][::-1]"
   ]
  },
  {
   "cell_type": "markdown",
   "metadata": {},
   "source": [
    "## Поиск самого похожего документа"
   ]
  },
  {
   "cell_type": "code",
   "execution_count": 21,
   "metadata": {
    "ExecuteTime": {
     "end_time": "2020-03-19T22:42:25.418619Z",
     "start_time": "2020-03-19T22:42:25.407675Z"
    },
    "scrolled": false
   },
   "outputs": [
    {
     "data": {
      "text/plain": [
       "array([0.        , 0.19782163, 0.        , 0.52368019])"
      ]
     },
     "execution_count": 21,
     "metadata": {},
     "output_type": "execute_result"
    }
   ],
   "source": [
    "similarities = (tfidf_matrix * tfidf_matrix.T).A[-1,:-1]\n",
    "similarities"
   ]
  },
  {
   "cell_type": "code",
   "execution_count": 22,
   "metadata": {
    "ExecuteTime": {
     "end_time": "2020-03-19T22:42:25.429718Z",
     "start_time": "2020-03-19T22:42:25.420592Z"
    }
   },
   "outputs": [
    {
     "data": {
      "text/plain": [
       "3"
      ]
     },
     "execution_count": 22,
     "metadata": {},
     "output_type": "execute_result"
    }
   ],
   "source": [
    "# Doc: https://docs.scipy.org/doc/numpy/reference/generated/numpy.argmax.html\n",
    "#  numpy.argmax(a, axis=None, out=None)\n",
    "# Returns the indices of the maximum values along an axis.\n",
    "max_sim_position = np.argmax(similarities)\n",
    "max_sim_position"
   ]
  },
  {
   "cell_type": "code",
   "execution_count": 23,
   "metadata": {
    "ExecuteTime": {
     "end_time": "2020-03-19T22:42:25.439510Z",
     "start_time": "2020-03-19T22:42:25.432776Z"
    },
    "scrolled": true
   },
   "outputs": [
    {
     "data": {
      "text/plain": [
       "0.52368018715548"
      ]
     },
     "execution_count": 23,
     "metadata": {},
     "output_type": "execute_result"
    }
   ],
   "source": [
    "max_sim = max(similarities)\n",
    "max_sim"
   ]
  },
  {
   "cell_type": "code",
   "execution_count": 24,
   "metadata": {
    "ExecuteTime": {
     "end_time": "2020-03-19T22:42:25.453866Z",
     "start_time": "2020-03-19T22:42:25.441293Z"
    }
   },
   "outputs": [
    {
     "data": {
      "text/plain": [
       "0.52368018715548"
      ]
     },
     "execution_count": 24,
     "metadata": {},
     "output_type": "execute_result"
    }
   ],
   "source": [
    "similarities[max_sim_position]"
   ]
  },
  {
   "cell_type": "markdown",
   "metadata": {},
   "source": [
    "### Разбор"
   ]
  },
  {
   "cell_type": "code",
   "execution_count": 25,
   "metadata": {
    "ExecuteTime": {
     "end_time": "2020-03-19T22:42:25.473182Z",
     "start_time": "2020-03-19T22:42:25.455705Z"
    },
    "scrolled": false
   },
   "outputs": [
    {
     "data": {
      "text/plain": [
       "matrix([[0.        , 0.        , 0.        , 0.5       , 0.        ,\n",
       "         0.        , 0.        , 0.        , 0.        , 0.5       ,\n",
       "         0.        , 0.5       , 0.5       ],\n",
       "        [0.        , 0.        , 0.63907044, 0.        , 0.42799292,\n",
       "         0.        , 0.63907044, 0.        , 0.        , 0.        ,\n",
       "         0.        , 0.        , 0.        ],\n",
       "        [0.57735027, 0.57735027, 0.        , 0.        , 0.        ,\n",
       "         0.57735027, 0.        , 0.        , 0.        , 0.        ,\n",
       "         0.        , 0.        , 0.        ],\n",
       "        [0.        , 0.        , 0.        , 0.        , 0.4622077 ,\n",
       "         0.        , 0.        , 0.55681615, 0.        , 0.        ,\n",
       "         0.69015927, 0.        , 0.        ],\n",
       "        [0.        , 0.        , 0.        , 0.        , 0.4622077 ,\n",
       "         0.        , 0.        , 0.55681615, 0.69015927, 0.        ,\n",
       "         0.        , 0.        , 0.        ]])"
      ]
     },
     "execution_count": 25,
     "metadata": {},
     "output_type": "execute_result"
    }
   ],
   "source": [
    "tfidf_matrix.todense()"
   ]
  },
  {
   "cell_type": "code",
   "execution_count": 26,
   "metadata": {
    "ExecuteTime": {
     "end_time": "2020-03-19T22:42:25.483371Z",
     "start_time": "2020-03-19T22:42:25.474701Z"
    }
   },
   "outputs": [
    {
     "data": {
      "text/plain": [
       "(5, 13)"
      ]
     },
     "execution_count": 26,
     "metadata": {},
     "output_type": "execute_result"
    }
   ],
   "source": [
    "tfidf_matrix.shape"
   ]
  },
  {
   "cell_type": "code",
   "execution_count": 27,
   "metadata": {
    "ExecuteTime": {
     "end_time": "2020-03-19T22:42:25.493365Z",
     "start_time": "2020-03-19T22:42:25.484847Z"
    }
   },
   "outputs": [
    {
     "data": {
      "text/plain": [
       "scipy.sparse.csr.csr_matrix"
      ]
     },
     "execution_count": 27,
     "metadata": {},
     "output_type": "execute_result"
    }
   ],
   "source": [
    "type(tfidf_matrix)"
   ]
  },
  {
   "cell_type": "code",
   "execution_count": 28,
   "metadata": {
    "ExecuteTime": {
     "end_time": "2020-03-19T22:42:25.510087Z",
     "start_time": "2020-03-19T22:42:25.495555Z"
    }
   },
   "outputs": [
    {
     "data": {
      "text/plain": [
       "matrix([[1.        , 0.        , 0.        , 0.        , 0.        ],\n",
       "        [0.        , 1.        , 0.        , 0.19782163, 0.19782163],\n",
       "        [0.        , 0.        , 1.        , 0.        , 0.        ],\n",
       "        [0.        , 0.19782163, 0.        , 1.        , 0.52368019],\n",
       "        [0.        , 0.19782163, 0.        , 0.52368019, 1.        ]])"
      ]
     },
     "execution_count": 28,
     "metadata": {},
     "output_type": "execute_result"
    }
   ],
   "source": [
    "(tfidf_matrix * tfidf_matrix.T).todense()"
   ]
  },
  {
   "cell_type": "code",
   "execution_count": 29,
   "metadata": {
    "ExecuteTime": {
     "end_time": "2020-03-19T22:42:25.522305Z",
     "start_time": "2020-03-19T22:42:25.511662Z"
    },
    "scrolled": true
   },
   "outputs": [
    {
     "data": {
      "text/plain": [
       "(5, 5)"
      ]
     },
     "execution_count": 29,
     "metadata": {},
     "output_type": "execute_result"
    }
   ],
   "source": [
    "(tfidf_matrix * tfidf_matrix.T).todense().shape"
   ]
  },
  {
   "cell_type": "code",
   "execution_count": 30,
   "metadata": {
    "ExecuteTime": {
     "end_time": "2020-03-19T22:42:25.532275Z",
     "start_time": "2020-03-19T22:42:25.523704Z"
    }
   },
   "outputs": [],
   "source": [
    "mul = tfidf_matrix * tfidf_matrix.T"
   ]
  },
  {
   "cell_type": "code",
   "execution_count": 31,
   "metadata": {
    "ExecuteTime": {
     "end_time": "2020-03-19T22:42:25.543801Z",
     "start_time": "2020-03-19T22:42:25.533941Z"
    }
   },
   "outputs": [
    {
     "data": {
      "text/plain": [
       "array([[1.        , 0.        , 0.        , 0.        , 0.        ],\n",
       "       [0.        , 1.        , 0.        , 0.19782163, 0.19782163],\n",
       "       [0.        , 0.        , 1.        , 0.        , 0.        ],\n",
       "       [0.        , 0.19782163, 0.        , 1.        , 0.52368019],\n",
       "       [0.        , 0.19782163, 0.        , 0.52368019, 1.        ]])"
      ]
     },
     "execution_count": 31,
     "metadata": {},
     "output_type": "execute_result"
    }
   ],
   "source": [
    "scores = mul.A\n",
    "scores"
   ]
  },
  {
   "cell_type": "code",
   "execution_count": 32,
   "metadata": {
    "ExecuteTime": {
     "end_time": "2020-03-19T22:42:25.555095Z",
     "start_time": "2020-03-19T22:42:25.545767Z"
    }
   },
   "outputs": [
    {
     "data": {
      "text/plain": [
       "array([[-1.        ,  0.        ,  0.        ,  0.        ,  0.        ],\n",
       "       [ 0.        , -1.        ,  0.        ,  0.19782163,  0.19782163],\n",
       "       [ 0.        ,  0.        , -1.        ,  0.        ,  0.        ],\n",
       "       [ 0.        ,  0.19782163,  0.        , -1.        ,  0.52368019],\n",
       "       [ 0.        ,  0.19782163,  0.        ,  0.52368019, -1.        ]])"
      ]
     },
     "execution_count": 32,
     "metadata": {},
     "output_type": "execute_result"
    }
   ],
   "source": [
    "# We will search maximum, so do not willing match to himself:\n",
    "np.fill_diagonal(scores, -1)\n",
    "scores"
   ]
  },
  {
   "cell_type": "code",
   "execution_count": 33,
   "metadata": {
    "ExecuteTime": {
     "end_time": "2020-03-19T22:42:25.564469Z",
     "start_time": "2020-03-19T22:42:25.556278Z"
    }
   },
   "outputs": [
    {
     "data": {
      "text/plain": [
       "numpy.ndarray"
      ]
     },
     "execution_count": 33,
     "metadata": {},
     "output_type": "execute_result"
    }
   ],
   "source": [
    "type(scores)"
   ]
  },
  {
   "cell_type": "code",
   "execution_count": 34,
   "metadata": {
    "ExecuteTime": {
     "end_time": "2020-03-19T22:42:25.589306Z",
     "start_time": "2020-03-19T22:42:25.565652Z"
    }
   },
   "outputs": [
    {
     "data": {
      "text/html": [
       "<div>\n",
       "<style scoped>\n",
       "    .dataframe tbody tr th:only-of-type {\n",
       "        vertical-align: middle;\n",
       "    }\n",
       "\n",
       "    .dataframe tbody tr th {\n",
       "        vertical-align: top;\n",
       "    }\n",
       "\n",
       "    .dataframe thead th {\n",
       "        text-align: right;\n",
       "    }\n",
       "</style>\n",
       "<table border=\"1\" class=\"dataframe\">\n",
       "  <thead>\n",
       "    <tr style=\"text-align: right;\">\n",
       "      <th></th>\n",
       "      <th>0</th>\n",
       "      <th>1</th>\n",
       "      <th>2</th>\n",
       "      <th>3</th>\n",
       "      <th>4</th>\n",
       "    </tr>\n",
       "    <tr>\n",
       "      <th>№</th>\n",
       "      <th></th>\n",
       "      <th></th>\n",
       "      <th></th>\n",
       "      <th></th>\n",
       "      <th></th>\n",
       "    </tr>\n",
       "  </thead>\n",
       "  <tbody>\n",
       "    <tr>\n",
       "      <th>1</th>\n",
       "      <td>-1.0</td>\n",
       "      <td>0.000000</td>\n",
       "      <td>0.0</td>\n",
       "      <td>0.000000</td>\n",
       "      <td>0.000000</td>\n",
       "    </tr>\n",
       "    <tr>\n",
       "      <th>2</th>\n",
       "      <td>0.0</td>\n",
       "      <td>-1.000000</td>\n",
       "      <td>0.0</td>\n",
       "      <td>0.197822</td>\n",
       "      <td>0.197822</td>\n",
       "    </tr>\n",
       "    <tr>\n",
       "      <th>3</th>\n",
       "      <td>0.0</td>\n",
       "      <td>0.000000</td>\n",
       "      <td>-1.0</td>\n",
       "      <td>0.000000</td>\n",
       "      <td>0.000000</td>\n",
       "    </tr>\n",
       "    <tr>\n",
       "      <th>4</th>\n",
       "      <td>0.0</td>\n",
       "      <td>0.197822</td>\n",
       "      <td>0.0</td>\n",
       "      <td>-1.000000</td>\n",
       "      <td>0.523680</td>\n",
       "    </tr>\n",
       "    <tr>\n",
       "      <th>5</th>\n",
       "      <td>0.0</td>\n",
       "      <td>0.197822</td>\n",
       "      <td>0.0</td>\n",
       "      <td>0.523680</td>\n",
       "      <td>-1.000000</td>\n",
       "    </tr>\n",
       "  </tbody>\n",
       "</table>\n",
       "</div>"
      ],
      "text/plain": [
       "     0         1    2         3         4\n",
       "№                                        \n",
       "1 -1.0  0.000000  0.0  0.000000  0.000000\n",
       "2  0.0 -1.000000  0.0  0.197822  0.197822\n",
       "3  0.0  0.000000 -1.0  0.000000  0.000000\n",
       "4  0.0  0.197822  0.0 -1.000000  0.523680\n",
       "5  0.0  0.197822  0.0  0.523680 -1.000000"
      ]
     },
     "execution_count": 34,
     "metadata": {},
     "output_type": "execute_result"
    }
   ],
   "source": [
    "scores_df = pd.DataFrame(scores, index=articles.index)\n",
    "scores_df"
   ]
  },
  {
   "cell_type": "code",
   "execution_count": 35,
   "metadata": {
    "ExecuteTime": {
     "end_time": "2020-03-19T22:42:25.624342Z",
     "start_time": "2020-03-19T22:42:25.592521Z"
    }
   },
   "outputs": [
    {
     "data": {
      "text/plain": [
       "matrix([[1.        , 0.        , 0.        , 0.        , 0.        ],\n",
       "        [0.        , 1.        , 0.        , 0.19782163, 0.19782163],\n",
       "        [0.        , 0.        , 1.        , 0.        , 0.        ],\n",
       "        [0.        , 0.19782163, 0.        , 1.        , 0.52368019],\n",
       "        [0.        , 0.19782163, 0.        , 0.52368019, 1.        ]])"
      ]
     },
     "execution_count": 35,
     "metadata": {},
     "output_type": "execute_result"
    }
   ],
   "source": [
    "# By https://gist.github.com/RZachLamberty/1ed47cd0e2d0d968f7cdbd3d53a50f4c\n",
    "# you can calculate cosine similarity easily given this\n",
    "(tfidf_matrix @ tfidf_matrix.T).todense()"
   ]
  },
  {
   "cell_type": "code",
   "execution_count": 36,
   "metadata": {
    "ExecuteTime": {
     "end_time": "2020-03-19T22:42:25.634273Z",
     "start_time": "2020-03-19T22:42:25.628856Z"
    },
    "scrolled": true
   },
   "outputs": [
    {
     "data": {
      "text/plain": [
       "array([[1.        , 0.        , 0.        , 0.        , 0.        ],\n",
       "       [0.        , 1.        , 0.        , 0.19782163, 0.19782163],\n",
       "       [0.        , 0.        , 1.        , 0.        , 0.        ],\n",
       "       [0.        , 0.19782163, 0.        , 1.        , 0.52368019],\n",
       "       [0.        , 0.19782163, 0.        , 0.52368019, 1.        ]])"
      ]
     },
     "execution_count": 36,
     "metadata": {},
     "output_type": "execute_result"
    }
   ],
   "source": [
    "# Doc: https://docs.scipy.org/doc/numpy/reference/generated/numpy.matrix.A.html\n",
    "# Return self as an ndarray object.\n",
    "# Equivalent to np.asarray(self)\n",
    "mul.A"
   ]
  },
  {
   "cell_type": "code",
   "execution_count": 37,
   "metadata": {
    "ExecuteTime": {
     "end_time": "2020-03-19T22:42:25.648693Z",
     "start_time": "2020-03-19T22:42:25.636077Z"
    },
    "scrolled": true
   },
   "outputs": [
    {
     "data": {
      "text/plain": [
       "array([0.        , 0.19782163, 0.        , 0.52368019])"
      ]
     },
     "execution_count": 37,
     "metadata": {},
     "output_type": "execute_result"
    }
   ],
   "source": [
    "mul.A[-1,:-1] # Последняя строка"
   ]
  },
  {
   "cell_type": "code",
   "execution_count": 38,
   "metadata": {
    "ExecuteTime": {
     "end_time": "2020-03-19T22:42:25.660749Z",
     "start_time": "2020-03-19T22:42:25.650512Z"
    }
   },
   "outputs": [
    {
     "data": {
      "text/plain": [
       "array([0.        , 0.19782163, 0.        , 0.52368019, 1.        ])"
      ]
     },
     "execution_count": 38,
     "metadata": {},
     "output_type": "execute_result"
    }
   ],
   "source": [
    "mul.A[-1,0:] # Последняя строка"
   ]
  },
  {
   "cell_type": "code",
   "execution_count": 39,
   "metadata": {
    "ExecuteTime": {
     "end_time": "2020-03-19T22:42:25.669206Z",
     "start_time": "2020-03-19T22:42:25.662612Z"
    },
    "scrolled": true
   },
   "outputs": [
    {
     "data": {
      "text/plain": [
       "array([0.        , 0.19782163, 0.        , 0.52368019])"
      ]
     },
     "execution_count": 39,
     "metadata": {},
     "output_type": "execute_result"
    }
   ],
   "source": [
    "mul.A[-1,:-1] # Последняя строка без последнего элемента.\n",
    "# Матрица диагональная (остальные не имеют значения, зеркально повторяются), содержит веса всех со всеми.\n",
    "# Последний элемент, выкидывается потому что это матч самого к себе, если мы рассматриваем максимальный дубль\n",
    "# для последнего в наборе документа (так было в функции get_similarities из GOJI)\n",
    "\n",
    "# Получается что реально нужно выкидывать по индексу того, для которого ищется сравнение!"
   ]
  },
  {
   "cell_type": "markdown",
   "metadata": {},
   "source": [
    "### Обобщение варианта - без пересчёта матрицы каждый раз!"
   ]
  },
  {
   "cell_type": "code",
   "execution_count": 40,
   "metadata": {
    "ExecuteTime": {
     "end_time": "2020-03-19T22:42:25.678523Z",
     "start_time": "2020-03-19T22:42:25.671996Z"
    }
   },
   "outputs": [],
   "source": [
    "# Получается что реально нужно выкидывать по индексу того, для которого ищется сравнение!\n",
    "forDocNo=1 # Expect match doc 3<>4"
   ]
  },
  {
   "cell_type": "code",
   "execution_count": 41,
   "metadata": {
    "ExecuteTime": {
     "end_time": "2020-03-19T22:42:25.702317Z",
     "start_time": "2020-03-19T22:42:25.679919Z"
    }
   },
   "outputs": [
    {
     "data": {
      "text/plain": [
       "array([[-1.        ,  0.        ,  0.        ,  0.        ,  0.        ],\n",
       "       [ 0.        , -1.        ,  0.        ,  0.19782163,  0.19782163],\n",
       "       [ 0.        ,  0.        , -1.        ,  0.        ,  0.        ],\n",
       "       [ 0.        ,  0.19782163,  0.        , -1.        ,  0.52368019],\n",
       "       [ 0.        ,  0.19782163,  0.        ,  0.52368019, -1.        ]])"
      ]
     },
     "execution_count": 41,
     "metadata": {},
     "output_type": "execute_result"
    }
   ],
   "source": [
    "scores"
   ]
  },
  {
   "cell_type": "code",
   "execution_count": 42,
   "metadata": {
    "ExecuteTime": {
     "end_time": "2020-03-19T22:42:25.712918Z",
     "start_time": "2020-03-19T22:42:25.703462Z"
    }
   },
   "outputs": [
    {
     "data": {
      "text/plain": [
       "(3, 0.19782162617776308)"
      ]
     },
     "execution_count": 42,
     "metadata": {},
     "output_type": "execute_result"
    }
   ],
   "source": [
    "s = scores[forDocNo]\n",
    "max_sim_position = np.argmax(s)\n",
    "\n",
    "(max_sim_position, s[max_sim_position])"
   ]
  },
  {
   "cell_type": "markdown",
   "metadata": {},
   "source": [
    "### Для каждого документа, в DataFrame add \"Max TF/IDF DUP score\" and \"Max DUP score docId\""
   ]
  },
  {
   "cell_type": "code",
   "execution_count": 43,
   "metadata": {
    "ExecuteTime": {
     "end_time": "2020-03-19T22:42:25.729322Z",
     "start_time": "2020-03-19T22:42:25.714591Z"
    },
    "scrolled": true
   },
   "outputs": [
    {
     "data": {
      "text/html": [
       "<div>\n",
       "<style scoped>\n",
       "    .dataframe tbody tr th:only-of-type {\n",
       "        vertical-align: middle;\n",
       "    }\n",
       "\n",
       "    .dataframe tbody tr th {\n",
       "        vertical-align: top;\n",
       "    }\n",
       "\n",
       "    .dataframe thead th {\n",
       "        text-align: right;\n",
       "    }\n",
       "</style>\n",
       "<table border=\"1\" class=\"dataframe\">\n",
       "  <thead>\n",
       "    <tr style=\"text-align: right;\">\n",
       "      <th></th>\n",
       "      <th>Article</th>\n",
       "    </tr>\n",
       "    <tr>\n",
       "      <th>№</th>\n",
       "      <th></th>\n",
       "    </tr>\n",
       "  </thead>\n",
       "  <tbody>\n",
       "    <tr>\n",
       "      <th>1</th>\n",
       "      <td>Раз, два, три, четыре</td>\n",
       "    </tr>\n",
       "    <tr>\n",
       "      <th>2</th>\n",
       "      <td>вышел зайчик погулять</td>\n",
       "    </tr>\n",
       "    <tr>\n",
       "      <th>3</th>\n",
       "      <td>вдруг охотник выбегает</td>\n",
       "    </tr>\n",
       "    <tr>\n",
       "      <th>4</th>\n",
       "      <td>прямо в зайчик стреляет</td>\n",
       "    </tr>\n",
       "    <tr>\n",
       "      <th>5</th>\n",
       "      <td>пуляет прямо в зайчик</td>\n",
       "    </tr>\n",
       "  </tbody>\n",
       "</table>\n",
       "</div>"
      ],
      "text/plain": [
       "                   Article\n",
       "№                         \n",
       "1    Раз, два, три, четыре\n",
       "2    вышел зайчик погулять\n",
       "3   вдруг охотник выбегает\n",
       "4  прямо в зайчик стреляет\n",
       "5    пуляет прямо в зайчик"
      ]
     },
     "execution_count": 43,
     "metadata": {},
     "output_type": "execute_result"
    }
   ],
   "source": [
    "articles\n",
    "\n",
    "# Should be matched:\n",
    "# id № Dup№\n",
    "#  0 1 -\n",
    "#  1 2 (4 and 5)\n",
    "#  2 3 -\n",
    "#  3 4 5\n",
    "#  4 5 4"
   ]
  },
  {
   "cell_type": "code",
   "execution_count": 44,
   "metadata": {
    "ExecuteTime": {
     "end_time": "2020-03-19T22:42:25.737834Z",
     "start_time": "2020-03-19T22:42:25.730534Z"
    },
    "scrolled": false
   },
   "outputs": [
    {
     "data": {
      "text/plain": [
       "array([[-1.        ,  0.        ,  0.        ,  0.        ,  0.        ],\n",
       "       [ 0.        , -1.        ,  0.        ,  0.19782163,  0.19782163],\n",
       "       [ 0.        ,  0.        , -1.        ,  0.        ,  0.        ],\n",
       "       [ 0.        ,  0.19782163,  0.        , -1.        ,  0.52368019],\n",
       "       [ 0.        ,  0.19782163,  0.        ,  0.52368019, -1.        ]])"
      ]
     },
     "execution_count": 44,
     "metadata": {},
     "output_type": "execute_result"
    }
   ],
   "source": [
    "scores"
   ]
  },
  {
   "cell_type": "code",
   "execution_count": 45,
   "metadata": {
    "ExecuteTime": {
     "end_time": "2020-03-19T22:42:25.751878Z",
     "start_time": "2020-03-19T22:42:25.738896Z"
    }
   },
   "outputs": [
    {
     "data": {
      "text/html": [
       "<div>\n",
       "<style scoped>\n",
       "    .dataframe tbody tr th:only-of-type {\n",
       "        vertical-align: middle;\n",
       "    }\n",
       "\n",
       "    .dataframe tbody tr th {\n",
       "        vertical-align: top;\n",
       "    }\n",
       "\n",
       "    .dataframe thead th {\n",
       "        text-align: right;\n",
       "    }\n",
       "</style>\n",
       "<table border=\"1\" class=\"dataframe\">\n",
       "  <thead>\n",
       "    <tr style=\"text-align: right;\">\n",
       "      <th></th>\n",
       "      <th>0</th>\n",
       "      <th>1</th>\n",
       "      <th>2</th>\n",
       "      <th>3</th>\n",
       "      <th>4</th>\n",
       "    </tr>\n",
       "    <tr>\n",
       "      <th>№</th>\n",
       "      <th></th>\n",
       "      <th></th>\n",
       "      <th></th>\n",
       "      <th></th>\n",
       "      <th></th>\n",
       "    </tr>\n",
       "  </thead>\n",
       "  <tbody>\n",
       "    <tr>\n",
       "      <th>1</th>\n",
       "      <td>-1.0</td>\n",
       "      <td>0.000000</td>\n",
       "      <td>0.0</td>\n",
       "      <td>0.000000</td>\n",
       "      <td>0.000000</td>\n",
       "    </tr>\n",
       "    <tr>\n",
       "      <th>2</th>\n",
       "      <td>0.0</td>\n",
       "      <td>-1.000000</td>\n",
       "      <td>0.0</td>\n",
       "      <td>0.197822</td>\n",
       "      <td>0.197822</td>\n",
       "    </tr>\n",
       "    <tr>\n",
       "      <th>3</th>\n",
       "      <td>0.0</td>\n",
       "      <td>0.000000</td>\n",
       "      <td>-1.0</td>\n",
       "      <td>0.000000</td>\n",
       "      <td>0.000000</td>\n",
       "    </tr>\n",
       "    <tr>\n",
       "      <th>4</th>\n",
       "      <td>0.0</td>\n",
       "      <td>0.197822</td>\n",
       "      <td>0.0</td>\n",
       "      <td>-1.000000</td>\n",
       "      <td>0.523680</td>\n",
       "    </tr>\n",
       "    <tr>\n",
       "      <th>5</th>\n",
       "      <td>0.0</td>\n",
       "      <td>0.197822</td>\n",
       "      <td>0.0</td>\n",
       "      <td>0.523680</td>\n",
       "      <td>-1.000000</td>\n",
       "    </tr>\n",
       "  </tbody>\n",
       "</table>\n",
       "</div>"
      ],
      "text/plain": [
       "     0         1    2         3         4\n",
       "№                                        \n",
       "1 -1.0  0.000000  0.0  0.000000  0.000000\n",
       "2  0.0 -1.000000  0.0  0.197822  0.197822\n",
       "3  0.0  0.000000 -1.0  0.000000  0.000000\n",
       "4  0.0  0.197822  0.0 -1.000000  0.523680\n",
       "5  0.0  0.197822  0.0  0.523680 -1.000000"
      ]
     },
     "execution_count": 45,
     "metadata": {},
     "output_type": "execute_result"
    }
   ],
   "source": [
    "scores_df"
   ]
  },
  {
   "cell_type": "code",
   "execution_count": 46,
   "metadata": {
    "ExecuteTime": {
     "end_time": "2020-03-19T22:42:25.763085Z",
     "start_time": "2020-03-19T22:42:25.753142Z"
    }
   },
   "outputs": [
    {
     "data": {
      "text/plain": [
       "0    0.0\n",
       "1    0.0\n",
       "2   -1.0\n",
       "3    0.0\n",
       "4    0.0\n",
       "Name: 3, dtype: float64"
      ]
     },
     "execution_count": 46,
     "metadata": {},
     "output_type": "execute_result"
    }
   ],
   "source": [
    "scores_df.loc[3]"
   ]
  },
  {
   "cell_type": "code",
   "execution_count": 47,
   "metadata": {
    "ExecuteTime": {
     "end_time": "2020-03-19T22:42:25.773359Z",
     "start_time": "2020-03-19T22:42:25.764473Z"
    }
   },
   "outputs": [
    {
     "data": {
      "text/plain": [
       "0    0.000000\n",
       "1    0.197822\n",
       "2    0.000000\n",
       "3   -1.000000\n",
       "4    0.523680\n",
       "Name: 4, dtype: float64"
      ]
     },
     "execution_count": 47,
     "metadata": {},
     "output_type": "execute_result"
    }
   ],
   "source": [
    "scores_df.iloc[3]"
   ]
  },
  {
   "cell_type": "code",
   "execution_count": 48,
   "metadata": {
    "ExecuteTime": {
     "end_time": "2020-03-19T22:42:25.792395Z",
     "start_time": "2020-03-19T22:42:25.775099Z"
    }
   },
   "outputs": [
    {
     "data": {
      "text/html": [
       "<div>\n",
       "<style scoped>\n",
       "    .dataframe tbody tr th:only-of-type {\n",
       "        vertical-align: middle;\n",
       "    }\n",
       "\n",
       "    .dataframe tbody tr th {\n",
       "        vertical-align: top;\n",
       "    }\n",
       "\n",
       "    .dataframe thead th {\n",
       "        text-align: right;\n",
       "    }\n",
       "</style>\n",
       "<table border=\"1\" class=\"dataframe\">\n",
       "  <thead>\n",
       "    <tr style=\"text-align: right;\">\n",
       "      <th></th>\n",
       "      <th>Article</th>\n",
       "      <th>Max DUP score docId</th>\n",
       "      <th>Max TF/IDF DUP score</th>\n",
       "    </tr>\n",
       "    <tr>\n",
       "      <th>№</th>\n",
       "      <th></th>\n",
       "      <th></th>\n",
       "      <th></th>\n",
       "    </tr>\n",
       "  </thead>\n",
       "  <tbody>\n",
       "    <tr>\n",
       "      <th>1</th>\n",
       "      <td>Раз, два, три, четыре</td>\n",
       "      <td>-1</td>\n",
       "      <td>0.000000</td>\n",
       "    </tr>\n",
       "    <tr>\n",
       "      <th>2</th>\n",
       "      <td>вышел зайчик погулять</td>\n",
       "      <td>4</td>\n",
       "      <td>0.197822</td>\n",
       "    </tr>\n",
       "    <tr>\n",
       "      <th>3</th>\n",
       "      <td>вдруг охотник выбегает</td>\n",
       "      <td>-1</td>\n",
       "      <td>0.000000</td>\n",
       "    </tr>\n",
       "    <tr>\n",
       "      <th>4</th>\n",
       "      <td>прямо в зайчик стреляет</td>\n",
       "      <td>5</td>\n",
       "      <td>0.523680</td>\n",
       "    </tr>\n",
       "    <tr>\n",
       "      <th>5</th>\n",
       "      <td>пуляет прямо в зайчик</td>\n",
       "      <td>4</td>\n",
       "      <td>0.523680</td>\n",
       "    </tr>\n",
       "  </tbody>\n",
       "</table>\n",
       "</div>"
      ],
      "text/plain": [
       "                   Article  Max DUP score docId  Max TF/IDF DUP score\n",
       "№                                                                    \n",
       "1    Раз, два, три, четыре                   -1              0.000000\n",
       "2    вышел зайчик погулять                    4              0.197822\n",
       "3   вдруг охотник выбегает                   -1              0.000000\n",
       "4  прямо в зайчик стреляет                    5              0.523680\n",
       "5    пуляет прямо в зайчик                    4              0.523680"
      ]
     },
     "execution_count": 48,
     "metadata": {},
     "output_type": "execute_result"
    }
   ],
   "source": [
    "# By https://stackoverflow.com/questions/26658240/getting-the-index-of-a-row-in-a-pandas-apply-function/48819898#48819898\n",
    "# index available as row.name\n",
    "def most_similar(row):\n",
    "#     print('====')\n",
    "#     print('row.name={}; scores_df.loc[row.name].idxmax()={}; scores_df.iloc[scores_df.loc[row.name].idxmax()].name={}'.format(\n",
    "#         row.name\n",
    "#         ,scores_df.loc[row.name].idxmax()\n",
    "#         ,scores_df.iloc[scores_df.loc[row.name].idxmax()].name\n",
    "#         )\n",
    "#     )\n",
    "#     print('row.loc={}; row.iloc={}'.format(row.loc, row.iloc))\n",
    "    max_similar_doc = scores_df.iloc[scores_df.loc[row.name].idxmax()].name # Array index (.iloc) into DataFrame index (.name)\n",
    "    max_similar_score = scores_df.loc[row.name].max()\n",
    "    return ((max_similar_doc if max_similar_score > 0 else -1), max_similar_score)\n",
    "\n",
    "# articles['Max DUP score docId'] = articles.apply(lambda i: np.argmax(scores), axis=1)\n",
    "# articles['Max DUP score docId'] = articles.apply(lambda i: type(i.index), axis=1)\n",
    "articles[['Max DUP score docId', 'Max TF/IDF DUP score']] = articles.apply(most_similar, axis=1, result_type='expand')\n",
    "articles['Max DUP score docId'] = articles['Max DUP score docId'].astype('int32')\n",
    "articles"
   ]
  },
  {
   "cell_type": "code",
   "execution_count": 49,
   "metadata": {
    "ExecuteTime": {
     "end_time": "2020-03-19T22:42:25.804097Z",
     "start_time": "2020-03-19T22:42:25.795484Z"
    }
   },
   "outputs": [
    {
     "data": {
      "text/plain": [
       "(№\n",
       " 1    0.000000\n",
       " 2    0.197822\n",
       " 3    0.000000\n",
       " 4   -1.000000\n",
       " 5    0.523680\n",
       " Name: 3, dtype: float64,\n",
       " 0    0.0\n",
       " 1    0.0\n",
       " 2   -1.0\n",
       " 3    0.0\n",
       " 4    0.0\n",
       " Name: 3, dtype: float64)"
      ]
     },
     "execution_count": 49,
     "metadata": {},
     "output_type": "execute_result"
    }
   ],
   "source": [
    "( scores_df[3], scores_df.loc[3] )"
   ]
  },
  {
   "cell_type": "markdown",
   "metadata": {},
   "source": [
    "# Python constructions\n",
    "## Apply with 2 columns at once\n",
    "\n",
    "By https://stackoverflow.com/questions/16236684/apply-pandas-function-to-column-to-create-multiple-new-columns/52363890#52363890\n",
    "+By https://stackoverflow.com/questions/16236684/apply-pandas-function-to-column-to-create-multiple-new-columns/52363890#comment106834440_16242202 for column naming"
   ]
  },
  {
   "cell_type": "code",
   "execution_count": 50,
   "metadata": {
    "ExecuteTime": {
     "end_time": "2020-03-19T22:42:25.812227Z",
     "start_time": "2020-03-19T22:42:25.805846Z"
    }
   },
   "outputs": [],
   "source": [
    "# articles[['a', 'b']] = articles.apply(lambda i: [1, 2], axis=1, result_type='expand')\n",
    "# articles"
   ]
  },
  {
   "cell_type": "code",
   "execution_count": 70,
   "metadata": {
    "ExecuteTime": {
     "end_time": "2020-03-20T15:23:21.837247Z",
     "start_time": "2020-03-20T15:23:21.750417Z"
    },
    "scrolled": false
   },
   "outputs": [
    {
     "name": "stdout",
     "output_type": "stream",
     "text": [
      "<class 'pandas.core.series.Series'>\n",
      "FACTIVA_PBTR000020071220e3cj00015_20071220_000000.xml\n",
      "<class 'pandas.core.series.Series'>\n",
      "FACTIVA_PPGZ000020071220e3ck0001l_20071220_000000.xml\n",
      "<class 'pandas.core.series.Series'>\n",
      "FACTIVA_INHT000020060116e21g0002e_20060116_000000.xml\n",
      "<class 'pandas.core.series.Series'>\n",
      "FACTIVA_AIWIBA0020060116e21f0000p_20060116_000000.xml\n",
      "<class 'pandas.core.series.Series'>\n",
      "FACTIVA_VNCS000020060225e22p00055_20060225_000000.xml\n",
      "<class 'pandas.core.series.Series'>\n",
      "FACTIVA_TRIB000020060225e22p0005a_20060225_000000.xml\n",
      "<class 'pandas.core.series.Series'>\n",
      "FACTIVA_PBDN000020080127e41p0000e_20080127_000000.xml\n",
      "<class 'pandas.core.series.Series'>\n",
      "FACTIVA_SETL000020080126e41p0000g_20080126_000000.xml\n",
      "<class 'pandas.core.series.Series'>\n",
      "FACTIVA_APRS000020060210e22a003jd_20060210_000000.xml\n",
      "<class 'pandas.core.series.Series'>\n",
      "FACTIVA_BBCMAP0020060215e22f000rt_20060215_000000.xml\n",
      "<class 'pandas.core.series.Series'>\n",
      "FACTIVA_THMI000020110429e74s00011_20110429_093319.xml\n",
      "<class 'pandas.core.series.Series'>\n",
      "FACTIVA_THMI000020110429e74s00010_20110429_093319.xml\n",
      "<class 'pandas.core.series.Series'>\n",
      "FACTIVA_AFNWS00020090917e59h000md_20090917_000000.xml\n",
      "<class 'pandas.core.series.Series'>\n",
      "FACTIVA_PRTASS0020090916e59g000ul_20090916_000000.xml\n",
      "<class 'pandas.core.series.Series'>\n",
      "FACTIVA_AFNWS00020090917e59h000md_20090917_000000.xml\n",
      "<class 'pandas.core.series.Series'>\n",
      "FACTIVA_AFPR000020090916e59g006ex_20090916_000000.xml\n",
      "<class 'pandas.core.series.Series'>\n",
      "FACTIVA_APRS000020100214e62e002mh_20100214_000000.xml\n",
      "<class 'pandas.core.series.Series'>\n",
      "FACTIVA_APRS000020100214e62e00372_20100214_000000.xml\n",
      "<class 'pandas.core.series.Series'>\n",
      "FACTIVA_APRS000020110404e7440020l_20110404_123154.xml\n",
      "<class 'pandas.core.series.Series'>\n",
      "FACTIVA_APRS000020110405e74500002_20110405_044512.xml\n",
      "<class 'pandas.core.series.Series'>\n",
      "FACTIVA_HNTR000020100501e64u0002r_20100501_093259.xml\n",
      "<class 'pandas.core.series.Series'>\n",
      "FACTIVA_NSL0000020100501e65100027_20100501_153032.xml\n",
      "<class 'pandas.core.series.Series'>\n",
      "FACTIVA_APRS000020100713e67d002k7_20100714_044457.xml\n",
      "<class 'pandas.core.series.Series'>\n",
      "FACTIVA_APRS000020100713e67d002it_20100714_044457.xml\n",
      "<class 'pandas.core.series.Series'>\n",
      "FACTIVA_orse000020010712dx6u00ue4_20010712_000000.xml\n",
      "<class 'pandas.core.series.Series'>\n",
      "FACTIVA_mmph000020010712dx6u00fvo_20010712_000000.xml\n",
      "<class 'pandas.core.series.Series'>\n",
      "FACTIVA_PPGZ000020121020e8ak0002g_20121020_082119.xml\n",
      "<class 'pandas.core.series.Series'>\n",
      "FACTIVA_XTPA000020121020e8aj00001_20121020_082121.xml\n",
      "<class 'pandas.core.series.Series'>\n",
      "FACTIVA_CWNS000020121206e8c600hts_20121207_043337.xml\n",
      "<class 'pandas.core.series.Series'>\n",
      "FACTIVA_WINSTR0020121207e8c70000v_20121207_043437.xml\n",
      "<class 'pandas.core.series.Series'>\n",
      "WNC_24935050_20111109_050009.xml\n",
      "<class 'pandas.core.series.Series'>\n",
      "FACTIVA_MOSTIM0020110417e74i00005_20110418_043735.xml\n",
      "<class 'pandas.core.series.Series'>\n",
      "FACTIVA_ABCNEW0020100808e68800008_20100808_043644.xml\n",
      "<class 'pandas.core.series.Series'>\n",
      "FACTIVA_AAP0000020100808e688000b6_20100808_043644.xml\n",
      "<class 'pandas.core.series.Series'>\n",
      "FACTIVA_INDFED0020110623e76m00138_20110623_073151.xml\n",
      "<class 'pandas.core.series.Series'>\n",
      "FACTIVA_TARGNS0020110623e76m004b0_20110623_083214.xml\n",
      "<class 'pandas.core.series.Series'>\n",
      "FACTIVA_DJON000020121015e8af0004u_20121016_142119.xml\n",
      "<class 'pandas.core.series.Series'>\n",
      "FACTIVA_IRTI000020121016e8ag00024_20121016_043244.xml\n",
      "<class 'pandas.core.series.Series'>\n",
      "FACTIVA_THEFOR0020080711e47a0001e_20080711_000000.xml\n",
      "<class 'pandas.core.series.Series'>\n",
      "FACTIVA_THEFOR0020080905e4940000b_20080905_000000.xml\n",
      "<class 'pandas.core.series.Series'>\n",
      "FACTIVA_SUNDTB0020090419e54j00013_20090419_000000.xml\n",
      "<class 'pandas.core.series.Series'>\n",
      "FACTIVA_SUNDTB0020090621e56l0001m_20090621_000000.xml\n",
      "<class 'pandas.core.series.Series'>\n",
      "FACTIVA_saen000020010713dx6n00hw0_20010713_000000.xml\n",
      "<class 'pandas.core.series.Series'>\n",
      "FACTIVA_hou0000020010711dx6k00yau_20010711_000000.xml\n",
      "<class 'pandas.core.series.Series'>\n",
      "FACTIVA_DAL0000020061223e2cn00050_20061223_000000.xml\n",
      "<class 'pandas.core.series.Series'>\n",
      "FACTIVA_FWST000020061223e2cn00003_20061223_000000.xml\n",
      "<class 'pandas.core.series.Series'>\n",
      "FACTIVA_GMER000020070913e39d0000z_20070913_000000.xml\n",
      "<class 'pandas.core.series.Series'>\n",
      "FACTIVA_STAM000020070913e39d0000n_20070913_000000.xml\n",
      "<class 'pandas.core.series.Series'>\n",
      "FACTIVA_DSTAR00020060504e2550000p_20060504_000000.xml\n",
      "<class 'pandas.core.series.Series'>\n",
      "FACTIVA_AFPR000020060504e254003eb_20060504_000000.xml\n",
      "<class 'pandas.core.series.Series'>\n",
      "FACTIVA_HNIANS0020111209e7c9001dk_20111210_044146.xml\n",
      "<class 'pandas.core.series.Series'>\n",
      "FACTIVA_TRENDE0020111208e7c800691_20111208_113201.xml\n",
      "<class 'pandas.core.series.Series'>\n",
      "FACTIVA_HDGWR00020110630e76t00004_20110630_044505.xml\n",
      "<class 'pandas.core.series.Series'>\n",
      "FACTIVA_NYLJ000020110630e76n0000i_20110630_103140.xml\n",
      "<class 'pandas.core.series.Series'>\n",
      "FACTIVA_WP00000020040610e06a0008i_20040610_000000.xml\n",
      "<class 'pandas.core.series.Series'>\n",
      "FACTIVA_PPGZ000020040611e06b0006r_20040611_000000.xml\n",
      "<class 'pandas.core.series.Series'>\n",
      "FACTIVA_LBA0000020120410e84a00127_20120410_133206.xml\n",
      "<class 'pandas.core.series.Series'>\n",
      "FACTIVA_TELUK00020120410e84a001bi_20120411_044338.xml\n",
      "<class 'pandas.core.series.Series'>\n",
      "FACTIVA_INDFED0020080829e48s0024x_20080829_000000.xml\n",
      "<class 'pandas.core.series.Series'>\n",
      "FACTIVA_NYTF000020080830e48u00028_20080830_000000.xml\n",
      "<class 'pandas.core.series.Series'>\n",
      "FACTIVA_STIMES0020060620e26l0000j_20060620_000000.xml\n",
      "<class 'pandas.core.series.Series'>\n",
      "FACTIVA_AFPR000020060620e26k003pe_20060620_000000.xml\n",
      "<class 'pandas.core.series.Series'>\n",
      "FACTIVA_APRS000020070314e33e001w1_20070314_000000.xml\n",
      "<class 'pandas.core.series.Series'>\n",
      "FACTIVA_AWSJ000020070314e33f0001c_20070314_000000.xml\n",
      "<class 'pandas.core.series.Series'>\n",
      "ACQUIREMED_a56e6b7ea7b01b565f8076cd46538b1358c53965_20191203_171002.xml\n",
      "<class 'pandas.core.series.Series'>\n",
      "ACQUIREMED_667bd5ed0293c7b1faaa5bf33cf6ea498c7e2562_20191203_141001.xml\n",
      "<class 'pandas.core.series.Series'>\n",
      "ACQUIREMED_6335a1855fe0f4d7162a9a345aad8a608cc880f7_20191203_111002.xml\n",
      "<class 'pandas.core.series.Series'>\n",
      "ACQUIREMED_35f53757e574feca4a0e96f76b2c1585aacbe8cc_20191204_061000.xml\n",
      "<class 'pandas.core.series.Series'>\n",
      "ACQUIREMED_73ac341d0e8f2b6c5adcef0bd5d2ed744e5c682b_20191204_091003.xml\n",
      "<class 'pandas.core.series.Series'>\n",
      "NEWSBANK_17792EF2C3FBA358_20191202_044507.xml\n",
      "<class 'pandas.core.series.Series'>\n",
      "NEWSBANK_17795CEC1A345408_20191202_164503.xml\n",
      "<class 'pandas.core.series.Series'>\n",
      "TRIBUNE_5043cd4c61a27cf79776a5be0e3c92f5c3b1f447_20191202_133500.xml\n",
      "<class 'pandas.core.series.Series'>\n",
      "TRIBUNE_3678f183cb3a133fdbc3a0935de519a4808b3643_20191202_103500.xml\n",
      "<class 'pandas.core.series.Series'>\n",
      "ACQUIREMED_e3de3722eee8ce57829325880b787b19fbefcbd8_20191102_041001.xml\n",
      "<class 'pandas.core.series.Series'>\n",
      "TRIBUNE_a1d5c259cf4a67bd86905e2b32c38c524ea21d20_20191102_043500.xml\n",
      "<class 'pandas.core.series.Series'>\n",
      "ACQUIREMED_17e7f5bd9a471ffd396709c94c5be8b8fcaf23a9_20191102_051002.xml\n",
      "<class 'pandas.core.series.Series'>\n",
      "ACQUIREMED_7e1ff92db99e633ac9826eb96d933d592eb4addd_20191019_091000.xml\n",
      "<class 'pandas.core.series.Series'>\n",
      "NEWSBANK_176AB29611802210_20191019_084502.xml\n",
      "<class 'pandas.core.series.Series'>\n",
      "ACQUIREMED_a6881dfcd75942b6a112bd85569a6f8dfe16d018_20191019_091002.xml\n",
      "<class 'pandas.core.series.Series'>\n",
      "ACQUIREMED_d5038fed320112342e99f35c5fca3fc6bf2715d4_20191019_101001.xml\n",
      "<class 'pandas.core.series.Series'>\n",
      "TRIBUNE_c1c9576e690451731649c10448c6a3aa6eeb2d4d_20191019_123500.xml\n",
      "<class 'pandas.core.series.Series'>\n",
      "NEWSBANK_176A67E70AB5C2A0_20191018_124506.xml\n",
      "<class 'pandas.core.series.Series'>\n",
      "NEWSBANK_176A6F8BA9A00568_20191018_124513.xml\n",
      "<class 'pandas.core.series.Series'>\n",
      "ACQUIREMED_5fa8474c7b4d91f6081250bb87cadfda1b374cd9_20191128_041002.xml\n",
      "<class 'pandas.core.series.Series'>\n",
      "ACQUIREMED_0c4575fd73e55f0079493c93b2059f0423228187_20191225_011000.xml\n",
      "<class 'pandas.core.series.Series'>\n",
      "ACQUIREMED_410a4f5c265e8209a10808ebbdeaaa25660eb431_20200101_011002.xml\n",
      "<class 'pandas.core.series.Series'>\n",
      "ACQUIREMED_814fffc1be920b3dafb79b4863be2df27b758682_20200108_011001.xml\n",
      "<class 'pandas.core.series.Series'>\n",
      "ACQUIREMED_871dcfe997b1b0aca931681c6c78f4cbf2f9ca8b_20200108_011001.xml\n",
      "<class 'pandas.core.series.Series'>\n",
      "ACQUIREMED_affca28b69714e2a7e658cb81b3cf477528b0c69_20200108_011001.xml\n",
      "<class 'pandas.core.series.Series'>\n",
      "ACQUIREMED_b9aa901200e4c072efd50ec7310de121bdacf36c_20200101_011000.xml\n",
      "<class 'pandas.core.series.Series'>\n",
      "FACTIVA_AFNWS00020080424e44o000pw_20080424_000000.xml\n",
      "<class 'pandas.core.series.Series'>\n",
      "FACTIVA_BARTEE0020120814e88e0002y_20120814_152127.xml\n",
      "<class 'pandas.core.series.Series'>\n",
      "FACTIVA_BARTEE0020120906e89600034_20120906_152130.xml\n",
      "<class 'pandas.core.series.Series'>\n",
      "FACTIVA_ABCNEW0020090828e58s00094_20090828_000000.xml\n",
      "<class 'pandas.core.series.Series'>\n",
      "FACTIVA_APRS000020110708e7780032s_20110709_044101.xml\n",
      "<class 'pandas.core.series.Series'>\n",
      "FACTIVA_LBA0000020080321e43l000fr_20080321_000000.xml\n",
      "<class 'pandas.core.series.Series'>\n",
      "FACTIVA_NYTF000020080321e43l00051_20080321_000000.xml\n",
      "<class 'pandas.core.series.Series'>\n",
      "FACTIVA_AFNWS00020070612e36b00020_20070612_000000.xml\n",
      "<class 'pandas.core.series.Series'>\n",
      "FACTIVA_AFNWS00020080417e44h0010c_20080417_000000.xml\n",
      "<class 'pandas.core.series.Series'>\n",
      "ACQUIREMED_9293274cc602bf9125f58e10001c65fcc7791a6c_20200121_011000.xml\n"
     ]
    },
    {
     "data": {
      "text/plain": [
       "№\n",
       "1      None\n",
       "2      None\n",
       "3      None\n",
       "4      None\n",
       "5      None\n",
       "       ... \n",
       "96     None\n",
       "97     None\n",
       "98     None\n",
       "99     None\n",
       "100    None\n",
       "Length: 100, dtype: object"
      ]
     },
     "execution_count": 70,
     "metadata": {},
     "output_type": "execute_result"
    }
   ],
   "source": [
    "def dump_xml_file(row):\n",
    "    print(type(row))\n",
    "    print(row['File name'])\n",
    "    with open('articles/' + row['File name'].replace('.xml', '.txt'), 'w+') as file:\n",
    "        file.write(row['Article'])\n",
    "\n",
    "articles.apply(dump_xml_file, axis=1)"
   ]
  },
  {
   "cell_type": "markdown",
   "metadata": {},
   "source": [
    "# Docs and links\n",
    "\n",
    "* [sklearn: TFIDF Transformer: Как получить значения tf-idf данных слов в документе](https://www.rupython.com/sklearn-tfidf-transformer-tf-idf-33655.html)\n",
    "* [SO question: Имеется текст, надо вычислить TF-IDF-признаки по имеющимся тексту. Нашел 10 минимальных весов. Требуется найти 10 слов соответствующих абсолютному значению весов. Как можно это сделать?введите сюда описание изображения](https://ru.stackoverflow.com/questions/772859/tfidfvectorizer/773018#773018). С разбором что к чему."
   ]
  }
 ],
 "metadata": {
  "kernelspec": {
   "display_name": "Python 3",
   "language": "python",
   "name": "python3"
  },
  "language_info": {
   "codemirror_mode": {
    "name": "ipython",
    "version": 3
   },
   "file_extension": ".py",
   "mimetype": "text/x-python",
   "name": "python",
   "nbconvert_exporter": "python",
   "pygments_lexer": "ipython3",
   "version": "3.7.6"
  },
  "pycharm": {
   "stem_cell": {
    "cell_type": "raw",
    "metadata": {
     "collapsed": false
    },
    "source": []
   }
  },
  "toc": {
   "base_numbering": 1,
   "nav_menu": {},
   "number_sections": true,
   "sideBar": true,
   "skip_h1_title": false,
   "title_cell": "Table of Contents",
   "title_sidebar": "Contents",
   "toc_cell": false,
   "toc_position": {
    "height": "calc(100% - 180px)",
    "left": "10px",
    "top": "150px",
    "width": "293.217px"
   },
   "toc_section_display": true,
   "toc_window_display": true
  }
 },
 "nbformat": 4,
 "nbformat_minor": 2
}
